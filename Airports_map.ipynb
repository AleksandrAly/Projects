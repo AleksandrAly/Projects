{
 "cells": [
  {
   "cell_type": "markdown",
   "id": "207eb619",
   "metadata": {},
   "source": [
    "## Выгрузка данных по расположению аэропортов"
   ]
  },
  {
   "cell_type": "code",
   "execution_count": 1,
   "id": "4044ef47",
   "metadata": {},
   "outputs": [
    {
     "data": {
      "text/html": [
       "<div>\n",
       "<style scoped>\n",
       "    .dataframe tbody tr th:only-of-type {\n",
       "        vertical-align: middle;\n",
       "    }\n",
       "\n",
       "    .dataframe tbody tr th {\n",
       "        vertical-align: top;\n",
       "    }\n",
       "\n",
       "    .dataframe thead th {\n",
       "        text-align: right;\n",
       "    }\n",
       "</style>\n",
       "<table border=\"1\" class=\"dataframe\">\n",
       "  <thead>\n",
       "    <tr style=\"text-align: right;\">\n",
       "      <th></th>\n",
       "      <th>Name</th>\n",
       "      <th>City</th>\n",
       "      <th>Country</th>\n",
       "      <th>IATA</th>\n",
       "      <th>ICAO</th>\n",
       "      <th>Latitude</th>\n",
       "      <th>Longitude</th>\n",
       "      <th>Altitude</th>\n",
       "      <th>Timezone</th>\n",
       "      <th>DST</th>\n",
       "      <th>Tz database time zone</th>\n",
       "      <th>Type</th>\n",
       "      <th>Source</th>\n",
       "    </tr>\n",
       "  </thead>\n",
       "  <tbody>\n",
       "    <tr>\n",
       "      <th>7688</th>\n",
       "      <td>Rustaq Airport</td>\n",
       "      <td>Al Masna'ah</td>\n",
       "      <td>Oman</td>\n",
       "      <td>MNH</td>\n",
       "      <td>OORQ</td>\n",
       "      <td>23.640556</td>\n",
       "      <td>57.487500</td>\n",
       "      <td>349</td>\n",
       "      <td>NaN</td>\n",
       "      <td>NaN</td>\n",
       "      <td>NaN</td>\n",
       "      <td>airport</td>\n",
       "      <td>OurAirports</td>\n",
       "    </tr>\n",
       "    <tr>\n",
       "      <th>7689</th>\n",
       "      <td>Laguindingan Airport</td>\n",
       "      <td>Cagayan de Oro City</td>\n",
       "      <td>Philippines</td>\n",
       "      <td>CGY</td>\n",
       "      <td>RPMY</td>\n",
       "      <td>8.612203</td>\n",
       "      <td>124.456496</td>\n",
       "      <td>190</td>\n",
       "      <td>NaN</td>\n",
       "      <td>NaN</td>\n",
       "      <td>NaN</td>\n",
       "      <td>airport</td>\n",
       "      <td>OurAirports</td>\n",
       "    </tr>\n",
       "    <tr>\n",
       "      <th>7690</th>\n",
       "      <td>Kostomuksha Airport</td>\n",
       "      <td>Kostomuksha</td>\n",
       "      <td>Russia</td>\n",
       "      <td>NaN</td>\n",
       "      <td>ULPM</td>\n",
       "      <td>64.617996</td>\n",
       "      <td>30.687000</td>\n",
       "      <td>681</td>\n",
       "      <td>NaN</td>\n",
       "      <td>NaN</td>\n",
       "      <td>NaN</td>\n",
       "      <td>airport</td>\n",
       "      <td>OurAirports</td>\n",
       "    </tr>\n",
       "    <tr>\n",
       "      <th>7691</th>\n",
       "      <td>Privolzhskiy Air Base</td>\n",
       "      <td>Astrakhan</td>\n",
       "      <td>Russia</td>\n",
       "      <td>NaN</td>\n",
       "      <td>XRAP</td>\n",
       "      <td>46.396000</td>\n",
       "      <td>47.893000</td>\n",
       "      <td>-66</td>\n",
       "      <td>NaN</td>\n",
       "      <td>NaN</td>\n",
       "      <td>NaN</td>\n",
       "      <td>airport</td>\n",
       "      <td>OurAirports</td>\n",
       "    </tr>\n",
       "    <tr>\n",
       "      <th>7692</th>\n",
       "      <td>Kubinka Air Base</td>\n",
       "      <td>Kubinka</td>\n",
       "      <td>Russia</td>\n",
       "      <td>NaN</td>\n",
       "      <td>UUMB</td>\n",
       "      <td>55.611695</td>\n",
       "      <td>36.650002</td>\n",
       "      <td>614</td>\n",
       "      <td>NaN</td>\n",
       "      <td>NaN</td>\n",
       "      <td>NaN</td>\n",
       "      <td>airport</td>\n",
       "      <td>OurAirports</td>\n",
       "    </tr>\n",
       "    <tr>\n",
       "      <th>7693</th>\n",
       "      <td>Rogachyovo Air Base</td>\n",
       "      <td>Belaya</td>\n",
       "      <td>Russia</td>\n",
       "      <td>NaN</td>\n",
       "      <td>ULDA</td>\n",
       "      <td>71.616699</td>\n",
       "      <td>52.478298</td>\n",
       "      <td>272</td>\n",
       "      <td>NaN</td>\n",
       "      <td>NaN</td>\n",
       "      <td>NaN</td>\n",
       "      <td>airport</td>\n",
       "      <td>OurAirports</td>\n",
       "    </tr>\n",
       "    <tr>\n",
       "      <th>7694</th>\n",
       "      <td>Ulan-Ude East Airport</td>\n",
       "      <td>Ulan Ude</td>\n",
       "      <td>Russia</td>\n",
       "      <td>NaN</td>\n",
       "      <td>XIUW</td>\n",
       "      <td>51.849998</td>\n",
       "      <td>107.737999</td>\n",
       "      <td>1670</td>\n",
       "      <td>NaN</td>\n",
       "      <td>NaN</td>\n",
       "      <td>NaN</td>\n",
       "      <td>airport</td>\n",
       "      <td>OurAirports</td>\n",
       "    </tr>\n",
       "    <tr>\n",
       "      <th>7695</th>\n",
       "      <td>Krechevitsy Air Base</td>\n",
       "      <td>Novgorod</td>\n",
       "      <td>Russia</td>\n",
       "      <td>NaN</td>\n",
       "      <td>ULLK</td>\n",
       "      <td>58.625000</td>\n",
       "      <td>31.385000</td>\n",
       "      <td>85</td>\n",
       "      <td>NaN</td>\n",
       "      <td>NaN</td>\n",
       "      <td>NaN</td>\n",
       "      <td>airport</td>\n",
       "      <td>OurAirports</td>\n",
       "    </tr>\n",
       "    <tr>\n",
       "      <th>7696</th>\n",
       "      <td>Desierto de Atacama Airport</td>\n",
       "      <td>Copiapo</td>\n",
       "      <td>Chile</td>\n",
       "      <td>CPO</td>\n",
       "      <td>SCAT</td>\n",
       "      <td>-27.261200</td>\n",
       "      <td>-70.779198</td>\n",
       "      <td>670</td>\n",
       "      <td>NaN</td>\n",
       "      <td>NaN</td>\n",
       "      <td>NaN</td>\n",
       "      <td>airport</td>\n",
       "      <td>OurAirports</td>\n",
       "    </tr>\n",
       "    <tr>\n",
       "      <th>7697</th>\n",
       "      <td>Melitopol Air Base</td>\n",
       "      <td>Melitopol</td>\n",
       "      <td>Ukraine</td>\n",
       "      <td>NaN</td>\n",
       "      <td>UKDM</td>\n",
       "      <td>46.880001</td>\n",
       "      <td>35.305000</td>\n",
       "      <td>0</td>\n",
       "      <td>NaN</td>\n",
       "      <td>NaN</td>\n",
       "      <td>NaN</td>\n",
       "      <td>airport</td>\n",
       "      <td>OurAirports</td>\n",
       "    </tr>\n",
       "  </tbody>\n",
       "</table>\n",
       "</div>"
      ],
      "text/plain": [
       "                             Name                 City      Country IATA  \\\n",
       "7688               Rustaq Airport          Al Masna'ah         Oman  MNH   \n",
       "7689         Laguindingan Airport  Cagayan de Oro City  Philippines  CGY   \n",
       "7690          Kostomuksha Airport          Kostomuksha       Russia  NaN   \n",
       "7691        Privolzhskiy Air Base            Astrakhan       Russia  NaN   \n",
       "7692             Kubinka Air Base              Kubinka       Russia  NaN   \n",
       "7693          Rogachyovo Air Base               Belaya       Russia  NaN   \n",
       "7694        Ulan-Ude East Airport             Ulan Ude       Russia  NaN   \n",
       "7695         Krechevitsy Air Base             Novgorod       Russia  NaN   \n",
       "7696  Desierto de Atacama Airport              Copiapo        Chile  CPO   \n",
       "7697           Melitopol Air Base            Melitopol      Ukraine  NaN   \n",
       "\n",
       "      ICAO   Latitude   Longitude  Altitude Timezone  DST  \\\n",
       "7688  OORQ  23.640556   57.487500       349      NaN  NaN   \n",
       "7689  RPMY   8.612203  124.456496       190      NaN  NaN   \n",
       "7690  ULPM  64.617996   30.687000       681      NaN  NaN   \n",
       "7691  XRAP  46.396000   47.893000       -66      NaN  NaN   \n",
       "7692  UUMB  55.611695   36.650002       614      NaN  NaN   \n",
       "7693  ULDA  71.616699   52.478298       272      NaN  NaN   \n",
       "7694  XIUW  51.849998  107.737999      1670      NaN  NaN   \n",
       "7695  ULLK  58.625000   31.385000        85      NaN  NaN   \n",
       "7696  SCAT -27.261200  -70.779198       670      NaN  NaN   \n",
       "7697  UKDM  46.880001   35.305000         0      NaN  NaN   \n",
       "\n",
       "     Tz database time zone     Type       Source  \n",
       "7688                   NaN  airport  OurAirports  \n",
       "7689                   NaN  airport  OurAirports  \n",
       "7690                   NaN  airport  OurAirports  \n",
       "7691                   NaN  airport  OurAirports  \n",
       "7692                   NaN  airport  OurAirports  \n",
       "7693                   NaN  airport  OurAirports  \n",
       "7694                   NaN  airport  OurAirports  \n",
       "7695                   NaN  airport  OurAirports  \n",
       "7696                   NaN  airport  OurAirports  \n",
       "7697                   NaN  airport  OurAirports  "
      ]
     },
     "execution_count": 1,
     "metadata": {},
     "output_type": "execute_result"
    }
   ],
   "source": [
    "import numpy as np\n",
    "import pandas as pd\n",
    "columns = ['Airport ID', 'Name', 'City', 'Country', 'IATA', 'ICAO', 'Latitude', 'Longitude', \n",
    "           'Altitude', 'Timezone', 'DST', 'Tz database time zone', 'Type', 'Source']\n",
    "airport = pd.read_csv(\"airports.csv\", index_col = 0, names = columns).reset_index(drop = True).replace('\\\\N', np.nan)\n",
    "airport.tail(10)"
   ]
  },
  {
   "cell_type": "markdown",
   "id": "05655bf5",
   "metadata": {},
   "source": [
    "### Очистка данных от пропущенных значений по \"IATA\""
   ]
  },
  {
   "cell_type": "code",
   "execution_count": 2,
   "id": "37303173",
   "metadata": {},
   "outputs": [
    {
     "data": {
      "text/html": [
       "<div>\n",
       "<style scoped>\n",
       "    .dataframe tbody tr th:only-of-type {\n",
       "        vertical-align: middle;\n",
       "    }\n",
       "\n",
       "    .dataframe tbody tr th {\n",
       "        vertical-align: top;\n",
       "    }\n",
       "\n",
       "    .dataframe thead th {\n",
       "        text-align: right;\n",
       "    }\n",
       "</style>\n",
       "<table border=\"1\" class=\"dataframe\">\n",
       "  <thead>\n",
       "    <tr style=\"text-align: right;\">\n",
       "      <th></th>\n",
       "      <th>Name</th>\n",
       "      <th>City</th>\n",
       "      <th>Country</th>\n",
       "      <th>IATA</th>\n",
       "      <th>ICAO</th>\n",
       "      <th>Latitude</th>\n",
       "      <th>Longitude</th>\n",
       "      <th>Altitude</th>\n",
       "      <th>Timezone</th>\n",
       "      <th>DST</th>\n",
       "      <th>Tz database time zone</th>\n",
       "      <th>Type</th>\n",
       "      <th>Source</th>\n",
       "    </tr>\n",
       "  </thead>\n",
       "  <tbody>\n",
       "    <tr>\n",
       "      <th>0</th>\n",
       "      <td>Goroka Airport</td>\n",
       "      <td>Goroka</td>\n",
       "      <td>Papua New Guinea</td>\n",
       "      <td>GKA</td>\n",
       "      <td>AYGA</td>\n",
       "      <td>-6.08169</td>\n",
       "      <td>145.391998</td>\n",
       "      <td>5282</td>\n",
       "      <td>10</td>\n",
       "      <td>U</td>\n",
       "      <td>Pacific/Port_Moresby</td>\n",
       "      <td>airport</td>\n",
       "      <td>OurAirports</td>\n",
       "    </tr>\n",
       "    <tr>\n",
       "      <th>1</th>\n",
       "      <td>Madang Airport</td>\n",
       "      <td>Madang</td>\n",
       "      <td>Papua New Guinea</td>\n",
       "      <td>MAG</td>\n",
       "      <td>AYMD</td>\n",
       "      <td>-5.20708</td>\n",
       "      <td>145.789001</td>\n",
       "      <td>20</td>\n",
       "      <td>10</td>\n",
       "      <td>U</td>\n",
       "      <td>Pacific/Port_Moresby</td>\n",
       "      <td>airport</td>\n",
       "      <td>OurAirports</td>\n",
       "    </tr>\n",
       "    <tr>\n",
       "      <th>2</th>\n",
       "      <td>Mount Hagen Kagamuga Airport</td>\n",
       "      <td>Mount Hagen</td>\n",
       "      <td>Papua New Guinea</td>\n",
       "      <td>HGU</td>\n",
       "      <td>AYMH</td>\n",
       "      <td>-5.82679</td>\n",
       "      <td>144.296005</td>\n",
       "      <td>5388</td>\n",
       "      <td>10</td>\n",
       "      <td>U</td>\n",
       "      <td>Pacific/Port_Moresby</td>\n",
       "      <td>airport</td>\n",
       "      <td>OurAirports</td>\n",
       "    </tr>\n",
       "  </tbody>\n",
       "</table>\n",
       "</div>"
      ],
      "text/plain": [
       "                           Name         City           Country IATA  ICAO  \\\n",
       "0                Goroka Airport       Goroka  Papua New Guinea  GKA  AYGA   \n",
       "1                Madang Airport       Madang  Papua New Guinea  MAG  AYMD   \n",
       "2  Mount Hagen Kagamuga Airport  Mount Hagen  Papua New Guinea  HGU  AYMH   \n",
       "\n",
       "   Latitude   Longitude  Altitude Timezone DST Tz database time zone     Type  \\\n",
       "0  -6.08169  145.391998      5282       10   U  Pacific/Port_Moresby  airport   \n",
       "1  -5.20708  145.789001        20       10   U  Pacific/Port_Moresby  airport   \n",
       "2  -5.82679  144.296005      5388       10   U  Pacific/Port_Moresby  airport   \n",
       "\n",
       "        Source  \n",
       "0  OurAirports  \n",
       "1  OurAirports  \n",
       "2  OurAirports  "
      ]
     },
     "execution_count": 2,
     "metadata": {},
     "output_type": "execute_result"
    }
   ],
   "source": [
    "iata = airport[~airport['IATA'].isna()].copy()\n",
    "iata.head(3)"
   ]
  },
  {
   "cell_type": "markdown",
   "id": "55fa9d57",
   "metadata": {},
   "source": [
    "### Создание визуализации всех аэропортов по координатам"
   ]
  },
  {
   "cell_type": "code",
   "execution_count": 3,
   "id": "7c6c2230",
   "metadata": {},
   "outputs": [
    {
     "data": {
      "image/png": "[encoded data removed]",
      "text/plain": [
       "<Figure size 1400x700 with 1 Axes>"
      ]
     },
     "metadata": {},
     "output_type": "display_data"
    }
   ],
   "source": [
    "import matplotlib.pyplot as plt\n",
    "\n",
    "fig, ax = plt.subplots(facecolor='#FCF6F5FF')\n",
    "fig.set_size_inches(14, 7)\n",
    "\n",
    "ax.scatter(airport['Longitude'], airport['Latitude'], s=1, alpha=1, edgecolors='none')\n",
    "ax.axis('off')\n",
    "\n",
    "plt.show()"
   ]
  },
  {
   "cell_type": "markdown",
   "id": "4879b411",
   "metadata": {},
   "source": [
    "## Выгрузка данных по перелетам"
   ]
  },
  {
   "cell_type": "code",
   "execution_count": 4,
   "id": "9e512cb1",
   "metadata": {},
   "outputs": [
    {
     "data": {
      "text/html": [
       "<div>\n",
       "<style scoped>\n",
       "    .dataframe tbody tr th:only-of-type {\n",
       "        vertical-align: middle;\n",
       "    }\n",
       "\n",
       "    .dataframe tbody tr th {\n",
       "        vertical-align: top;\n",
       "    }\n",
       "\n",
       "    .dataframe thead th {\n",
       "        text-align: right;\n",
       "    }\n",
       "</style>\n",
       "<table border=\"1\" class=\"dataframe\">\n",
       "  <thead>\n",
       "    <tr style=\"text-align: right;\">\n",
       "      <th></th>\n",
       "      <th>Airline ID</th>\n",
       "      <th>Source airport</th>\n",
       "      <th>Source airport ID</th>\n",
       "      <th>Destination airport</th>\n",
       "      <th>Destination airport ID</th>\n",
       "      <th>Codeshare</th>\n",
       "      <th>Stops</th>\n",
       "      <th>Equipment</th>\n",
       "    </tr>\n",
       "  </thead>\n",
       "  <tbody>\n",
       "    <tr>\n",
       "      <th>67653</th>\n",
       "      <td>4178</td>\n",
       "      <td>TSV</td>\n",
       "      <td>3330</td>\n",
       "      <td>WIN</td>\n",
       "      <td>6337</td>\n",
       "      <td>NaN</td>\n",
       "      <td>0</td>\n",
       "      <td>SF3</td>\n",
       "    </tr>\n",
       "    <tr>\n",
       "      <th>67654</th>\n",
       "      <td>4178</td>\n",
       "      <td>WGA</td>\n",
       "      <td>3363</td>\n",
       "      <td>MEL</td>\n",
       "      <td>3339</td>\n",
       "      <td>NaN</td>\n",
       "      <td>0</td>\n",
       "      <td>SF3</td>\n",
       "    </tr>\n",
       "    <tr>\n",
       "      <th>67655</th>\n",
       "      <td>4178</td>\n",
       "      <td>WGA</td>\n",
       "      <td>3363</td>\n",
       "      <td>SYD</td>\n",
       "      <td>3361</td>\n",
       "      <td>NaN</td>\n",
       "      <td>0</td>\n",
       "      <td>SF3</td>\n",
       "    </tr>\n",
       "    <tr>\n",
       "      <th>67656</th>\n",
       "      <td>4178</td>\n",
       "      <td>WIN</td>\n",
       "      <td>6337</td>\n",
       "      <td>LRE</td>\n",
       "      <td>6289</td>\n",
       "      <td>NaN</td>\n",
       "      <td>0</td>\n",
       "      <td>SF3</td>\n",
       "    </tr>\n",
       "    <tr>\n",
       "      <th>67657</th>\n",
       "      <td>4178</td>\n",
       "      <td>WIN</td>\n",
       "      <td>6337</td>\n",
       "      <td>TSV</td>\n",
       "      <td>3330</td>\n",
       "      <td>NaN</td>\n",
       "      <td>0</td>\n",
       "      <td>SF3</td>\n",
       "    </tr>\n",
       "    <tr>\n",
       "      <th>67658</th>\n",
       "      <td>4178</td>\n",
       "      <td>WYA</td>\n",
       "      <td>6334</td>\n",
       "      <td>ADL</td>\n",
       "      <td>3341</td>\n",
       "      <td>NaN</td>\n",
       "      <td>0</td>\n",
       "      <td>SF3</td>\n",
       "    </tr>\n",
       "    <tr>\n",
       "      <th>67659</th>\n",
       "      <td>19016</td>\n",
       "      <td>DME</td>\n",
       "      <td>4029</td>\n",
       "      <td>FRU</td>\n",
       "      <td>2912</td>\n",
       "      <td>NaN</td>\n",
       "      <td>0</td>\n",
       "      <td>734</td>\n",
       "    </tr>\n",
       "    <tr>\n",
       "      <th>67660</th>\n",
       "      <td>19016</td>\n",
       "      <td>FRU</td>\n",
       "      <td>2912</td>\n",
       "      <td>DME</td>\n",
       "      <td>4029</td>\n",
       "      <td>NaN</td>\n",
       "      <td>0</td>\n",
       "      <td>734</td>\n",
       "    </tr>\n",
       "    <tr>\n",
       "      <th>67661</th>\n",
       "      <td>19016</td>\n",
       "      <td>FRU</td>\n",
       "      <td>2912</td>\n",
       "      <td>OSS</td>\n",
       "      <td>2913</td>\n",
       "      <td>NaN</td>\n",
       "      <td>0</td>\n",
       "      <td>734</td>\n",
       "    </tr>\n",
       "    <tr>\n",
       "      <th>67662</th>\n",
       "      <td>19016</td>\n",
       "      <td>OSS</td>\n",
       "      <td>2913</td>\n",
       "      <td>FRU</td>\n",
       "      <td>2912</td>\n",
       "      <td>NaN</td>\n",
       "      <td>0</td>\n",
       "      <td>734</td>\n",
       "    </tr>\n",
       "  </tbody>\n",
       "</table>\n",
       "</div>"
      ],
      "text/plain": [
       "      Airline ID Source airport Source airport ID Destination airport  \\\n",
       "67653       4178            TSV              3330                 WIN   \n",
       "67654       4178            WGA              3363                 MEL   \n",
       "67655       4178            WGA              3363                 SYD   \n",
       "67656       4178            WIN              6337                 LRE   \n",
       "67657       4178            WIN              6337                 TSV   \n",
       "67658       4178            WYA              6334                 ADL   \n",
       "67659      19016            DME              4029                 FRU   \n",
       "67660      19016            FRU              2912                 DME   \n",
       "67661      19016            FRU              2912                 OSS   \n",
       "67662      19016            OSS              2913                 FRU   \n",
       "\n",
       "      Destination airport ID Codeshare  Stops Equipment  \n",
       "67653                   6337       NaN      0       SF3  \n",
       "67654                   3339       NaN      0       SF3  \n",
       "67655                   3361       NaN      0       SF3  \n",
       "67656                   6289       NaN      0       SF3  \n",
       "67657                   3330       NaN      0       SF3  \n",
       "67658                   3341       NaN      0       SF3  \n",
       "67659                   2912       NaN      0       734  \n",
       "67660                   4029       NaN      0       734  \n",
       "67661                   2913       NaN      0       734  \n",
       "67662                   2912       NaN      0       734  "
      ]
     },
     "execution_count": 4,
     "metadata": {},
     "output_type": "execute_result"
    }
   ],
   "source": [
    "columns_r = ['Airline', 'Airline ID', 'Source airport', 'Source airport ID', 'Destination airport', \n",
    "           'Destination airport ID', 'Codeshare', 'Stops', 'Equipment']\n",
    "\n",
    "routes = pd.read_csv(\"routes.csv\", index_col = 0, names = columns_r).reset_index(drop = True).replace('\\\\N', np.nan)\n",
    "routes.tail(10)"
   ]
  },
  {
   "cell_type": "markdown",
   "id": "b075725b",
   "metadata": {},
   "source": [
    "## Подсчет числа вылетов и прилетов, их суммы для каждого аэропорта"
   ]
  },
  {
   "cell_type": "code",
   "execution_count": 5,
   "id": "b30bb352",
   "metadata": {},
   "outputs": [
    {
     "data": {
      "text/html": [
       "<div>\n",
       "<style scoped>\n",
       "    .dataframe tbody tr th:only-of-type {\n",
       "        vertical-align: middle;\n",
       "    }\n",
       "\n",
       "    .dataframe tbody tr th {\n",
       "        vertical-align: top;\n",
       "    }\n",
       "\n",
       "    .dataframe thead th {\n",
       "        text-align: right;\n",
       "    }\n",
       "</style>\n",
       "<table border=\"1\" class=\"dataframe\">\n",
       "  <thead>\n",
       "    <tr style=\"text-align: right;\">\n",
       "      <th></th>\n",
       "      <th>Destination airport</th>\n",
       "      <th>Source airport</th>\n",
       "      <th>Summary</th>\n",
       "    </tr>\n",
       "  </thead>\n",
       "  <tbody>\n",
       "    <tr>\n",
       "      <th>AAE</th>\n",
       "      <td>9</td>\n",
       "      <td>9</td>\n",
       "      <td>18</td>\n",
       "    </tr>\n",
       "    <tr>\n",
       "      <th>AAL</th>\n",
       "      <td>20</td>\n",
       "      <td>21</td>\n",
       "      <td>41</td>\n",
       "    </tr>\n",
       "    <tr>\n",
       "      <th>AAN</th>\n",
       "      <td>2</td>\n",
       "      <td>2</td>\n",
       "      <td>4</td>\n",
       "    </tr>\n",
       "    <tr>\n",
       "      <th>AAQ</th>\n",
       "      <td>3</td>\n",
       "      <td>3</td>\n",
       "      <td>6</td>\n",
       "    </tr>\n",
       "    <tr>\n",
       "      <th>AAR</th>\n",
       "      <td>8</td>\n",
       "      <td>8</td>\n",
       "      <td>16</td>\n",
       "    </tr>\n",
       "  </tbody>\n",
       "</table>\n",
       "</div>"
      ],
      "text/plain": [
       "     Destination airport  Source airport  Summary\n",
       "AAE                    9               9       18\n",
       "AAL                   20              21       41\n",
       "AAN                    2               2        4\n",
       "AAQ                    3               3        6\n",
       "AAR                    8               8       16"
      ]
     },
     "execution_count": 5,
     "metadata": {},
     "output_type": "execute_result"
    }
   ],
   "source": [
    "arrival = routes[['Source airport', 'Destination airport']].groupby('Destination airport').count() #вылет\n",
    "departure = routes[['Source airport', 'Destination airport']].groupby('Source airport').count() # прилет\n",
    "tablo = departure.join(arrival, how = 'outer').fillna(0).astype(int) \n",
    "tablo['Summary'] = tablo['Destination airport'] + tablo['Source airport']\n",
    "tablo.head()"
   ]
  },
  {
   "cell_type": "markdown",
   "id": "fb5b9fe8",
   "metadata": {},
   "source": [
    "### Объединение данных по перелетам с данными по аэропортам"
   ]
  },
  {
   "cell_type": "code",
   "execution_count": 6,
   "id": "afe57486",
   "metadata": {},
   "outputs": [],
   "source": [
    "network = airport.merge(tablo, left_on='IATA', right_index=True, how='left')"
   ]
  },
  {
   "cell_type": "code",
   "execution_count": 7,
   "id": "a2714e81",
   "metadata": {},
   "outputs": [
    {
     "data": {
      "text/html": [
       "<div>\n",
       "<style scoped>\n",
       "    .dataframe tbody tr th:only-of-type {\n",
       "        vertical-align: middle;\n",
       "    }\n",
       "\n",
       "    .dataframe tbody tr th {\n",
       "        vertical-align: top;\n",
       "    }\n",
       "\n",
       "    .dataframe thead th {\n",
       "        text-align: right;\n",
       "    }\n",
       "</style>\n",
       "<table border=\"1\" class=\"dataframe\">\n",
       "  <thead>\n",
       "    <tr style=\"text-align: right;\">\n",
       "      <th></th>\n",
       "      <th>Name</th>\n",
       "      <th>City</th>\n",
       "      <th>Country</th>\n",
       "      <th>IATA</th>\n",
       "      <th>ICAO</th>\n",
       "      <th>Latitude</th>\n",
       "      <th>Longitude</th>\n",
       "      <th>Altitude</th>\n",
       "      <th>Timezone</th>\n",
       "      <th>DST</th>\n",
       "      <th>Tz database time zone</th>\n",
       "      <th>Type</th>\n",
       "      <th>Source</th>\n",
       "      <th>Destination airport</th>\n",
       "      <th>Source airport</th>\n",
       "      <th>Summary</th>\n",
       "    </tr>\n",
       "  </thead>\n",
       "  <tbody>\n",
       "    <tr>\n",
       "      <th>0</th>\n",
       "      <td>Goroka Airport</td>\n",
       "      <td>Goroka</td>\n",
       "      <td>Papua New Guinea</td>\n",
       "      <td>GKA</td>\n",
       "      <td>AYGA</td>\n",
       "      <td>-6.08169</td>\n",
       "      <td>145.391998</td>\n",
       "      <td>5282</td>\n",
       "      <td>10</td>\n",
       "      <td>U</td>\n",
       "      <td>Pacific/Port_Moresby</td>\n",
       "      <td>airport</td>\n",
       "      <td>OurAirports</td>\n",
       "      <td>5.0</td>\n",
       "      <td>5.0</td>\n",
       "      <td>10.0</td>\n",
       "    </tr>\n",
       "    <tr>\n",
       "      <th>1</th>\n",
       "      <td>Madang Airport</td>\n",
       "      <td>Madang</td>\n",
       "      <td>Papua New Guinea</td>\n",
       "      <td>MAG</td>\n",
       "      <td>AYMD</td>\n",
       "      <td>-5.20708</td>\n",
       "      <td>145.789001</td>\n",
       "      <td>20</td>\n",
       "      <td>10</td>\n",
       "      <td>U</td>\n",
       "      <td>Pacific/Port_Moresby</td>\n",
       "      <td>airport</td>\n",
       "      <td>OurAirports</td>\n",
       "      <td>8.0</td>\n",
       "      <td>8.0</td>\n",
       "      <td>16.0</td>\n",
       "    </tr>\n",
       "    <tr>\n",
       "      <th>2</th>\n",
       "      <td>Mount Hagen Kagamuga Airport</td>\n",
       "      <td>Mount Hagen</td>\n",
       "      <td>Papua New Guinea</td>\n",
       "      <td>HGU</td>\n",
       "      <td>AYMH</td>\n",
       "      <td>-5.82679</td>\n",
       "      <td>144.296005</td>\n",
       "      <td>5388</td>\n",
       "      <td>10</td>\n",
       "      <td>U</td>\n",
       "      <td>Pacific/Port_Moresby</td>\n",
       "      <td>airport</td>\n",
       "      <td>OurAirports</td>\n",
       "      <td>10.0</td>\n",
       "      <td>12.0</td>\n",
       "      <td>22.0</td>\n",
       "    </tr>\n",
       "  </tbody>\n",
       "</table>\n",
       "</div>"
      ],
      "text/plain": [
       "                           Name         City           Country IATA  ICAO  \\\n",
       "0                Goroka Airport       Goroka  Papua New Guinea  GKA  AYGA   \n",
       "1                Madang Airport       Madang  Papua New Guinea  MAG  AYMD   \n",
       "2  Mount Hagen Kagamuga Airport  Mount Hagen  Papua New Guinea  HGU  AYMH   \n",
       "\n",
       "   Latitude   Longitude  Altitude Timezone DST Tz database time zone     Type  \\\n",
       "0  -6.08169  145.391998      5282       10   U  Pacific/Port_Moresby  airport   \n",
       "1  -5.20708  145.789001        20       10   U  Pacific/Port_Moresby  airport   \n",
       "2  -5.82679  144.296005      5388       10   U  Pacific/Port_Moresby  airport   \n",
       "\n",
       "        Source  Destination airport  Source airport  Summary  \n",
       "0  OurAirports                  5.0             5.0     10.0  \n",
       "1  OurAirports                  8.0             8.0     16.0  \n",
       "2  OurAirports                 10.0            12.0     22.0  "
      ]
     },
     "execution_count": 7,
     "metadata": {},
     "output_type": "execute_result"
    }
   ],
   "source": [
    "network.head(3)"
   ]
  },
  {
   "cell_type": "markdown",
   "id": "e3488634",
   "metadata": {},
   "source": [
    "## Добавление континетов, на которых располагаются аэропорты\n",
    "### Используются две взаимодополняющие библиотеки (сначала awoc, потом country_converter), после чего вручную добавляются отсутствующие в них страны. В случае библиотеки \"country_converter\" вручную исправляется назване континента с \"America\" на \"South/North America\""
   ]
  },
  {
   "cell_type": "code",
   "execution_count": 8,
   "id": "b6a0a00a",
   "metadata": {},
   "outputs": [
    {
     "name": "stderr",
     "output_type": "stream",
     "text": [
      "Midway Islands not found in regex\n",
      "Virgin Islands not found in regex\n",
      "Virgin Islands not found in regex\n",
      "Johnston Atoll not found in regex\n",
      "Virgin Islands not found in regex\n",
      "Wake Island not found in regex\n"
     ]
    },
    {
     "data": {
      "text/plain": [
       "array(['Oceania', 'North America', 'Europe', 'Africa', 'South America',\n",
       "       'Asia', 'Antarctica'], dtype=object)"
      ]
     },
     "execution_count": 8,
     "metadata": {},
     "output_type": "execute_result"
    }
   ],
   "source": [
    "import awoc\n",
    "import country_converter as coco\n",
    "world = awoc.AWOC()\n",
    "cc = coco.CountryConverter()\n",
    "\n",
    "def country_2_continent(country_name):\n",
    "    try: continent_name = world.get_country_continent_name(country_name) \n",
    "    except NameError:\n",
    "        continent_name = cc.convert(names = country_name, to = 'continent')\n",
    "    return continent_name\n",
    "\n",
    "network['Continent'] = network['Country'].map(lambda x: country_2_continent(x))\n",
    "\n",
    "idx_sa = network[network['Country'] == 'French Guiana'].Continent.index\n",
    "network.loc[idx_sa, 'Continent'] = 'South America'\n",
    "idx_na = network[network['Country'].isin(['Martinique', 'Guadeloupe', 'Virgin Islands', \n",
    "                                       'Midway Islands', 'Johnston Atoll', 'Wake Island'])].Continent.index\n",
    "network.loc[idx_na, 'Continent'] = 'North America'\n",
    "\n",
    "network['Continent'].unique() # проверка, что нет неучтенных значений"
   ]
  },
  {
   "cell_type": "markdown",
   "id": "a409177d",
   "metadata": {},
   "source": [
    "### Создание датафрейма, содержащего топ N аэропортов по количеству перелетов на каждом из континентов, кроме Антарктиды"
   ]
  },
  {
   "cell_type": "code",
   "execution_count": 25,
   "id": "7c9a15bd",
   "metadata": {},
   "outputs": [
    {
     "data": {
      "text/html": [
       "<div>\n",
       "<style scoped>\n",
       "    .dataframe tbody tr th:only-of-type {\n",
       "        vertical-align: middle;\n",
       "    }\n",
       "\n",
       "    .dataframe tbody tr th {\n",
       "        vertical-align: top;\n",
       "    }\n",
       "\n",
       "    .dataframe thead th {\n",
       "        text-align: right;\n",
       "    }\n",
       "</style>\n",
       "<table border=\"1\" class=\"dataframe\">\n",
       "  <thead>\n",
       "    <tr style=\"text-align: right;\">\n",
       "      <th></th>\n",
       "      <th>Continent</th>\n",
       "      <th>IATA</th>\n",
       "      <th>Name</th>\n",
       "      <th>City</th>\n",
       "      <th>Summary</th>\n",
       "      <th>Latitude</th>\n",
       "      <th>Longitude</th>\n",
       "    </tr>\n",
       "  </thead>\n",
       "  <tbody>\n",
       "    <tr>\n",
       "      <th>0</th>\n",
       "      <td>Africa</td>\n",
       "      <td>JNB</td>\n",
       "      <td>OR Tambo International Airport</td>\n",
       "      <td>Johannesburg</td>\n",
       "      <td>321.0</td>\n",
       "      <td>-26.139200</td>\n",
       "      <td>28.246000</td>\n",
       "    </tr>\n",
       "    <tr>\n",
       "      <th>1</th>\n",
       "      <td>Africa</td>\n",
       "      <td>CAI</td>\n",
       "      <td>Cairo International Airport</td>\n",
       "      <td>Cairo</td>\n",
       "      <td>303.0</td>\n",
       "      <td>30.121901</td>\n",
       "      <td>31.405600</td>\n",
       "    </tr>\n",
       "    <tr>\n",
       "      <th>2</th>\n",
       "      <td>Africa</td>\n",
       "      <td>NBO</td>\n",
       "      <td>Jomo Kenyatta International Airport</td>\n",
       "      <td>Nairobi</td>\n",
       "      <td>258.0</td>\n",
       "      <td>-1.319240</td>\n",
       "      <td>36.927799</td>\n",
       "    </tr>\n",
       "    <tr>\n",
       "      <th>3</th>\n",
       "      <td>Africa</td>\n",
       "      <td>CMN</td>\n",
       "      <td>Mohammed V International Airport</td>\n",
       "      <td>Casablanca</td>\n",
       "      <td>250.0</td>\n",
       "      <td>33.367500</td>\n",
       "      <td>-7.589970</td>\n",
       "    </tr>\n",
       "    <tr>\n",
       "      <th>4</th>\n",
       "      <td>Africa</td>\n",
       "      <td>ADD</td>\n",
       "      <td>Addis Ababa Bole International Airport</td>\n",
       "      <td>Addis Ababa</td>\n",
       "      <td>214.0</td>\n",
       "      <td>8.977890</td>\n",
       "      <td>38.799301</td>\n",
       "    </tr>\n",
       "    <tr>\n",
       "      <th>5</th>\n",
       "      <td>Africa</td>\n",
       "      <td>ALG</td>\n",
       "      <td>Houari Boumediene Airport</td>\n",
       "      <td>Algier</td>\n",
       "      <td>176.0</td>\n",
       "      <td>36.691002</td>\n",
       "      <td>3.215410</td>\n",
       "    </tr>\n",
       "    <tr>\n",
       "      <th>6</th>\n",
       "      <td>Asia</td>\n",
       "      <td>PEK</td>\n",
       "      <td>Beijing Capital International Airport</td>\n",
       "      <td>Beijing</td>\n",
       "      <td>1069.0</td>\n",
       "      <td>40.080101</td>\n",
       "      <td>116.584999</td>\n",
       "    </tr>\n",
       "    <tr>\n",
       "      <th>7</th>\n",
       "      <td>Asia</td>\n",
       "      <td>PVG</td>\n",
       "      <td>Shanghai Pudong International Airport</td>\n",
       "      <td>Shanghai</td>\n",
       "      <td>825.0</td>\n",
       "      <td>31.143400</td>\n",
       "      <td>121.805000</td>\n",
       "    </tr>\n",
       "    <tr>\n",
       "      <th>8</th>\n",
       "      <td>Asia</td>\n",
       "      <td>SIN</td>\n",
       "      <td>Singapore Changi Airport</td>\n",
       "      <td>Singapore</td>\n",
       "      <td>820.0</td>\n",
       "      <td>1.350190</td>\n",
       "      <td>103.994003</td>\n",
       "    </tr>\n",
       "    <tr>\n",
       "      <th>9</th>\n",
       "      <td>Asia</td>\n",
       "      <td>ICN</td>\n",
       "      <td>Incheon International Airport</td>\n",
       "      <td>Seoul</td>\n",
       "      <td>740.0</td>\n",
       "      <td>37.469101</td>\n",
       "      <td>126.450996</td>\n",
       "    </tr>\n",
       "    <tr>\n",
       "      <th>10</th>\n",
       "      <td>Asia</td>\n",
       "      <td>IST</td>\n",
       "      <td>Istanbul Airport</td>\n",
       "      <td>Istanbul</td>\n",
       "      <td>719.0</td>\n",
       "      <td>41.275278</td>\n",
       "      <td>28.751944</td>\n",
       "    </tr>\n",
       "    <tr>\n",
       "      <th>11</th>\n",
       "      <td>Asia</td>\n",
       "      <td>DXB</td>\n",
       "      <td>Dubai International Airport</td>\n",
       "      <td>Dubai</td>\n",
       "      <td>710.0</td>\n",
       "      <td>25.252800</td>\n",
       "      <td>55.364399</td>\n",
       "    </tr>\n",
       "    <tr>\n",
       "      <th>12</th>\n",
       "      <td>Europe</td>\n",
       "      <td>LHR</td>\n",
       "      <td>London Heathrow Airport</td>\n",
       "      <td>London</td>\n",
       "      <td>1051.0</td>\n",
       "      <td>51.470600</td>\n",
       "      <td>-0.461941</td>\n",
       "    </tr>\n",
       "    <tr>\n",
       "      <th>13</th>\n",
       "      <td>Europe</td>\n",
       "      <td>CDG</td>\n",
       "      <td>Charles de Gaulle International Airport</td>\n",
       "      <td>Paris</td>\n",
       "      <td>1041.0</td>\n",
       "      <td>49.012798</td>\n",
       "      <td>2.550000</td>\n",
       "    </tr>\n",
       "    <tr>\n",
       "      <th>14</th>\n",
       "      <td>Europe</td>\n",
       "      <td>FRA</td>\n",
       "      <td>Frankfurt am Main Airport</td>\n",
       "      <td>Frankfurt</td>\n",
       "      <td>990.0</td>\n",
       "      <td>50.033333</td>\n",
       "      <td>8.570556</td>\n",
       "    </tr>\n",
       "    <tr>\n",
       "      <th>15</th>\n",
       "      <td>Europe</td>\n",
       "      <td>AMS</td>\n",
       "      <td>Amsterdam Airport Schiphol</td>\n",
       "      <td>Amsterdam</td>\n",
       "      <td>903.0</td>\n",
       "      <td>52.308601</td>\n",
       "      <td>4.763890</td>\n",
       "    </tr>\n",
       "    <tr>\n",
       "      <th>16</th>\n",
       "      <td>Europe</td>\n",
       "      <td>BCN</td>\n",
       "      <td>Barcelona International Airport</td>\n",
       "      <td>Barcelona</td>\n",
       "      <td>783.0</td>\n",
       "      <td>41.297100</td>\n",
       "      <td>2.078460</td>\n",
       "    </tr>\n",
       "    <tr>\n",
       "      <th>17</th>\n",
       "      <td>Europe</td>\n",
       "      <td>MUC</td>\n",
       "      <td>Munich Airport</td>\n",
       "      <td>Munich</td>\n",
       "      <td>728.0</td>\n",
       "      <td>48.353802</td>\n",
       "      <td>11.786100</td>\n",
       "    </tr>\n",
       "    <tr>\n",
       "      <th>18</th>\n",
       "      <td>North America</td>\n",
       "      <td>ATL</td>\n",
       "      <td>Hartsfield Jackson Atlanta International Airport</td>\n",
       "      <td>Atlanta</td>\n",
       "      <td>1826.0</td>\n",
       "      <td>33.636700</td>\n",
       "      <td>-84.428101</td>\n",
       "    </tr>\n",
       "    <tr>\n",
       "      <th>19</th>\n",
       "      <td>North America</td>\n",
       "      <td>ORD</td>\n",
       "      <td>Chicago O'Hare International Airport</td>\n",
       "      <td>Chicago</td>\n",
       "      <td>1108.0</td>\n",
       "      <td>41.978600</td>\n",
       "      <td>-87.904800</td>\n",
       "    </tr>\n",
       "    <tr>\n",
       "      <th>20</th>\n",
       "      <td>North America</td>\n",
       "      <td>LAX</td>\n",
       "      <td>Los Angeles International Airport</td>\n",
       "      <td>Los Angeles</td>\n",
       "      <td>990.0</td>\n",
       "      <td>33.942501</td>\n",
       "      <td>-118.407997</td>\n",
       "    </tr>\n",
       "    <tr>\n",
       "      <th>21</th>\n",
       "      <td>North America</td>\n",
       "      <td>DFW</td>\n",
       "      <td>Dallas Fort Worth International Airport</td>\n",
       "      <td>Dallas-Fort Worth</td>\n",
       "      <td>936.0</td>\n",
       "      <td>32.896801</td>\n",
       "      <td>-97.038002</td>\n",
       "    </tr>\n",
       "    <tr>\n",
       "      <th>22</th>\n",
       "      <td>North America</td>\n",
       "      <td>JFK</td>\n",
       "      <td>John F Kennedy International Airport</td>\n",
       "      <td>New York</td>\n",
       "      <td>911.0</td>\n",
       "      <td>40.639801</td>\n",
       "      <td>-73.778900</td>\n",
       "    </tr>\n",
       "    <tr>\n",
       "      <th>23</th>\n",
       "      <td>North America</td>\n",
       "      <td>DEN</td>\n",
       "      <td>Denver International Airport</td>\n",
       "      <td>Denver</td>\n",
       "      <td>735.0</td>\n",
       "      <td>39.861698</td>\n",
       "      <td>-104.672997</td>\n",
       "    </tr>\n",
       "    <tr>\n",
       "      <th>24</th>\n",
       "      <td>Oceania</td>\n",
       "      <td>SYD</td>\n",
       "      <td>Sydney Kingsford Smith International Airport</td>\n",
       "      <td>Sydney</td>\n",
       "      <td>410.0</td>\n",
       "      <td>-33.946098</td>\n",
       "      <td>151.177002</td>\n",
       "    </tr>\n",
       "    <tr>\n",
       "      <th>25</th>\n",
       "      <td>Oceania</td>\n",
       "      <td>BNE</td>\n",
       "      <td>Brisbane International Airport</td>\n",
       "      <td>Brisbane</td>\n",
       "      <td>296.0</td>\n",
       "      <td>-27.384199</td>\n",
       "      <td>153.117004</td>\n",
       "    </tr>\n",
       "    <tr>\n",
       "      <th>26</th>\n",
       "      <td>Oceania</td>\n",
       "      <td>MEL</td>\n",
       "      <td>Melbourne International Airport</td>\n",
       "      <td>Melbourne</td>\n",
       "      <td>269.0</td>\n",
       "      <td>-37.673302</td>\n",
       "      <td>144.843002</td>\n",
       "    </tr>\n",
       "    <tr>\n",
       "      <th>27</th>\n",
       "      <td>Oceania</td>\n",
       "      <td>AKL</td>\n",
       "      <td>Auckland International Airport</td>\n",
       "      <td>Auckland</td>\n",
       "      <td>213.0</td>\n",
       "      <td>-37.008099</td>\n",
       "      <td>174.792007</td>\n",
       "    </tr>\n",
       "    <tr>\n",
       "      <th>28</th>\n",
       "      <td>Oceania</td>\n",
       "      <td>PER</td>\n",
       "      <td>Perth International Airport</td>\n",
       "      <td>Perth</td>\n",
       "      <td>182.0</td>\n",
       "      <td>-31.940300</td>\n",
       "      <td>115.967003</td>\n",
       "    </tr>\n",
       "    <tr>\n",
       "      <th>29</th>\n",
       "      <td>Oceania</td>\n",
       "      <td>CNS</td>\n",
       "      <td>Cairns International Airport</td>\n",
       "      <td>Cairns</td>\n",
       "      <td>110.0</td>\n",
       "      <td>-16.885799</td>\n",
       "      <td>145.755005</td>\n",
       "    </tr>\n",
       "    <tr>\n",
       "      <th>30</th>\n",
       "      <td>South America</td>\n",
       "      <td>GRU</td>\n",
       "      <td>Guarulhos - Governador André Franco Montoro In...</td>\n",
       "      <td>Sao Paulo</td>\n",
       "      <td>387.0</td>\n",
       "      <td>-23.435556</td>\n",
       "      <td>-46.473057</td>\n",
       "    </tr>\n",
       "    <tr>\n",
       "      <th>31</th>\n",
       "      <td>South America</td>\n",
       "      <td>BOG</td>\n",
       "      <td>El Dorado International Airport</td>\n",
       "      <td>Bogota</td>\n",
       "      <td>307.0</td>\n",
       "      <td>4.701590</td>\n",
       "      <td>-74.146900</td>\n",
       "    </tr>\n",
       "    <tr>\n",
       "      <th>32</th>\n",
       "      <td>South America</td>\n",
       "      <td>LIM</td>\n",
       "      <td>Jorge Chávez International Airport</td>\n",
       "      <td>Lima</td>\n",
       "      <td>230.0</td>\n",
       "      <td>-12.021900</td>\n",
       "      <td>-77.114305</td>\n",
       "    </tr>\n",
       "    <tr>\n",
       "      <th>33</th>\n",
       "      <td>South America</td>\n",
       "      <td>BSB</td>\n",
       "      <td>Presidente Juscelino Kubistschek International...</td>\n",
       "      <td>Brasilia</td>\n",
       "      <td>197.0</td>\n",
       "      <td>-15.869167</td>\n",
       "      <td>-47.920834</td>\n",
       "    </tr>\n",
       "    <tr>\n",
       "      <th>34</th>\n",
       "      <td>South America</td>\n",
       "      <td>GIG</td>\n",
       "      <td>Rio Galeão – Tom Jobim International Airport</td>\n",
       "      <td>Rio De Janeiro</td>\n",
       "      <td>194.0</td>\n",
       "      <td>-22.809999</td>\n",
       "      <td>-43.250557</td>\n",
       "    </tr>\n",
       "    <tr>\n",
       "      <th>35</th>\n",
       "      <td>South America</td>\n",
       "      <td>CCS</td>\n",
       "      <td>Simón Bolívar International Airport</td>\n",
       "      <td>Caracas</td>\n",
       "      <td>181.0</td>\n",
       "      <td>10.601194</td>\n",
       "      <td>-66.991222</td>\n",
       "    </tr>\n",
       "  </tbody>\n",
       "</table>\n",
       "</div>"
      ],
      "text/plain": [
       "        Continent IATA                                               Name  \\\n",
       "0          Africa  JNB                     OR Tambo International Airport   \n",
       "1          Africa  CAI                        Cairo International Airport   \n",
       "2          Africa  NBO                Jomo Kenyatta International Airport   \n",
       "3          Africa  CMN                   Mohammed V International Airport   \n",
       "4          Africa  ADD             Addis Ababa Bole International Airport   \n",
       "5          Africa  ALG                          Houari Boumediene Airport   \n",
       "6            Asia  PEK              Beijing Capital International Airport   \n",
       "7            Asia  PVG              Shanghai Pudong International Airport   \n",
       "8            Asia  SIN                           Singapore Changi Airport   \n",
       "9            Asia  ICN                      Incheon International Airport   \n",
       "10           Asia  IST                                   Istanbul Airport   \n",
       "11           Asia  DXB                        Dubai International Airport   \n",
       "12         Europe  LHR                            London Heathrow Airport   \n",
       "13         Europe  CDG            Charles de Gaulle International Airport   \n",
       "14         Europe  FRA                          Frankfurt am Main Airport   \n",
       "15         Europe  AMS                         Amsterdam Airport Schiphol   \n",
       "16         Europe  BCN                    Barcelona International Airport   \n",
       "17         Europe  MUC                                     Munich Airport   \n",
       "18  North America  ATL   Hartsfield Jackson Atlanta International Airport   \n",
       "19  North America  ORD               Chicago O'Hare International Airport   \n",
       "20  North America  LAX                  Los Angeles International Airport   \n",
       "21  North America  DFW            Dallas Fort Worth International Airport   \n",
       "22  North America  JFK               John F Kennedy International Airport   \n",
       "23  North America  DEN                       Denver International Airport   \n",
       "24        Oceania  SYD       Sydney Kingsford Smith International Airport   \n",
       "25        Oceania  BNE                     Brisbane International Airport   \n",
       "26        Oceania  MEL                    Melbourne International Airport   \n",
       "27        Oceania  AKL                     Auckland International Airport   \n",
       "28        Oceania  PER                        Perth International Airport   \n",
       "29        Oceania  CNS                       Cairns International Airport   \n",
       "30  South America  GRU  Guarulhos - Governador André Franco Montoro In...   \n",
       "31  South America  BOG                    El Dorado International Airport   \n",
       "32  South America  LIM                 Jorge Chávez International Airport   \n",
       "33  South America  BSB  Presidente Juscelino Kubistschek International...   \n",
       "34  South America  GIG       Rio Galeão – Tom Jobim International Airport   \n",
       "35  South America  CCS                Simón Bolívar International Airport   \n",
       "\n",
       "                 City  Summary   Latitude   Longitude  \n",
       "0        Johannesburg    321.0 -26.139200   28.246000  \n",
       "1               Cairo    303.0  30.121901   31.405600  \n",
       "2             Nairobi    258.0  -1.319240   36.927799  \n",
       "3          Casablanca    250.0  33.367500   -7.589970  \n",
       "4         Addis Ababa    214.0   8.977890   38.799301  \n",
       "5              Algier    176.0  36.691002    3.215410  \n",
       "6             Beijing   1069.0  40.080101  116.584999  \n",
       "7            Shanghai    825.0  31.143400  121.805000  \n",
       "8           Singapore    820.0   1.350190  103.994003  \n",
       "9               Seoul    740.0  37.469101  126.450996  \n",
       "10           Istanbul    719.0  41.275278   28.751944  \n",
       "11              Dubai    710.0  25.252800   55.364399  \n",
       "12             London   1051.0  51.470600   -0.461941  \n",
       "13              Paris   1041.0  49.012798    2.550000  \n",
       "14          Frankfurt    990.0  50.033333    8.570556  \n",
       "15          Amsterdam    903.0  52.308601    4.763890  \n",
       "16          Barcelona    783.0  41.297100    2.078460  \n",
       "17             Munich    728.0  48.353802   11.786100  \n",
       "18            Atlanta   1826.0  33.636700  -84.428101  \n",
       "19            Chicago   1108.0  41.978600  -87.904800  \n",
       "20        Los Angeles    990.0  33.942501 -118.407997  \n",
       "21  Dallas-Fort Worth    936.0  32.896801  -97.038002  \n",
       "22           New York    911.0  40.639801  -73.778900  \n",
       "23             Denver    735.0  39.861698 -104.672997  \n",
       "24             Sydney    410.0 -33.946098  151.177002  \n",
       "25           Brisbane    296.0 -27.384199  153.117004  \n",
       "26          Melbourne    269.0 -37.673302  144.843002  \n",
       "27           Auckland    213.0 -37.008099  174.792007  \n",
       "28              Perth    182.0 -31.940300  115.967003  \n",
       "29             Cairns    110.0 -16.885799  145.755005  \n",
       "30          Sao Paulo    387.0 -23.435556  -46.473057  \n",
       "31             Bogota    307.0   4.701590  -74.146900  \n",
       "32               Lima    230.0 -12.021900  -77.114305  \n",
       "33           Brasilia    197.0 -15.869167  -47.920834  \n",
       "34     Rio De Janeiro    194.0 -22.809999  -43.250557  \n",
       "35            Caracas    181.0  10.601194  -66.991222  "
      ]
     },
     "execution_count": 25,
     "metadata": {},
     "output_type": "execute_result"
    }
   ],
   "source": [
    "n = 6 # количество аэропортов на каждом континенте\n",
    "countries = network[['Continent', 'Summary']].groupby('Continent').sum().nlargest(6, 'Summary').index # 6 контитентов с наибольшим числом полетов\n",
    "top_airports = network[network['Continent'].isin(countries)].groupby('Continent').apply(lambda x: x.nlargest(n, 'Summary'))[['Continent', 'IATA', 'Name', 'City', 'Summary', 'Latitude', 'Longitude']].reset_index(drop=True)#.set_index('Continent')\n",
    "top_airports"
   ]
  },
  {
   "cell_type": "markdown",
   "id": "49699902",
   "metadata": {},
   "source": [
    "### Рандомный выбор континентотов вылета и прилета, указание топ N аэропортов на них"
   ]
  },
  {
   "cell_type": "code",
   "execution_count": 28,
   "id": "ac5ee116",
   "metadata": {},
   "outputs": [
    {
     "name": "stdout",
     "output_type": "stream",
     "text": [
      "Континент вылета:  North America \n",
      "Аэропорты:  ['ATL', 'ORD', 'LAX', 'DFW', 'JFK', 'DEN'] \n",
      "Континент прилета:  Asia \n",
      "Аэропорты:  ['PEK', 'PVG', 'SIN', 'ICN', 'IST', 'DXB']\n"
     ]
    }
   ],
   "source": [
    "import random\n",
    "\n",
    "continent_source = random.choice(top_airports['Continent'])\n",
    "continent_destin = random.choice(top_airports['Continent'])\n",
    "airports_cont_source = list(top_airports[top_airports['Continent']==continent_source].IATA)\n",
    "airports_cont_destin = list(top_airports[top_airports['Continent']==continent_destin].IATA)\n",
    "print('Континент вылета: ', continent_source, '\\nАэропорты: ', airports_cont_source, '\\nКонтинент прилета: ', continent_destin, '\\nАэропорты: ', airports_cont_destin)"
   ]
  },
  {
   "cell_type": "markdown",
   "id": "128aebca",
   "metadata": {},
   "source": [
    "### Создание отдельных датафреймов для аэропортов континентов вылета и прилета"
   ]
  },
  {
   "cell_type": "code",
   "execution_count": 29,
   "id": "66fc787b",
   "metadata": {},
   "outputs": [
    {
     "data": {
      "text/html": [
       "<div>\n",
       "<style scoped>\n",
       "    .dataframe tbody tr th:only-of-type {\n",
       "        vertical-align: middle;\n",
       "    }\n",
       "\n",
       "    .dataframe tbody tr th {\n",
       "        vertical-align: top;\n",
       "    }\n",
       "\n",
       "    .dataframe thead th {\n",
       "        text-align: right;\n",
       "    }\n",
       "</style>\n",
       "<table border=\"1\" class=\"dataframe\">\n",
       "  <thead>\n",
       "    <tr style=\"text-align: right;\">\n",
       "      <th></th>\n",
       "      <th>Continent</th>\n",
       "      <th>IATA</th>\n",
       "      <th>Name</th>\n",
       "      <th>City</th>\n",
       "      <th>Summary</th>\n",
       "      <th>Latitude</th>\n",
       "      <th>Longitude</th>\n",
       "    </tr>\n",
       "  </thead>\n",
       "  <tbody>\n",
       "    <tr>\n",
       "      <th>0</th>\n",
       "      <td>North America</td>\n",
       "      <td>ATL</td>\n",
       "      <td>Hartsfield Jackson Atlanta International Airport</td>\n",
       "      <td>Atlanta</td>\n",
       "      <td>1826.0</td>\n",
       "      <td>33.636700</td>\n",
       "      <td>-84.428101</td>\n",
       "    </tr>\n",
       "    <tr>\n",
       "      <th>1</th>\n",
       "      <td>North America</td>\n",
       "      <td>ORD</td>\n",
       "      <td>Chicago O'Hare International Airport</td>\n",
       "      <td>Chicago</td>\n",
       "      <td>1108.0</td>\n",
       "      <td>41.978600</td>\n",
       "      <td>-87.904800</td>\n",
       "    </tr>\n",
       "    <tr>\n",
       "      <th>2</th>\n",
       "      <td>North America</td>\n",
       "      <td>LAX</td>\n",
       "      <td>Los Angeles International Airport</td>\n",
       "      <td>Los Angeles</td>\n",
       "      <td>990.0</td>\n",
       "      <td>33.942501</td>\n",
       "      <td>-118.407997</td>\n",
       "    </tr>\n",
       "    <tr>\n",
       "      <th>3</th>\n",
       "      <td>North America</td>\n",
       "      <td>DFW</td>\n",
       "      <td>Dallas Fort Worth International Airport</td>\n",
       "      <td>Dallas-Fort Worth</td>\n",
       "      <td>936.0</td>\n",
       "      <td>32.896801</td>\n",
       "      <td>-97.038002</td>\n",
       "    </tr>\n",
       "    <tr>\n",
       "      <th>4</th>\n",
       "      <td>North America</td>\n",
       "      <td>JFK</td>\n",
       "      <td>John F Kennedy International Airport</td>\n",
       "      <td>New York</td>\n",
       "      <td>911.0</td>\n",
       "      <td>40.639801</td>\n",
       "      <td>-73.778900</td>\n",
       "    </tr>\n",
       "  </tbody>\n",
       "</table>\n",
       "</div>"
      ],
      "text/plain": [
       "       Continent IATA                                              Name  \\\n",
       "0  North America  ATL  Hartsfield Jackson Atlanta International Airport   \n",
       "1  North America  ORD              Chicago O'Hare International Airport   \n",
       "2  North America  LAX                 Los Angeles International Airport   \n",
       "3  North America  DFW           Dallas Fort Worth International Airport   \n",
       "4  North America  JFK              John F Kennedy International Airport   \n",
       "\n",
       "                City  Summary   Latitude   Longitude  \n",
       "0            Atlanta   1826.0  33.636700  -84.428101  \n",
       "1            Chicago   1108.0  41.978600  -87.904800  \n",
       "2        Los Angeles    990.0  33.942501 -118.407997  \n",
       "3  Dallas-Fort Worth    936.0  32.896801  -97.038002  \n",
       "4           New York    911.0  40.639801  -73.778900  "
      ]
     },
     "execution_count": 29,
     "metadata": {},
     "output_type": "execute_result"
    }
   ],
   "source": [
    "source_airports = top_airports[top_airports['Continent']==continent_source].reset_index(drop=True)\n",
    "destination_airports = top_airports[top_airports['Continent']==continent_destin].reset_index(drop=True)\n",
    "source_airports.head()"
   ]
  },
  {
   "cell_type": "code",
   "execution_count": null,
   "id": "cfcd736d",
   "metadata": {},
   "outputs": [],
   "source": []
  },
  {
   "cell_type": "code",
   "execution_count": 30,
   "id": "60c50728",
   "metadata": {},
   "outputs": [
    {
     "data": {
      "text/html": [
       "<div>\n",
       "<style scoped>\n",
       "    .dataframe tbody tr th:only-of-type {\n",
       "        vertical-align: middle;\n",
       "    }\n",
       "\n",
       "    .dataframe tbody tr th {\n",
       "        vertical-align: top;\n",
       "    }\n",
       "\n",
       "    .dataframe thead th {\n",
       "        text-align: right;\n",
       "    }\n",
       "</style>\n",
       "<table border=\"1\" class=\"dataframe\">\n",
       "  <thead>\n",
       "    <tr style=\"text-align: right;\">\n",
       "      <th></th>\n",
       "      <th>Continent</th>\n",
       "      <th>IATA</th>\n",
       "      <th>Name</th>\n",
       "      <th>City</th>\n",
       "      <th>Summary</th>\n",
       "      <th>Latitude</th>\n",
       "      <th>Longitude</th>\n",
       "    </tr>\n",
       "  </thead>\n",
       "  <tbody>\n",
       "    <tr>\n",
       "      <th>0</th>\n",
       "      <td>Asia</td>\n",
       "      <td>PEK</td>\n",
       "      <td>Beijing Capital International Airport</td>\n",
       "      <td>Beijing</td>\n",
       "      <td>1069.0</td>\n",
       "      <td>40.080101</td>\n",
       "      <td>116.584999</td>\n",
       "    </tr>\n",
       "    <tr>\n",
       "      <th>1</th>\n",
       "      <td>Asia</td>\n",
       "      <td>PVG</td>\n",
       "      <td>Shanghai Pudong International Airport</td>\n",
       "      <td>Shanghai</td>\n",
       "      <td>825.0</td>\n",
       "      <td>31.143400</td>\n",
       "      <td>121.805000</td>\n",
       "    </tr>\n",
       "    <tr>\n",
       "      <th>2</th>\n",
       "      <td>Asia</td>\n",
       "      <td>SIN</td>\n",
       "      <td>Singapore Changi Airport</td>\n",
       "      <td>Singapore</td>\n",
       "      <td>820.0</td>\n",
       "      <td>1.350190</td>\n",
       "      <td>103.994003</td>\n",
       "    </tr>\n",
       "    <tr>\n",
       "      <th>3</th>\n",
       "      <td>Asia</td>\n",
       "      <td>ICN</td>\n",
       "      <td>Incheon International Airport</td>\n",
       "      <td>Seoul</td>\n",
       "      <td>740.0</td>\n",
       "      <td>37.469101</td>\n",
       "      <td>126.450996</td>\n",
       "    </tr>\n",
       "    <tr>\n",
       "      <th>4</th>\n",
       "      <td>Asia</td>\n",
       "      <td>IST</td>\n",
       "      <td>Istanbul Airport</td>\n",
       "      <td>Istanbul</td>\n",
       "      <td>719.0</td>\n",
       "      <td>41.275278</td>\n",
       "      <td>28.751944</td>\n",
       "    </tr>\n",
       "  </tbody>\n",
       "</table>\n",
       "</div>"
      ],
      "text/plain": [
       "  Continent IATA                                   Name       City  Summary  \\\n",
       "0      Asia  PEK  Beijing Capital International Airport    Beijing   1069.0   \n",
       "1      Asia  PVG  Shanghai Pudong International Airport   Shanghai    825.0   \n",
       "2      Asia  SIN               Singapore Changi Airport  Singapore    820.0   \n",
       "3      Asia  ICN          Incheon International Airport      Seoul    740.0   \n",
       "4      Asia  IST                       Istanbul Airport   Istanbul    719.0   \n",
       "\n",
       "    Latitude   Longitude  \n",
       "0  40.080101  116.584999  \n",
       "1  31.143400  121.805000  \n",
       "2   1.350190  103.994003  \n",
       "3  37.469101  126.450996  \n",
       "4  41.275278   28.751944  "
      ]
     },
     "execution_count": 30,
     "metadata": {},
     "output_type": "execute_result"
    }
   ],
   "source": [
    "destination_airports.head()"
   ]
  },
  {
   "cell_type": "markdown",
   "id": "57c134ed",
   "metadata": {},
   "source": [
    "### Подсчет полетов между аэропортами"
   ]
  },
  {
   "cell_type": "code",
   "execution_count": 31,
   "id": "d9c05fef",
   "metadata": {},
   "outputs": [
    {
     "data": {
      "text/html": [
       "<div>\n",
       "<style scoped>\n",
       "    .dataframe tbody tr th:only-of-type {\n",
       "        vertical-align: middle;\n",
       "    }\n",
       "\n",
       "    .dataframe tbody tr th {\n",
       "        vertical-align: top;\n",
       "    }\n",
       "\n",
       "    .dataframe thead th {\n",
       "        text-align: right;\n",
       "    }\n",
       "</style>\n",
       "<table border=\"1\" class=\"dataframe\">\n",
       "  <thead>\n",
       "    <tr style=\"text-align: right;\">\n",
       "      <th></th>\n",
       "      <th>Destination airport</th>\n",
       "      <th>Source airport</th>\n",
       "      <th>Number of flights</th>\n",
       "    </tr>\n",
       "  </thead>\n",
       "  <tbody>\n",
       "    <tr>\n",
       "      <th>0</th>\n",
       "      <td>DXB</td>\n",
       "      <td>ATL</td>\n",
       "      <td>1</td>\n",
       "    </tr>\n",
       "    <tr>\n",
       "      <th>1</th>\n",
       "      <td>DXB</td>\n",
       "      <td>DFW</td>\n",
       "      <td>2</td>\n",
       "    </tr>\n",
       "    <tr>\n",
       "      <th>2</th>\n",
       "      <td>DXB</td>\n",
       "      <td>JFK</td>\n",
       "      <td>2</td>\n",
       "    </tr>\n",
       "    <tr>\n",
       "      <th>3</th>\n",
       "      <td>DXB</td>\n",
       "      <td>LAX</td>\n",
       "      <td>2</td>\n",
       "    </tr>\n",
       "    <tr>\n",
       "      <th>4</th>\n",
       "      <td>ICN</td>\n",
       "      <td>ATL</td>\n",
       "      <td>2</td>\n",
       "    </tr>\n",
       "    <tr>\n",
       "      <th>5</th>\n",
       "      <td>ICN</td>\n",
       "      <td>DFW</td>\n",
       "      <td>4</td>\n",
       "    </tr>\n",
       "    <tr>\n",
       "      <th>6</th>\n",
       "      <td>ICN</td>\n",
       "      <td>JFK</td>\n",
       "      <td>4</td>\n",
       "    </tr>\n",
       "    <tr>\n",
       "      <th>7</th>\n",
       "      <td>ICN</td>\n",
       "      <td>LAX</td>\n",
       "      <td>5</td>\n",
       "    </tr>\n",
       "    <tr>\n",
       "      <th>8</th>\n",
       "      <td>ICN</td>\n",
       "      <td>ORD</td>\n",
       "      <td>3</td>\n",
       "    </tr>\n",
       "    <tr>\n",
       "      <th>9</th>\n",
       "      <td>IST</td>\n",
       "      <td>JFK</td>\n",
       "      <td>2</td>\n",
       "    </tr>\n",
       "    <tr>\n",
       "      <th>10</th>\n",
       "      <td>IST</td>\n",
       "      <td>LAX</td>\n",
       "      <td>2</td>\n",
       "    </tr>\n",
       "    <tr>\n",
       "      <th>11</th>\n",
       "      <td>IST</td>\n",
       "      <td>ORD</td>\n",
       "      <td>2</td>\n",
       "    </tr>\n",
       "    <tr>\n",
       "      <th>12</th>\n",
       "      <td>PEK</td>\n",
       "      <td>JFK</td>\n",
       "      <td>3</td>\n",
       "    </tr>\n",
       "    <tr>\n",
       "      <th>13</th>\n",
       "      <td>PEK</td>\n",
       "      <td>LAX</td>\n",
       "      <td>3</td>\n",
       "    </tr>\n",
       "    <tr>\n",
       "      <th>14</th>\n",
       "      <td>PEK</td>\n",
       "      <td>ORD</td>\n",
       "      <td>5</td>\n",
       "    </tr>\n",
       "    <tr>\n",
       "      <th>15</th>\n",
       "      <td>PVG</td>\n",
       "      <td>JFK</td>\n",
       "      <td>2</td>\n",
       "    </tr>\n",
       "    <tr>\n",
       "      <th>16</th>\n",
       "      <td>PVG</td>\n",
       "      <td>LAX</td>\n",
       "      <td>7</td>\n",
       "    </tr>\n",
       "    <tr>\n",
       "      <th>17</th>\n",
       "      <td>PVG</td>\n",
       "      <td>ORD</td>\n",
       "      <td>5</td>\n",
       "    </tr>\n",
       "  </tbody>\n",
       "</table>\n",
       "</div>"
      ],
      "text/plain": [
       "   Destination airport Source airport  Number of flights\n",
       "0                  DXB            ATL                  1\n",
       "1                  DXB            DFW                  2\n",
       "2                  DXB            JFK                  2\n",
       "3                  DXB            LAX                  2\n",
       "4                  ICN            ATL                  2\n",
       "5                  ICN            DFW                  4\n",
       "6                  ICN            JFK                  4\n",
       "7                  ICN            LAX                  5\n",
       "8                  ICN            ORD                  3\n",
       "9                  IST            JFK                  2\n",
       "10                 IST            LAX                  2\n",
       "11                 IST            ORD                  2\n",
       "12                 PEK            JFK                  3\n",
       "13                 PEK            LAX                  3\n",
       "14                 PEK            ORD                  5\n",
       "15                 PVG            JFK                  2\n",
       "16                 PVG            LAX                  7\n",
       "17                 PVG            ORD                  5"
      ]
     },
     "execution_count": 31,
     "metadata": {},
     "output_type": "execute_result"
    }
   ],
   "source": [
    "df_source_destination = routes[routes['Source airport'].isin(airports_cont_source) &  \n",
    "                               routes['Destination airport'].isin(airports_cont_destin)] \n",
    "df_source_destination = df_source_destination.copy()\n",
    "top_n_tablo = df_source_destination[['Destination airport', 'Source airport', 'Source airport ID']].groupby(['Destination airport', 'Source airport']).count().reset_index()\n",
    "top_n_tablo.rename(columns = {'Source airport ID' : 'Number of flights'}, inplace=True)\n",
    "top_n_tablo\n"
   ]
  },
  {
   "cell_type": "markdown",
   "id": "5bef9f36",
   "metadata": {},
   "source": [
    "### Подготовка данных для визуализации: списки с координатами, городами"
   ]
  },
  {
   "cell_type": "code",
   "execution_count": 32,
   "id": "ec86ee1c",
   "metadata": {},
   "outputs": [],
   "source": [
    "lat_source = []\n",
    "lon_source = []\n",
    "city_source = []\n",
    "lat_destin = []\n",
    "lon_destin = []\n",
    "city_destin = []\n",
    "\n",
    "for i in airports_cont_source:\n",
    "    lat = float(iata[iata['IATA'] == i].Latitude)\n",
    "    lon = float(iata[iata['IATA'] == i].Longitude)\n",
    "    city = iata[iata['IATA'] == i].City\n",
    "    lat_source.append(lat)\n",
    "    lon_source.append(lon)\n",
    "    city_source.append(city)\n",
    "    \n",
    "for i in airports_cont_destin:\n",
    "    lat = float(iata[iata['IATA'] == i].Latitude)\n",
    "    lon = float(iata[iata['IATA'] == i].Longitude)\n",
    "    city = iata[iata['IATA'] == i].City\n",
    "    lat_destin.append(lat)\n",
    "    lon_destin.append(lon)\n",
    "    city_destin.append(city) \n",
    "    \n",
    "city_source = [item for sublist in city_source for item in sublist]\n",
    "city_destin = [item for sublist in city_destin for item in sublist]"
   ]
  },
  {
   "cell_type": "markdown",
   "id": "2e68b4f6",
   "metadata": {},
   "source": [
    "### Функции для корректного отображения кратчайшего пути между аэропортами на географической карте, источник: https://community.plotly.com/t/prevent-lines-in-scattergeo-plot-to-be-drawn-over-pacific/59196"
   ]
  },
  {
   "cell_type": "code",
   "execution_count": 33,
   "id": "b8814a87",
   "metadata": {},
   "outputs": [],
   "source": [
    "from numpy import pi, sin, cos\n",
    "\n",
    "def point_sphere(lon, lat):\n",
    "    #associate the cartesian coords (x, y, z) to a point on the  globe of given lon and lat\n",
    "    #lon longitude\n",
    "    #lat latitude\n",
    "    lon = lon*pi/180\n",
    "    lat = lat*pi/180\n",
    "    x = cos(lon) * cos(lat) \n",
    "    y = sin(lon) * cos(lat) \n",
    "    z = sin(lat) \n",
    "    return np.array([x, y, z])\n",
    "\n",
    "def slerp(A=[100, 45], B=[-50, -25], dir=-1, n=100):\n",
    "    #Spherical \"linear\" interpolation\n",
    "    \"\"\"\n",
    "    A=[lonA, latA] lon lat given in degrees; lon in  (-180, 180], lat in ([-90, 90])\n",
    "    B=[lonB, latB]\n",
    "    returns n points on the great circle of the globe that passes through the  points A, B\n",
    "    #represented by lon and lat\n",
    "    #if dir=1 it returns the shortest path; for dir=-1 the complement of the shortest path\n",
    "    \"\"\"\n",
    "    As = point_sphere(A[0], A[1])\n",
    "    Bs = point_sphere(B[0], B[1])\n",
    "    alpha = np.arccos(np.dot(As,Bs)) if dir==1 else  2*pi-np.arccos(np.dot(As,Bs))\n",
    "    if abs(alpha) < 1e-6 or abs(alpha-2*pi)<1e-6:\n",
    "        return A\n",
    "    else:\n",
    "        t = np.linspace(0, 1, n)\n",
    "        P = sin((1 - t)*alpha) \n",
    "        Q = sin(t*alpha)\n",
    "        #pts records the cartesian coordinates of the points on the chosen path\n",
    "        pts =  np.array([a*As + b*Bs for (a, b) in zip(P,Q)])/sin(alpha)\n",
    "        #convert cartesian coords to lons and lats to be recognized by go.Scattergeo\n",
    "        lons = 180*np.arctan2(pts[:, 1], pts[:, 0])/pi\n",
    "        lats = 180*np.arctan(pts[:, 2]/np.sqrt(pts[:, 0]**2+pts[:,1]**2))/pi\n",
    "        return lons, lats"
   ]
  },
  {
   "cell_type": "markdown",
   "id": "6609cba7",
   "metadata": {},
   "source": [
    "## Визуализация данных на геграфической карте"
   ]
  },
  {
   "cell_type": "code",
   "execution_count": 34,
   "id": "b0d81428",
   "metadata": {},
   "outputs": [
    {
     "name": "stdout",
     "output_type": "stream",
     "text": [
      "Прямых рейсов в аэропорт SIN из топ 6 аэропортов континента North America нет\n",
      "Прямых рейсов в аэропорт PEK из аэропорта ATL нет\n",
      "Прямых рейсов в аэропорт PVG из аэропорта ATL нет\n",
      "Прямых рейсов в аэропорт IST из аэропорта ATL нет\n",
      "Прямых рейсов в аэропорт DXB из аэропорта ORD нет\n",
      "Прямых рейсов в аэропорт PEK из аэропорта DFW нет\n",
      "Прямых рейсов в аэропорт PVG из аэропорта DFW нет\n",
      "Прямых рейсов в аэропорт IST из аэропорта DFW нет\n",
      "Прямых рейсов в аэропорт PEK из аэропорта DEN нет\n",
      "Прямых рейсов в аэропорт PVG из аэропорта DEN нет\n",
      "Прямых рейсов в аэропорт ICN из аэропорта DEN нет\n",
      "Прямых рейсов в аэропорт IST из аэропорта DEN нет\n",
      "Прямых рейсов в аэропорт DXB из аэропорта DEN нет\n"
     ]
    },
    {
     "data": {
      "application/vnd.plotly.v1+json": {
       "config": {
        "plotlyServerURL": "https://plot.ly"
       },
       "data": [
        {
         "hoverinfo": "text",
         "lat": [
          33.6367
         ],
         "line": {
          "color": "rgb(68, 68, 68)",
          "width": 1
         },
         "locationmode": "ISO-3",
         "lon": [
          -84.428101
         ],
         "marker": {
          "color": "rgb(31, 119, 180)",
          "line": {
           "color": "black",
           "width": 3
          },
          "size": 10
         },
         "mode": "markers+text",
         "name": "Atlanta ATL",
         "text": [
          "Atlanta ATL"
         ],
         "textposition": "middle left",
         "type": "scattergeo"
        },
        {
         "hoverinfo": "text",
         "lat": [
          40.0801010131836
         ],
         "line": {
          "color": "rgb(68, 68, 68)",
          "width": 1
         },
         "locationmode": "ISO-3",
         "lon": [
          116.58499908447266
         ],
         "marker": {
          "color": "black",
          "size": 15,
          "symbol": "x"
         },
         "mode": "markers+text",
         "name": "Beijing PEK",
         "text": [
          "Beijing PEK"
         ],
         "textposition": "middle left",
         "type": "scattergeo"
        },
        {
         "hoverinfo": "text",
         "lat": [
          41.9786
         ],
         "line": {
          "color": "rgb(68, 68, 68)",
          "width": 1
         },
         "locationmode": "ISO-3",
         "lon": [
          -87.9048
         ],
         "marker": {
          "color": "rgb(255, 127, 14)",
          "line": {
           "color": "black",
           "width": 3
          },
          "size": 10
         },
         "mode": "markers+text",
         "name": "Chicago ORD",
         "text": [
          "Chicago ORD"
         ],
         "textposition": "middle left",
         "type": "scattergeo"
        },
        {
         "hoverinfo": "text",
         "lat": [
          31.143400192260746
         ],
         "line": {
          "color": "rgb(68, 68, 68)",
          "width": 1
         },
         "locationmode": "ISO-3",
         "lon": [
          121.80500030517578
         ],
         "marker": {
          "color": "black",
          "size": 15,
          "symbol": "x"
         },
         "mode": "markers+text",
         "name": "Shanghai PVG",
         "text": [
          "Shanghai PVG"
         ],
         "textposition": "middle left",
         "type": "scattergeo"
        },
        {
         "hoverinfo": "text",
         "lat": [
          33.94250107
         ],
         "line": {
          "color": "rgb(68, 68, 68)",
          "width": 1
         },
         "locationmode": "ISO-3",
         "lon": [
          -118.4079971
         ],
         "marker": {
          "color": "rgb(44, 160, 44)",
          "line": {
           "color": "black",
           "width": 3
          },
          "size": 10
         },
         "mode": "markers+text",
         "name": "Los Angeles LAX",
         "text": [
          "Los Angeles LAX"
         ],
         "textposition": "middle left",
         "type": "scattergeo"
        },
        {
         "hoverinfo": "text",
         "lat": [
          1.35019
         ],
         "line": {
          "color": "rgb(68, 68, 68)",
          "width": 1
         },
         "locationmode": "ISO-3",
         "lon": [
          103.994003
         ],
         "marker": {
          "color": "black",
          "size": 15,
          "symbol": "x"
         },
         "mode": "markers+text",
         "name": "Singapore SIN",
         "text": [
          "Singapore SIN"
         ],
         "textposition": "middle left",
         "type": "scattergeo"
        },
        {
         "hoverinfo": "text",
         "lat": [
          32.896801
         ],
         "line": {
          "color": "rgb(68, 68, 68)",
          "width": 1
         },
         "locationmode": "ISO-3",
         "lon": [
          -97.038002
         ],
         "marker": {
          "color": "rgb(214, 39, 40)",
          "line": {
           "color": "black",
           "width": 3
          },
          "size": 10
         },
         "mode": "markers+text",
         "name": "Dallas-Fort Worth DFW",
         "text": [
          "Dallas-Fort Worth DFW"
         ],
         "textposition": "middle left",
         "type": "scattergeo"
        },
        {
         "hoverinfo": "text",
         "lat": [
          37.46910095214844
         ],
         "line": {
          "color": "rgb(68, 68, 68)",
          "width": 1
         },
         "locationmode": "ISO-3",
         "lon": [
          126.45099639892578
         ],
         "marker": {
          "color": "black",
          "size": 15,
          "symbol": "x"
         },
         "mode": "markers+text",
         "name": "Seoul ICN",
         "text": [
          "Seoul ICN"
         ],
         "textposition": "middle left",
         "type": "scattergeo"
        },
        {
         "hoverinfo": "text",
         "lat": [
          40.63980103
         ],
         "line": {
          "color": "rgb(68, 68, 68)",
          "width": 1
         },
         "locationmode": "ISO-3",
         "lon": [
          -73.77890015
         ],
         "marker": {
          "color": "rgb(148, 103, 189)",
          "line": {
           "color": "black",
           "width": 3
          },
          "size": 10
         },
         "mode": "markers+text",
         "name": "New York JFK",
         "text": [
          "New York JFK"
         ],
         "textposition": "middle left",
         "type": "scattergeo"
        },
        {
         "hoverinfo": "text",
         "lat": [
          41.275278
         ],
         "line": {
          "color": "rgb(68, 68, 68)",
          "width": 1
         },
         "locationmode": "ISO-3",
         "lon": [
          28.751944
         ],
         "marker": {
          "color": "black",
          "size": 15,
          "symbol": "x"
         },
         "mode": "markers+text",
         "name": "Istanbul IST",
         "text": [
          "Istanbul IST"
         ],
         "textposition": "middle left",
         "type": "scattergeo"
        },
        {
         "hoverinfo": "text",
         "lat": [
          39.861698150635
         ],
         "line": {
          "color": "rgb(68, 68, 68)",
          "width": 1
         },
         "locationmode": "ISO-3",
         "lon": [
          -104.672996521
         ],
         "marker": {
          "color": "rgb(140, 86, 75)",
          "line": {
           "color": "black",
           "width": 3
          },
          "size": 10
         },
         "mode": "markers+text",
         "name": "Denver DEN",
         "text": [
          "Denver DEN"
         ],
         "textposition": "middle left",
         "type": "scattergeo"
        },
        {
         "hoverinfo": "text",
         "lat": [
          25.2527999878
         ],
         "line": {
          "color": "rgb(68, 68, 68)",
          "width": 1
         },
         "locationmode": "ISO-3",
         "lon": [
          55.3643989563
         ],
         "marker": {
          "color": "black",
          "size": 15,
          "symbol": "x"
         },
         "mode": "markers+text",
         "name": "Dubai DXB",
         "text": [
          "Dubai DXB"
         ],
         "textposition": "middle left",
         "type": "scattergeo"
        },
        {
         "hoverinfo": "text",
         "lat": [
          37.46910095214844
         ],
         "line": {
          "color": "rgb(68, 68, 68)",
          "width": 1
         },
         "locationmode": "ISO-3",
         "lon": [
          125.45099639892578
         ],
         "marker": {
          "color": "rgb(31, 119, 180)",
          "size": 20
         },
         "mode": "markers",
         "name": "Seoul ICN",
         "opacity": 0.7,
         "showlegend": false,
         "text": [
          "Количество рейсов из ATL в ICN: 2"
         ],
         "textposition": "middle left",
         "type": "scattergeo"
        },
        {
         "lat": [
          33.6367,
          34.583255474826316,
          35.527462694563795,
          36.46918097249268,
          37.40826047848237,
          38.344541459504974,
          39.27785338693051,
          40.20801402303497,
          41.134828398376975,
          42.058087690859374,
          42.97756799638696,
          43.89302898006774,
          44.8042123958859,
          45.710840461716955,
          46.61261407547649,
          47.509210857124735,
          48.40028300023378,
          49.28545491592163,
          50.16432065125315,
          51.03644106381286,
          51.901340734222956,
          52.758504599106985,
          53.6073742886502,
          54.44734415581206,
          55.27775698883648,
          56.0978994055123,
          56.90699693732814,
          57.70420882504386,
          58.4886225652239,
          59.2592482710464,
          60.015012941436694,
          60.7547547715478,
          61.477217686030535,
          62.18104633534075,
          62.864781864888165,
          63.52685884649179,
          64.16560384911728,
          64.77923621663075,
          65.36587170652572,
          65.9235297134827,
          66.4501448388815,
          66.94358355121601,
          67.4016665887041,
          67.82219755977694,
          68.20299787960555,
          68.54194773289038,
          68.83703218599383,
          69.08639092356061,
          69.28836942559239,
          69.4415688279781,
          69.54489133517525,
          69.59757798298769,
          69.59923585148347,
          69.54985251125608,
          69.44979648441085,
          69.29980368092093,
          69.10095095619522,
          68.85461895031652,
          68.56244707582233,
          68.2262838482448,
          67.8481357055079,
          67.4301171047231,
          66.97440412138276,
          66.48319311915986,
          65.95866540741083,
          65.40295822959848,
          64.8181419695861,
          64.20620313685538,
          63.56903248870356,
          62.908417547926895,
          62.22603875405223,
          61.52346852064769,
          60.802172539572844,
          60.06351275859735,
          59.30875154955649,
          58.539056672102504,
          57.755506718370974,
          56.959096794126054,
          56.15074425144977,
          55.33129433710889,
          54.501525660285814,
          53.66215541459008,
          52.81384431344987,
          51.957201216343776,
          51.09278743698229,
          50.22112073445234,
          49.34267899531231,
          48.45790361933944,
          47.56720262463335,
          46.67095348949824,
          45.7695057493066,
          44.86318336665037,
          43.952286892716245,
          43.03709543713346,
          42.117868462650115,
          41.19484741998402,
          40.26825723712625,
          39.33830767629729,
          38.405194570694476,
          37.46910095214844
         ],
         "line": {
          "color": "rgb(31, 119, 180)",
          "width": 2
         },
         "locationmode": "ISO-3",
         "lon": [
          -84.428101,
          -84.95860603292428,
          -85.50132038531922,
          -86.05694241460313,
          -86.62621192148397,
          -87.20991327680613,
          -87.80887878290469,
          -88.42399228441391,
          -89.05619304319846,
          -89.70647989134363,
          -90.37591567480234,
          -91.06563199815963,
          -91.77683427779469,
          -92.51080710619321,
          -93.26891992390313,
          -94.05263298716051,
          -94.86350360794641,
          -95.70319262844832,
          -96.57347107270138,
          -97.47622689350695,
          -98.41347170128532,
          -99.38734732180295,
          -100.4001319799678,
          -101.45424584511734,
          -102.55225559725012,
          -103.69687758117583,
          -104.89097900435064,
          -106.13757650232317,
          -107.43983124211876,
          -108.80103955884276,
          -110.22461792696512,
          -111.71408086149997,
          -113.27301013732819,
          -114.90501352640595,
          -116.6136711116443,
          -118.40246718428484,
          -120.27470582443057,
          -122.23340857269342,
          -124.28119320790701,
          -126.42013364018206,
          -128.65160239026804,
          -130.97609910369684,
          -133.39307102626853,
          -135.90073422833424,
          -138.495907351051,
          -141.17387233739205,
          -143.92827843182403,
          -146.75110602709097,
          -149.63270509132417,
          -152.5619185407773,
          -155.52629407838293,
          -158.51237931050565,
          -161.50608557093466,
          -164.49309739897197,
          -167.45929864946342,
          -170.391183976068,
          -173.2762263976892,
          -176.10317741526578,
          -178.8622845121509,
          178.4545797534822,
          175.8538740625222,
          173.34042006227014,
          170.9174949787876,
          168.58696858485544,
          166.3494681670143,
          164.20455687753247,
          162.15091350916734,
          160.18650471164983,
          158.30874354733277,
          156.51463079126776,
          154.80087739232522,
          153.16400800615983,
          151.60044653324834,
          150.10658522466406,
          148.6788392432991,
          147.31368867276393,
          146.0077099217741,
          144.75759833524637,
          143.5601836369049,
          142.41243962175417,
          141.31148931005617,
          140.25460657958487,
          139.2392151165513,
          138.2628853705753,
          137.32333006584895,
          136.41839870814093,
          135.54607143366675,
          134.7044524688744,
          133.89176340757254,
          133.10633646136455,
          132.34660779903948,
          131.61111105864313,
          130.89847109087546,
          130.20739797294306,
          129.53668131694909,
          128.88518488543366,
          128.25184151804768,
          127.63564836695677,
          127.03566243394455,
          126.45099639892578
         ],
         "marker": {
          "color": "rgb(31, 119, 180)",
          "size": 8,
          "symbol": "triangle-right"
         },
         "mode": "markers+lines",
         "name": "ATL-ICN",
         "textposition": "middle left",
         "type": "scattergeo"
        },
        {
         "hoverinfo": "text",
         "lat": [
          25.2527999878
         ],
         "line": {
          "color": "rgb(68, 68, 68)",
          "width": 1
         },
         "locationmode": "ISO-3",
         "lon": [
          54.8643989563
         ],
         "marker": {
          "color": "rgb(31, 119, 180)",
          "size": 15
         },
         "mode": "markers",
         "name": "Dubai DXB",
         "opacity": 0.7,
         "showlegend": false,
         "text": [
          "Количество рейсов из ATL в DXB: 1"
         ],
         "textposition": "middle left",
         "type": "scattergeo"
        },
        {
         "lat": [
          33.6367,
          34.503619107008305,
          35.3647363268016,
          36.219735777501214,
          37.0682846112571,
          37.91003197888283,
          38.74460795030929,
          39.571622393058654,
          40.39066381211325,
          41.20129815597365,
          42.00306759540326,
          42.79548928338037,
          43.578054107164114,
          44.35022544616537,
          45.11143795253613,
          45.861096375079626,
          46.59857445126054,
          47.3232138967646,
          48.03432352720418,
          48.731178552140776,
          49.41302008751207,
          50.07905493866872,
          50.728455712341436,
          51.36036132169321,
          51.97387795379705,
          52.56808057295331,
          53.14201503566049,
          53.69470089312159,
          54.22513495417136,
          54.732295674666894,
          55.21514842792475,
          55.67265169401415,
          56.10376418311344,
          56.50745287946897,
          56.882701957941485,
          57.22852248539227,
          57.54396277558569,
          57.82811922088223,
          58.08014737944587,
          58.299273056221644,
          58.484803083121136,
          58.63613548227146,
          58.752768689048004,
          58.83430952132547,
          58.880479609141304,
          58.891120044449316,
          58.866194071885594,
          58.80578771492319,
          58.7101083126289,
          58.57948102482326,
          58.41434344196023,
          58.21523850510947,
          57.982805996677946,
          57.71777290101406,
          57.42094295449505,
          57.093185707423956,
          56.73542540677902,
          56.34862998234575,
          55.933800382432295,
          55.491960462844794,
          55.024147587545876,
          54.53140405446457,
          54.014769417691156,
          53.47527373951362,
          52.91393177351166,
          52.33173805369657,
          51.729662844471726,
          51.10864889162483,
          50.46960890504743,
          49.813423698675,
          49.140940911466814,
          48.45297423433487,
          47.75030307107693,
          47.033672565951164,
          46.303793936026445,
          45.56134505242813,
          44.8069712207449,
          44.041286116919096,
          43.26487284073643,
          42.47828505444116,
          41.68204817896253,
          40.87666062471056,
          40.06259503787875,
          39.240299546689364,
          38.41019899505962,
          37.5726961537863,
          36.72817290158254,
          35.87699137018952,
          35.019495049371585,
          34.15600984891859,
          33.2868451158637,
          32.41229460600761,
          31.53263740955221,
          30.648138831213057,
          29.759051225624493,
          28.865614789192545,
          27.968058309807567,
          27.06659987601513,
          26.16144754737247,
          25.2527999878
         ],
         "line": {
          "color": "rgb(31, 119, 180)",
          "width": 2
         },
         "locationmode": "ISO-3",
         "lon": [
          -84.428101,
          -83.59294256143257,
          -82.74028828304552,
          -81.86931289597844,
          -80.97916112496237,
          -80.06894729678251,
          -79.13775515177798,
          -78.18463790274856,
          -77.2086185923016,
          -76.20869080698796,
          -75.18381981451584,
          -74.13294419883098,
          -73.05497807679204,
          -71.94881398937088,
          -70.81332656949779,
          -69.64737709748306,
          -68.44981906287443,
          -67.21950485800657,
          -65.95529373253486,
          -64.65606113889987,
          -63.32070959471328,
          -61.94818117804924,
          -60.537471753942675,
          -59.08764700326131,
          -57.59786028670132,
          -56.06737232518857,
          -54.49557261194119,
          -52.882002389853795,
          -51.22637893050534,
          -49.528620738946046,
          -47.78887318402089,
          -46.007533921806406,
          -44.18527734645951,
          -42.32307717745071,
          -40.42222618604367,
          -38.48435199001581,
          -36.511427817862966,
          -34.50577717548112,
          -32.47007145072544,
          -30.407319671263906,
          -28.32084988956254,
          -26.21428199871791,
          -24.091492168668125,
          -21.95656951025553,
          -19.813765994138045,
          -17.66744103825339,
          -15.5220024970256,
          -13.381846007676135,
          -11.251294752141066,
          -9.134541666903353,
          -7.035595980160125,
          -4.958235691309805,
          -2.9059672572990944,
          -0.8819933462466503,
          1.1108109041210186,
          3.0699130940660297,
          4.993130572071588,
          6.878629886859706,
          8.72491954763668,
          10.530837107362942,
          12.295531656746963,
          14.018442822999882,
          15.699277319436515,
          17.337984003543088,
          18.9347282858191,
          20.489866601944286,
          22.003921527029924,
          23.477557980985903,
          24.911560854138706,
          26.306814275820884,
          27.664282657585368,
          28.98499356743282,
          30.27002243142026,
          31.520479012993512,
          32.73749558672285,
          33.92221670000226,
          35.07579040188083,
          36.199360810804826,
          37.29406189110618,
          38.361012310222364,
          39.40131125372877,
          40.41603508236449,
          41.40623472358614,
          42.372933699199365,
          43.31712669985095,
          44.23977862628769,
          45.14182402606918,
          46.02416686270755,
          46.88768056190182,
          47.733208286589374,
          48.56156339893737,
          49.37353007314877,
          50.169864028090316,
          50.95129335329555,
          51.718519405900935,
          52.472217759580175,
          53.21303918960132,
          53.94161068078479,
          54.658536447435736,
          55.3643989563
         ],
         "marker": {
          "color": "rgb(31, 119, 180)",
          "size": 8,
          "symbol": "triangle-right"
         },
         "mode": "markers+lines",
         "name": "ATL-DXB",
         "textposition": "middle left",
         "type": "scattergeo"
        },
        {
         "hoverinfo": "text",
         "lat": [
          40.0801010131836
         ],
         "line": {
          "color": "rgb(68, 68, 68)",
          "width": 1
         },
         "locationmode": "ISO-3",
         "lon": [
          116.58499908447266
         ],
         "marker": {
          "color": "rgb(255, 127, 14)",
          "size": 35
         },
         "mode": "markers",
         "name": "Beijing PEK",
         "opacity": 0.7,
         "showlegend": false,
         "text": [
          "Количество рейсов из ORD в PEK: 5"
         ],
         "textposition": "middle left",
         "type": "scattergeo"
        },
        {
         "lat": [
          41.9786,
          42.887419290845706,
          43.794680576054816,
          44.70028482546877,
          45.60412529355736,
          46.50608675274959,
          47.4060446374946,
          48.30386408715128,
          49.19939887405593,
          50.09249020109502,
          50.98296535077118,
          51.870636165049035,
          52.75529733214565,
          53.63672445283211,
          54.51467185466998,
          55.388870117852534,
          56.2590232708872,
          57.12480560817814,
          57.98585807459804,
          58.84178415435255,
          59.69214519286638,
          60.53645507115904,
          61.37417414246468,
          62.20470233110082,
          63.027371284520136,
          63.84143546221818,
          64.64606204146693,
          65.44031952231862,
          66.22316492680255,
          66.99342951520434,
          67.74980299341496,
          68.49081626997622,
          69.21482295330598,
          69.91997997587849,
          70.6042280131786,
          71.26527275263788,
          71.90056858005204,
          72.5073068954334,
          73.08241202897969,
          73.62254853740063,
          74.12414438660139,
          74.58343493846436,
          74.99653242325823,
          75.35952429056609,
          75.66860111990971,
          75.92021049195557,
          76.11122769888439,
          76.23912839921356,
          76.30214391344252,
          76.2993786291537,
          76.23087219084394,
          76.09759670786418,
          75.90138942743395,
          75.64483140885096,
          75.33108997201813,
          74.9637455087758,
          74.54662168912624,
          74.08363349961304,
          73.5786617438292,
          73.03545718870964,
          72.45757338722274,
          71.84832462605809,
          71.21076426231555,
          70.54767854637427,
          69.8615914776673,
          69.15477698026858,
          68.42927549449976,
          67.68691283154999,
          66.92931977168782,
          66.15795138794755,
          65.37410545484055,
          64.57893957474434,
          63.77348684476212,
          62.95867001412941,
          62.1353141635902,
          61.304157986967,
          60.465863781554056,
          59.62102626541921,
          58.770180341527855,
          57.91380792451396,
          57.052343938454,
          56.18618158483403,
          55.315676970132465,
          54.44115317275139,
          53.56290381981968,
          52.68119623588021,
          51.79627421775606,
          50.90836048298834,
          50.017658833126134,
          49.12435606777387,
          48.228623680602915,
          47.330619364438775,
          46.430488348979544,
          45.52836459161744,
          44.62437183916539,
          43.71862457598066,
          42.81122887197944,
          41.902283142307915,
          40.991878828940905,
          40.0801010131836
         ],
         "line": {
          "color": "rgb(255, 127, 14)",
          "width": 2
         },
         "locationmode": "ISO-3",
         "lon": [
          -87.9048,
          -88.32172313242793,
          -88.75110536743065,
          -89.19371516441531,
          -89.65037805861012,
          -90.12198198406163,
          -90.60948316132293,
          -91.1139126151943,
          -91.63638339540336,
          -92.17809858130354,
          -92.74036016049932,
          -93.32457888067343,
          -93.93228518362884,
          -94.56514134037369,
          -95.22495491551796,
          -95.91369369762377,
          -96.63350223843376,
          -97.38672014661084,
          -98.17590227863003,
          -99.00384095776575,
          -99.8735903275068,
          -100.78849290237018,
          -101.7522083089512,
          -102.76874410221775,
          -103.84248838181146,
          -104.97824370087744,
          -106.1812614300382,
          -107.45727527858958,
          -108.81253204258223,
          -110.25381679550449,
          -111.78846860537665,
          -113.42438139416353,
          -115.16998270313998,
          -117.03418087389916,
          -119.02626854965563,
          -121.1557676221352,
          -123.43219818310044,
          -125.86475239336835,
          -128.46185459744265,
          -131.23059313576985,
          -134.17601922023184,
          -137.30032608549598,
          -140.60194876323868,
          -144.07466038731584,
          -147.70678007673814,
          -151.4806400125858,
          -155.3724704933555,
          -159.35283607328083,
          -163.38768497340465,
          -167.43996492779917,
          -171.47163759608563,
          -175.44582902080438,
          -179.328819703979,
          176.90838223634776,
          173.2890429979664,
          169.83031686528426,
          166.54340198774332,
          163.43410120239832,
          160.5036288296649,
          157.74951796296807,
          155.16651641432063,
          152.7473986292906,
          150.48365585822043,
          148.36605321657555,
          146.38505937778493,
          144.53116398416654,
          142.79510159892763,
          141.16800120835947,
          139.6414785228261,
          138.2076857190845,
          136.8593304904386,
          135.58967369109584,
          134.3925126401678,
          133.26215533202293,
          132.19338936208587,
          131.18144827085678,
          130.22197717565604,
          129.31099894340323,
          128.4448817096257,
          127.62030822834024,
          126.83424731214131,
          126.08392746666111,
          125.36681271940509,
          124.680580575454,
          124.02310199100772,
          123.39242323241866,
          122.78674947753667,
          122.20443001377464,
          121.64394489038564,
          121.10389288894669,
          120.58298068454518,
          120.08001307965455,
          119.59388420251281,
          119.12356957153094,
          118.6681189365864,
          118.22664981683518,
          117.7983416628129,
          117.38243057806369,
          116.97820454232877,
          116.58499908447266
         ],
         "marker": {
          "color": "rgb(255, 127, 14)",
          "size": 8,
          "symbol": "triangle-right"
         },
         "mode": "markers+lines",
         "name": "ORD-PEK",
         "textposition": "middle left",
         "type": "scattergeo"
        },
        {
         "hoverinfo": "text",
         "lat": [
          31.143400192260746
         ],
         "line": {
          "color": "rgb(68, 68, 68)",
          "width": 1
         },
         "locationmode": "ISO-3",
         "lon": [
          121.80500030517578
         ],
         "marker": {
          "color": "rgb(255, 127, 14)",
          "size": 35
         },
         "mode": "markers",
         "name": "Shanghai PVG",
         "opacity": 0.7,
         "showlegend": false,
         "text": [
          "Количество рейсов из ORD в PVG: 5"
         ],
         "textposition": "middle left",
         "type": "scattergeo"
        },
        {
         "lat": [
          41.9786,
          42.904796603842534,
          43.82766297249369,
          44.746983590100776,
          45.66252631823565,
          46.574040819411756,
          47.48125681520514,
          48.38388216096162,
          49.2816007173564,
          50.174069997316124,
          51.06091856507404,
          51.941743162486844,
          52.81610553631384,
          53.6835289391118,
          54.54349427595839,
          55.39543586969366,
          56.23873681917756,
          57.07272392874996,
          57.89666219336603,
          58.70974883368203,
          59.51110688985104,
          60.299778403394,
          61.07471724498127,
          61.83478168433182,
          62.57872684898668,
          63.30519728382121,
          64.01271990503709,
          64.6996977426064,
          65.36440498396865,
          66.00498396707361,
          66.61944491671163,
          67.20566936310993,
          67.76141830735216,
          68.2843462769103,
          68.77202240993691,
          69.2219595751141,
          69.63165222896747,
          69.9986231967439,
          70.32047882092499,
          70.59497097795705,
          70.82006339919388,
          70.99399868854405,
          71.11536159944416,
          71.18313372638114,
          71.19673495268498,
          71.1560478513706,
          71.06142269460211,
          70.91366258103031,
          70.71399012863812,
          70.46399887125465,
          70.16559367186738,
          69.82092498592594,
          69.43232168116505,
          69.0022264769943,
          68.53313710382947,
          68.02755520726687,
          67.4879440039321,
          66.9166948466386,
          66.31610222721615,
          65.6883463385671,
          65.03548210452122,
          64.3594335234909,
          63.66199221400714,
          62.944819156339456,
          62.20944876254687,
          61.45729455458353,
          60.68965587169915,
          59.907725155913525,
          59.112595473979695,
          58.30526802518407,
          57.486659457586626,
          56.657608872850226,
          55.818884443982085,
          54.97118960346867,
          54.11516878359144,
          53.25141270806329,
          52.380463246110104,
          51.50281784803941,
          50.618933586226774,
          49.729230828121615,
          48.834096568959175,
          47.93388745183853,
          47.02893250205074,
          46.1195356012795,
          45.20597772574449,
          44.28851897065511,
          43.3674003815855,
          42.44284561164068,
          41.51506242160164,
          40.58424403864183,
          39.65057038771729,
          38.71420920835269,
          37.77531706827947,
          36.834040284228166,
          35.89051575912826,
          34.94487174402295,
          33.997228532151304,
          33.04769909188436,
          32.096389644511895,
          31.143400192260746
         ],
         "line": {
          "color": "rgb(255, 127, 14)",
          "width": 2
         },
         "locationmode": "ISO-3",
         "lon": [
          -87.9048,
          -88.51416454944592,
          -89.14208608203005,
          -89.78969200910647,
          -90.4581876438458,
          -91.14886241728803,
          -91.86309655353348,
          -92.60236821706046,
          -93.36826113752714,
          -94.1624727065793,
          -94.98682252618865,
          -95.84326136768198,
          -96.73388047338747,
          -97.66092109686143,
          -98.62678413068814,
          -99.63403961012173,
          -100.6854358030947,
          -101.78390749856295,
          -102.93258298152544,
          -104.1347890297443,
          -105.39405307958869,
          -106.71410148245184,
          -108.0988525062439,
          -109.55240242884865,
          -111.07900272750135,
          -112.6830260032179,
          -114.36891791817554,
          -116.141132108935,
          -118.00404483505675,
          -119.96184612486113,
          -122.01840451371262,
          -124.17710329195803,
          -126.4406476664687,
          -128.81084456342626,
          -131.28836008141553,
          -133.87246384402886,
          -136.5607744935892,
          -139.3490258098443,
          -142.2308775765337,
          -145.19779818050176,
          -148.2390456828633,
          -151.34176958956303,
          -154.49124622294045,
          -157.6712469561333,
          -160.8645223856284,
          -164.0533696403045,
          -167.22023776305653,
          -170.34832026052538,
          -173.42208590019794,
          -176.4277081613663,
          -179.35336821886153,
          177.8105772249902,
          175.07155673075945,
          172.43485537852942,
          169.90377142343704,
          167.47983101852122,
          165.1630351440874,
          162.95211679402277,
          160.84479153842847,
          158.83798978361955,
          156.92806370984468,
          155.11096563928504,
          153.38239738072934,
          151.73793198361258,
          150.17311046632,
          148.6835166404934,
          147.26483330348333,
          145.91288295699303,
          144.62365594103858,
          143.39332852764957,
          142.21827315157768,
          141.09506259906078,
          140.02046964929636,
          138.99146337567012,
          138.00520306747816,
          137.05903052650544,
          136.15046132289845,
          135.2771754568609,
          134.43700776214538,
          133.62793829965463,
          132.84808292065932,
          132.09568412565625,
          131.3691023037278,
          130.6668074059149,
          129.9873710825211,
          129.32945929674662,
          128.69182541426645,
          128.07330375923692,
          127.47280362088844,
          126.88930369067013,
          126.32184690732471,
          125.76953568588445,
          125.23152750607078,
          124.70703083570795,
          124.19530136533918,
          123.69563853111688,
          123.20738230412202,
          122.72991022546952,
          122.26263466781751,
          121.80500030517578
         ],
         "marker": {
          "color": "rgb(255, 127, 14)",
          "size": 8,
          "symbol": "triangle-right"
         },
         "mode": "markers+lines",
         "name": "ORD-PVG",
         "textposition": "middle left",
         "type": "scattergeo"
        },
        {
         "hoverinfo": "text",
         "lat": [
          37.46910095214844
         ],
         "line": {
          "color": "rgb(68, 68, 68)",
          "width": 1
         },
         "locationmode": "ISO-3",
         "lon": [
          126.45099639892578
         ],
         "marker": {
          "color": "rgb(255, 127, 14)",
          "size": 25
         },
         "mode": "markers",
         "name": "Seoul ICN",
         "opacity": 0.7,
         "showlegend": false,
         "text": [
          "Количество рейсов из ORD в ICN: 3"
         ],
         "textposition": "middle left",
         "type": "scattergeo"
        },
        {
         "lat": [
          41.9786,
          42.830780044085,
          43.6798940689796,
          44.52576031289078,
          45.36818426108749,
          46.20695755353352,
          47.04185679031262,
          47.872642225151054,
          48.69905633660459,
          49.520822265754454,
          50.33764210858169,
          51.149195050603815,
          51.955135330918445,
          52.75509002258357,
          53.54865661637181,
          54.33540039549915,
          55.114851590115705,
          55.88650230236986,
          56.649803195992796,
          57.404159948929596,
          58.14892947398503,
          58.883415921249785,
          59.60686648782191,
          60.318467075712235,
          61.01733785858183,
          61.7025288428997,
          62.37301554001726,
          63.02769490319849,
          63.66538172821885,
          64.28480576765413,
          64.88460986652369,
          65.46334948844002,
          66.01949406309862,
          66.55143064192185,
          67.05747039046616,
          67.53585846254043,
          67.98478777801354,
          68.40241714853205,
          68.7868940476469,
          69.13638209241576,
          69.4490929883193,
          69.72332229670107,
          69.95748793909937,
          70.15016989990863,
          70.30014918896666,
          70.40644384981671,
          70.4683397153861,
          70.48541376917079,
          70.45754838040119,
          70.38493531536926,
          70.26806920984086,
          70.10773101399687,
          69.90496267702831,
          69.66103492382194,
          69.37741032657559,
          69.05570396999974,
          68.69764387322311,
          68.30503301932096,
          67.8797144245073,
          67.42354022302769,
          66.93834530818422,
          66.42592569428578,
          65.88802146948571,
          65.32630400040986,
          64.74236691982935,
          64.1377203654781,
          63.513787925965524,
          62.871905773364716,
          62.21332350818372,
          61.53920630044776,
          60.85063797270494,
          60.14862473157914,
          59.434099310725394,
          58.707925337931535,
          57.97090178198037,
          57.223767370785026,
          56.46720490171769,
          55.70184538867365,
          54.92827200904575,
          54.147023828222,
          53.35859929019877,
          52.56345947108516,
          51.76203109822436,
          50.95470934185729,
          50.14186038909284,
          49.32382381175015,
          48.500914740657755,
          47.67342585943356,
          46.84162923079047,
          46.00577796813365,
          45.16610776473666,
          44.32283829217048,
          43.47617447897077,
          42.62630767979934,
          41.77341674461707,
          40.91766899665733,
          40.059221127282896,
          39.19822001513863,
          38.334803476377836,
          37.46910095214844
         ],
         "line": {
          "color": "rgb(255, 127, 14)",
          "width": 2
         },
         "locationmode": "ISO-3",
         "lon": [
          -87.9048,
          -88.49027120524117,
          -89.0920838071694,
          -89.71114230445845,
          -90.3484074095661,
          -91.00490000742597,
          -91.68170535563533,
          -92.37997752634524,
          -93.10094408498665,
          -93.84591099423072,
          -94.61626772276938,
          -95.4134925271001,
          -96.23915785989338,
          -97.09493583997524,
          -97.9826036955976,
          -98.90404906347668,
          -99.8612749898774,
          -100.85640443549363,
          -101.89168403157255,
          -102.96948676915017,
          -104.09231322492423,
          -105.26279083490955,
          -106.48367061976883,
          -107.7578206435842,
          -109.08821535219384,
          -110.47791979152095,
          -111.9300675570937,
          -113.44783118398783,
          -115.03438356820092,
          -116.69284893968721,
          -118.42624191623008,
          -120.23739329772478,
          -122.12886156302571,
          -124.1028295634996,
          -126.1609867266229,
          -128.3043982373397,
          -130.53336417675544,
          -132.847273442697,
          -135.24445935955043,
          -137.72206601767505,
          -140.27593627349606,
          -142.90053360428698,
          -145.58891021029314,
          -148.33273248580068,
          -151.1223719788902,
          -153.947065231809,
          -156.79513980168616,
          -159.6542970372911,
          -162.51193584169977,
          -165.35549677091308,
          -168.17280331107804,
          -170.95237752814242,
          -173.6837104246548,
          -176.357472664468,
          -178.96565786324445,
          178.49834270078526,
          176.03972928341196,
          173.66233777427166,
          171.36872712125586,
          169.16029761427177,
          167.03742805732497,
          164.9996213106471,
          163.04564966567713,
          161.17369365927402,
          159.38146997260327,
          157.6663458306761,
          156.02543874456452,
          154.4557015088467,
          152.95399311205475,
          151.517136689383,
          150.1419659030754,
          148.82536123281795,
          147.5642776448065,
          146.35576502337807,
          145.19698262330343,
          144.08520865585865,
          143.0178459726154,
          141.99242466714364,
          141.0066022822067,
          140.05816219141144,
          139.14501062063616,
          138.2651726856497,
          137.4167877471879,
          136.5981043220197,
          135.8074747367197,
          135.04334966846258,
          134.3042726827528,
          133.58887485031363,
          132.89586950324195,
          132.224047173013,
          131.57227073914285,
          130.9394708065916,
          130.32464132171648,
          129.7268354302865,
          129.14516157634012,
          128.57877983718552,
          128.02689848734346,
          127.4887707824988,
          126.96369195339453,
          126.45099639892578
         ],
         "marker": {
          "color": "rgb(255, 127, 14)",
          "size": 8,
          "symbol": "triangle-right"
         },
         "mode": "markers+lines",
         "name": "ORD-ICN",
         "textposition": "middle left",
         "type": "scattergeo"
        },
        {
         "hoverinfo": "text",
         "lat": [
          41.275278
         ],
         "line": {
          "color": "rgb(68, 68, 68)",
          "width": 1
         },
         "locationmode": "ISO-3",
         "lon": [
          28.751944
         ],
         "marker": {
          "color": "rgb(255, 127, 14)",
          "size": 20
         },
         "mode": "markers",
         "name": "Istanbul IST",
         "opacity": 0.7,
         "showlegend": false,
         "text": [
          "Количество рейсов из ORD в IST: 2"
         ],
         "textposition": "middle left",
         "type": "scattergeo"
        },
        {
         "lat": [
          41.9786,
          42.55828820036427,
          43.133108185940145,
          43.70286770110514,
          44.26736686692533,
          44.82639792258637,
          45.3797449706001,
          45.927183728092146,
          46.468481286814004,
          47.00339588489226,
          47.53167669372547,
          48.05306362386635,
          48.56728715418086,
          49.074068189052305,
          49.57311794889402,
          50.064137899740366,
          50.54681972819581,
          51.02084536852116,
          51.48588708911468,
          51.94160764608317,
          52.387660511975746,
          52.82369018804787,
          53.24933260860651,
          53.66421564603192,
          54.0679597249426,
          54.46017855363472,
          54.84047998035028,
          55.2084669810732,
          55.56373878438976,
          55.90589213744755,
          56.23452271518806,
          56.54922667279721,
          56.849602338720175,
          57.13525204263612,
          57.40578406952379,
          57.66081472742385,
          57.89997051280126,
          58.122890353629224,
          58.32922790658172,
          58.518653881175034,
          58.69085836049632,
          58.845553085462626,
          58.98247366752909,
          59.10138169356029,
          59.202066686323654,
          59.28434788485615,
          59.3480758108489,
          59.39313359019654,
          59.41943800292005,
          59.42694023969093,
          59.41562634900441,
          59.385517365469454,
          59.33666911646682,
          59.26917171131542,
          59.18314872381725,
          59.07875608536785,
          58.95618071149205,
          58.81563888950029,
          58.65737445881534,
          58.481656818298106,
          58.288778796569936,
          58.07905442190286,
          57.85281662779234,
          57.61041492894559,
          57.35221310024482,
          57.07858688843421,
          56.78992178299453,
          56.486610869071676,
          56.16905278157132,
          55.837649775755935,
          55.492805926006945,
          55.13492546093653,
          54.76441123982867,
          54.3816633725074,
          53.98707798220633,
          53.581046108857585,
          53.16395274843332,
          52.73617602254162,
          52.29808647137994,
          51.85004646235398,
          51.39240970614432,
          50.925520871712365,
          50.44971529164653,
          49.96531874932444,
          49.47264733957555,
          48.97200739484179,
          48.46369546922567,
          47.94799837326279,
          47.425193252738836,
          46.89554770537506,
          46.359319929715035,
          45.816758901051095,
          45.268104569720144,
          44.71358807757154,
          44.153431988858124,
          43.587850532222575,
          43.01704985084413,
          42.44122825817262,
          41.86057649700975,
          41.275278
         ],
         "line": {
          "color": "rgb(255, 127, 14)",
          "width": 2
         },
         "locationmode": "ISO-3",
         "lon": [
          -87.9048,
          -87.16344242204715,
          -86.40824025114375,
          -85.63877051981987,
          -84.85460344114479,
          -84.05530306276235,
          -83.24042804392349,
          -82.40953256820639,
          -81.56216740530104,
          -80.69788113583968,
          -79.81622155374596,
          -78.91673726091153,
          -77.9989794691446,
          -77.0625040242159,
          -76.10687366639257,
          -75.13166054103512,
          -74.13644897155777,
          -73.1208385052454,
          -72.08444723999195,
          -71.02691543689704,
          -69.94790941974404,
          -68.84712575761095,
          -67.7242957211724,
          -66.57918999659032,
          -65.4116236332482,
          -64.22146119297297,
          -63.00862205887469,
          -61.773085851632324,
          -60.51489789014344,
          -59.23417462219159,
          -57.9311089394915,
          -56.60597528056436,
          -55.2591344148546,
          -53.89103779288331,
          -52.50223134064965,
          -51.09335857257564,
          -49.66516289667656,
          -48.218488988917365,
          -46.754283121387786,
          -45.273592341353556,
          -43.777562415592875,
          -42.26743447664276,
          -40.74454033432399,
          -39.21029644656657,
          -37.66619657720121,
          -36.11380320383555,
          -34.55473777479073,
          -32.99066994877981,
          -31.423305982953483,
          -29.854376462549354,
          -28.28562358725167,
          -26.71878824434162,
          -25.155597105990783,
          -23.597749987224415,
          -22.04690769220297,
          -20.50468056002158,
          -18.97261789809126,
          -17.452198462555856,
          -15.944822112565385,
          -14.451802730158388,
          -12.974362461607585,
          -11.513627300890303,
          -10.070624002819672,
          -8.646278283446762,
          -7.241414239476475,
          -5.85675489719192,
          -4.492923785032463,
          -3.1504474125283624,
          -1.8297585315481633,
          -0.5312000533691527,
          0.7449705035873625,
          1.9985761560049107,
          3.2295153015083766,
          4.437756372738178,
          5.623332394053698,
          6.78633552423373,
          7.92691165722439,
          9.045255141768138,
          10.141603669942327,
          11.216233374481497,
          12.269454165418866,
          13.301605328164463,
          14.313051397693592,
          15.304178317056783,
          16.275389882920685,
          17.22710447625632,
          18.159752072543764,
          19.07377152288224,
          19.969608095099066,
          20.847711262258233,
          21.70853272479392,
          22.552524651761633,
          23.380138126334028,
          24.191821780605608,
          24.9880206049513,
          25.769174917554064,
          26.5357194802349,
          27.288082747341836,
          28.02668623515364,
          28.751944
         ],
         "marker": {
          "color": "rgb(255, 127, 14)",
          "size": 8,
          "symbol": "triangle-right"
         },
         "mode": "markers+lines",
         "name": "ORD-IST",
         "textposition": "middle left",
         "type": "scattergeo"
        },
        {
         "hoverinfo": "text",
         "lat": [
          40.0801010131836
         ],
         "line": {
          "color": "rgb(68, 68, 68)",
          "width": 1
         },
         "locationmode": "ISO-3",
         "lon": [
          118.08499908447266
         ],
         "marker": {
          "color": "rgb(44, 160, 44)",
          "size": 25
         },
         "mode": "markers",
         "name": "Beijing PEK",
         "opacity": 0.7,
         "showlegend": false,
         "text": [
          "Количество рейсов из LAX в PEK: 3"
         ],
         "textposition": "middle left",
         "type": "scattergeo"
        },
        {
         "lat": [
          33.94250107,
          34.6510511062108,
          35.35559445433951,
          36.05595341688474,
          36.751942544636464,
          37.44336825431652,
          38.130028433233136,
          38.81171203151726,
          39.488198642741665,
          40.15925807399724,
          40.824649906818344,
          41.484123050715226,
          42.137415291493234,
          42.78425283701831,
          43.424349863634305,
          44.05740806705242,
          44.68311622222183,
          45.301149757457445,
          45.91117034894623,
          46.51282554267888,
          47.1057484118576,
          47.68955725890496,
          48.26385537233798,
          48.82823084995699,
          49.382256501013806,
          49.92548984123852,
          50.45747319578284,
          50.97773392623815,
          51.48578479884909,
          51.981124511806726,
          52.46323839999022,
          52.93159933564666,
          53.38566884315998,
          53.82489844515999,
          54.24873125565611,
          54.65660383354949,
          55.04794830668538,
          55.422194772487416,
          55.778773976116454,
          56.1171202610173,
          56.43667477969687,
          56.736888944724264,
          57.01722809142694,
          57.27717531482646,
          57.516235434330376,
          57.73393903096331,
          57.92984649392172,
          58.10355200645035,
          58.25468739594299,
          58.382925770218165,
          58.487984861494056,
          58.56963000196344,
          58.62767666018568,
          58.661992475739844,
          58.672498740512076,
          58.659171288235356,
          58.622040768913934,
          58.561192300875895,
          58.47676450965065,
          58.36894797888833,
          58.23798315337478,
          58.08415774719316,
          57.90780372070909,
          57.70929389794512,
          57.489038300878015,
          57.24748027922556,
          56.98509251354837,
          56.70237296626413,
          56.39984084985179,
          56.07803267456853,
          55.73749842989114,
          55.37879794510419,
          55.00249746542227,
          54.60916647113652,
          54.199374758826785,
          53.77368979591849,
          53.33267435295094,
          52.87688441195894,
          52.406867344388296,
          51.92316034795737,
          51.42628912879261,
          50.91676681292965,
          50.39509306978941,
          49.86175342941144,
          49.31721877494655,
          48.761944992080494,
          48.196372757581585,
          47.62092744995673,
          47.0360191661818,
          46.44204282958479,
          45.83937837514531,
          45.228390999690205,
          44.60943146567812,
          43.98283644844651,
          43.34892891792675,
          42.70801854689958,
          42.0604021388576,
          41.40636406945751,
          40.74617673638145,
          40.0801010131836
         ],
         "line": {
          "color": "rgb(44, 160, 44)",
          "width": 2
         },
         "locationmode": "ISO-3",
         "lon": [
          -118.4079971,
          -119.10262601611296,
          -119.8091979609681,
          -120.52817029919402,
          -121.26001374389605,
          -122.00521247679018,
          -122.76426420559376,
          -123.53768014779308,
          -124.32598492859157,
          -125.12971637942486,
          -125.94942522190715,
          -126.78567462045756,
          -127.63903958515542,
          -128.51010620460605,
          -129.39947068679274,
          -130.307738184074,
          -131.23552137670853,
          -132.18343878760766,
          -133.15211279949972,
          -134.1421673444325,
          -135.15422523464636,
          -136.18890510345136,
          -137.24681792498743,
          -138.3285630828111,
          -139.43472395933162,
          -140.56586302142898,
          -141.72251638235693,
          -142.90518782650904,
          -144.11434229204067,
          -145.35039881692285,
          -146.61372296694418,
          -147.90461877961474,
          -149.2233202759089,
          -150.56998261226056,
          -151.944672967982,
          -153.3473612879299,
          -154.77791102619256,
          -156.23607006297345,
          -157.72146199261294,
          -159.23357800447138,
          -160.77176959862777,
          -162.33524239328239,
          -163.92305128855523,
          -165.53409725024213,
          -167.1671259653906,
          -168.82072859800107,
          -170.49334483697362,
          -172.183268379532,
          -173.8886549325114,
          -175.60753274277346,
          -177.33781558920657,
          -179.07731808574215,
          179.17622693830162,
          177.42514929290206,
          175.6718208989888,
          173.91863431524655,
          172.16798079746266,
          170.42222838747247,
          168.68370052750208,
          166.95465567364798,
          165.23726834083246,
          163.53361195356288,
          161.84564380592005,
          160.1751923547652,
          158.52394698681522,
          156.89345031750338,
          155.2850930014821,
          153.70011096459982,
          152.13958490768528,
          150.6044418850673,
          149.0954587260843,
          147.61326704574032,
          146.15835958028765,
          144.73109758353812,
          143.3317190284445,
          141.96034737415343,
          140.61700067946802,
          139.3016008677548,
          138.0139829742343,
          136.75390423299822,
          135.52105288692752,
          134.31505662814365,
          133.13549059912904,
          131.98188490484003,
          130.85373160381988,
          129.75049116145541,
          128.67159836117432,
          127.61646767969486,
          126.58449814061444,
          125.57507766688137,
          124.587586957282,
          123.62140291522596,
          122.67590166006079,
          121.7504611521057,
          120.84446346275377,
          119.95729672052761,
          119.08835676303015,
          118.237048523438,
          117.40278717864588,
          116.58499908447266
         ],
         "marker": {
          "color": "rgb(44, 160, 44)",
          "size": 8,
          "symbol": "triangle-right"
         },
         "mode": "markers+lines",
         "name": "LAX-PEK",
         "textposition": "middle left",
         "type": "scattergeo"
        },
        {
         "hoverinfo": "text",
         "lat": [
          31.143400192260746
         ],
         "line": {
          "color": "rgb(68, 68, 68)",
          "width": 1
         },
         "locationmode": "ISO-3",
         "lon": [
          125.30500030517578
         ],
         "marker": {
          "color": "rgb(44, 160, 44)",
          "size": 45
         },
         "mode": "markers",
         "name": "Shanghai PVG",
         "opacity": 0.7,
         "showlegend": false,
         "text": [
          "Количество рейсов из LAX в PVG: 7"
         ],
         "textposition": "middle left",
         "type": "scattergeo"
        },
        {
         "lat": [
          33.94250107,
          34.571398031643646,
          35.194239783431804,
          35.81078973671998,
          36.42080346429955,
          37.02402851899475,
          37.62020426716986,
          38.209061740177674,
          38.7903235070921,
          39.36370357239065,
          39.92890730258328,
          40.48563138611798,
          41.03356383122422,
          41.57238400667672,
          42.101762730763944,
          42.62136241401896,
          43.13083726150256,
          43.629833540606036,
          44.11798992044848,
          44.59493788896419,
          45.06030225369162,
          45.51370173206678,
          45.95474963667167,
          46.38305466037284,
          46.79822176558791,
          47.1998531810214,
          47.587549508104004,
          47.96091093803987,
          48.31953857881309,
          48.66303588973079,
          48.9910102190978,
          49.30307443845086,
          49.59884866446051,
          49.87796205718237,
          50.140054680863045,
          50.3847794110466,
          50.61180386936434,
          50.8208123652082,
          51.01150782157683,
          51.183613660835974,
          51.33687562503636,
          51.47106350486607,
          51.58597275134311,
          51.68142594502809,
          51.75727409888024,
          51.8133977728931,
          51.84970798129891,
          51.866146876367786,
          51.86268819656259,
          51.83933747093718,
          51.7961319760537,
          51.73314044620501,
          51.65046254221346,
          51.548228088388896,
          51.42659609123411,
          51.285753557057554,
          51.12591412869664,
          50.94731656398934,
          50.750223080414266,
          50.53491759142919,
          50.30170386048295,
          50.05090359849176,
          49.78285452981109,
          49.497908450470646,
          49.19642930075507,
          48.87879127219801,
          48.545376966801115,
          48.19657562388413,
          47.832781427497906,
          47.45439190486697,
          47.061806423931884,
          46.65542479579145,
          46.235645985738,
          45.80286693466766,
          45.357481490948736,
          44.89987945135629,
          44.4304457084294,
          43.949559500574104,
          43.45759376041075,
          42.95491455623147,
          42.44188062097708,
          41.918842962843,
          41.38614455146026,
          40.84412007355221,
          40.29309575202055,
          39.73338922254788,
          39.16530946200211,
          38.589156763175986,
          38.005222750679685,
          37.41379043311396,
          36.815134286977,
          36.20952036809069,
          35.5972064466653,
          34.978442162450335,
          34.35346919673824,
          33.72252145829525,
          33.085825280585,
          32.44359962792709,
          31.796056308490297,
          31.143400192260746
         ],
         "line": {
          "color": "rgb(44, 160, 44)",
          "width": 2
         },
         "locationmode": "ISO-3",
         "lon": [
          -118.4079971,
          -119.26323121139907,
          -120.13143865859314,
          -121.01299334918892,
          -121.90827027047992,
          -122.81764456172239,
          -123.7414904674576,
          -124.68018016341075,
          -125.63408244654556,
          -126.60356128105529,
          -127.58897419244869,
          -128.59067050248024,
          -129.60898939850776,
          -130.64425783197905,
          -131.69678824218423,
          -132.7668761032049,
          -133.85479729417472,
          -134.96080529557642,
          -136.08512821736,
          -137.2279656681957,
          -138.38948547918048,
          -139.56982029979093,
          -140.7690640887903,
          -141.98726852810887,
          -143.2244393933496,
          -144.4805329204209,
          -145.75545221373966,
          -147.04904374730387,
          -148.3610940155166,
          -149.69132639571671,
          -151.03939828868226,
          -152.40489860664505,
          -153.7873456803028,
          -155.1861856566592,
          -156.60079145799344,
          -158.0304623686348,
          -159.4744243103199,
          -160.93183085863976,
          -162.40176504243337,
          -163.88324195505345,
          -165.3752121914341,
          -166.8765661081648,
          -168.38613888577882,
          -169.90271635375407,
          -171.42504151994578,
          -172.95182172802927,
          -174.48173634974128,
          -176.01344490397682,
          -177.54559548276458,
          -179.07683335534398,
          179.39419038359736,
          177.86881025675038,
          176.34833807065297,
          174.8340549319132,
          173.32720372932323,
          171.82898218496223,
          170.3405365618593,
          168.86295609845328,
          167.3972682216345,
          165.9444345713263,
          164.50534785103173,
          163.0808295011568,
          161.67162817575226,
          160.27841898900616,
          158.90180348566227,
          157.54231027971042,
          156.20039629825598,
          154.87644856238214,
          153.57078643394448,
          152.28366425638825,
          151.01527431861086,
          149.76575007333363,
          148.53516954511045,
          147.3235588677107,
          146.1308958958877,
          144.95711384224992,
          143.8021048958561,
          142.66572378508332,
          141.5477912531052,
          140.44809741984787,
          139.36640500947115,
          138.30245242719093,
          137.25595667356836,
          136.22661608823375,
          135.2141129183761,
          134.21811571023056,
          133.2382815242549,
          132.27425797672993,
          131.32568511218534,
          130.39219711237132,
          129.47342384851353,
          128.56899228433363,
          127.6785277378295,
          126.80165501012416,
          125.93799938983597,
          125.08718754142954,
          124.24884828589937,
          123.42261328193916,
          122.60811761548224,
          121.80500030517578
         ],
         "marker": {
          "color": "rgb(44, 160, 44)",
          "size": 8,
          "symbol": "triangle-right"
         },
         "mode": "markers+lines",
         "name": "LAX-PVG",
         "textposition": "middle left",
         "type": "scattergeo"
        },
        {
         "hoverinfo": "text",
         "lat": [
          37.46910095214844
         ],
         "line": {
          "color": "rgb(68, 68, 68)",
          "width": 1
         },
         "locationmode": "ISO-3",
         "lon": [
          128.95099639892578
         ],
         "marker": {
          "color": "rgb(44, 160, 44)",
          "size": 35
         },
         "mode": "markers",
         "name": "Seoul ICN",
         "opacity": 0.7,
         "showlegend": false,
         "text": [
          "Количество рейсов из LAX в ICN: 5"
         ],
         "textposition": "middle left",
         "type": "scattergeo"
        },
        {
         "lat": [
          33.94250107,
          34.547139007146,
          35.1469477860516,
          35.74174587240224,
          36.331345684619805,
          36.91555342102568,
          37.49416889201434,
          38.06698535879995,
          38.63378938048622,
          39.19436067141041,
          39.74847197092288,
          40.295888927988116,
          40.83637000322428,
          41.36966639123934,
          41.89552196636597,
          42.4136732551438,
          42.92384943914104,
          43.42577239194285,
          43.91915675435496,
          44.403710052071034,
          44.879132860222484,
          45.34511901936059,
          45.801355907501716,
          46.2475247728871,
          46.68330113205385,
          47.10835523767422,
          47.522352620377276,
          47.9249547084129,
          48.31581952853453,
          48.694602490855644,
          49.06095725966463,
          49.41453671125544,
          49.75499397874501,
          50.081983582602334,
          50.3951626442147,
          50.694192178277696,
          50.978738458135275,
          51.248474446441314,
          51.503081281702585,
          51.74224980943327,
          51.965682144856906,
          52.17309325238666,
          52.36421252556046,
          52.53878534976636,
          52.69657462902912,
          52.83736225740012,
          52.96095051515267,
          53.0671633700788,
          53.155847664739774,
          53.22687417155917,
          53.28013849916054,
          53.31556183532077,
          53.33309151429589,
          53.332701399019285,
          53.314392071699736,
          53.278190829569056,
          53.22415148585233,
          53.15235397935359,
          53.06290379926613,
          52.95593123483358,
          52.831590462216504,
          52.69005848328839,
          52.53153393303451,
          52.35623577371978,
          52.164401895007835,
          51.956287639748425,
          51.73216427522548,
          51.49231742929916,
          51.237045510131715,
          50.9666581271083,
          50.68147452921277,
          50.38182207555582,
          50.06803475104328,
          49.7404517383745,
          49.399416055732246,
          49.0452732677138,
          48.67837027530326,
          48.29905418902851,
          47.90767128791345,
          47.5045660654428,
          47.09008036251844,
          46.664552586305625,
          46.22831701294812,
          45.78170317136705,
          45.32503530474277,
          44.858631905802774,
          44.382805321687606,
          43.89786142393047,
          43.40409933894935,
          42.9018112343997,
          42.39128215675948,
          41.87278991560092,
          41.34660501013764,
          40.8129905938063,
          40.27220247284363,
          39.724489135041516,
          39.17009180509857,
          38.60924452323037,
          38.04217424394669,
          37.46910095214844
         ],
         "line": {
          "color": "rgb(44, 160, 44)",
          "width": 2
         },
         "locationmode": "ISO-3",
         "lon": [
          -118.4079971,
          -119.172102759632,
          -119.94734816037786,
          -120.73405761933492,
          -121.5325586570337,
          -122.34318150668983,
          -123.16625854968922,
          -124.00212367109692,
          -124.8511115287633,
          -125.7135567294335,
          -126.5897929051615,
          -127.4801516833041,
          -128.384961543441,
          -129.3045465547536,
          -130.2392249877212,
          -131.18930779448004,
          -132.1550969528652,
          -133.13688367004255,
          -134.13494644276716,
          -135.14954897269783,
          -136.1809379368871,
          -137.2293406155665,
          -138.2949623816874,
          -139.37798405935993,
          -140.4785591613751,
          -141.59681101938065,
          -142.73282982400409,
          -143.8866695962379,
          -145.05834511567605,
          -146.247828835649,
          -147.45504781985818,
          -148.67988073964364,
          -149.92215497540047,
          -151.181643869732,
          -152.45806418350855,
          -153.7510738089077,
          -155.06026979552954,
          -156.38518674661526,
          -157.72529564204174,
          -159.0800031429445,
          -160.44865142938366,
          -161.83051861730735,
          -163.2248197941341,
          -164.63070870358675,
          -166.04728010006147,
          -167.47357278098085,
          -168.9085732925251,
          -170.35122029019686,
          -171.80040952127467,
          -173.2549993818072,
          -174.7138169869136,
          -176.17566468029383,
          -177.6393268975257,
          -179.10357728839327,
          179.4328140034593,
          177.9710730095189,
          176.51241466141275,
          175.05803567777974,
          173.60910771446052,
          172.16677087240356,
          170.73212764825482,
          169.30623740119597,
          167.89011139667983,
          166.48470847378903,
          165.09093136853463,
          163.70962371101766,
          162.34156770047147,
          160.98748244919275,
          159.6480229745938,
          158.3237798083314,
          157.01527918285072,
          155.7229837488288,
          154.44729377191803,
          153.18854875382576,
          151.9470294210116,
          150.7229600239904,
          149.51651089121356,
          148.3278011835622,
          147.15690179842701,
          146.00383837595487,
          144.86859436413272,
          143.75111410376928,
          142.65130589897282,
          141.56904504327517,
          140.5041767760021,
          139.45651914775658,
          138.42586577789004,
          137.41198849054518,
          136.41463981922567,
          135.43355537287312,
          134.4684560591019,
          133.51905016256393,
          132.5850352784057,
          131.66610010245347,
          130.76192608114482,
          129.87218892534352,
          128.99655999305037,
          128.13470754668987,
          127.28629789113197,
          126.45099639892578
         ],
         "marker": {
          "color": "rgb(44, 160, 44)",
          "size": 8,
          "symbol": "triangle-right"
         },
         "mode": "markers+lines",
         "name": "LAX-ICN",
         "textposition": "middle left",
         "type": "scattergeo"
        },
        {
         "hoverinfo": "text",
         "lat": [
          41.275278
         ],
         "line": {
          "color": "rgb(68, 68, 68)",
          "width": 1
         },
         "locationmode": "ISO-3",
         "lon": [
          29.751944
         ],
         "marker": {
          "color": "rgb(44, 160, 44)",
          "size": 20
         },
         "mode": "markers",
         "name": "Istanbul IST",
         "opacity": 0.7,
         "showlegend": false,
         "text": [
          "Количество рейсов из LAX в IST: 2"
         ],
         "textposition": "middle left",
         "type": "scattergeo"
        },
        {
         "lat": [
          33.94250107,
          34.85190867152388,
          35.75920367027068,
          36.66426435815458,
          37.566961380162105,
          38.46715710469592,
          39.364704936556954,
          40.25944856678737,
          41.151221153012905,
          42.03984442328752,
          42.925127695756686,
          43.80686680571795,
          44.68484293087178,
          45.55882130472741,
          46.4285498072685,
          47.29375742110562,
          48.15415254047177,
          49.009421119584125,
          49.859224646146764,
          50.70319792516726,
          51.54094665788873,
          52.37204480060975,
          53.19603168862511,
          54.01240891166024,
          54.820636929236976,
          55.620131417710624,
          56.41025934564487,
          57.190334781230526,
          57.95961444518757,
          58.71729303572336,
          59.46249836946379,
          60.194286404745085,
          60.91163624223134,
          61.613445233483695,
          62.29852437170324,
          62.96559419094488,
          63.61328146061175,
          64.2401170299824,
          64.84453525043361,
          65.4248754763933,
          65.97938621270937,
          66.5062325256409,
          67.00350735315524,
          67.46924732051971,
          67.90145357020322,
          68.29811793230841,
          68.65725447924103,
          68.97693612233954,
          69.25533543128202,
          69.4907683233851,
          69.68173873727962,
          69.826981952088,
          69.92550392705427,
          69.97661399777387,
          69.97994852516659,
          69.93548365618983,
          69.84353616837208,
          69.70475232929667,
          69.52008567114734,
          69.29076542110478,
          69.01825793057314,
          68.70422374943479,
          68.35047299220054,
          67.95892138684817,
          67.53154896177873,
          67.0703627996791,
          66.57736474952802,
          66.05452450057352,
          65.50375802225571,
          64.9269110770324,
          64.32574731703558,
          63.70194036760859,
          63.05706926286738,
          62.392616611282534,
          61.70996891538692,
          61.01041853467977,
          60.29516685373273,
          59.565328290802285,
          58.82193485107629,
          58.06594099031793,
          57.29822860794145,
          56.51961203331,
          55.73084290576557,
          54.932614878409495,
          54.125568098913305,
          53.31029343864261,
          52.487336455044584,
          51.657201082413124,
          50.820353053522574,
          49.977223059810804,
          49.12820966129607,
          48.273681959628526,
          47.41398204893041,
          46.549427259621616,
          45.680312210456236,
          44.80691068366535,
          43.92947733752551,
          43.04824926994016,
          42.16344744579758,
          41.275278
         ],
         "line": {
          "color": "rgb(44, 160, 44)",
          "width": 2
         },
         "locationmode": "ISO-3",
         "lon": [
          -118.4079971,
          -117.9055299237666,
          -117.39184368414091,
          -116.86632044459331,
          -116.32830668302057,
          -115.77711068317457,
          -115.21199973339446,
          -114.63219712000448,
          -114.03687890271756,
          -113.42517045964264,
          -112.79614279012772,
          -112.14880856480333,
          -111.48211791397458,
          -110.79495394813934,
          -110.0861280081253,
          -109.35437464744122,
          -108.59834635630031,
          -107.8166080458549,
          -107.00763132304455,
          -106.16978860178652,
          -105.30134711585606,
          -104.40046292369358,
          -103.46517502670245,
          -102.49339976170818,
          -101.48292567666938,
          -100.43140915815917,
          -99.33637115136933,
          -98.1951954002356,
          -97.0051287383592,
          -95.76328408187325,
          -94.46664691353202,
          -93.1120862018407,
          -91.69637086635967,
          -90.2161930732503,
          -88.66819981153186,
          -87.04903434152165,
          -85.35538919504616,
          -83.58407240438933,
          -81.7320884942357,
          -79.79673542761861,
          -77.7757180845377,
          -75.6672779010374,
          -73.4703369497299,
          -71.18465297440417,
          -68.81097973400956,
          -66.35122458555756,
          -63.808592776902586,
          -61.18770579182806,
          -58.49467976501437,
          -55.73714998838359,
          -52.92422933186767,
          -50.06639226858227,
          -47.17528204505345,
          -44.263445842045456,
          -41.34401056168143,
          -38.43031889195192,
          -35.535550262749,
          -32.67235324861687,
          -29.852514500157447,
          -27.08668469688289,
          -24.384175211917533,
          -21.752831417482177,
          -19.198981120575645,
          -16.727450522441348,
          -14.341635937535374,
          -12.04361742784472,
          -9.83430027910564,
          -7.713571416673249,
          -5.680459905733164,
          -3.7332931177559443,
          -1.869842592411819,
          -0.08745582853441176,
          1.6168279360792284,
          3.246178491195278,
          4.803891499057874,
          6.293320294279464,
          7.717821138766119,
          9.080710264936215,
          10.385231021567272,
          11.634529514599164,
          12.831637270720849,
          13.979459615736214,
          15.080768632591356,
          16.138199732569852,
          17.154251029768222,
          18.131284849499817,
          19.071530824219916,
          19.977090136013388,
          20.849940553702545,
          21.691941986798778,
          22.50484233962369,
          23.290283498775825,
          24.049807327427917,
          24.784861572265314,
          25.49680561459013,
          26.186916017405085,
          26.856391836163812,
          27.506359673175844,
          28.13787846508723,
          28.751944
         ],
         "marker": {
          "color": "rgb(44, 160, 44)",
          "size": 8,
          "symbol": "triangle-right"
         },
         "mode": "markers+lines",
         "name": "LAX-IST",
         "textposition": "middle left",
         "type": "scattergeo"
        },
        {
         "hoverinfo": "text",
         "lat": [
          25.2527999878
         ],
         "line": {
          "color": "rgb(68, 68, 68)",
          "width": 1
         },
         "locationmode": "ISO-3",
         "lon": [
          56.3643989563
         ],
         "marker": {
          "color": "rgb(44, 160, 44)",
          "size": 20
         },
         "mode": "markers",
         "name": "Dubai DXB",
         "opacity": 0.7,
         "showlegend": false,
         "text": [
          "Количество рейсов из LAX в DXB: 2"
         ],
         "textposition": "middle left",
         "type": "scattergeo"
        },
        {
         "lat": [
          33.94250107,
          35.15173716601769,
          36.36073000986046,
          37.56946067906984,
          38.77790855934901,
          39.98605113733529,
          41.1938637630758,
          42.40131937687143,
          43.60838819406211,
          44.81503733997528,
          46.021230425581656,
          47.22692705230771,
          48.43208223182513,
          49.63664570331789,
          50.84056112651254,
          52.04376512337057,
          53.24618613441304,
          54.44774304667319,
          55.64834353856567,
          56.847882071567874,
          58.04623743821157,
          59.24326974861709,
          60.43881670103165,
          61.63268893176876,
          62.824664171098064,
          64.01447983594814,
          65.20182355580619,
          66.38632093696548,
          67.56751959494491,
          68.74486808333805,
          69.91768775369319,
          71.08513469109384,
          72.24614751702909,
          73.39937476490827,
          74.54307227428896,
          75.6749559006719,
          76.7919866447503,
          77.89005228250146,
          78.96348923769378,
          80.00435833620497,
          81.0013498225353,
          81.93816716510482,
          82.79131076062757,
          83.52760671705471,
          84.10312096678464,
          84.46744807429502,
          84.57784869825701,
          84.41923254179626,
          84.01294304537396,
          83.40459430125811,
          82.64414972894309,
          81.77368186027034,
          80.82445138391319,
          79.81846465033597,
          78.77096629545798,
          77.69255203186658,
          76.59067984937244,
          75.47068683688136,
          74.33646070743919,
          73.19088356280484,
          72.03612803019408,
          70.87385767257271,
          69.7053647668933,
          68.53166656402338,
          67.35357361473204,
          66.17173900997295,
          64.98669438047123,
          63.79887657388942,
          62.60864767508732,
          61.41631020892402,
          60.22211881258822,
          59.02628928981429,
          57.82900570186662,
          56.63042597093341,
          55.43068634524877,
          54.22990498519366,
          53.02818486469374,
          51.825616134926456,
          50.6222780625447,
          49.41824062877326,
          48.21356585636356,
          47.00830891675382,
          45.80251905863136,
          44.596240390535314,
          43.389512543521725,
          42.18237123476363,
          40.97484874892325,
          39.76697435095341,
          38.5587746414632,
          37.35027386377105,
          36.14149417015691,
          34.932455853524516,
          33.723177549633796,
          32.51367641420643,
          31.303968278508016,
          30.09406778643687,
          28.883988515674975,
          27.673743085066302,
          26.46334325006185,
          25.2527999878
         ],
         "line": {
          "color": "rgb(44, 160, 44)",
          "width": 2
         },
         "locationmode": "ISO-3",
         "lon": [
          -118.4079971,
          -118.23846910693392,
          -118.06382599924211,
          -117.88367102772204,
          -117.69757214573568,
          -117.5050577094623,
          -117.30561155401317,
          -117.09866733644215,
          -116.88360201459042,
          -116.65972830345393,
          -116.42628591700287,
          -116.18243136134812,
          -115.92722599254004,
          -115.65962198608212,
          -115.37844578146643,
          -115.08237845838765,
          -114.76993236468988,
          -114.43942313999035,
          -114.08893605034525,
          -113.71628525052941,
          -113.3189641970301,
          -112.89408491267534,
          -112.43830310521685,
          -111.9477251996621,
          -111.41779206138335,
          -110.84313242534718,
          -110.21737660485344,
          -109.5329176361275,
          -108.78060218813376,
          -107.9493266848535,
          -107.02550418937095,
          -105.99235325662663,
          -104.82893906803965,
          -103.50886668260637,
          -101.99848203789779,
          -100.25437347716674,
          -98.21988142305241,
          -95.82022167290509,
          -92.95574681636688,
          -89.49295023317131,
          -85.25348332581655,
          -80.00385746680286,
          -73.45527878210194,
          -65.29832294621663,
          -55.31872864419924,
          -43.62851015955999,
          -30.901853103992853,
          -18.286620227359656,
          -6.874763224353634,
          2.7692710387962887,
          10.613444800182686,
          16.903173138683073,
          21.949623171389227,
          26.032620912939834,
          29.375135921207814,
          32.14653149521203,
          34.4734024784832,
          36.45028839013412,
          38.14824720995145,
          39.62122050002444,
          40.91062487460096,
          42.048636240631026,
          43.06054250549259,
          43.96644004446763,
          44.78246815381522,
          45.52171660244266,
          46.19490003725191,
          46.81086453117214,
          47.376972052077164,
          47.899395227698214,
          48.3833455205947,
          48.83325147819884,
          49.25289919225615,
          49.645543889189774,
          50.01399927297395,
          50.360709580050234,
          50.68780809358957,
          50.99716497227387,
          51.29042658649724,
          51.569048059123226,
          51.834320333834235,
          52.08739280963657,
          52.32929236217767,
          52.560939404433,
          52.78316150877648,
          52.996705010412114,
          53.20224493190493,
          53.40039350507537,
          53.591707516029885,
          53.77669465871954,
          53.95581904995688,
          54.12950603259861,
          54.2981463723171,
          54.46209993603098,
          54.62169892585606,
          54.77725073075354,
          54.92904044840892,
          55.07733312188193,
          55.222375728922465,
          55.3643989563
         ],
         "marker": {
          "color": "rgb(44, 160, 44)",
          "size": 8,
          "symbol": "triangle-right"
         },
         "mode": "markers+lines",
         "name": "LAX-DXB",
         "textposition": "middle left",
         "type": "scattergeo"
        },
        {
         "hoverinfo": "text",
         "lat": [
          37.46910095214844
         ],
         "line": {
          "color": "rgb(68, 68, 68)",
          "width": 1
         },
         "locationmode": "ISO-3",
         "lon": [
          130.45099639892578
         ],
         "marker": {
          "color": "rgb(214, 39, 40)",
          "size": 30
         },
         "mode": "markers",
         "name": "Seoul ICN",
         "opacity": 0.7,
         "showlegend": false,
         "text": [
          "Количество рейсов из DFW в ICN: 4"
         ],
         "textposition": "middle left",
         "type": "scattergeo"
        },
        {
         "lat": [
          32.89680100000001,
          33.726773434628676,
          34.55313106293769,
          35.37568621748932,
          36.19424133423184,
          37.00858830521458,
          37.81850779137747,
          38.62376849361451,
          39.42412638043426,
          40.219323870723755,
          41.00908897038052,
          41.7931343619258,
          42.57115644667066,
          43.342834339595726,
          44.107828817853004,
          44.8657812247302,
          45.616312332069505,
          46.35902116553855,
          47.093483798850876,
          47.81925212507041,
          48.53585261555113,
          49.24278507990587,
          49.9395214437084,
          50.625504564446274,
          51.300147110588235,
          51.96283053351613,
          52.61290416748833,
          53.24968449870114,
          53.87245465080915,
          54.48046414080523,
          55.072928965730846,
          55.649032086979716,
          56.207924384572166,
          56.7487261581967,
          57.270529254414896,
          57.772399899465334,
          58.2533823137601,
          58.71250317656387,
          59.14877699661838,
          59.5612124258559,
          59.94881952828097,
          60.31061798438123,
          60.64564617333909,
          60.95297103177233,
          61.23169854038258,
          61.48098464117628,
          61.700046341016936,
          61.88817271593062,
          62.044735498867766,
          62.169198915464406,
          62.26112843108894,
          62.320198090351816,
          62.34619616800157,
          62.339028906613436,
          62.29872218868711,
          62.22542107400905,
          62.11938722147027,
          61.980994301445634,
          61.81072158398306,
          61.609145953950616,
          61.37693265293648,
          61.11482507688931,
          60.82363396791893,
          60.504226329764556,
          60.1575143719632,
          59.78444475137472,
          59.385988335489465,
          58.963130663824984,
          58.51686323524463,
          58.048175703073774,
          57.55804901854471,
          57.04744952769247,
          56.517323997978664,
          55.9685955286892,
          55.40216028316258,
          54.818884970493784,
          54.219604998705556,
          53.60512321960295,
          52.976209186770454,
          52.33359885164018,
          51.67799462756622,
          51.01006575780364,
          50.33044892974636,
          49.63974908436746,
          48.93854037626052,
          48.227367245820226,
          47.50674557079809,
          46.777163869661265,
          46.039084533835336,
          45.29294507002432,
          44.539159337394985,
          43.77811876751408,
          43.01019355758157,
          42.23573382974946,
          41.455070751202214,
          40.668517611242116,
          39.87637085291424,
          39.078911057757985,
          38.27640388312133,
          37.46910095214844
         ],
         "line": {
          "color": "rgb(214, 39, 40)",
          "width": 2
         },
         "locationmode": "ISO-3",
         "lon": [
          -97.038002,
          -97.701272992653,
          -98.37746981109795,
          -99.06720261360832,
          -99.77110729047688,
          -100.48984656680281,
          -101.22411109646963,
          -101.97462053491316,
          -102.74212457560775,
          -103.52740393209523,
          -104.33127124378746,
          -105.15457187963547,
          -105.99818460901345,
          -106.86302210375865,
          -107.75003122918237,
          -108.66019307497683,
          -109.59452266925393,
          -110.55406831045357,
          -111.53991044256975,
          -112.55315998912644,
          -113.59495605071162,
          -114.66646285985082,
          -115.76886587586912,
          -116.90336689158467,
          -118.07117801378003,
          -119.2735143711877,
          -120.51158539819272,
          -121.78658454084103,
          -123.09967723555482,
          -124.45198702197362,
          -125.84457967159109,
          -127.2784452455705,
          -128.75447804060892,
          -130.27345444322754,
          -131.8360087923094,
          -133.44260744837817,
          -135.09352138622637,
          -136.78879776377426,
          -138.5282310711128,
          -140.31133462369547,
          -142.1373133238108,
          -144.0050387629837,
          -145.91302786017567,
          -147.85942630984493,
          -149.84199813253454,
          -151.85812256220566,
          -153.90479935603568,
          -155.97866336697686,
          -158.0760088787564,
          -160.1928237793946,
          -162.32483316604325,
          -164.4675514645271,
          -166.61634165237697,
          -168.76647973845846,
          -170.91322231723035,
          -173.05187481491336,
          -175.17785799919585,
          -177.28677043834722,
          -179.37444485780227,
          178.56300327444657,
          176.52913613578227,
          174.5271636060122,
          172.5599231865278,
          170.62986951351948,
          168.73907280723427,
          166.88922529892992,
          165.08165447397718,
          163.3173418612405,
          161.59694607556636,
          159.92082886713226,
          158.2890830313326,
          156.70156116841957,
          155.1579044373046,
          153.65757060930065,
          152.1998608846321,
          150.78394507978126,
          149.4088849224424,
          148.0736553006304,
          146.7771634027514,
          145.51826575693553,
          144.29578323225385,
          143.10851410369494,
          141.95524530925258,
          140.83476204347645,
          139.7458558395051,
          138.68733129286616,
          137.6580115768525,
          136.65674289245527,
          135.6823979867877,
          134.73387886356116,
          133.8101187981655,
          132.91008375877473,
          132.03277332401566,
          131.17722117735647,
          130.34249524865857,
          129.52769756438383,
          128.73196385979853,
          127.95446299917643,
          127.1943962434469,
          126.45099639892578
         ],
         "marker": {
          "color": "rgb(214, 39, 40)",
          "size": 8,
          "symbol": "triangle-right"
         },
         "mode": "markers+lines",
         "name": "DFW-ICN",
         "textposition": "middle left",
         "type": "scattergeo"
        },
        {
         "hoverinfo": "text",
         "lat": [
          25.2527999878
         ],
         "line": {
          "color": "rgb(68, 68, 68)",
          "width": 1
         },
         "locationmode": "ISO-3",
         "lon": [
          57.3643989563
         ],
         "marker": {
          "color": "rgb(214, 39, 40)",
          "size": 20
         },
         "mode": "markers",
         "name": "Dubai DXB",
         "opacity": 0.7,
         "showlegend": false,
         "text": [
          "Количество рейсов из DFW в DXB: 2"
         ],
         "textposition": "middle left",
         "type": "scattergeo"
        },
        {
         "lat": [
          32.89680100000001,
          33.93289325250518,
          34.965373131569216,
          35.99400433108713,
          37.01853417215618,
          38.038692131315976,
          39.05418822834162,
          40.06471125971999,
          41.06992686283556,
          42.06947539480515,
          43.06296960887678,
          44.04999211041091,
          45.030092573780436,
          46.00278470117578,
          46.96754290444176,
          47.92379869190818,
          48.870936743973424,
          49.8082906643042,
          50.73513839835745,
          51.650697318059294,
          52.554118981558595,
          53.44448359082401,
          54.32079418843048,
          55.1819706592922,
          56.02684363456142,
          56.85414843470154,
          57.66251923806756,
          58.45048372113951,
          59.21645848725447,
          59.95874568169466,
          60.67553128019051,
          61.364885630907125,
          62.024766919344586,
          62.653028299967936,
          63.247429482002964,
          63.80565354943634,
          64.32532971309956,
          64.80406251110756,
          65.23946767168499,
          65.62921441839545,
          65.9710734387678,
          66.26296908570856,
          66.50303369976973,
          66.68966132128568,
          66.82155761532658,
          66.89778266885692,
          66.91778352002085,
          66.88141387125478,
          66.78893937653476,
          66.64102806280947,
          66.43872668010658,
          66.18342489287649,
          65.87681007195677,
          65.52081592588219,
          65.1175682993589,
          64.66933121089717,
          64.17845569346258,
          63.647333353978766,
          63.07835588653089,
          62.47388114432415,
          61.83620585067336,
          61.16754463382313,
          60.470014804943375,
          59.745626148375244,
          58.99627493533443,
          58.22374138202836,
          57.42968982760089,
          56.61567098747634,
          55.78312572907961,
          54.9333899094274,
          54.067699901245014,
          53.1871985124162,
          52.29294107111709,
          51.385901505678255,
          50.46697829465885,
          49.53700019985589,
          48.59673172425568,
          47.64687825952761,
          46.68809090475842,
          45.72097095078784,
          44.74607403365413,
          43.76391396706015,
          42.77496626805619,
          41.77967139282063,
          40.77843770090504,
          39.771644166919316,
          38.75964285861162,
          37.742761199836664,
          36.72130403615178,
          35.695555519837285,
          34.66578083009051,
          33.632227743046336,
          32.595128065174904,
          31.554698942528162,
          30.511144057268684,
          29.464654721932618,
          28.415410880956824,
          27.36358202814548,
          26.30932804796109,
          25.252799987799992
         ],
         "line": {
          "color": "rgb(214, 39, 40)",
          "width": 2
         },
         "locationmode": "ISO-3",
         "lon": [
          -97.038002,
          -96.37758472844155,
          -95.7009269018522,
          -95.00702856453789,
          -94.29482871046837,
          -93.5632007232047,
          -92.8109475307316,
          -92.03679647355652,
          -91.23939389046375,
          -90.41729943439857,
          -89.56898014165085,
          -88.6928042914684,
          -87.78703511126652,
          -86.84982440568145,
          -85.87920621700127,
          -84.87309066135833,
          -83.8292581310568,
          -82.74535411031283,
          -81.618884921445,
          -80.44721480319801,
          -79.2275648243779,
          -77.95701425597905,
          -76.63250516445818,
          -75.2508511474569,
          -73.80875130871385,
          -72.30281075556351,
          -70.72956909005391,
          -69.0855385366195,
          -67.36725348015516,
          -65.57133324228526,
          -63.69455985220427,
          -61.73397231024664,
          -59.68697832460498,
          -57.551483646015804,
          -55.32603785920783,
          -53.0099937654847,
          -50.60367531137291,
          -48.10854647150953,
          -45.527370785271756,
          -42.86434872208536,
          -40.12521819330394,
          -37.31730291330231,
          -34.44949450273268,
          -31.53215762409431,
          -28.576953109326105,
          -25.596581570622668,
          -22.604458453771002,
          -19.6143395719031,
          -16.63992239053399,
          -13.69445149986192,
          -10.79035615862813,
          -7.938943639757797,
          -5.150165195288943,
          -2.432463115548251,
          0.20730096123782474,
          2.763843396472808,
          5.233393492106516,
          7.613580692346073,
          9.903289327454473,
          12.102495143811938,
          14.212095756849937,
          16.23374454123668,
          18.1696947818709,
          20.02265845383432,
          21.795681947572668,
          23.492039466850883,
          25.11514368672176,
          26.668472509333004,
          28.15551032104325,
          29.5797019574333,
          30.944417553566446,
          32.25292653757314,
          33.50837917164802,
          34.713794223206236,
          35.872051537693395,
          36.98588846875817,
          38.05789929246482,
          39.090536885434545,
          40.08611608058303,
          41.04681822860752,
          41.97469658978625,
          42.87168226076455,
          43.73959040681926,
          44.58012662363273,
          45.39489329576633,
          46.1853958535249,
          46.95304885725376,
          47.69918185961684,
          48.42504501316214,
          49.13181440341777,
          49.82059709763497,
          50.49243590673278,
          51.14831386351,
          51.7891584241874,
          52.415845403158315,
          53.029202652724784,
          53.63001350079197,
          54.21901996015333,
          54.79692572325656,
          55.3643989563
         ],
         "marker": {
          "color": "rgb(214, 39, 40)",
          "size": 8,
          "symbol": "triangle-right"
         },
         "mode": "markers+lines",
         "name": "DFW-DXB",
         "textposition": "middle left",
         "type": "scattergeo"
        },
        {
         "hoverinfo": "text",
         "lat": [
          40.0801010131836
         ],
         "line": {
          "color": "rgb(68, 68, 68)",
          "width": 1
         },
         "locationmode": "ISO-3",
         "lon": [
          121.08499908447266
         ],
         "marker": {
          "color": "rgb(148, 103, 189)",
          "size": 25
         },
         "mode": "markers",
         "name": "Beijing PEK",
         "opacity": 0.7,
         "showlegend": false,
         "text": [
          "Количество рейсов из JFK в PEK: 3"
         ],
         "textposition": "middle left",
         "type": "scattergeo"
        },
        {
         "lat": [
          40.63980102999999,
          41.62721398834278,
          42.614318491112186,
          43.601093556909035,
          44.587516433805476,
          45.57356240296203,
          46.55920455592578,
          47.54441354140845,
          48.52915727656494,
          49.513400616848465,
          50.49710497736959,
          51.48022789728291,
          52.46272253700151,
          53.44453709591575,
          54.425614135661625,
          55.405889790710546,
          56.385292843956854,
          57.363743639831576,
          58.341152800961865,
          59.31741970612208,
          60.292430676640244,
          61.266056804811235,
          62.23815134023808,
          63.20854652704759,
          64.17704975477392,
          65.14343884585432,
          66.10745624963374,
          67.06880184163168,
          68.02712393068929,
          68.98200794572021,
          69.93296209422265,
          70.87939903657961,
          71.82061227498546,
          72.75574547282383,
          73.68375224158859,
          74.60334297708651,
          75.51291398540424,
          76.41045227432879,
          77.29340685069504,
          78.15851407558294,
          79.00156077969311,
          79.81706543663023,
          80.59785780488711,
          81.334548835768,
          82.01492225821556,
          82.62337772622124,
          83.14074921957686,
          83.54509732582808,
          83.81421768474969,
          83.93009659781404,
          83.88401739685064,
          83.67952137787329,
          83.33116611119219,
          82.85997721533514,
          82.28843829770143,
          81.63709899109868,
          80.92312256231808,
          80.16013492313876,
          79.35867385013037,
          78.52679985916603,
          77.67066808113277,
          76.79499656416374,
          75.90342696477306,
          74.99879438876489,
          74.0833267732817,
          73.15879174935098,
          72.22660506311729,
          71.28791104885704,
          70.343642786535,
          69.39456743831269,
          68.44132070855781,
          67.4844332645387,
          66.52435116789293,
          65.56145180745882,
          64.59605642503446,
          63.62844003956437,
          62.658839368855716,
          61.6874591979509,
          60.71447753349497,
          59.740049802455395,
          58.764312293364966,
          57.78738499319148,
          56.809373938942926,
          55.83037317729098,
          54.850466405738885,
          53.86972835364503,
          52.888225949620946,
          51.90601931262343,
          50.92316259684538,
          49.93970471481357,
          48.95568995858337,
          47.97115853531508,
          46.98614703062611,
          46.00068881078435,
          45.01481437292185,
          44.02855165091563,
          43.041926283328735,
          42.05496184877819,
          41.0676800732503,
          40.0801010131836
         ],
         "line": {
          "color": "rgb(148, 103, 189)",
          "width": 2
         },
         "locationmode": "ISO-3",
         "lon": [
          -73.77890015,
          -73.96469309551208,
          -74.15626517977748,
          -74.35400750961938,
          -74.55834394219912,
          -74.76973468448479,
          -74.98868036954518,
          -75.21572668471589,
          -75.45146964036068,
          -75.69656158446791,
          -75.95171808834732,
          -76.21772585306107,
          -76.49545181599558,
          -76.78585367350394,
          -77.08999208054104,
          -77.40904484388123,
          -77.74432349468998,
          -78.09729271259646,
          -78.46959318176377,
          -78.86306859602922,
          -79.27979770319169,
          -79.72213249877834,
          -80.19274396145703,
          -80.69467708472847,
          -81.23141742805214,
          -81.80697201913279,
          -82.4259682332574,
          -83.09377531629124,
          -83.81665458656958,
          -84.60194615521924,
          -85.45830238511334,
          -86.39598144462677,
          -87.42721842024774,
          -88.56669676895503,
          -89.83214961601986,
          -91.24512854366724,
          -92.8319865216976,
          -94.6251295784326,
          -96.6645936252216,
          -98.99998658632425,
          -101.69277535456693,
          -104.81873741137314,
          -108.47003224284624,
          -112.75559554413555,
          -117.79717977431275,
          -123.71628950214995,
          -130.60541550434777,
          -138.4789801300484,
          -147.21220789864464,
          -156.50182398130818,
          -165.89800103153098,
          -174.91992718614122,
          176.80855873032056,
          169.48787666096865,
          163.1565900353396,
          157.7488734774503,
          153.1511045890763,
          149.239274440799,
          145.8980091526858,
          143.027755011598,
          140.54583386777222,
          138.38487533339017,
          136.4904303754158,
          134.81857583791142,
          133.3338141693,
          132.00734113649224,
          130.8156598546363,
          129.73948845126208,
          128.7629047444471,
          127.87267751425722,
          127.0577428585468,
          126.30879276099047,
          125.61795035698266,
          124.97851229163328,
          124.38474316689404,
          123.83171060345812,
          123.31515212670747,
          122.83136712058835,
          122.37712863568663,
          121.94961100918498,
          121.54633014682403,
          121.1650939995844,
          120.80396129223566,
          120.461206965753,
          120.13529310970569,
          119.82484440565298,
          119.52862729455187,
          119.24553223239715,
          118.97455851802567,
          118.71480127224964,
          118.46544022360568,
          118.22573001713846,
          117.99499181194952,
          117.77260597320027,
          117.55800569676937,
          117.35067143133011,
          117.15012598440674,
          116.95593021691374,
          116.76767924551834,
          116.58499908447266
         ],
         "marker": {
          "color": "rgb(148, 103, 189)",
          "size": 8,
          "symbol": "triangle-right"
         },
         "mode": "markers+lines",
         "name": "JFK-PEK",
         "textposition": "middle left",
         "type": "scattergeo"
        },
        {
         "hoverinfo": "text",
         "lat": [
          31.143400192260746
         ],
         "line": {
          "color": "rgb(68, 68, 68)",
          "width": 1
         },
         "locationmode": "ISO-3",
         "lon": [
          124.80500030517578
         ],
         "marker": {
          "color": "rgb(148, 103, 189)",
          "size": 20
         },
         "mode": "markers",
         "name": "Shanghai PVG",
         "opacity": 0.7,
         "showlegend": false,
         "text": [
          "Количество рейсов из JFK в PVG: 2"
         ],
         "textposition": "middle left",
         "type": "scattergeo"
        },
        {
         "lat": [
          40.63980102999999,
          41.6863300545465,
          42.731781775383645,
          43.77607832207292,
          44.81913489353195,
          45.86085895489301,
          46.90114932317761,
          47.93989512369596,
          48.97697459571695,
          50.012253721891206,
          51.04558465098542,
          52.07680387750006,
          53.105730134446695,
          54.132161946641475,
          55.15587478093859,
          56.17661771639207,
          57.19410954078576,
          58.208034159545136,
          59.21803517779468,
          60.22370948507613,
          61.22459963356406,
          62.22018475277623,
          63.20986968474232,
          64.19297195106141,
          65.16870607480112,
          66.13616467350926,
          67.09429561329753,
          68.04187436869992,
          68.97747057390579,
          69.89940759162957,
          70.80571379541507,
          71.69406421576141,
          72.56171134169215,
          73.40540437164647,
          74.22129735498635,
          75.00484889257734,
          75.75071997844603,
          76.45268288612353,
          77.10356331078384,
          77.69525004587973,
          78.2188190174357,
          78.66482547834698,
          79.02380882517397,
          79.287016066816,
          79.44727732749737,
          79.49987729924104,
          79.44320640205434,
          79.27899748100602,
          79.01207128662804,
          78.64967314299518,
          78.20059763420781,
          77.67431651288281,
          77.08026274412154,
          76.42733408565844,
          75.72360810599477,
          74.97622337916427,
          74.191373101031,
          73.37436472444517,
          72.52971181735582,
          71.66123633576899,
          70.77216869545828,
          69.86523924534275,
          68.94275858330865,
          68.00668633222509,
          67.0586891104578,
          66.10018891565718,
          65.13240327227999,
          64.15637844324242,
          63.17301687376505,
          62.1830998757411,
          61.18730640220009,
          60.18622861683467,
          59.18038483798656,
          58.17023033051914,
          57.1561663311658,
          56.13854762095747,
          55.11768889975756,
          54.09387017046982,
          53.06734130211317,
          52.038325909956576,
          51.007024665857166,
          49.973618131679515,
          48.938269192253486,
          47.90112515099774,
          46.86231954048473,
          45.821973691372186,
          44.78019809588324,
          43.737093596075205,
          42.692752422248695,
          41.6472591028137,
          40.6006912635904,
          39.55312033175047,
          38.5046121572973,
          37.45522756305715,
          36.405022832539615,
          35.35405014367229,
          34.30235795527331,
          33.249991352163576,
          32.196992354005076,
          31.143400192260746
         ],
         "line": {
          "color": "rgb(148, 103, 189)",
          "width": 2
         },
         "locationmode": "ISO-3",
         "lon": [
          -73.77890015,
          -74.12574733069813,
          -74.48405996824728,
          -74.85465369061609,
          -75.2384149325907,
          -75.63630889031161,
          -76.04938853179962,
          -76.47880482604097,
          -76.92581838121035,
          -77.39181271585386,
          -77.87830942635037,
          -78.38698556091579,
          -78.9196935662197,
          -79.4784842389786,
          -80.06563319353153,
          -80.68367144945125,
          -81.33542085288158,
          -82.02403517367122,
          -82.75304786930495,
          -83.52642767702761,
          -84.34864338648595,
          -85.22473935228433,
          -86.16042351856431,
          -87.16216992511187,
          -88.23733780815155,
          -89.39430943186254,
          -90.64264857549722,
          -91.99328096912252,
          -93.45869661701788,
          -95.05317139485,
          -96.79300081793876,
          -98.69673134761538,
          -100.78536244099372,
          -103.08247361772912,
          -105.61420256334237,
          -108.40896040834045,
          -111.49671856621849,
          -114.90764360877331,
          -118.66981136151071,
          -122.80574034028785,
          -127.32761961550351,
          -132.23145793812725,
          -137.4910016498752,
          -143.05305087330512,
          -148.8363526930357,
          -154.73594669512966,
          -160.6332834972017,
          -166.41008503286145,
          -171.96212720017834,
          -177.20916435670077,
          177.90094790823994,
          173.39353249826218,
          169.27186439461974,
          165.52326856553864,
          162.12494114865626,
          159.04867389911703,
          156.26427301990896,
          153.74180566946058,
          151.45293608693234,
          149.37161908859696,
          147.47437234748432,
          145.74029096505407,
          144.15091648244322,
          142.69003305864572,
          141.34343568373686,
          140.09869666077387,
          138.9449446363796,
          137.8726630685616,
          136.87351062104582,
          135.94016347659823,
          135.0661782420497,
          134.24587350614223,
          133.47422791169512,
          132.7467926326568,
          132.05961629325503,
          131.4091805649778,
          130.79234488991526,
          130.2062989856017,
          129.648521976709,
          129.11674716853827,
          128.6089316253949,
          128.12322984457506,
          127.657970925671,
          127.21163872737208,
          126.782854582084,
          126.37036220455788,
          125.97301448616884,
          125.58976191312681,
          125.21964238614405,
          124.86177225211594,
          124.515338386201,
          124.17959118616069,
          123.85383836064862,
          123.53743940991481,
          123.22980071160814,
          122.93037113642905,
          122.63863812865218,
          122.3541241952854,
          122.07638375510253,
          121.80500030517578
         ],
         "marker": {
          "color": "rgb(148, 103, 189)",
          "size": 8,
          "symbol": "triangle-right"
         },
         "mode": "markers+lines",
         "name": "JFK-PVG",
         "textposition": "middle left",
         "type": "scattergeo"
        },
        {
         "hoverinfo": "text",
         "lat": [
          37.46910095214844
         ],
         "line": {
          "color": "rgb(68, 68, 68)",
          "width": 1
         },
         "locationmode": "ISO-3",
         "lon": [
          132.45099639892578
         ],
         "marker": {
          "color": "rgb(148, 103, 189)",
          "size": 30
         },
         "mode": "markers",
         "name": "Seoul ICN",
         "opacity": 0.7,
         "showlegend": false,
         "text": [
          "Количество рейсов из JFK в ICN: 4"
         ],
         "textposition": "middle left",
         "type": "scattergeo"
        },
        {
         "lat": [
          40.63980102999999,
          41.606673901283855,
          42.57229045764272,
          43.536567206932816,
          44.49941387857435,
          45.460732711984754,
          46.42041765663213,
          47.378353470943075,
          48.334414705221114,
          49.288464551284065,
          50.24035353863586,
          51.18991805356899,
          52.13697865354419,
          53.08133814439367,
          54.022779382200326,
          54.96106275494757,
          55.895923291014064,
          56.8270673320766,
          57.754168696718025,
          58.676864247724886,
          59.594748760388,
          60.507368970766755,
          61.41421666155916,
          62.314720618727975,
          63.20823726435773,
          64.09403974069045,
          64.97130518785835,
          65.83909992546147,
          66.69636221943402,
          67.54188229679175,
          68.37427927199155,
          69.19197468579569,
          69.99316245527604,
          70.7757752282969,
          71.53744747933955,
          72.2754762461392,
          72.98678127674715,
          73.66786763267189,
          74.31479555933115,
          74.92316470573712,
          75.48812240335765,
          76.00440824686353,
          76.4664487403304,
          76.86851482017353,
          77.2049498243918,
          77.47046447406589,
          77.6604788239759,
          77.7714721305158,
          77.80128679915151,
          77.74933000616866,
          77.61663116510485,
          77.40574271070918,
          77.12050566316275,
          76.76572746859162,
          76.34682941918167,
          75.86951436640487,
          75.33948871145874,
          74.76225377443107,
          74.14296638673001,
          73.48635919086821,
          72.79670723206925,
          72.07782731684874,
          71.33309853092183,
          70.56549493589586,
          69.77762402433697,
          68.97176665206378,
          68.14991579361094,
          67.31381262320836,
          66.46497920078171,
          65.60474753763414,
          64.73428511349455,
          63.85461708061388,
          62.966645468868784,
          62.0711657312092,
          61.16888096320779,
          60.260414108138754,
          59.346318428833406,
          58.42708649489896,
          57.50315790183205,
          56.574925908742074,
          55.64274315457297,
          54.70692658909286,
          53.76776173443063,
          52.82550637534549,
          51.88039376141385,
          50.932635391592086,
          49.98242344085102,
          49.02993287949487,
          48.07532332812197,
          47.118740684732785,
          46.16031855505552,
          45.2001795125753,
          44.238436210886256,
          43.27519236771757,
          42.31054363722134,
          41.344578384767956,
          40.377378376507885,
          39.409019394270246,
          38.43957178492988,
          37.46910095214844
         ],
         "line": {
          "color": "rgb(148, 103, 189)",
          "width": 2
         },
         "locationmode": "ISO-3",
         "lon": [
          -73.77890015,
          -74.15399924012469,
          -74.54050528430857,
          -74.93916001610823,
          -75.35076334378282,
          -75.77617919478342,
          -76.21634204293657,
          -76.67226420887724,
          -77.14504403726802,
          -77.63587506921543,
          -78.1460563452963,
          -78.67700399398711,
          -79.23026428228275,
          -79.807528330109,
          -80.41064871791632,
          -81.04165824760435,
          -81.70279115047033,
          -82.39650707164755,
          -83.12551819740551,
          -83.89281992776978,
          -84.70172552895231,
          -85.5559052228974,
          -86.45943017682359,
          -87.4168218317687,
          -88.43310693752134,
          -89.5138785148975,
          -90.66536270559857,
          -91.8944910379839,
          -93.2089769532668,
          -94.6173943883801,
          -96.12925464593276,
          -97.75507549664759,
          -99.50643320259753,
          -101.39598362772236,
          -103.43743252465248,
          -105.64542726498462,
          -108.03533282877422,
          -110.62284456603663,
          -113.4233810963191,
          -116.45119672166699,
          -119.71816064253035,
          -123.23217974717531,
          -126.99530376126911,
          -131.00165334895019,
          -135.2354474017394,
          -139.66954424096292,
          -144.26499093238752,
          -148.97201687838563,
          -153.73266036989625,
          -158.48481104003557,
          -163.1670249734033,
          -167.72321324595734,
          -172.10634763060006,
          -176.2806468835465,
          179.77785389256775,
          176.08207608706047,
          172.6355431076787,
          169.43441562727838,
          166.46953666416067,
          163.72824918469038,
          161.19587719738283,
          158.85685214335214,
          156.6955185736146,
          154.6966756502204,
          152.84591485209185,
          151.12980833665685,
          149.5359926512735,
          148.0531822819692,
          146.67113847686736,
          145.38061143922314,
          144.17326835497673,
          143.04161557092158,
          141.9789202738134,
          140.97913495365162,
          140.03682652668348,
          139.14711105752565,
          138.3055944139286,
          137.50831880907583,
          136.75171496137725,
          136.0325594788794,
          135.34793701899142,
          134.69520675985245,
          134.07197273091666,
          133.47605757630137,
          132.90547935799,
          132.35843104254724,
          131.83326235175184,
          131.3284636928025,
          130.8426519165785,
          130.37455768239872,
          129.92301423469473,
          129.48694742104655,
          129.06536680229385,
          128.65735772414376,
          128.26207423609998,
          127.87873275787278,
          127.50660640594049,
          127.14501990383133,
          126.79334500918662,
          126.45099639892578
         ],
         "marker": {
          "color": "rgb(148, 103, 189)",
          "size": 8,
          "symbol": "triangle-right"
         },
         "mode": "markers+lines",
         "name": "JFK-ICN",
         "textposition": "middle left",
         "type": "scattergeo"
        },
        {
         "hoverinfo": "text",
         "lat": [
          41.275278
         ],
         "line": {
          "color": "rgb(68, 68, 68)",
          "width": 1
         },
         "locationmode": "ISO-3",
         "lon": [
          31.751944
         ],
         "marker": {
          "color": "rgb(148, 103, 189)",
          "size": 20
         },
         "mode": "markers",
         "name": "Istanbul IST",
         "opacity": 0.7,
         "showlegend": false,
         "text": [
          "Количество рейсов из JFK в IST: 2"
         ],
         "textposition": "middle left",
         "type": "scattergeo"
        },
        {
         "lat": [
          40.63980102999999,
          41.102128182726105,
          41.559580191071376,
          42.01200786924972,
          42.45925817935954,
          42.90117420781521,
          43.33759515215692,
          43.76835631943006,
          44.1932891373933,
          44.61222117987942,
          45.02497620769248,
          45.431374226479626,
          45.8312315630608,
          46.224360961736124,
          46.610571702113546,
          46.98966974000814,
          47.36145787295541,
          47.72573593185197,
          48.08230100018482,
          48.43094766223257,
          48.77146828151515,
          49.10365331063053,
          49.42729163344546,
          49.74217094039785,
          50.04807813742402,
          50.34479978873827,
          50.63212259336777,
          50.90983389498349,
          51.177722224166374,
          51.435577871813145,
          51.68319349191975,
          51.9203647314885,
          52.14689088479445,
          52.36257556872463,
          52.56722741538091,
          52.760660777623876,
          52.94269644274224,
          53.11316234897415,
          53.27189429919521,
          53.41873666573679,
          53.55354308002072,
          53.67617710050482,
          53.78651285233797,
          53.88443563213463,
          53.96984247140216,
          54.042642652394456,
          54.1027581705243,
          54.15012413794124,
          54.18468912346634,
          54.20641542476117,
          54.21527926938285,
          54.21127094222525,
          54.19439483774975,
          54.16466943634879,
          54.12212720513974,
          54.066814424433844,
          53.998790942045375,
          53.91812985847644,
          53.82491714681803,
          53.71925121192793,
          53.60124239407117,
          53.47101242272484,
          53.32869382665207,
          53.174429306635346,
          53.00837107742611,
          52.83068018552045,
          52.641525809314686,
          52.441084548037644,
          52.22953970560991,
          52.00708057525576,
          51.77390173030273,
          51.53020232616205,
          51.27618541800133,
          51.0120572981144,
          50.73802685647214,
          50.454304967414956,
          50.161103904931565,
          49.858636788468914,
          49.54711706074167,
          49.22675799856183,
          48.89777225729519,
          48.560371449173886,
          48.214765755354854,
          47.861163571314925,
          47.499771184911886,
          47.1307924862196,
          46.75442870805911,
          46.37087819599726,
          45.98033620646669,
          45.5829947315716,
          45.17904234908323,
          44.768664096090745,
          44.35204136475762,
          43.929351818635595,
          43.500769328006236,
          43.06646392275185,
          42.62660176129932,
          42.181345114231945,
          41.73085236122198,
          41.275278
         ],
         "line": {
          "color": "rgb(148, 103, 189)",
          "width": 2
         },
         "locationmode": "ISO-3",
         "lon": [
          -73.77890015,
          -73.03324139005677,
          -72.27706601644242,
          -71.51016887049649,
          -70.73234726075742,
          -69.94340161244232,
          -69.14313616920629,
          -68.33135974890331,
          -67.50788655482135,
          -66.67253704355417,
          -65.82513885029915,
          -64.96552777192589,
          -64.0935488076397,
          -63.20905725646498,
          -62.311919870086925,
          -61.40201605881892,
          -60.47923914760084,
          -59.543497677984426,
          -58.59471675102453,
          -57.63283940487893,
          -56.65782801972682,
          -55.669665741362955,
          -54.66835791352282,
          -53.65393350766334,
          -52.626446537586645,
          -51.58597744497819,
          -50.53263444066611,
          -49.46655478523209,
          -48.387905991552756,
          -47.29688693096781,
          -46.193728824099374,
          -45.07869609693154,
          -43.9520870826428,
          -42.81423454990978,
          -41.66550603900456,
          -40.506303988021784,
          -39.33706563301839,
          -38.15826266774126,
          -36.97040065095579,
          -35.77401815216,
          -34.56968562964401,
          -33.358004038391584,
          -32.13960316915805,
          -30.915139724124927,
          -29.685295138735523,
          -28.450773163561394,
          -27.212297224228745,
          -25.97060758143376,
          -24.72645831678728,
          -23.48061417354127,
          -22.233847284064584,
          -20.98693381816642,
          -19.740650587941804,
          -18.495771645685682,
          -17.253064911561314,
          -16.013288867111516,
          -14.777189349385013,
          -13.545496478460601,
          -12.318921748546215,
          -11.098155309695603,
          -9.883863463611737,
          -8.676686393101374,
          -7.477236140621843,
          -6.286094847126043,
          -5.1038132581812645,
          -3.930909500207078,
          -2.767868125745671,
          -1.6151394230186698,
          -0.4731389817075564,
          0.6577524960332937,
          1.7771891528261092,
          2.8848597171372328,
          3.9804870453328363,
          5.06382748306744,
          6.134670065105408,
          7.192835573039868,
          8.23817547038126,
          9.270570734180431,
          10.28993060177067,
          11.296191250404588,
          12.289314426569337,
          13.269286040629288,
          14.236114741209919,
          15.18983048243576,
          16.13048309580308,
          17.05814087713159,
          17.97288919772463,
          18.874829147593616,
          19.764076217385988,
          20.640759024509688,
          21.5050180878793,
          22.357004654726424,
          23.196879582021616,
          24.024812274249935,
          24.840979678564103,
          25.64556533770738,
          26.43875850054869,
          27.22075328959982,
          27.991747924484965,
          28.751944
         ],
         "marker": {
          "color": "rgb(148, 103, 189)",
          "size": 8,
          "symbol": "triangle-right"
         },
         "mode": "markers+lines",
         "name": "JFK-IST",
         "textposition": "middle left",
         "type": "scattergeo"
        },
        {
         "hoverinfo": "text",
         "lat": [
          25.2527999878
         ],
         "line": {
          "color": "rgb(68, 68, 68)",
          "width": 1
         },
         "locationmode": "ISO-3",
         "lon": [
          58.3643989563
         ],
         "marker": {
          "color": "rgb(148, 103, 189)",
          "size": 20
         },
         "mode": "markers",
         "name": "Dubai DXB",
         "opacity": 0.7,
         "showlegend": false,
         "text": [
          "Количество рейсов из JFK в DXB: 2"
         ],
         "textposition": "middle left",
         "type": "scattergeo"
        },
        {
         "lat": [
          40.63980102999999,
          41.339661775912305,
          42.03162294945396,
          42.71531412722107,
          43.39034828490028,
          44.05632125485397,
          44.71281121960904,
          45.35937825263957,
          45.9955639194498,
          46.62089095368146,
          47.23486302476732,
          47.83696461549399,
          48.42666102968045,
          49.003398551958306,
          49.56660478328532,
          50.11568917723553,
          50.65004380317751,
          51.16904436304547,
          51.67205148837452,
          52.15841234345178,
          52.627462558654926,
          53.07852851513803,
          53.510929997817776,
          53.923983227974865,
          54.317004279616704,
          54.68931287501402,
          55.040236544566724,
          55.36911512452045,
          55.67530555330051,
          55.95818691374668,
          56.21716565483304,
          56.45168091318187,
          56.66120984256157,
          56.84527284938864,
          57.00343862483102,
          57.13532886017693,
          57.240622532303156,
          57.31905965076911,
          57.37044436743951,
          57.394647363464856,
          57.39160744647401,
          57.3613323122061,
          57.30389844851821,
          57.21945018455824,
          57.10819791259919,
          56.970415533317976,
          56.806437196007025,
          56.61665342237276,
          56.401506715513776,
          56.161486764004344,
          55.897125354667544,
          55.60899110683332,
          55.29768413610542,
          54.96383074755864,
          54.608078247613236,
          54.23108995138828,
          53.833540448906284,
          53.41611117981836,
          52.97948635295847,
          52.52434923450183,
          52.05137881715725,
          51.5612468728974,
          51.054615383345926,
          50.53213433511894,
          49.994439862109296,
          49.442152712797316,
          48.875877018027595,
          48.29619933313981,
          47.703687927712664,
          47.098892296300086,
          46.48234286424982,
          45.854550863850896,
          45.21600835752875,
          44.56718838649041,
          43.90854522502159,
          43.24051472248491,
          42.5635147169045,
          41.877945505803005,
          41.1841903616555,
          40.48261608091464,
          39.77357355703406,
          39.05739836926395,
          38.334411380211876,
          37.60491933625721,
          36.86921546588223,
          36.127580071844584,
          35.380281113872,
          34.627574779218996,
          33.8697060389971,
          33.10690918868058,
          32.33940837161094,
          31.567418084679645,
          30.791143665670248,
          30.010781761993496,
          29.22652078075747,
          28.438541320288845,
          27.6470165833599,
          26.852112772490027,
          26.053989467779218,
          25.2527999878
         ],
         "line": {
          "color": "rgb(148, 103, 189)",
          "width": 2
         },
         "locationmode": "ISO-3",
         "lon": [
          -73.77890015,
          -72.83373760957848,
          -71.8681580191256,
          -70.88145236224139,
          -69.87290414170693,
          -68.84179179563229,
          -67.78739154038324,
          -66.70898068317035,
          -65.60584144788714,
          -64.47726535753186,
          -63.32255821506776,
          -62.141045721553795,
          -60.932079765469915,
          -59.6950454099949,
          -58.42936859518586,
          -57.13452455917443,
          -55.8100469662842,
          -54.45553771009859,
          -53.070677335780864,
          -51.65523599834065,
          -50.20908484222991,
          -48.73220765308771,
          -47.22471259541428,
          -45.68684381159947,
          -44.118992619636415,
          -42.52170801101701,
          -40.8957061191333,
          -39.24187830471938,
          -37.561297491373374,
          -35.8552223839125,
          -34.12509921789342,
          -32.372560722200966,
          -30.59942202943216,
          -28.80767334099791,
          -26.999469244144333,
          -25.177114683633633,
          -23.343047707240142,
          -21.49981922574677,
          -19.650070147957305,
          -17.796506362014,
          -15.941872128757543,
          -14.08892252446396,
          -12.240395613927816,
          -10.398985047340869,
          -8.567313754821729,
          -6.747909362226905,
          -4.943181874676087,
          -3.1554040755319432,
          -1.3866949751365878,
          0.3609934772303067,
          2.0858863256548537,
          3.7863922060815627,
          5.461106735381897,
          7.108812901820172,
          8.728478735670205,
          10.319252587209533,
          11.88045636873055,
          13.411577129038516,
          14.912257325430367,
          16.382284142099437,
          17.8215781782272,
          19.230181796583715,
          20.608247386925687,
          21.95602576016995,
          23.273854851136498,
          24.562148871083302,
          25.821388017361205,
          27.0521088170042,
          28.254895154321595,
          29.430370009699235,
          30.579187917779795,
          31.702028137762657,
          32.799588516437474,
          33.87258001537849,
          34.921721867098974,
          35.9477373205081,
          36.951349933363716,
          37.9332803682336,
          38.894243648461654,
          39.83494683151843,
          40.75608705866955,
          41.65834994192674,
          42.542408251599994,
          43.408920870312684,
          44.25853198197604,
          45.09187046686439,
          45.90954947652866,
          46.712166164789195,
          47.50030155342906,
          48.27452051344592,
          49.03537184480274,
          49.78338843953919,
          50.519087514867024,
          51.24297090447766,
          51.95552539774321,
          52.65722311780318,
          53.34852193070537,
          54.0298658788211,
          54.70168563269233,
          55.3643989563
         ],
         "marker": {
          "color": "rgb(148, 103, 189)",
          "size": 8,
          "symbol": "triangle-right"
         },
         "mode": "markers+lines",
         "name": "JFK-DXB",
         "textposition": "middle left",
         "type": "scattergeo"
        }
       ],
       "layout": {
        "geo": {
         "resolution": 110,
         "showcountries": true
        },
        "template": {
         "data": {
          "bar": [
           {
            "error_x": {
             "color": "#2a3f5f"
            },
            "error_y": {
             "color": "#2a3f5f"
            },
            "marker": {
             "line": {
              "color": "#E5ECF6",
              "width": 0.5
             },
             "pattern": {
              "fillmode": "overlay",
              "size": 10,
              "solidity": 0.2
             }
            },
            "type": "bar"
           }
          ],
          "barpolar": [
           {
            "marker": {
             "line": {
              "color": "#E5ECF6",
              "width": 0.5
             },
             "pattern": {
              "fillmode": "overlay",
              "size": 10,
              "solidity": 0.2
             }
            },
            "type": "barpolar"
           }
          ],
          "carpet": [
           {
            "aaxis": {
             "endlinecolor": "#2a3f5f",
             "gridcolor": "white",
             "linecolor": "white",
             "minorgridcolor": "white",
             "startlinecolor": "#2a3f5f"
            },
            "baxis": {
             "endlinecolor": "#2a3f5f",
             "gridcolor": "white",
             "linecolor": "white",
             "minorgridcolor": "white",
             "startlinecolor": "#2a3f5f"
            },
            "type": "carpet"
           }
          ],
          "choropleth": [
           {
            "colorbar": {
             "outlinewidth": 0,
             "ticks": ""
            },
            "type": "choropleth"
           }
          ],
          "contour": [
           {
            "colorbar": {
             "outlinewidth": 0,
             "ticks": ""
            },
            "colorscale": [
             [
              0,
              "#0d0887"
             ],
             [
              0.1111111111111111,
              "#46039f"
             ],
             [
              0.2222222222222222,
              "#7201a8"
             ],
             [
              0.3333333333333333,
              "#9c179e"
             ],
             [
              0.4444444444444444,
              "#bd3786"
             ],
             [
              0.5555555555555556,
              "#d8576b"
             ],
             [
              0.6666666666666666,
              "#ed7953"
             ],
             [
              0.7777777777777778,
              "#fb9f3a"
             ],
             [
              0.8888888888888888,
              "#fdca26"
             ],
             [
              1,
              "#f0f921"
             ]
            ],
            "type": "contour"
           }
          ],
          "contourcarpet": [
           {
            "colorbar": {
             "outlinewidth": 0,
             "ticks": ""
            },
            "type": "contourcarpet"
           }
          ],
          "heatmap": [
           {
            "colorbar": {
             "outlinewidth": 0,
             "ticks": ""
            },
            "colorscale": [
             [
              0,
              "#0d0887"
             ],
             [
              0.1111111111111111,
              "#46039f"
             ],
             [
              0.2222222222222222,
              "#7201a8"
             ],
             [
              0.3333333333333333,
              "#9c179e"
             ],
             [
              0.4444444444444444,
              "#bd3786"
             ],
             [
              0.5555555555555556,
              "#d8576b"
             ],
             [
              0.6666666666666666,
              "#ed7953"
             ],
             [
              0.7777777777777778,
              "#fb9f3a"
             ],
             [
              0.8888888888888888,
              "#fdca26"
             ],
             [
              1,
              "#f0f921"
             ]
            ],
            "type": "heatmap"
           }
          ],
          "heatmapgl": [
           {
            "colorbar": {
             "outlinewidth": 0,
             "ticks": ""
            },
            "colorscale": [
             [
              0,
              "#0d0887"
             ],
             [
              0.1111111111111111,
              "#46039f"
             ],
             [
              0.2222222222222222,
              "#7201a8"
             ],
             [
              0.3333333333333333,
              "#9c179e"
             ],
             [
              0.4444444444444444,
              "#bd3786"
             ],
             [
              0.5555555555555556,
              "#d8576b"
             ],
             [
              0.6666666666666666,
              "#ed7953"
             ],
             [
              0.7777777777777778,
              "#fb9f3a"
             ],
             [
              0.8888888888888888,
              "#fdca26"
             ],
             [
              1,
              "#f0f921"
             ]
            ],
            "type": "heatmapgl"
           }
          ],
          "histogram": [
           {
            "marker": {
             "pattern": {
              "fillmode": "overlay",
              "size": 10,
              "solidity": 0.2
             }
            },
            "type": "histogram"
           }
          ],
          "histogram2d": [
           {
            "colorbar": {
             "outlinewidth": 0,
             "ticks": ""
            },
            "colorscale": [
             [
              0,
              "#0d0887"
             ],
             [
              0.1111111111111111,
              "#46039f"
             ],
             [
              0.2222222222222222,
              "#7201a8"
             ],
             [
              0.3333333333333333,
              "#9c179e"
             ],
             [
              0.4444444444444444,
              "#bd3786"
             ],
             [
              0.5555555555555556,
              "#d8576b"
             ],
             [
              0.6666666666666666,
              "#ed7953"
             ],
             [
              0.7777777777777778,
              "#fb9f3a"
             ],
             [
              0.8888888888888888,
              "#fdca26"
             ],
             [
              1,
              "#f0f921"
             ]
            ],
            "type": "histogram2d"
           }
          ],
          "histogram2dcontour": [
           {
            "colorbar": {
             "outlinewidth": 0,
             "ticks": ""
            },
            "colorscale": [
             [
              0,
              "#0d0887"
             ],
             [
              0.1111111111111111,
              "#46039f"
             ],
             [
              0.2222222222222222,
              "#7201a8"
             ],
             [
              0.3333333333333333,
              "#9c179e"
             ],
             [
              0.4444444444444444,
              "#bd3786"
             ],
             [
              0.5555555555555556,
              "#d8576b"
             ],
             [
              0.6666666666666666,
              "#ed7953"
             ],
             [
              0.7777777777777778,
              "#fb9f3a"
             ],
             [
              0.8888888888888888,
              "#fdca26"
             ],
             [
              1,
              "#f0f921"
             ]
            ],
            "type": "histogram2dcontour"
           }
          ],
          "mesh3d": [
           {
            "colorbar": {
             "outlinewidth": 0,
             "ticks": ""
            },
            "type": "mesh3d"
           }
          ],
          "parcoords": [
           {
            "line": {
             "colorbar": {
              "outlinewidth": 0,
              "ticks": ""
             }
            },
            "type": "parcoords"
           }
          ],
          "pie": [
           {
            "automargin": true,
            "type": "pie"
           }
          ],
          "scatter": [
           {
            "fillpattern": {
             "fillmode": "overlay",
             "size": 10,
             "solidity": 0.2
            },
            "type": "scatter"
           }
          ],
          "scatter3d": [
           {
            "line": {
             "colorbar": {
              "outlinewidth": 0,
              "ticks": ""
             }
            },
            "marker": {
             "colorbar": {
              "outlinewidth": 0,
              "ticks": ""
             }
            },
            "type": "scatter3d"
           }
          ],
          "scattercarpet": [
           {
            "marker": {
             "colorbar": {
              "outlinewidth": 0,
              "ticks": ""
             }
            },
            "type": "scattercarpet"
           }
          ],
          "scattergeo": [
           {
            "marker": {
             "colorbar": {
              "outlinewidth": 0,
              "ticks": ""
             }
            },
            "type": "scattergeo"
           }
          ],
          "scattergl": [
           {
            "marker": {
             "colorbar": {
              "outlinewidth": 0,
              "ticks": ""
             }
            },
            "type": "scattergl"
           }
          ],
          "scattermapbox": [
           {
            "marker": {
             "colorbar": {
              "outlinewidth": 0,
              "ticks": ""
             }
            },
            "type": "scattermapbox"
           }
          ],
          "scatterpolar": [
           {
            "marker": {
             "colorbar": {
              "outlinewidth": 0,
              "ticks": ""
             }
            },
            "type": "scatterpolar"
           }
          ],
          "scatterpolargl": [
           {
            "marker": {
             "colorbar": {
              "outlinewidth": 0,
              "ticks": ""
             }
            },
            "type": "scatterpolargl"
           }
          ],
          "scatterternary": [
           {
            "marker": {
             "colorbar": {
              "outlinewidth": 0,
              "ticks": ""
             }
            },
            "type": "scatterternary"
           }
          ],
          "surface": [
           {
            "colorbar": {
             "outlinewidth": 0,
             "ticks": ""
            },
            "colorscale": [
             [
              0,
              "#0d0887"
             ],
             [
              0.1111111111111111,
              "#46039f"
             ],
             [
              0.2222222222222222,
              "#7201a8"
             ],
             [
              0.3333333333333333,
              "#9c179e"
             ],
             [
              0.4444444444444444,
              "#bd3786"
             ],
             [
              0.5555555555555556,
              "#d8576b"
             ],
             [
              0.6666666666666666,
              "#ed7953"
             ],
             [
              0.7777777777777778,
              "#fb9f3a"
             ],
             [
              0.8888888888888888,
              "#fdca26"
             ],
             [
              1,
              "#f0f921"
             ]
            ],
            "type": "surface"
           }
          ],
          "table": [
           {
            "cells": {
             "fill": {
              "color": "#EBF0F8"
             },
             "line": {
              "color": "white"
             }
            },
            "header": {
             "fill": {
              "color": "#C8D4E3"
             },
             "line": {
              "color": "white"
             }
            },
            "type": "table"
           }
          ]
         },
         "layout": {
          "annotationdefaults": {
           "arrowcolor": "#2a3f5f",
           "arrowhead": 0,
           "arrowwidth": 1
          },
          "autotypenumbers": "strict",
          "coloraxis": {
           "colorbar": {
            "outlinewidth": 0,
            "ticks": ""
           }
          },
          "colorscale": {
           "diverging": [
            [
             0,
             "#8e0152"
            ],
            [
             0.1,
             "#c51b7d"
            ],
            [
             0.2,
             "#de77ae"
            ],
            [
             0.3,
             "#f1b6da"
            ],
            [
             0.4,
             "#fde0ef"
            ],
            [
             0.5,
             "#f7f7f7"
            ],
            [
             0.6,
             "#e6f5d0"
            ],
            [
             0.7,
             "#b8e186"
            ],
            [
             0.8,
             "#7fbc41"
            ],
            [
             0.9,
             "#4d9221"
            ],
            [
             1,
             "#276419"
            ]
           ],
           "sequential": [
            [
             0,
             "#0d0887"
            ],
            [
             0.1111111111111111,
             "#46039f"
            ],
            [
             0.2222222222222222,
             "#7201a8"
            ],
            [
             0.3333333333333333,
             "#9c179e"
            ],
            [
             0.4444444444444444,
             "#bd3786"
            ],
            [
             0.5555555555555556,
             "#d8576b"
            ],
            [
             0.6666666666666666,
             "#ed7953"
            ],
            [
             0.7777777777777778,
             "#fb9f3a"
            ],
            [
             0.8888888888888888,
             "#fdca26"
            ],
            [
             1,
             "#f0f921"
            ]
           ],
           "sequentialminus": [
            [
             0,
             "#0d0887"
            ],
            [
             0.1111111111111111,
             "#46039f"
            ],
            [
             0.2222222222222222,
             "#7201a8"
            ],
            [
             0.3333333333333333,
             "#9c179e"
            ],
            [
             0.4444444444444444,
             "#bd3786"
            ],
            [
             0.5555555555555556,
             "#d8576b"
            ],
            [
             0.6666666666666666,
             "#ed7953"
            ],
            [
             0.7777777777777778,
             "#fb9f3a"
            ],
            [
             0.8888888888888888,
             "#fdca26"
            ],
            [
             1,
             "#f0f921"
            ]
           ]
          },
          "colorway": [
           "#636efa",
           "#EF553B",
           "#00cc96",
           "#ab63fa",
           "#FFA15A",
           "#19d3f3",
           "#FF6692",
           "#B6E880",
           "#FF97FF",
           "#FECB52"
          ],
          "font": {
           "color": "#2a3f5f"
          },
          "geo": {
           "bgcolor": "white",
           "lakecolor": "white",
           "landcolor": "#E5ECF6",
           "showlakes": true,
           "showland": true,
           "subunitcolor": "white"
          },
          "hoverlabel": {
           "align": "left"
          },
          "hovermode": "closest",
          "mapbox": {
           "style": "light"
          },
          "paper_bgcolor": "white",
          "plot_bgcolor": "#E5ECF6",
          "polar": {
           "angularaxis": {
            "gridcolor": "white",
            "linecolor": "white",
            "ticks": ""
           },
           "bgcolor": "#E5ECF6",
           "radialaxis": {
            "gridcolor": "white",
            "linecolor": "white",
            "ticks": ""
           }
          },
          "scene": {
           "xaxis": {
            "backgroundcolor": "#E5ECF6",
            "gridcolor": "white",
            "gridwidth": 2,
            "linecolor": "white",
            "showbackground": true,
            "ticks": "",
            "zerolinecolor": "white"
           },
           "yaxis": {
            "backgroundcolor": "#E5ECF6",
            "gridcolor": "white",
            "gridwidth": 2,
            "linecolor": "white",
            "showbackground": true,
            "ticks": "",
            "zerolinecolor": "white"
           },
           "zaxis": {
            "backgroundcolor": "#E5ECF6",
            "gridcolor": "white",
            "gridwidth": 2,
            "linecolor": "white",
            "showbackground": true,
            "ticks": "",
            "zerolinecolor": "white"
           }
          },
          "shapedefaults": {
           "line": {
            "color": "#2a3f5f"
           }
          },
          "ternary": {
           "aaxis": {
            "gridcolor": "white",
            "linecolor": "white",
            "ticks": ""
           },
           "baxis": {
            "gridcolor": "white",
            "linecolor": "white",
            "ticks": ""
           },
           "bgcolor": "#E5ECF6",
           "caxis": {
            "gridcolor": "white",
            "linecolor": "white",
            "ticks": ""
           }
          },
          "title": {
           "x": 0.05
          },
          "xaxis": {
           "automargin": true,
           "gridcolor": "white",
           "linecolor": "white",
           "ticks": "",
           "title": {
            "standoff": 15
           },
           "zerolinecolor": "white",
           "zerolinewidth": 2
          },
          "yaxis": {
           "automargin": true,
           "gridcolor": "white",
           "linecolor": "white",
           "ticks": "",
           "title": {
            "standoff": 15
           },
           "zerolinecolor": "white",
           "zerolinewidth": 2
          }
         }
        }
       }
      },
      "text/html": [
       "<div>                            <div id=\"4a48dcf3-a430-45f9-b169-ab7086c5b3c0\" class=\"plotly-graph-div\" style=\"height:525px; width:100%;\"></div>            <script type=\"text/javascript\">                require([\"plotly\"], function(Plotly) {                    window.PLOTLYENV=window.PLOTLYENV || {};                                    if (document.getElementById(\"4a48dcf3-a430-45f9-b169-ab7086c5b3c0\")) {                    Plotly.newPlot(                        \"4a48dcf3-a430-45f9-b169-ab7086c5b3c0\",                        [{\"hoverinfo\":\"text\",\"lat\":[33.6367],\"line\":{\"color\":\"rgb(68, 68, 68)\",\"width\":1},\"locationmode\":\"ISO-3\",\"lon\":[-84.428101],\"marker\":{\"color\":\"rgb(31, 119, 180)\",\"line\":{\"color\":\"black\",\"width\":3},\"size\":10},\"mode\":\"markers+text\",\"name\":\"Atlanta ATL\",\"text\":[\"Atlanta ATL\"],\"type\":\"scattergeo\",\"textposition\":\"middle left\"},{\"hoverinfo\":\"text\",\"lat\":[40.0801010131836],\"line\":{\"color\":\"rgb(68, 68, 68)\",\"width\":1},\"locationmode\":\"ISO-3\",\"lon\":[116.58499908447266],\"marker\":{\"color\":\"black\",\"size\":15,\"symbol\":\"x\"},\"mode\":\"markers+text\",\"name\":\"Beijing PEK\",\"text\":[\"Beijing PEK\"],\"type\":\"scattergeo\",\"textposition\":\"middle left\"},{\"hoverinfo\":\"text\",\"lat\":[41.9786],\"line\":{\"color\":\"rgb(68, 68, 68)\",\"width\":1},\"locationmode\":\"ISO-3\",\"lon\":[-87.9048],\"marker\":{\"color\":\"rgb(255, 127, 14)\",\"line\":{\"color\":\"black\",\"width\":3},\"size\":10},\"mode\":\"markers+text\",\"name\":\"Chicago ORD\",\"text\":[\"Chicago ORD\"],\"type\":\"scattergeo\",\"textposition\":\"middle left\"},{\"hoverinfo\":\"text\",\"lat\":[31.143400192260746],\"line\":{\"color\":\"rgb(68, 68, 68)\",\"width\":1},\"locationmode\":\"ISO-3\",\"lon\":[121.80500030517578],\"marker\":{\"color\":\"black\",\"size\":15,\"symbol\":\"x\"},\"mode\":\"markers+text\",\"name\":\"Shanghai PVG\",\"text\":[\"Shanghai PVG\"],\"type\":\"scattergeo\",\"textposition\":\"middle left\"},{\"hoverinfo\":\"text\",\"lat\":[33.94250107],\"line\":{\"color\":\"rgb(68, 68, 68)\",\"width\":1},\"locationmode\":\"ISO-3\",\"lon\":[-118.4079971],\"marker\":{\"color\":\"rgb(44, 160, 44)\",\"line\":{\"color\":\"black\",\"width\":3},\"size\":10},\"mode\":\"markers+text\",\"name\":\"Los Angeles LAX\",\"text\":[\"Los Angeles LAX\"],\"type\":\"scattergeo\",\"textposition\":\"middle left\"},{\"hoverinfo\":\"text\",\"lat\":[1.35019],\"line\":{\"color\":\"rgb(68, 68, 68)\",\"width\":1},\"locationmode\":\"ISO-3\",\"lon\":[103.994003],\"marker\":{\"color\":\"black\",\"size\":15,\"symbol\":\"x\"},\"mode\":\"markers+text\",\"name\":\"Singapore SIN\",\"text\":[\"Singapore SIN\"],\"type\":\"scattergeo\",\"textposition\":\"middle left\"},{\"hoverinfo\":\"text\",\"lat\":[32.896801],\"line\":{\"color\":\"rgb(68, 68, 68)\",\"width\":1},\"locationmode\":\"ISO-3\",\"lon\":[-97.038002],\"marker\":{\"color\":\"rgb(214, 39, 40)\",\"line\":{\"color\":\"black\",\"width\":3},\"size\":10},\"mode\":\"markers+text\",\"name\":\"Dallas-Fort Worth DFW\",\"text\":[\"Dallas-Fort Worth DFW\"],\"type\":\"scattergeo\",\"textposition\":\"middle left\"},{\"hoverinfo\":\"text\",\"lat\":[37.46910095214844],\"line\":{\"color\":\"rgb(68, 68, 68)\",\"width\":1},\"locationmode\":\"ISO-3\",\"lon\":[126.45099639892578],\"marker\":{\"color\":\"black\",\"size\":15,\"symbol\":\"x\"},\"mode\":\"markers+text\",\"name\":\"Seoul ICN\",\"text\":[\"Seoul ICN\"],\"type\":\"scattergeo\",\"textposition\":\"middle left\"},{\"hoverinfo\":\"text\",\"lat\":[40.63980103],\"line\":{\"color\":\"rgb(68, 68, 68)\",\"width\":1},\"locationmode\":\"ISO-3\",\"lon\":[-73.77890015],\"marker\":{\"color\":\"rgb(148, 103, 189)\",\"line\":{\"color\":\"black\",\"width\":3},\"size\":10},\"mode\":\"markers+text\",\"name\":\"New York JFK\",\"text\":[\"New York JFK\"],\"type\":\"scattergeo\",\"textposition\":\"middle left\"},{\"hoverinfo\":\"text\",\"lat\":[41.275278],\"line\":{\"color\":\"rgb(68, 68, 68)\",\"width\":1},\"locationmode\":\"ISO-3\",\"lon\":[28.751944],\"marker\":{\"color\":\"black\",\"size\":15,\"symbol\":\"x\"},\"mode\":\"markers+text\",\"name\":\"Istanbul IST\",\"text\":[\"Istanbul IST\"],\"type\":\"scattergeo\",\"textposition\":\"middle left\"},{\"hoverinfo\":\"text\",\"lat\":[39.861698150635],\"line\":{\"color\":\"rgb(68, 68, 68)\",\"width\":1},\"locationmode\":\"ISO-3\",\"lon\":[-104.672996521],\"marker\":{\"color\":\"rgb(140, 86, 75)\",\"line\":{\"color\":\"black\",\"width\":3},\"size\":10},\"mode\":\"markers+text\",\"name\":\"Denver DEN\",\"text\":[\"Denver DEN\"],\"type\":\"scattergeo\",\"textposition\":\"middle left\"},{\"hoverinfo\":\"text\",\"lat\":[25.2527999878],\"line\":{\"color\":\"rgb(68, 68, 68)\",\"width\":1},\"locationmode\":\"ISO-3\",\"lon\":[55.3643989563],\"marker\":{\"color\":\"black\",\"size\":15,\"symbol\":\"x\"},\"mode\":\"markers+text\",\"name\":\"Dubai DXB\",\"text\":[\"Dubai DXB\"],\"type\":\"scattergeo\",\"textposition\":\"middle left\"},{\"hoverinfo\":\"text\",\"lat\":[37.46910095214844],\"line\":{\"color\":\"rgb(68, 68, 68)\",\"width\":1},\"locationmode\":\"ISO-3\",\"lon\":[125.45099639892578],\"marker\":{\"color\":\"rgb(31, 119, 180)\",\"size\":20},\"mode\":\"markers\",\"name\":\"Seoul ICN\",\"opacity\":0.7,\"showlegend\":false,\"text\":[\"\\u041a\\u043e\\u043b\\u0438\\u0447\\u0435\\u0441\\u0442\\u0432\\u043e \\u0440\\u0435\\u0439\\u0441\\u043e\\u0432 \\u0438\\u0437 ATL \\u0432 ICN: 2\"],\"type\":\"scattergeo\",\"textposition\":\"middle left\"},{\"lat\":[33.6367,34.583255474826316,35.527462694563795,36.46918097249268,37.40826047848237,38.344541459504974,39.27785338693051,40.20801402303497,41.134828398376975,42.058087690859374,42.97756799638696,43.89302898006774,44.8042123958859,45.710840461716955,46.61261407547649,47.509210857124735,48.40028300023378,49.28545491592163,50.16432065125315,51.03644106381286,51.901340734222956,52.758504599106985,53.6073742886502,54.44734415581206,55.27775698883648,56.0978994055123,56.90699693732814,57.70420882504386,58.4886225652239,59.2592482710464,60.015012941436694,60.7547547715478,61.477217686030535,62.18104633534075,62.864781864888165,63.52685884649179,64.16560384911728,64.77923621663075,65.36587170652572,65.9235297134827,66.4501448388815,66.94358355121601,67.4016665887041,67.82219755977694,68.20299787960555,68.54194773289038,68.83703218599383,69.08639092356061,69.28836942559239,69.4415688279781,69.54489133517525,69.59757798298769,69.59923585148347,69.54985251125608,69.44979648441085,69.29980368092093,69.10095095619522,68.85461895031652,68.56244707582233,68.2262838482448,67.8481357055079,67.4301171047231,66.97440412138276,66.48319311915986,65.95866540741083,65.40295822959848,64.8181419695861,64.20620313685538,63.56903248870356,62.908417547926895,62.22603875405223,61.52346852064769,60.802172539572844,60.06351275859735,59.30875154955649,58.539056672102504,57.755506718370974,56.959096794126054,56.15074425144977,55.33129433710889,54.501525660285814,53.66215541459008,52.81384431344987,51.957201216343776,51.09278743698229,50.22112073445234,49.34267899531231,48.45790361933944,47.56720262463335,46.67095348949824,45.7695057493066,44.86318336665037,43.952286892716245,43.03709543713346,42.117868462650115,41.19484741998402,40.26825723712625,39.33830767629729,38.405194570694476,37.46910095214844],\"line\":{\"color\":\"rgb(31, 119, 180)\",\"width\":2},\"locationmode\":\"ISO-3\",\"lon\":[-84.428101,-84.95860603292428,-85.50132038531922,-86.05694241460313,-86.62621192148397,-87.20991327680613,-87.80887878290469,-88.42399228441391,-89.05619304319846,-89.70647989134363,-90.37591567480234,-91.06563199815963,-91.77683427779469,-92.51080710619321,-93.26891992390313,-94.05263298716051,-94.86350360794641,-95.70319262844832,-96.57347107270138,-97.47622689350695,-98.41347170128532,-99.38734732180295,-100.4001319799678,-101.45424584511734,-102.55225559725012,-103.69687758117583,-104.89097900435064,-106.13757650232317,-107.43983124211876,-108.80103955884276,-110.22461792696512,-111.71408086149997,-113.27301013732819,-114.90501352640595,-116.6136711116443,-118.40246718428484,-120.27470582443057,-122.23340857269342,-124.28119320790701,-126.42013364018206,-128.65160239026804,-130.97609910369684,-133.39307102626853,-135.90073422833424,-138.495907351051,-141.17387233739205,-143.92827843182403,-146.75110602709097,-149.63270509132417,-152.5619185407773,-155.52629407838293,-158.51237931050565,-161.50608557093466,-164.49309739897197,-167.45929864946342,-170.391183976068,-173.2762263976892,-176.10317741526578,-178.8622845121509,178.4545797534822,175.8538740625222,173.34042006227014,170.9174949787876,168.58696858485544,166.3494681670143,164.20455687753247,162.15091350916734,160.18650471164983,158.30874354733277,156.51463079126776,154.80087739232522,153.16400800615983,151.60044653324834,150.10658522466406,148.6788392432991,147.31368867276393,146.0077099217741,144.75759833524637,143.5601836369049,142.41243962175417,141.31148931005617,140.25460657958487,139.2392151165513,138.2628853705753,137.32333006584895,136.41839870814093,135.54607143366675,134.7044524688744,133.89176340757254,133.10633646136455,132.34660779903948,131.61111105864313,130.89847109087546,130.20739797294306,129.53668131694909,128.88518488543366,128.25184151804768,127.63564836695677,127.03566243394455,126.45099639892578],\"marker\":{\"color\":\"rgb(31, 119, 180)\",\"size\":8,\"symbol\":\"triangle-right\"},\"mode\":\"markers+lines\",\"name\":\"ATL-ICN\",\"type\":\"scattergeo\",\"textposition\":\"middle left\"},{\"hoverinfo\":\"text\",\"lat\":[25.2527999878],\"line\":{\"color\":\"rgb(68, 68, 68)\",\"width\":1},\"locationmode\":\"ISO-3\",\"lon\":[54.8643989563],\"marker\":{\"color\":\"rgb(31, 119, 180)\",\"size\":15},\"mode\":\"markers\",\"name\":\"Dubai DXB\",\"opacity\":0.7,\"showlegend\":false,\"text\":[\"\\u041a\\u043e\\u043b\\u0438\\u0447\\u0435\\u0441\\u0442\\u0432\\u043e \\u0440\\u0435\\u0439\\u0441\\u043e\\u0432 \\u0438\\u0437 ATL \\u0432 DXB: 1\"],\"type\":\"scattergeo\",\"textposition\":\"middle left\"},{\"lat\":[33.6367,34.503619107008305,35.3647363268016,36.219735777501214,37.0682846112571,37.91003197888283,38.74460795030929,39.571622393058654,40.39066381211325,41.20129815597365,42.00306759540326,42.79548928338037,43.578054107164114,44.35022544616537,45.11143795253613,45.861096375079626,46.59857445126054,47.3232138967646,48.03432352720418,48.731178552140776,49.41302008751207,50.07905493866872,50.728455712341436,51.36036132169321,51.97387795379705,52.56808057295331,53.14201503566049,53.69470089312159,54.22513495417136,54.732295674666894,55.21514842792475,55.67265169401415,56.10376418311344,56.50745287946897,56.882701957941485,57.22852248539227,57.54396277558569,57.82811922088223,58.08014737944587,58.299273056221644,58.484803083121136,58.63613548227146,58.752768689048004,58.83430952132547,58.880479609141304,58.891120044449316,58.866194071885594,58.80578771492319,58.7101083126289,58.57948102482326,58.41434344196023,58.21523850510947,57.982805996677946,57.71777290101406,57.42094295449505,57.093185707423956,56.73542540677902,56.34862998234575,55.933800382432295,55.491960462844794,55.024147587545876,54.53140405446457,54.014769417691156,53.47527373951362,52.91393177351166,52.33173805369657,51.729662844471726,51.10864889162483,50.46960890504743,49.813423698675,49.140940911466814,48.45297423433487,47.75030307107693,47.033672565951164,46.303793936026445,45.56134505242813,44.8069712207449,44.041286116919096,43.26487284073643,42.47828505444116,41.68204817896253,40.87666062471056,40.06259503787875,39.240299546689364,38.41019899505962,37.5726961537863,36.72817290158254,35.87699137018952,35.019495049371585,34.15600984891859,33.2868451158637,32.41229460600761,31.53263740955221,30.648138831213057,29.759051225624493,28.865614789192545,27.968058309807567,27.06659987601513,26.16144754737247,25.2527999878],\"line\":{\"color\":\"rgb(31, 119, 180)\",\"width\":2},\"locationmode\":\"ISO-3\",\"lon\":[-84.428101,-83.59294256143257,-82.74028828304552,-81.86931289597844,-80.97916112496237,-80.06894729678251,-79.13775515177798,-78.18463790274856,-77.2086185923016,-76.20869080698796,-75.18381981451584,-74.13294419883098,-73.05497807679204,-71.94881398937088,-70.81332656949779,-69.64737709748306,-68.44981906287443,-67.21950485800657,-65.95529373253486,-64.65606113889987,-63.32070959471328,-61.94818117804924,-60.537471753942675,-59.08764700326131,-57.59786028670132,-56.06737232518857,-54.49557261194119,-52.882002389853795,-51.22637893050534,-49.528620738946046,-47.78887318402089,-46.007533921806406,-44.18527734645951,-42.32307717745071,-40.42222618604367,-38.48435199001581,-36.511427817862966,-34.50577717548112,-32.47007145072544,-30.407319671263906,-28.32084988956254,-26.21428199871791,-24.091492168668125,-21.95656951025553,-19.813765994138045,-17.66744103825339,-15.5220024970256,-13.381846007676135,-11.251294752141066,-9.134541666903353,-7.035595980160125,-4.958235691309805,-2.9059672572990944,-0.8819933462466503,1.1108109041210186,3.0699130940660297,4.993130572071588,6.878629886859706,8.72491954763668,10.530837107362942,12.295531656746963,14.018442822999882,15.699277319436515,17.337984003543088,18.9347282858191,20.489866601944286,22.003921527029924,23.477557980985903,24.911560854138706,26.306814275820884,27.664282657585368,28.98499356743282,30.27002243142026,31.520479012993512,32.73749558672285,33.92221670000226,35.07579040188083,36.199360810804826,37.29406189110618,38.361012310222364,39.40131125372877,40.41603508236449,41.40623472358614,42.372933699199365,43.31712669985095,44.23977862628769,45.14182402606918,46.02416686270755,46.88768056190182,47.733208286589374,48.56156339893737,49.37353007314877,50.169864028090316,50.95129335329555,51.718519405900935,52.472217759580175,53.21303918960132,53.94161068078479,54.658536447435736,55.3643989563],\"marker\":{\"color\":\"rgb(31, 119, 180)\",\"size\":8,\"symbol\":\"triangle-right\"},\"mode\":\"markers+lines\",\"name\":\"ATL-DXB\",\"type\":\"scattergeo\",\"textposition\":\"middle left\"},{\"hoverinfo\":\"text\",\"lat\":[40.0801010131836],\"line\":{\"color\":\"rgb(68, 68, 68)\",\"width\":1},\"locationmode\":\"ISO-3\",\"lon\":[116.58499908447266],\"marker\":{\"color\":\"rgb(255, 127, 14)\",\"size\":35},\"mode\":\"markers\",\"name\":\"Beijing PEK\",\"opacity\":0.7,\"showlegend\":false,\"text\":[\"\\u041a\\u043e\\u043b\\u0438\\u0447\\u0435\\u0441\\u0442\\u0432\\u043e \\u0440\\u0435\\u0439\\u0441\\u043e\\u0432 \\u0438\\u0437 ORD \\u0432 PEK: 5\"],\"type\":\"scattergeo\",\"textposition\":\"middle left\"},{\"lat\":[41.9786,42.887419290845706,43.794680576054816,44.70028482546877,45.60412529355736,46.50608675274959,47.4060446374946,48.30386408715128,49.19939887405593,50.09249020109502,50.98296535077118,51.870636165049035,52.75529733214565,53.63672445283211,54.51467185466998,55.388870117852534,56.2590232708872,57.12480560817814,57.98585807459804,58.84178415435255,59.69214519286638,60.53645507115904,61.37417414246468,62.20470233110082,63.027371284520136,63.84143546221818,64.64606204146693,65.44031952231862,66.22316492680255,66.99342951520434,67.74980299341496,68.49081626997622,69.21482295330598,69.91997997587849,70.6042280131786,71.26527275263788,71.90056858005204,72.5073068954334,73.08241202897969,73.62254853740063,74.12414438660139,74.58343493846436,74.99653242325823,75.35952429056609,75.66860111990971,75.92021049195557,76.11122769888439,76.23912839921356,76.30214391344252,76.2993786291537,76.23087219084394,76.09759670786418,75.90138942743395,75.64483140885096,75.33108997201813,74.9637455087758,74.54662168912624,74.08363349961304,73.5786617438292,73.03545718870964,72.45757338722274,71.84832462605809,71.21076426231555,70.54767854637427,69.8615914776673,69.15477698026858,68.42927549449976,67.68691283154999,66.92931977168782,66.15795138794755,65.37410545484055,64.57893957474434,63.77348684476212,62.95867001412941,62.1353141635902,61.304157986967,60.465863781554056,59.62102626541921,58.770180341527855,57.91380792451396,57.052343938454,56.18618158483403,55.315676970132465,54.44115317275139,53.56290381981968,52.68119623588021,51.79627421775606,50.90836048298834,50.017658833126134,49.12435606777387,48.228623680602915,47.330619364438775,46.430488348979544,45.52836459161744,44.62437183916539,43.71862457598066,42.81122887197944,41.902283142307915,40.991878828940905,40.0801010131836],\"line\":{\"color\":\"rgb(255, 127, 14)\",\"width\":2},\"locationmode\":\"ISO-3\",\"lon\":[-87.9048,-88.32172313242793,-88.75110536743065,-89.19371516441531,-89.65037805861012,-90.12198198406163,-90.60948316132293,-91.1139126151943,-91.63638339540336,-92.17809858130354,-92.74036016049932,-93.32457888067343,-93.93228518362884,-94.56514134037369,-95.22495491551796,-95.91369369762377,-96.63350223843376,-97.38672014661084,-98.17590227863003,-99.00384095776575,-99.8735903275068,-100.78849290237018,-101.7522083089512,-102.76874410221775,-103.84248838181146,-104.97824370087744,-106.1812614300382,-107.45727527858958,-108.81253204258223,-110.25381679550449,-111.78846860537665,-113.42438139416353,-115.16998270313998,-117.03418087389916,-119.02626854965563,-121.1557676221352,-123.43219818310044,-125.86475239336835,-128.46185459744265,-131.23059313576985,-134.17601922023184,-137.30032608549598,-140.60194876323868,-144.07466038731584,-147.70678007673814,-151.4806400125858,-155.3724704933555,-159.35283607328083,-163.38768497340465,-167.43996492779917,-171.47163759608563,-175.44582902080438,-179.328819703979,176.90838223634776,173.2890429979664,169.83031686528426,166.54340198774332,163.43410120239832,160.5036288296649,157.74951796296807,155.16651641432063,152.7473986292906,150.48365585822043,148.36605321657555,146.38505937778493,144.53116398416654,142.79510159892763,141.16800120835947,139.6414785228261,138.2076857190845,136.8593304904386,135.58967369109584,134.3925126401678,133.26215533202293,132.19338936208587,131.18144827085678,130.22197717565604,129.31099894340323,128.4448817096257,127.62030822834024,126.83424731214131,126.08392746666111,125.36681271940509,124.680580575454,124.02310199100772,123.39242323241866,122.78674947753667,122.20443001377464,121.64394489038564,121.10389288894669,120.58298068454518,120.08001307965455,119.59388420251281,119.12356957153094,118.6681189365864,118.22664981683518,117.7983416628129,117.38243057806369,116.97820454232877,116.58499908447266],\"marker\":{\"color\":\"rgb(255, 127, 14)\",\"size\":8,\"symbol\":\"triangle-right\"},\"mode\":\"markers+lines\",\"name\":\"ORD-PEK\",\"type\":\"scattergeo\",\"textposition\":\"middle left\"},{\"hoverinfo\":\"text\",\"lat\":[31.143400192260746],\"line\":{\"color\":\"rgb(68, 68, 68)\",\"width\":1},\"locationmode\":\"ISO-3\",\"lon\":[121.80500030517578],\"marker\":{\"color\":\"rgb(255, 127, 14)\",\"size\":35},\"mode\":\"markers\",\"name\":\"Shanghai PVG\",\"opacity\":0.7,\"showlegend\":false,\"text\":[\"\\u041a\\u043e\\u043b\\u0438\\u0447\\u0435\\u0441\\u0442\\u0432\\u043e \\u0440\\u0435\\u0439\\u0441\\u043e\\u0432 \\u0438\\u0437 ORD \\u0432 PVG: 5\"],\"type\":\"scattergeo\",\"textposition\":\"middle left\"},{\"lat\":[41.9786,42.904796603842534,43.82766297249369,44.746983590100776,45.66252631823565,46.574040819411756,47.48125681520514,48.38388216096162,49.2816007173564,50.174069997316124,51.06091856507404,51.941743162486844,52.81610553631384,53.6835289391118,54.54349427595839,55.39543586969366,56.23873681917756,57.07272392874996,57.89666219336603,58.70974883368203,59.51110688985104,60.299778403394,61.07471724498127,61.83478168433182,62.57872684898668,63.30519728382121,64.01271990503709,64.6996977426064,65.36440498396865,66.00498396707361,66.61944491671163,67.20566936310993,67.76141830735216,68.2843462769103,68.77202240993691,69.2219595751141,69.63165222896747,69.9986231967439,70.32047882092499,70.59497097795705,70.82006339919388,70.99399868854405,71.11536159944416,71.18313372638114,71.19673495268498,71.1560478513706,71.06142269460211,70.91366258103031,70.71399012863812,70.46399887125465,70.16559367186738,69.82092498592594,69.43232168116505,69.0022264769943,68.53313710382947,68.02755520726687,67.4879440039321,66.9166948466386,66.31610222721615,65.6883463385671,65.03548210452122,64.3594335234909,63.66199221400714,62.944819156339456,62.20944876254687,61.45729455458353,60.68965587169915,59.907725155913525,59.112595473979695,58.30526802518407,57.486659457586626,56.657608872850226,55.818884443982085,54.97118960346867,54.11516878359144,53.25141270806329,52.380463246110104,51.50281784803941,50.618933586226774,49.729230828121615,48.834096568959175,47.93388745183853,47.02893250205074,46.1195356012795,45.20597772574449,44.28851897065511,43.3674003815855,42.44284561164068,41.51506242160164,40.58424403864183,39.65057038771729,38.71420920835269,37.77531706827947,36.834040284228166,35.89051575912826,34.94487174402295,33.997228532151304,33.04769909188436,32.096389644511895,31.143400192260746],\"line\":{\"color\":\"rgb(255, 127, 14)\",\"width\":2},\"locationmode\":\"ISO-3\",\"lon\":[-87.9048,-88.51416454944592,-89.14208608203005,-89.78969200910647,-90.4581876438458,-91.14886241728803,-91.86309655353348,-92.60236821706046,-93.36826113752714,-94.1624727065793,-94.98682252618865,-95.84326136768198,-96.73388047338747,-97.66092109686143,-98.62678413068814,-99.63403961012173,-100.6854358030947,-101.78390749856295,-102.93258298152544,-104.1347890297443,-105.39405307958869,-106.71410148245184,-108.0988525062439,-109.55240242884865,-111.07900272750135,-112.6830260032179,-114.36891791817554,-116.141132108935,-118.00404483505675,-119.96184612486113,-122.01840451371262,-124.17710329195803,-126.4406476664687,-128.81084456342626,-131.28836008141553,-133.87246384402886,-136.5607744935892,-139.3490258098443,-142.2308775765337,-145.19779818050176,-148.2390456828633,-151.34176958956303,-154.49124622294045,-157.6712469561333,-160.8645223856284,-164.0533696403045,-167.22023776305653,-170.34832026052538,-173.42208590019794,-176.4277081613663,-179.35336821886153,177.8105772249902,175.07155673075945,172.43485537852942,169.90377142343704,167.47983101852122,165.1630351440874,162.95211679402277,160.84479153842847,158.83798978361955,156.92806370984468,155.11096563928504,153.38239738072934,151.73793198361258,150.17311046632,148.6835166404934,147.26483330348333,145.91288295699303,144.62365594103858,143.39332852764957,142.21827315157768,141.09506259906078,140.02046964929636,138.99146337567012,138.00520306747816,137.05903052650544,136.15046132289845,135.2771754568609,134.43700776214538,133.62793829965463,132.84808292065932,132.09568412565625,131.3691023037278,130.6668074059149,129.9873710825211,129.32945929674662,128.69182541426645,128.07330375923692,127.47280362088844,126.88930369067013,126.32184690732471,125.76953568588445,125.23152750607078,124.70703083570795,124.19530136533918,123.69563853111688,123.20738230412202,122.72991022546952,122.26263466781751,121.80500030517578],\"marker\":{\"color\":\"rgb(255, 127, 14)\",\"size\":8,\"symbol\":\"triangle-right\"},\"mode\":\"markers+lines\",\"name\":\"ORD-PVG\",\"type\":\"scattergeo\",\"textposition\":\"middle left\"},{\"hoverinfo\":\"text\",\"lat\":[37.46910095214844],\"line\":{\"color\":\"rgb(68, 68, 68)\",\"width\":1},\"locationmode\":\"ISO-3\",\"lon\":[126.45099639892578],\"marker\":{\"color\":\"rgb(255, 127, 14)\",\"size\":25},\"mode\":\"markers\",\"name\":\"Seoul ICN\",\"opacity\":0.7,\"showlegend\":false,\"text\":[\"\\u041a\\u043e\\u043b\\u0438\\u0447\\u0435\\u0441\\u0442\\u0432\\u043e \\u0440\\u0435\\u0439\\u0441\\u043e\\u0432 \\u0438\\u0437 ORD \\u0432 ICN: 3\"],\"type\":\"scattergeo\",\"textposition\":\"middle left\"},{\"lat\":[41.9786,42.830780044085,43.6798940689796,44.52576031289078,45.36818426108749,46.20695755353352,47.04185679031262,47.872642225151054,48.69905633660459,49.520822265754454,50.33764210858169,51.149195050603815,51.955135330918445,52.75509002258357,53.54865661637181,54.33540039549915,55.114851590115705,55.88650230236986,56.649803195992796,57.404159948929596,58.14892947398503,58.883415921249785,59.60686648782191,60.318467075712235,61.01733785858183,61.7025288428997,62.37301554001726,63.02769490319849,63.66538172821885,64.28480576765413,64.88460986652369,65.46334948844002,66.01949406309862,66.55143064192185,67.05747039046616,67.53585846254043,67.98478777801354,68.40241714853205,68.7868940476469,69.13638209241576,69.4490929883193,69.72332229670107,69.95748793909937,70.15016989990863,70.30014918896666,70.40644384981671,70.4683397153861,70.48541376917079,70.45754838040119,70.38493531536926,70.26806920984086,70.10773101399687,69.90496267702831,69.66103492382194,69.37741032657559,69.05570396999974,68.69764387322311,68.30503301932096,67.8797144245073,67.42354022302769,66.93834530818422,66.42592569428578,65.88802146948571,65.32630400040986,64.74236691982935,64.1377203654781,63.513787925965524,62.871905773364716,62.21332350818372,61.53920630044776,60.85063797270494,60.14862473157914,59.434099310725394,58.707925337931535,57.97090178198037,57.223767370785026,56.46720490171769,55.70184538867365,54.92827200904575,54.147023828222,53.35859929019877,52.56345947108516,51.76203109822436,50.95470934185729,50.14186038909284,49.32382381175015,48.500914740657755,47.67342585943356,46.84162923079047,46.00577796813365,45.16610776473666,44.32283829217048,43.47617447897077,42.62630767979934,41.77341674461707,40.91766899665733,40.059221127282896,39.19822001513863,38.334803476377836,37.46910095214844],\"line\":{\"color\":\"rgb(255, 127, 14)\",\"width\":2},\"locationmode\":\"ISO-3\",\"lon\":[-87.9048,-88.49027120524117,-89.0920838071694,-89.71114230445845,-90.3484074095661,-91.00490000742597,-91.68170535563533,-92.37997752634524,-93.10094408498665,-93.84591099423072,-94.61626772276938,-95.4134925271001,-96.23915785989338,-97.09493583997524,-97.9826036955976,-98.90404906347668,-99.8612749898774,-100.85640443549363,-101.89168403157255,-102.96948676915017,-104.09231322492423,-105.26279083490955,-106.48367061976883,-107.7578206435842,-109.08821535219384,-110.47791979152095,-111.9300675570937,-113.44783118398783,-115.03438356820092,-116.69284893968721,-118.42624191623008,-120.23739329772478,-122.12886156302571,-124.1028295634996,-126.1609867266229,-128.3043982373397,-130.53336417675544,-132.847273442697,-135.24445935955043,-137.72206601767505,-140.27593627349606,-142.90053360428698,-145.58891021029314,-148.33273248580068,-151.1223719788902,-153.947065231809,-156.79513980168616,-159.6542970372911,-162.51193584169977,-165.35549677091308,-168.17280331107804,-170.95237752814242,-173.6837104246548,-176.357472664468,-178.96565786324445,178.49834270078526,176.03972928341196,173.66233777427166,171.36872712125586,169.16029761427177,167.03742805732497,164.9996213106471,163.04564966567713,161.17369365927402,159.38146997260327,157.6663458306761,156.02543874456452,154.4557015088467,152.95399311205475,151.517136689383,150.1419659030754,148.82536123281795,147.5642776448065,146.35576502337807,145.19698262330343,144.08520865585865,143.0178459726154,141.99242466714364,141.0066022822067,140.05816219141144,139.14501062063616,138.2651726856497,137.4167877471879,136.5981043220197,135.8074747367197,135.04334966846258,134.3042726827528,133.58887485031363,132.89586950324195,132.224047173013,131.57227073914285,130.9394708065916,130.32464132171648,129.7268354302865,129.14516157634012,128.57877983718552,128.02689848734346,127.4887707824988,126.96369195339453,126.45099639892578],\"marker\":{\"color\":\"rgb(255, 127, 14)\",\"size\":8,\"symbol\":\"triangle-right\"},\"mode\":\"markers+lines\",\"name\":\"ORD-ICN\",\"type\":\"scattergeo\",\"textposition\":\"middle left\"},{\"hoverinfo\":\"text\",\"lat\":[41.275278],\"line\":{\"color\":\"rgb(68, 68, 68)\",\"width\":1},\"locationmode\":\"ISO-3\",\"lon\":[28.751944],\"marker\":{\"color\":\"rgb(255, 127, 14)\",\"size\":20},\"mode\":\"markers\",\"name\":\"Istanbul IST\",\"opacity\":0.7,\"showlegend\":false,\"text\":[\"\\u041a\\u043e\\u043b\\u0438\\u0447\\u0435\\u0441\\u0442\\u0432\\u043e \\u0440\\u0435\\u0439\\u0441\\u043e\\u0432 \\u0438\\u0437 ORD \\u0432 IST: 2\"],\"type\":\"scattergeo\",\"textposition\":\"middle left\"},{\"lat\":[41.9786,42.55828820036427,43.133108185940145,43.70286770110514,44.26736686692533,44.82639792258637,45.3797449706001,45.927183728092146,46.468481286814004,47.00339588489226,47.53167669372547,48.05306362386635,48.56728715418086,49.074068189052305,49.57311794889402,50.064137899740366,50.54681972819581,51.02084536852116,51.48588708911468,51.94160764608317,52.387660511975746,52.82369018804787,53.24933260860651,53.66421564603192,54.0679597249426,54.46017855363472,54.84047998035028,55.2084669810732,55.56373878438976,55.90589213744755,56.23452271518806,56.54922667279721,56.849602338720175,57.13525204263612,57.40578406952379,57.66081472742385,57.89997051280126,58.122890353629224,58.32922790658172,58.518653881175034,58.69085836049632,58.845553085462626,58.98247366752909,59.10138169356029,59.202066686323654,59.28434788485615,59.3480758108489,59.39313359019654,59.41943800292005,59.42694023969093,59.41562634900441,59.385517365469454,59.33666911646682,59.26917171131542,59.18314872381725,59.07875608536785,58.95618071149205,58.81563888950029,58.65737445881534,58.481656818298106,58.288778796569936,58.07905442190286,57.85281662779234,57.61041492894559,57.35221310024482,57.07858688843421,56.78992178299453,56.486610869071676,56.16905278157132,55.837649775755935,55.492805926006945,55.13492546093653,54.76441123982867,54.3816633725074,53.98707798220633,53.581046108857585,53.16395274843332,52.73617602254162,52.29808647137994,51.85004646235398,51.39240970614432,50.925520871712365,50.44971529164653,49.96531874932444,49.47264733957555,48.97200739484179,48.46369546922567,47.94799837326279,47.425193252738836,46.89554770537506,46.359319929715035,45.816758901051095,45.268104569720144,44.71358807757154,44.153431988858124,43.587850532222575,43.01704985084413,42.44122825817262,41.86057649700975,41.275278],\"line\":{\"color\":\"rgb(255, 127, 14)\",\"width\":2},\"locationmode\":\"ISO-3\",\"lon\":[-87.9048,-87.16344242204715,-86.40824025114375,-85.63877051981987,-84.85460344114479,-84.05530306276235,-83.24042804392349,-82.40953256820639,-81.56216740530104,-80.69788113583968,-79.81622155374596,-78.91673726091153,-77.9989794691446,-77.0625040242159,-76.10687366639257,-75.13166054103512,-74.13644897155777,-73.1208385052454,-72.08444723999195,-71.02691543689704,-69.94790941974404,-68.84712575761095,-67.7242957211724,-66.57918999659032,-65.4116236332482,-64.22146119297297,-63.00862205887469,-61.773085851632324,-60.51489789014344,-59.23417462219159,-57.9311089394915,-56.60597528056436,-55.2591344148546,-53.89103779288331,-52.50223134064965,-51.09335857257564,-49.66516289667656,-48.218488988917365,-46.754283121387786,-45.273592341353556,-43.777562415592875,-42.26743447664276,-40.74454033432399,-39.21029644656657,-37.66619657720121,-36.11380320383555,-34.55473777479073,-32.99066994877981,-31.423305982953483,-29.854376462549354,-28.28562358725167,-26.71878824434162,-25.155597105990783,-23.597749987224415,-22.04690769220297,-20.50468056002158,-18.97261789809126,-17.452198462555856,-15.944822112565385,-14.451802730158388,-12.974362461607585,-11.513627300890303,-10.070624002819672,-8.646278283446762,-7.241414239476475,-5.85675489719192,-4.492923785032463,-3.1504474125283624,-1.8297585315481633,-0.5312000533691527,0.7449705035873625,1.9985761560049107,3.2295153015083766,4.437756372738178,5.623332394053698,6.78633552423373,7.92691165722439,9.045255141768138,10.141603669942327,11.216233374481497,12.269454165418866,13.301605328164463,14.313051397693592,15.304178317056783,16.275389882920685,17.22710447625632,18.159752072543764,19.07377152288224,19.969608095099066,20.847711262258233,21.70853272479392,22.552524651761633,23.380138126334028,24.191821780605608,24.9880206049513,25.769174917554064,26.5357194802349,27.288082747341836,28.02668623515364,28.751944],\"marker\":{\"color\":\"rgb(255, 127, 14)\",\"size\":8,\"symbol\":\"triangle-right\"},\"mode\":\"markers+lines\",\"name\":\"ORD-IST\",\"type\":\"scattergeo\",\"textposition\":\"middle left\"},{\"hoverinfo\":\"text\",\"lat\":[40.0801010131836],\"line\":{\"color\":\"rgb(68, 68, 68)\",\"width\":1},\"locationmode\":\"ISO-3\",\"lon\":[118.08499908447266],\"marker\":{\"color\":\"rgb(44, 160, 44)\",\"size\":25},\"mode\":\"markers\",\"name\":\"Beijing PEK\",\"opacity\":0.7,\"showlegend\":false,\"text\":[\"\\u041a\\u043e\\u043b\\u0438\\u0447\\u0435\\u0441\\u0442\\u0432\\u043e \\u0440\\u0435\\u0439\\u0441\\u043e\\u0432 \\u0438\\u0437 LAX \\u0432 PEK: 3\"],\"type\":\"scattergeo\",\"textposition\":\"middle left\"},{\"lat\":[33.94250107,34.6510511062108,35.35559445433951,36.05595341688474,36.751942544636464,37.44336825431652,38.130028433233136,38.81171203151726,39.488198642741665,40.15925807399724,40.824649906818344,41.484123050715226,42.137415291493234,42.78425283701831,43.424349863634305,44.05740806705242,44.68311622222183,45.301149757457445,45.91117034894623,46.51282554267888,47.1057484118576,47.68955725890496,48.26385537233798,48.82823084995699,49.382256501013806,49.92548984123852,50.45747319578284,50.97773392623815,51.48578479884909,51.981124511806726,52.46323839999022,52.93159933564666,53.38566884315998,53.82489844515999,54.24873125565611,54.65660383354949,55.04794830668538,55.422194772487416,55.778773976116454,56.1171202610173,56.43667477969687,56.736888944724264,57.01722809142694,57.27717531482646,57.516235434330376,57.73393903096331,57.92984649392172,58.10355200645035,58.25468739594299,58.382925770218165,58.487984861494056,58.56963000196344,58.62767666018568,58.661992475739844,58.672498740512076,58.659171288235356,58.622040768913934,58.561192300875895,58.47676450965065,58.36894797888833,58.23798315337478,58.08415774719316,57.90780372070909,57.70929389794512,57.489038300878015,57.24748027922556,56.98509251354837,56.70237296626413,56.39984084985179,56.07803267456853,55.73749842989114,55.37879794510419,55.00249746542227,54.60916647113652,54.199374758826785,53.77368979591849,53.33267435295094,52.87688441195894,52.406867344388296,51.92316034795737,51.42628912879261,50.91676681292965,50.39509306978941,49.86175342941144,49.31721877494655,48.761944992080494,48.196372757581585,47.62092744995673,47.0360191661818,46.44204282958479,45.83937837514531,45.228390999690205,44.60943146567812,43.98283644844651,43.34892891792675,42.70801854689958,42.0604021388576,41.40636406945751,40.74617673638145,40.0801010131836],\"line\":{\"color\":\"rgb(44, 160, 44)\",\"width\":2},\"locationmode\":\"ISO-3\",\"lon\":[-118.4079971,-119.10262601611296,-119.8091979609681,-120.52817029919402,-121.26001374389605,-122.00521247679018,-122.76426420559376,-123.53768014779308,-124.32598492859157,-125.12971637942486,-125.94942522190715,-126.78567462045756,-127.63903958515542,-128.51010620460605,-129.39947068679274,-130.307738184074,-131.23552137670853,-132.18343878760766,-133.15211279949972,-134.1421673444325,-135.15422523464636,-136.18890510345136,-137.24681792498743,-138.3285630828111,-139.43472395933162,-140.56586302142898,-141.72251638235693,-142.90518782650904,-144.11434229204067,-145.35039881692285,-146.61372296694418,-147.90461877961474,-149.2233202759089,-150.56998261226056,-151.944672967982,-153.3473612879299,-154.77791102619256,-156.23607006297345,-157.72146199261294,-159.23357800447138,-160.77176959862777,-162.33524239328239,-163.92305128855523,-165.53409725024213,-167.1671259653906,-168.82072859800107,-170.49334483697362,-172.183268379532,-173.8886549325114,-175.60753274277346,-177.33781558920657,-179.07731808574215,179.17622693830162,177.42514929290206,175.6718208989888,173.91863431524655,172.16798079746266,170.42222838747247,168.68370052750208,166.95465567364798,165.23726834083246,163.53361195356288,161.84564380592005,160.1751923547652,158.52394698681522,156.89345031750338,155.2850930014821,153.70011096459982,152.13958490768528,150.6044418850673,149.0954587260843,147.61326704574032,146.15835958028765,144.73109758353812,143.3317190284445,141.96034737415343,140.61700067946802,139.3016008677548,138.0139829742343,136.75390423299822,135.52105288692752,134.31505662814365,133.13549059912904,131.98188490484003,130.85373160381988,129.75049116145541,128.67159836117432,127.61646767969486,126.58449814061444,125.57507766688137,124.587586957282,123.62140291522596,122.67590166006079,121.7504611521057,120.84446346275377,119.95729672052761,119.08835676303015,118.237048523438,117.40278717864588,116.58499908447266],\"marker\":{\"color\":\"rgb(44, 160, 44)\",\"size\":8,\"symbol\":\"triangle-right\"},\"mode\":\"markers+lines\",\"name\":\"LAX-PEK\",\"type\":\"scattergeo\",\"textposition\":\"middle left\"},{\"hoverinfo\":\"text\",\"lat\":[31.143400192260746],\"line\":{\"color\":\"rgb(68, 68, 68)\",\"width\":1},\"locationmode\":\"ISO-3\",\"lon\":[125.30500030517578],\"marker\":{\"color\":\"rgb(44, 160, 44)\",\"size\":45},\"mode\":\"markers\",\"name\":\"Shanghai PVG\",\"opacity\":0.7,\"showlegend\":false,\"text\":[\"\\u041a\\u043e\\u043b\\u0438\\u0447\\u0435\\u0441\\u0442\\u0432\\u043e \\u0440\\u0435\\u0439\\u0441\\u043e\\u0432 \\u0438\\u0437 LAX \\u0432 PVG: 7\"],\"type\":\"scattergeo\",\"textposition\":\"middle left\"},{\"lat\":[33.94250107,34.571398031643646,35.194239783431804,35.81078973671998,36.42080346429955,37.02402851899475,37.62020426716986,38.209061740177674,38.7903235070921,39.36370357239065,39.92890730258328,40.48563138611798,41.03356383122422,41.57238400667672,42.101762730763944,42.62136241401896,43.13083726150256,43.629833540606036,44.11798992044848,44.59493788896419,45.06030225369162,45.51370173206678,45.95474963667167,46.38305466037284,46.79822176558791,47.1998531810214,47.587549508104004,47.96091093803987,48.31953857881309,48.66303588973079,48.9910102190978,49.30307443845086,49.59884866446051,49.87796205718237,50.140054680863045,50.3847794110466,50.61180386936434,50.8208123652082,51.01150782157683,51.183613660835974,51.33687562503636,51.47106350486607,51.58597275134311,51.68142594502809,51.75727409888024,51.8133977728931,51.84970798129891,51.866146876367786,51.86268819656259,51.83933747093718,51.7961319760537,51.73314044620501,51.65046254221346,51.548228088388896,51.42659609123411,51.285753557057554,51.12591412869664,50.94731656398934,50.750223080414266,50.53491759142919,50.30170386048295,50.05090359849176,49.78285452981109,49.497908450470646,49.19642930075507,48.87879127219801,48.545376966801115,48.19657562388413,47.832781427497906,47.45439190486697,47.061806423931884,46.65542479579145,46.235645985738,45.80286693466766,45.357481490948736,44.89987945135629,44.4304457084294,43.949559500574104,43.45759376041075,42.95491455623147,42.44188062097708,41.918842962843,41.38614455146026,40.84412007355221,40.29309575202055,39.73338922254788,39.16530946200211,38.589156763175986,38.005222750679685,37.41379043311396,36.815134286977,36.20952036809069,35.5972064466653,34.978442162450335,34.35346919673824,33.72252145829525,33.085825280585,32.44359962792709,31.796056308490297,31.143400192260746],\"line\":{\"color\":\"rgb(44, 160, 44)\",\"width\":2},\"locationmode\":\"ISO-3\",\"lon\":[-118.4079971,-119.26323121139907,-120.13143865859314,-121.01299334918892,-121.90827027047992,-122.81764456172239,-123.7414904674576,-124.68018016341075,-125.63408244654556,-126.60356128105529,-127.58897419244869,-128.59067050248024,-129.60898939850776,-130.64425783197905,-131.69678824218423,-132.7668761032049,-133.85479729417472,-134.96080529557642,-136.08512821736,-137.2279656681957,-138.38948547918048,-139.56982029979093,-140.7690640887903,-141.98726852810887,-143.2244393933496,-144.4805329204209,-145.75545221373966,-147.04904374730387,-148.3610940155166,-149.69132639571671,-151.03939828868226,-152.40489860664505,-153.7873456803028,-155.1861856566592,-156.60079145799344,-158.0304623686348,-159.4744243103199,-160.93183085863976,-162.40176504243337,-163.88324195505345,-165.3752121914341,-166.8765661081648,-168.38613888577882,-169.90271635375407,-171.42504151994578,-172.95182172802927,-174.48173634974128,-176.01344490397682,-177.54559548276458,-179.07683335534398,179.39419038359736,177.86881025675038,176.34833807065297,174.8340549319132,173.32720372932323,171.82898218496223,170.3405365618593,168.86295609845328,167.3972682216345,165.9444345713263,164.50534785103173,163.0808295011568,161.67162817575226,160.27841898900616,158.90180348566227,157.54231027971042,156.20039629825598,154.87644856238214,153.57078643394448,152.28366425638825,151.01527431861086,149.76575007333363,148.53516954511045,147.3235588677107,146.1308958958877,144.95711384224992,143.8021048958561,142.66572378508332,141.5477912531052,140.44809741984787,139.36640500947115,138.30245242719093,137.25595667356836,136.22661608823375,135.2141129183761,134.21811571023056,133.2382815242549,132.27425797672993,131.32568511218534,130.39219711237132,129.47342384851353,128.56899228433363,127.6785277378295,126.80165501012416,125.93799938983597,125.08718754142954,124.24884828589937,123.42261328193916,122.60811761548224,121.80500030517578],\"marker\":{\"color\":\"rgb(44, 160, 44)\",\"size\":8,\"symbol\":\"triangle-right\"},\"mode\":\"markers+lines\",\"name\":\"LAX-PVG\",\"type\":\"scattergeo\",\"textposition\":\"middle left\"},{\"hoverinfo\":\"text\",\"lat\":[37.46910095214844],\"line\":{\"color\":\"rgb(68, 68, 68)\",\"width\":1},\"locationmode\":\"ISO-3\",\"lon\":[128.95099639892578],\"marker\":{\"color\":\"rgb(44, 160, 44)\",\"size\":35},\"mode\":\"markers\",\"name\":\"Seoul ICN\",\"opacity\":0.7,\"showlegend\":false,\"text\":[\"\\u041a\\u043e\\u043b\\u0438\\u0447\\u0435\\u0441\\u0442\\u0432\\u043e \\u0440\\u0435\\u0439\\u0441\\u043e\\u0432 \\u0438\\u0437 LAX \\u0432 ICN: 5\"],\"type\":\"scattergeo\",\"textposition\":\"middle left\"},{\"lat\":[33.94250107,34.547139007146,35.1469477860516,35.74174587240224,36.331345684619805,36.91555342102568,37.49416889201434,38.06698535879995,38.63378938048622,39.19436067141041,39.74847197092288,40.295888927988116,40.83637000322428,41.36966639123934,41.89552196636597,42.4136732551438,42.92384943914104,43.42577239194285,43.91915675435496,44.403710052071034,44.879132860222484,45.34511901936059,45.801355907501716,46.2475247728871,46.68330113205385,47.10835523767422,47.522352620377276,47.9249547084129,48.31581952853453,48.694602490855644,49.06095725966463,49.41453671125544,49.75499397874501,50.081983582602334,50.3951626442147,50.694192178277696,50.978738458135275,51.248474446441314,51.503081281702585,51.74224980943327,51.965682144856906,52.17309325238666,52.36421252556046,52.53878534976636,52.69657462902912,52.83736225740012,52.96095051515267,53.0671633700788,53.155847664739774,53.22687417155917,53.28013849916054,53.31556183532077,53.33309151429589,53.332701399019285,53.314392071699736,53.278190829569056,53.22415148585233,53.15235397935359,53.06290379926613,52.95593123483358,52.831590462216504,52.69005848328839,52.53153393303451,52.35623577371978,52.164401895007835,51.956287639748425,51.73216427522548,51.49231742929916,51.237045510131715,50.9666581271083,50.68147452921277,50.38182207555582,50.06803475104328,49.7404517383745,49.399416055732246,49.0452732677138,48.67837027530326,48.29905418902851,47.90767128791345,47.5045660654428,47.09008036251844,46.664552586305625,46.22831701294812,45.78170317136705,45.32503530474277,44.858631905802774,44.382805321687606,43.89786142393047,43.40409933894935,42.9018112343997,42.39128215675948,41.87278991560092,41.34660501013764,40.8129905938063,40.27220247284363,39.724489135041516,39.17009180509857,38.60924452323037,38.04217424394669,37.46910095214844],\"line\":{\"color\":\"rgb(44, 160, 44)\",\"width\":2},\"locationmode\":\"ISO-3\",\"lon\":[-118.4079971,-119.172102759632,-119.94734816037786,-120.73405761933492,-121.5325586570337,-122.34318150668983,-123.16625854968922,-124.00212367109692,-124.8511115287633,-125.7135567294335,-126.5897929051615,-127.4801516833041,-128.384961543441,-129.3045465547536,-130.2392249877212,-131.18930779448004,-132.1550969528652,-133.13688367004255,-134.13494644276716,-135.14954897269783,-136.1809379368871,-137.2293406155665,-138.2949623816874,-139.37798405935993,-140.4785591613751,-141.59681101938065,-142.73282982400409,-143.8866695962379,-145.05834511567605,-146.247828835649,-147.45504781985818,-148.67988073964364,-149.92215497540047,-151.181643869732,-152.45806418350855,-153.7510738089077,-155.06026979552954,-156.38518674661526,-157.72529564204174,-159.0800031429445,-160.44865142938366,-161.83051861730735,-163.2248197941341,-164.63070870358675,-166.04728010006147,-167.47357278098085,-168.9085732925251,-170.35122029019686,-171.80040952127467,-173.2549993818072,-174.7138169869136,-176.17566468029383,-177.6393268975257,-179.10357728839327,179.4328140034593,177.9710730095189,176.51241466141275,175.05803567777974,173.60910771446052,172.16677087240356,170.73212764825482,169.30623740119597,167.89011139667983,166.48470847378903,165.09093136853463,163.70962371101766,162.34156770047147,160.98748244919275,159.6480229745938,158.3237798083314,157.01527918285072,155.7229837488288,154.44729377191803,153.18854875382576,151.9470294210116,150.7229600239904,149.51651089121356,148.3278011835622,147.15690179842701,146.00383837595487,144.86859436413272,143.75111410376928,142.65130589897282,141.56904504327517,140.5041767760021,139.45651914775658,138.42586577789004,137.41198849054518,136.41463981922567,135.43355537287312,134.4684560591019,133.51905016256393,132.5850352784057,131.66610010245347,130.76192608114482,129.87218892534352,128.99655999305037,128.13470754668987,127.28629789113197,126.45099639892578],\"marker\":{\"color\":\"rgb(44, 160, 44)\",\"size\":8,\"symbol\":\"triangle-right\"},\"mode\":\"markers+lines\",\"name\":\"LAX-ICN\",\"type\":\"scattergeo\",\"textposition\":\"middle left\"},{\"hoverinfo\":\"text\",\"lat\":[41.275278],\"line\":{\"color\":\"rgb(68, 68, 68)\",\"width\":1},\"locationmode\":\"ISO-3\",\"lon\":[29.751944],\"marker\":{\"color\":\"rgb(44, 160, 44)\",\"size\":20},\"mode\":\"markers\",\"name\":\"Istanbul IST\",\"opacity\":0.7,\"showlegend\":false,\"text\":[\"\\u041a\\u043e\\u043b\\u0438\\u0447\\u0435\\u0441\\u0442\\u0432\\u043e \\u0440\\u0435\\u0439\\u0441\\u043e\\u0432 \\u0438\\u0437 LAX \\u0432 IST: 2\"],\"type\":\"scattergeo\",\"textposition\":\"middle left\"},{\"lat\":[33.94250107,34.85190867152388,35.75920367027068,36.66426435815458,37.566961380162105,38.46715710469592,39.364704936556954,40.25944856678737,41.151221153012905,42.03984442328752,42.925127695756686,43.80686680571795,44.68484293087178,45.55882130472741,46.4285498072685,47.29375742110562,48.15415254047177,49.009421119584125,49.859224646146764,50.70319792516726,51.54094665788873,52.37204480060975,53.19603168862511,54.01240891166024,54.820636929236976,55.620131417710624,56.41025934564487,57.190334781230526,57.95961444518757,58.71729303572336,59.46249836946379,60.194286404745085,60.91163624223134,61.613445233483695,62.29852437170324,62.96559419094488,63.61328146061175,64.2401170299824,64.84453525043361,65.4248754763933,65.97938621270937,66.5062325256409,67.00350735315524,67.46924732051971,67.90145357020322,68.29811793230841,68.65725447924103,68.97693612233954,69.25533543128202,69.4907683233851,69.68173873727962,69.826981952088,69.92550392705427,69.97661399777387,69.97994852516659,69.93548365618983,69.84353616837208,69.70475232929667,69.52008567114734,69.29076542110478,69.01825793057314,68.70422374943479,68.35047299220054,67.95892138684817,67.53154896177873,67.0703627996791,66.57736474952802,66.05452450057352,65.50375802225571,64.9269110770324,64.32574731703558,63.70194036760859,63.05706926286738,62.392616611282534,61.70996891538692,61.01041853467977,60.29516685373273,59.565328290802285,58.82193485107629,58.06594099031793,57.29822860794145,56.51961203331,55.73084290576557,54.932614878409495,54.125568098913305,53.31029343864261,52.487336455044584,51.657201082413124,50.820353053522574,49.977223059810804,49.12820966129607,48.273681959628526,47.41398204893041,46.549427259621616,45.680312210456236,44.80691068366535,43.92947733752551,43.04824926994016,42.16344744579758,41.275278],\"line\":{\"color\":\"rgb(44, 160, 44)\",\"width\":2},\"locationmode\":\"ISO-3\",\"lon\":[-118.4079971,-117.9055299237666,-117.39184368414091,-116.86632044459331,-116.32830668302057,-115.77711068317457,-115.21199973339446,-114.63219712000448,-114.03687890271756,-113.42517045964264,-112.79614279012772,-112.14880856480333,-111.48211791397458,-110.79495394813934,-110.0861280081253,-109.35437464744122,-108.59834635630031,-107.8166080458549,-107.00763132304455,-106.16978860178652,-105.30134711585606,-104.40046292369358,-103.46517502670245,-102.49339976170818,-101.48292567666938,-100.43140915815917,-99.33637115136933,-98.1951954002356,-97.0051287383592,-95.76328408187325,-94.46664691353202,-93.1120862018407,-91.69637086635967,-90.2161930732503,-88.66819981153186,-87.04903434152165,-85.35538919504616,-83.58407240438933,-81.7320884942357,-79.79673542761861,-77.7757180845377,-75.6672779010374,-73.4703369497299,-71.18465297440417,-68.81097973400956,-66.35122458555756,-63.808592776902586,-61.18770579182806,-58.49467976501437,-55.73714998838359,-52.92422933186767,-50.06639226858227,-47.17528204505345,-44.263445842045456,-41.34401056168143,-38.43031889195192,-35.535550262749,-32.67235324861687,-29.852514500157447,-27.08668469688289,-24.384175211917533,-21.752831417482177,-19.198981120575645,-16.727450522441348,-14.341635937535374,-12.04361742784472,-9.83430027910564,-7.713571416673249,-5.680459905733164,-3.7332931177559443,-1.869842592411819,-0.08745582853441176,1.6168279360792284,3.246178491195278,4.803891499057874,6.293320294279464,7.717821138766119,9.080710264936215,10.385231021567272,11.634529514599164,12.831637270720849,13.979459615736214,15.080768632591356,16.138199732569852,17.154251029768222,18.131284849499817,19.071530824219916,19.977090136013388,20.849940553702545,21.691941986798778,22.50484233962369,23.290283498775825,24.049807327427917,24.784861572265314,25.49680561459013,26.186916017405085,26.856391836163812,27.506359673175844,28.13787846508723,28.751944],\"marker\":{\"color\":\"rgb(44, 160, 44)\",\"size\":8,\"symbol\":\"triangle-right\"},\"mode\":\"markers+lines\",\"name\":\"LAX-IST\",\"type\":\"scattergeo\",\"textposition\":\"middle left\"},{\"hoverinfo\":\"text\",\"lat\":[25.2527999878],\"line\":{\"color\":\"rgb(68, 68, 68)\",\"width\":1},\"locationmode\":\"ISO-3\",\"lon\":[56.3643989563],\"marker\":{\"color\":\"rgb(44, 160, 44)\",\"size\":20},\"mode\":\"markers\",\"name\":\"Dubai DXB\",\"opacity\":0.7,\"showlegend\":false,\"text\":[\"\\u041a\\u043e\\u043b\\u0438\\u0447\\u0435\\u0441\\u0442\\u0432\\u043e \\u0440\\u0435\\u0439\\u0441\\u043e\\u0432 \\u0438\\u0437 LAX \\u0432 DXB: 2\"],\"type\":\"scattergeo\",\"textposition\":\"middle left\"},{\"lat\":[33.94250107,35.15173716601769,36.36073000986046,37.56946067906984,38.77790855934901,39.98605113733529,41.1938637630758,42.40131937687143,43.60838819406211,44.81503733997528,46.021230425581656,47.22692705230771,48.43208223182513,49.63664570331789,50.84056112651254,52.04376512337057,53.24618613441304,54.44774304667319,55.64834353856567,56.847882071567874,58.04623743821157,59.24326974861709,60.43881670103165,61.63268893176876,62.824664171098064,64.01447983594814,65.20182355580619,66.38632093696548,67.56751959494491,68.74486808333805,69.91768775369319,71.08513469109384,72.24614751702909,73.39937476490827,74.54307227428896,75.6749559006719,76.7919866447503,77.89005228250146,78.96348923769378,80.00435833620497,81.0013498225353,81.93816716510482,82.79131076062757,83.52760671705471,84.10312096678464,84.46744807429502,84.57784869825701,84.41923254179626,84.01294304537396,83.40459430125811,82.64414972894309,81.77368186027034,80.82445138391319,79.81846465033597,78.77096629545798,77.69255203186658,76.59067984937244,75.47068683688136,74.33646070743919,73.19088356280484,72.03612803019408,70.87385767257271,69.7053647668933,68.53166656402338,67.35357361473204,66.17173900997295,64.98669438047123,63.79887657388942,62.60864767508732,61.41631020892402,60.22211881258822,59.02628928981429,57.82900570186662,56.63042597093341,55.43068634524877,54.22990498519366,53.02818486469374,51.825616134926456,50.6222780625447,49.41824062877326,48.21356585636356,47.00830891675382,45.80251905863136,44.596240390535314,43.389512543521725,42.18237123476363,40.97484874892325,39.76697435095341,38.5587746414632,37.35027386377105,36.14149417015691,34.932455853524516,33.723177549633796,32.51367641420643,31.303968278508016,30.09406778643687,28.883988515674975,27.673743085066302,26.46334325006185,25.2527999878],\"line\":{\"color\":\"rgb(44, 160, 44)\",\"width\":2},\"locationmode\":\"ISO-3\",\"lon\":[-118.4079971,-118.23846910693392,-118.06382599924211,-117.88367102772204,-117.69757214573568,-117.5050577094623,-117.30561155401317,-117.09866733644215,-116.88360201459042,-116.65972830345393,-116.42628591700287,-116.18243136134812,-115.92722599254004,-115.65962198608212,-115.37844578146643,-115.08237845838765,-114.76993236468988,-114.43942313999035,-114.08893605034525,-113.71628525052941,-113.3189641970301,-112.89408491267534,-112.43830310521685,-111.9477251996621,-111.41779206138335,-110.84313242534718,-110.21737660485344,-109.5329176361275,-108.78060218813376,-107.9493266848535,-107.02550418937095,-105.99235325662663,-104.82893906803965,-103.50886668260637,-101.99848203789779,-100.25437347716674,-98.21988142305241,-95.82022167290509,-92.95574681636688,-89.49295023317131,-85.25348332581655,-80.00385746680286,-73.45527878210194,-65.29832294621663,-55.31872864419924,-43.62851015955999,-30.901853103992853,-18.286620227359656,-6.874763224353634,2.7692710387962887,10.613444800182686,16.903173138683073,21.949623171389227,26.032620912939834,29.375135921207814,32.14653149521203,34.4734024784832,36.45028839013412,38.14824720995145,39.62122050002444,40.91062487460096,42.048636240631026,43.06054250549259,43.96644004446763,44.78246815381522,45.52171660244266,46.19490003725191,46.81086453117214,47.376972052077164,47.899395227698214,48.3833455205947,48.83325147819884,49.25289919225615,49.645543889189774,50.01399927297395,50.360709580050234,50.68780809358957,50.99716497227387,51.29042658649724,51.569048059123226,51.834320333834235,52.08739280963657,52.32929236217767,52.560939404433,52.78316150877648,52.996705010412114,53.20224493190493,53.40039350507537,53.591707516029885,53.77669465871954,53.95581904995688,54.12950603259861,54.2981463723171,54.46209993603098,54.62169892585606,54.77725073075354,54.92904044840892,55.07733312188193,55.222375728922465,55.3643989563],\"marker\":{\"color\":\"rgb(44, 160, 44)\",\"size\":8,\"symbol\":\"triangle-right\"},\"mode\":\"markers+lines\",\"name\":\"LAX-DXB\",\"type\":\"scattergeo\",\"textposition\":\"middle left\"},{\"hoverinfo\":\"text\",\"lat\":[37.46910095214844],\"line\":{\"color\":\"rgb(68, 68, 68)\",\"width\":1},\"locationmode\":\"ISO-3\",\"lon\":[130.45099639892578],\"marker\":{\"color\":\"rgb(214, 39, 40)\",\"size\":30},\"mode\":\"markers\",\"name\":\"Seoul ICN\",\"opacity\":0.7,\"showlegend\":false,\"text\":[\"\\u041a\\u043e\\u043b\\u0438\\u0447\\u0435\\u0441\\u0442\\u0432\\u043e \\u0440\\u0435\\u0439\\u0441\\u043e\\u0432 \\u0438\\u0437 DFW \\u0432 ICN: 4\"],\"type\":\"scattergeo\",\"textposition\":\"middle left\"},{\"lat\":[32.89680100000001,33.726773434628676,34.55313106293769,35.37568621748932,36.19424133423184,37.00858830521458,37.81850779137747,38.62376849361451,39.42412638043426,40.219323870723755,41.00908897038052,41.7931343619258,42.57115644667066,43.342834339595726,44.107828817853004,44.8657812247302,45.616312332069505,46.35902116553855,47.093483798850876,47.81925212507041,48.53585261555113,49.24278507990587,49.9395214437084,50.625504564446274,51.300147110588235,51.96283053351613,52.61290416748833,53.24968449870114,53.87245465080915,54.48046414080523,55.072928965730846,55.649032086979716,56.207924384572166,56.7487261581967,57.270529254414896,57.772399899465334,58.2533823137601,58.71250317656387,59.14877699661838,59.5612124258559,59.94881952828097,60.31061798438123,60.64564617333909,60.95297103177233,61.23169854038258,61.48098464117628,61.700046341016936,61.88817271593062,62.044735498867766,62.169198915464406,62.26112843108894,62.320198090351816,62.34619616800157,62.339028906613436,62.29872218868711,62.22542107400905,62.11938722147027,61.980994301445634,61.81072158398306,61.609145953950616,61.37693265293648,61.11482507688931,60.82363396791893,60.504226329764556,60.1575143719632,59.78444475137472,59.385988335489465,58.963130663824984,58.51686323524463,58.048175703073774,57.55804901854471,57.04744952769247,56.517323997978664,55.9685955286892,55.40216028316258,54.818884970493784,54.219604998705556,53.60512321960295,52.976209186770454,52.33359885164018,51.67799462756622,51.01006575780364,50.33044892974636,49.63974908436746,48.93854037626052,48.227367245820226,47.50674557079809,46.777163869661265,46.039084533835336,45.29294507002432,44.539159337394985,43.77811876751408,43.01019355758157,42.23573382974946,41.455070751202214,40.668517611242116,39.87637085291424,39.078911057757985,38.27640388312133,37.46910095214844],\"line\":{\"color\":\"rgb(214, 39, 40)\",\"width\":2},\"locationmode\":\"ISO-3\",\"lon\":[-97.038002,-97.701272992653,-98.37746981109795,-99.06720261360832,-99.77110729047688,-100.48984656680281,-101.22411109646963,-101.97462053491316,-102.74212457560775,-103.52740393209523,-104.33127124378746,-105.15457187963547,-105.99818460901345,-106.86302210375865,-107.75003122918237,-108.66019307497683,-109.59452266925393,-110.55406831045357,-111.53991044256975,-112.55315998912644,-113.59495605071162,-114.66646285985082,-115.76886587586912,-116.90336689158467,-118.07117801378003,-119.2735143711877,-120.51158539819272,-121.78658454084103,-123.09967723555482,-124.45198702197362,-125.84457967159109,-127.2784452455705,-128.75447804060892,-130.27345444322754,-131.8360087923094,-133.44260744837817,-135.09352138622637,-136.78879776377426,-138.5282310711128,-140.31133462369547,-142.1373133238108,-144.0050387629837,-145.91302786017567,-147.85942630984493,-149.84199813253454,-151.85812256220566,-153.90479935603568,-155.97866336697686,-158.0760088787564,-160.1928237793946,-162.32483316604325,-164.4675514645271,-166.61634165237697,-168.76647973845846,-170.91322231723035,-173.05187481491336,-175.17785799919585,-177.28677043834722,-179.37444485780227,178.56300327444657,176.52913613578227,174.5271636060122,172.5599231865278,170.62986951351948,168.73907280723427,166.88922529892992,165.08165447397718,163.3173418612405,161.59694607556636,159.92082886713226,158.2890830313326,156.70156116841957,155.1579044373046,153.65757060930065,152.1998608846321,150.78394507978126,149.4088849224424,148.0736553006304,146.7771634027514,145.51826575693553,144.29578323225385,143.10851410369494,141.95524530925258,140.83476204347645,139.7458558395051,138.68733129286616,137.6580115768525,136.65674289245527,135.6823979867877,134.73387886356116,133.8101187981655,132.91008375877473,132.03277332401566,131.17722117735647,130.34249524865857,129.52769756438383,128.73196385979853,127.95446299917643,127.1943962434469,126.45099639892578],\"marker\":{\"color\":\"rgb(214, 39, 40)\",\"size\":8,\"symbol\":\"triangle-right\"},\"mode\":\"markers+lines\",\"name\":\"DFW-ICN\",\"type\":\"scattergeo\",\"textposition\":\"middle left\"},{\"hoverinfo\":\"text\",\"lat\":[25.2527999878],\"line\":{\"color\":\"rgb(68, 68, 68)\",\"width\":1},\"locationmode\":\"ISO-3\",\"lon\":[57.3643989563],\"marker\":{\"color\":\"rgb(214, 39, 40)\",\"size\":20},\"mode\":\"markers\",\"name\":\"Dubai DXB\",\"opacity\":0.7,\"showlegend\":false,\"text\":[\"\\u041a\\u043e\\u043b\\u0438\\u0447\\u0435\\u0441\\u0442\\u0432\\u043e \\u0440\\u0435\\u0439\\u0441\\u043e\\u0432 \\u0438\\u0437 DFW \\u0432 DXB: 2\"],\"type\":\"scattergeo\",\"textposition\":\"middle left\"},{\"lat\":[32.89680100000001,33.93289325250518,34.965373131569216,35.99400433108713,37.01853417215618,38.038692131315976,39.05418822834162,40.06471125971999,41.06992686283556,42.06947539480515,43.06296960887678,44.04999211041091,45.030092573780436,46.00278470117578,46.96754290444176,47.92379869190818,48.870936743973424,49.8082906643042,50.73513839835745,51.650697318059294,52.554118981558595,53.44448359082401,54.32079418843048,55.1819706592922,56.02684363456142,56.85414843470154,57.66251923806756,58.45048372113951,59.21645848725447,59.95874568169466,60.67553128019051,61.364885630907125,62.024766919344586,62.653028299967936,63.247429482002964,63.80565354943634,64.32532971309956,64.80406251110756,65.23946767168499,65.62921441839545,65.9710734387678,66.26296908570856,66.50303369976973,66.68966132128568,66.82155761532658,66.89778266885692,66.91778352002085,66.88141387125478,66.78893937653476,66.64102806280947,66.43872668010658,66.18342489287649,65.87681007195677,65.52081592588219,65.1175682993589,64.66933121089717,64.17845569346258,63.647333353978766,63.07835588653089,62.47388114432415,61.83620585067336,61.16754463382313,60.470014804943375,59.745626148375244,58.99627493533443,58.22374138202836,57.42968982760089,56.61567098747634,55.78312572907961,54.9333899094274,54.067699901245014,53.1871985124162,52.29294107111709,51.385901505678255,50.46697829465885,49.53700019985589,48.59673172425568,47.64687825952761,46.68809090475842,45.72097095078784,44.74607403365413,43.76391396706015,42.77496626805619,41.77967139282063,40.77843770090504,39.771644166919316,38.75964285861162,37.742761199836664,36.72130403615178,35.695555519837285,34.66578083009051,33.632227743046336,32.595128065174904,31.554698942528162,30.511144057268684,29.464654721932618,28.415410880956824,27.36358202814548,26.30932804796109,25.252799987799992],\"line\":{\"color\":\"rgb(214, 39, 40)\",\"width\":2},\"locationmode\":\"ISO-3\",\"lon\":[-97.038002,-96.37758472844155,-95.7009269018522,-95.00702856453789,-94.29482871046837,-93.5632007232047,-92.8109475307316,-92.03679647355652,-91.23939389046375,-90.41729943439857,-89.56898014165085,-88.6928042914684,-87.78703511126652,-86.84982440568145,-85.87920621700127,-84.87309066135833,-83.8292581310568,-82.74535411031283,-81.618884921445,-80.44721480319801,-79.2275648243779,-77.95701425597905,-76.63250516445818,-75.2508511474569,-73.80875130871385,-72.30281075556351,-70.72956909005391,-69.0855385366195,-67.36725348015516,-65.57133324228526,-63.69455985220427,-61.73397231024664,-59.68697832460498,-57.551483646015804,-55.32603785920783,-53.0099937654847,-50.60367531137291,-48.10854647150953,-45.527370785271756,-42.86434872208536,-40.12521819330394,-37.31730291330231,-34.44949450273268,-31.53215762409431,-28.576953109326105,-25.596581570622668,-22.604458453771002,-19.6143395719031,-16.63992239053399,-13.69445149986192,-10.79035615862813,-7.938943639757797,-5.150165195288943,-2.432463115548251,0.20730096123782474,2.763843396472808,5.233393492106516,7.613580692346073,9.903289327454473,12.102495143811938,14.212095756849937,16.23374454123668,18.1696947818709,20.02265845383432,21.795681947572668,23.492039466850883,25.11514368672176,26.668472509333004,28.15551032104325,29.5797019574333,30.944417553566446,32.25292653757314,33.50837917164802,34.713794223206236,35.872051537693395,36.98588846875817,38.05789929246482,39.090536885434545,40.08611608058303,41.04681822860752,41.97469658978625,42.87168226076455,43.73959040681926,44.58012662363273,45.39489329576633,46.1853958535249,46.95304885725376,47.69918185961684,48.42504501316214,49.13181440341777,49.82059709763497,50.49243590673278,51.14831386351,51.7891584241874,52.415845403158315,53.029202652724784,53.63001350079197,54.21901996015333,54.79692572325656,55.3643989563],\"marker\":{\"color\":\"rgb(214, 39, 40)\",\"size\":8,\"symbol\":\"triangle-right\"},\"mode\":\"markers+lines\",\"name\":\"DFW-DXB\",\"type\":\"scattergeo\",\"textposition\":\"middle left\"},{\"hoverinfo\":\"text\",\"lat\":[40.0801010131836],\"line\":{\"color\":\"rgb(68, 68, 68)\",\"width\":1},\"locationmode\":\"ISO-3\",\"lon\":[121.08499908447266],\"marker\":{\"color\":\"rgb(148, 103, 189)\",\"size\":25},\"mode\":\"markers\",\"name\":\"Beijing PEK\",\"opacity\":0.7,\"showlegend\":false,\"text\":[\"\\u041a\\u043e\\u043b\\u0438\\u0447\\u0435\\u0441\\u0442\\u0432\\u043e \\u0440\\u0435\\u0439\\u0441\\u043e\\u0432 \\u0438\\u0437 JFK \\u0432 PEK: 3\"],\"type\":\"scattergeo\",\"textposition\":\"middle left\"},{\"lat\":[40.63980102999999,41.62721398834278,42.614318491112186,43.601093556909035,44.587516433805476,45.57356240296203,46.55920455592578,47.54441354140845,48.52915727656494,49.513400616848465,50.49710497736959,51.48022789728291,52.46272253700151,53.44453709591575,54.425614135661625,55.405889790710546,56.385292843956854,57.363743639831576,58.341152800961865,59.31741970612208,60.292430676640244,61.266056804811235,62.23815134023808,63.20854652704759,64.17704975477392,65.14343884585432,66.10745624963374,67.06880184163168,68.02712393068929,68.98200794572021,69.93296209422265,70.87939903657961,71.82061227498546,72.75574547282383,73.68375224158859,74.60334297708651,75.51291398540424,76.41045227432879,77.29340685069504,78.15851407558294,79.00156077969311,79.81706543663023,80.59785780488711,81.334548835768,82.01492225821556,82.62337772622124,83.14074921957686,83.54509732582808,83.81421768474969,83.93009659781404,83.88401739685064,83.67952137787329,83.33116611119219,82.85997721533514,82.28843829770143,81.63709899109868,80.92312256231808,80.16013492313876,79.35867385013037,78.52679985916603,77.67066808113277,76.79499656416374,75.90342696477306,74.99879438876489,74.0833267732817,73.15879174935098,72.22660506311729,71.28791104885704,70.343642786535,69.39456743831269,68.44132070855781,67.4844332645387,66.52435116789293,65.56145180745882,64.59605642503446,63.62844003956437,62.658839368855716,61.6874591979509,60.71447753349497,59.740049802455395,58.764312293364966,57.78738499319148,56.809373938942926,55.83037317729098,54.850466405738885,53.86972835364503,52.888225949620946,51.90601931262343,50.92316259684538,49.93970471481357,48.95568995858337,47.97115853531508,46.98614703062611,46.00068881078435,45.01481437292185,44.02855165091563,43.041926283328735,42.05496184877819,41.0676800732503,40.0801010131836],\"line\":{\"color\":\"rgb(148, 103, 189)\",\"width\":2},\"locationmode\":\"ISO-3\",\"lon\":[-73.77890015,-73.96469309551208,-74.15626517977748,-74.35400750961938,-74.55834394219912,-74.76973468448479,-74.98868036954518,-75.21572668471589,-75.45146964036068,-75.69656158446791,-75.95171808834732,-76.21772585306107,-76.49545181599558,-76.78585367350394,-77.08999208054104,-77.40904484388123,-77.74432349468998,-78.09729271259646,-78.46959318176377,-78.86306859602922,-79.27979770319169,-79.72213249877834,-80.19274396145703,-80.69467708472847,-81.23141742805214,-81.80697201913279,-82.4259682332574,-83.09377531629124,-83.81665458656958,-84.60194615521924,-85.45830238511334,-86.39598144462677,-87.42721842024774,-88.56669676895503,-89.83214961601986,-91.24512854366724,-92.8319865216976,-94.6251295784326,-96.6645936252216,-98.99998658632425,-101.69277535456693,-104.81873741137314,-108.47003224284624,-112.75559554413555,-117.79717977431275,-123.71628950214995,-130.60541550434777,-138.4789801300484,-147.21220789864464,-156.50182398130818,-165.89800103153098,-174.91992718614122,176.80855873032056,169.48787666096865,163.1565900353396,157.7488734774503,153.1511045890763,149.239274440799,145.8980091526858,143.027755011598,140.54583386777222,138.38487533339017,136.4904303754158,134.81857583791142,133.3338141693,132.00734113649224,130.8156598546363,129.73948845126208,128.7629047444471,127.87267751425722,127.0577428585468,126.30879276099047,125.61795035698266,124.97851229163328,124.38474316689404,123.83171060345812,123.31515212670747,122.83136712058835,122.37712863568663,121.94961100918498,121.54633014682403,121.1650939995844,120.80396129223566,120.461206965753,120.13529310970569,119.82484440565298,119.52862729455187,119.24553223239715,118.97455851802567,118.71480127224964,118.46544022360568,118.22573001713846,117.99499181194952,117.77260597320027,117.55800569676937,117.35067143133011,117.15012598440674,116.95593021691374,116.76767924551834,116.58499908447266],\"marker\":{\"color\":\"rgb(148, 103, 189)\",\"size\":8,\"symbol\":\"triangle-right\"},\"mode\":\"markers+lines\",\"name\":\"JFK-PEK\",\"type\":\"scattergeo\",\"textposition\":\"middle left\"},{\"hoverinfo\":\"text\",\"lat\":[31.143400192260746],\"line\":{\"color\":\"rgb(68, 68, 68)\",\"width\":1},\"locationmode\":\"ISO-3\",\"lon\":[124.80500030517578],\"marker\":{\"color\":\"rgb(148, 103, 189)\",\"size\":20},\"mode\":\"markers\",\"name\":\"Shanghai PVG\",\"opacity\":0.7,\"showlegend\":false,\"text\":[\"\\u041a\\u043e\\u043b\\u0438\\u0447\\u0435\\u0441\\u0442\\u0432\\u043e \\u0440\\u0435\\u0439\\u0441\\u043e\\u0432 \\u0438\\u0437 JFK \\u0432 PVG: 2\"],\"type\":\"scattergeo\",\"textposition\":\"middle left\"},{\"lat\":[40.63980102999999,41.6863300545465,42.731781775383645,43.77607832207292,44.81913489353195,45.86085895489301,46.90114932317761,47.93989512369596,48.97697459571695,50.012253721891206,51.04558465098542,52.07680387750006,53.105730134446695,54.132161946641475,55.15587478093859,56.17661771639207,57.19410954078576,58.208034159545136,59.21803517779468,60.22370948507613,61.22459963356406,62.22018475277623,63.20986968474232,64.19297195106141,65.16870607480112,66.13616467350926,67.09429561329753,68.04187436869992,68.97747057390579,69.89940759162957,70.80571379541507,71.69406421576141,72.56171134169215,73.40540437164647,74.22129735498635,75.00484889257734,75.75071997844603,76.45268288612353,77.10356331078384,77.69525004587973,78.2188190174357,78.66482547834698,79.02380882517397,79.287016066816,79.44727732749737,79.49987729924104,79.44320640205434,79.27899748100602,79.01207128662804,78.64967314299518,78.20059763420781,77.67431651288281,77.08026274412154,76.42733408565844,75.72360810599477,74.97622337916427,74.191373101031,73.37436472444517,72.52971181735582,71.66123633576899,70.77216869545828,69.86523924534275,68.94275858330865,68.00668633222509,67.0586891104578,66.10018891565718,65.13240327227999,64.15637844324242,63.17301687376505,62.1830998757411,61.18730640220009,60.18622861683467,59.18038483798656,58.17023033051914,57.1561663311658,56.13854762095747,55.11768889975756,54.09387017046982,53.06734130211317,52.038325909956576,51.007024665857166,49.973618131679515,48.938269192253486,47.90112515099774,46.86231954048473,45.821973691372186,44.78019809588324,43.737093596075205,42.692752422248695,41.6472591028137,40.6006912635904,39.55312033175047,38.5046121572973,37.45522756305715,36.405022832539615,35.35405014367229,34.30235795527331,33.249991352163576,32.196992354005076,31.143400192260746],\"line\":{\"color\":\"rgb(148, 103, 189)\",\"width\":2},\"locationmode\":\"ISO-3\",\"lon\":[-73.77890015,-74.12574733069813,-74.48405996824728,-74.85465369061609,-75.2384149325907,-75.63630889031161,-76.04938853179962,-76.47880482604097,-76.92581838121035,-77.39181271585386,-77.87830942635037,-78.38698556091579,-78.9196935662197,-79.4784842389786,-80.06563319353153,-80.68367144945125,-81.33542085288158,-82.02403517367122,-82.75304786930495,-83.52642767702761,-84.34864338648595,-85.22473935228433,-86.16042351856431,-87.16216992511187,-88.23733780815155,-89.39430943186254,-90.64264857549722,-91.99328096912252,-93.45869661701788,-95.05317139485,-96.79300081793876,-98.69673134761538,-100.78536244099372,-103.08247361772912,-105.61420256334237,-108.40896040834045,-111.49671856621849,-114.90764360877331,-118.66981136151071,-122.80574034028785,-127.32761961550351,-132.23145793812725,-137.4910016498752,-143.05305087330512,-148.8363526930357,-154.73594669512966,-160.6332834972017,-166.41008503286145,-171.96212720017834,-177.20916435670077,177.90094790823994,173.39353249826218,169.27186439461974,165.52326856553864,162.12494114865626,159.04867389911703,156.26427301990896,153.74180566946058,151.45293608693234,149.37161908859696,147.47437234748432,145.74029096505407,144.15091648244322,142.69003305864572,141.34343568373686,140.09869666077387,138.9449446363796,137.8726630685616,136.87351062104582,135.94016347659823,135.0661782420497,134.24587350614223,133.47422791169512,132.7467926326568,132.05961629325503,131.4091805649778,130.79234488991526,130.2062989856017,129.648521976709,129.11674716853827,128.6089316253949,128.12322984457506,127.657970925671,127.21163872737208,126.782854582084,126.37036220455788,125.97301448616884,125.58976191312681,125.21964238614405,124.86177225211594,124.515338386201,124.17959118616069,123.85383836064862,123.53743940991481,123.22980071160814,122.93037113642905,122.63863812865218,122.3541241952854,122.07638375510253,121.80500030517578],\"marker\":{\"color\":\"rgb(148, 103, 189)\",\"size\":8,\"symbol\":\"triangle-right\"},\"mode\":\"markers+lines\",\"name\":\"JFK-PVG\",\"type\":\"scattergeo\",\"textposition\":\"middle left\"},{\"hoverinfo\":\"text\",\"lat\":[37.46910095214844],\"line\":{\"color\":\"rgb(68, 68, 68)\",\"width\":1},\"locationmode\":\"ISO-3\",\"lon\":[132.45099639892578],\"marker\":{\"color\":\"rgb(148, 103, 189)\",\"size\":30},\"mode\":\"markers\",\"name\":\"Seoul ICN\",\"opacity\":0.7,\"showlegend\":false,\"text\":[\"\\u041a\\u043e\\u043b\\u0438\\u0447\\u0435\\u0441\\u0442\\u0432\\u043e \\u0440\\u0435\\u0439\\u0441\\u043e\\u0432 \\u0438\\u0437 JFK \\u0432 ICN: 4\"],\"type\":\"scattergeo\",\"textposition\":\"middle left\"},{\"lat\":[40.63980102999999,41.606673901283855,42.57229045764272,43.536567206932816,44.49941387857435,45.460732711984754,46.42041765663213,47.378353470943075,48.334414705221114,49.288464551284065,50.24035353863586,51.18991805356899,52.13697865354419,53.08133814439367,54.022779382200326,54.96106275494757,55.895923291014064,56.8270673320766,57.754168696718025,58.676864247724886,59.594748760388,60.507368970766755,61.41421666155916,62.314720618727975,63.20823726435773,64.09403974069045,64.97130518785835,65.83909992546147,66.69636221943402,67.54188229679175,68.37427927199155,69.19197468579569,69.99316245527604,70.7757752282969,71.53744747933955,72.2754762461392,72.98678127674715,73.66786763267189,74.31479555933115,74.92316470573712,75.48812240335765,76.00440824686353,76.4664487403304,76.86851482017353,77.2049498243918,77.47046447406589,77.6604788239759,77.7714721305158,77.80128679915151,77.74933000616866,77.61663116510485,77.40574271070918,77.12050566316275,76.76572746859162,76.34682941918167,75.86951436640487,75.33948871145874,74.76225377443107,74.14296638673001,73.48635919086821,72.79670723206925,72.07782731684874,71.33309853092183,70.56549493589586,69.77762402433697,68.97176665206378,68.14991579361094,67.31381262320836,66.46497920078171,65.60474753763414,64.73428511349455,63.85461708061388,62.966645468868784,62.0711657312092,61.16888096320779,60.260414108138754,59.346318428833406,58.42708649489896,57.50315790183205,56.574925908742074,55.64274315457297,54.70692658909286,53.76776173443063,52.82550637534549,51.88039376141385,50.932635391592086,49.98242344085102,49.02993287949487,48.07532332812197,47.118740684732785,46.16031855505552,45.2001795125753,44.238436210886256,43.27519236771757,42.31054363722134,41.344578384767956,40.377378376507885,39.409019394270246,38.43957178492988,37.46910095214844],\"line\":{\"color\":\"rgb(148, 103, 189)\",\"width\":2},\"locationmode\":\"ISO-3\",\"lon\":[-73.77890015,-74.15399924012469,-74.54050528430857,-74.93916001610823,-75.35076334378282,-75.77617919478342,-76.21634204293657,-76.67226420887724,-77.14504403726802,-77.63587506921543,-78.1460563452963,-78.67700399398711,-79.23026428228275,-79.807528330109,-80.41064871791632,-81.04165824760435,-81.70279115047033,-82.39650707164755,-83.12551819740551,-83.89281992776978,-84.70172552895231,-85.5559052228974,-86.45943017682359,-87.4168218317687,-88.43310693752134,-89.5138785148975,-90.66536270559857,-91.8944910379839,-93.2089769532668,-94.6173943883801,-96.12925464593276,-97.75507549664759,-99.50643320259753,-101.39598362772236,-103.43743252465248,-105.64542726498462,-108.03533282877422,-110.62284456603663,-113.4233810963191,-116.45119672166699,-119.71816064253035,-123.23217974717531,-126.99530376126911,-131.00165334895019,-135.2354474017394,-139.66954424096292,-144.26499093238752,-148.97201687838563,-153.73266036989625,-158.48481104003557,-163.1670249734033,-167.72321324595734,-172.10634763060006,-176.2806468835465,179.77785389256775,176.08207608706047,172.6355431076787,169.43441562727838,166.46953666416067,163.72824918469038,161.19587719738283,158.85685214335214,156.6955185736146,154.6966756502204,152.84591485209185,151.12980833665685,149.5359926512735,148.0531822819692,146.67113847686736,145.38061143922314,144.17326835497673,143.04161557092158,141.9789202738134,140.97913495365162,140.03682652668348,139.14711105752565,138.3055944139286,137.50831880907583,136.75171496137725,136.0325594788794,135.34793701899142,134.69520675985245,134.07197273091666,133.47605757630137,132.90547935799,132.35843104254724,131.83326235175184,131.3284636928025,130.8426519165785,130.37455768239872,129.92301423469473,129.48694742104655,129.06536680229385,128.65735772414376,128.26207423609998,127.87873275787278,127.50660640594049,127.14501990383133,126.79334500918662,126.45099639892578],\"marker\":{\"color\":\"rgb(148, 103, 189)\",\"size\":8,\"symbol\":\"triangle-right\"},\"mode\":\"markers+lines\",\"name\":\"JFK-ICN\",\"type\":\"scattergeo\",\"textposition\":\"middle left\"},{\"hoverinfo\":\"text\",\"lat\":[41.275278],\"line\":{\"color\":\"rgb(68, 68, 68)\",\"width\":1},\"locationmode\":\"ISO-3\",\"lon\":[31.751944],\"marker\":{\"color\":\"rgb(148, 103, 189)\",\"size\":20},\"mode\":\"markers\",\"name\":\"Istanbul IST\",\"opacity\":0.7,\"showlegend\":false,\"text\":[\"\\u041a\\u043e\\u043b\\u0438\\u0447\\u0435\\u0441\\u0442\\u0432\\u043e \\u0440\\u0435\\u0439\\u0441\\u043e\\u0432 \\u0438\\u0437 JFK \\u0432 IST: 2\"],\"type\":\"scattergeo\",\"textposition\":\"middle left\"},{\"lat\":[40.63980102999999,41.102128182726105,41.559580191071376,42.01200786924972,42.45925817935954,42.90117420781521,43.33759515215692,43.76835631943006,44.1932891373933,44.61222117987942,45.02497620769248,45.431374226479626,45.8312315630608,46.224360961736124,46.610571702113546,46.98966974000814,47.36145787295541,47.72573593185197,48.08230100018482,48.43094766223257,48.77146828151515,49.10365331063053,49.42729163344546,49.74217094039785,50.04807813742402,50.34479978873827,50.63212259336777,50.90983389498349,51.177722224166374,51.435577871813145,51.68319349191975,51.9203647314885,52.14689088479445,52.36257556872463,52.56722741538091,52.760660777623876,52.94269644274224,53.11316234897415,53.27189429919521,53.41873666573679,53.55354308002072,53.67617710050482,53.78651285233797,53.88443563213463,53.96984247140216,54.042642652394456,54.1027581705243,54.15012413794124,54.18468912346634,54.20641542476117,54.21527926938285,54.21127094222525,54.19439483774975,54.16466943634879,54.12212720513974,54.066814424433844,53.998790942045375,53.91812985847644,53.82491714681803,53.71925121192793,53.60124239407117,53.47101242272484,53.32869382665207,53.174429306635346,53.00837107742611,52.83068018552045,52.641525809314686,52.441084548037644,52.22953970560991,52.00708057525576,51.77390173030273,51.53020232616205,51.27618541800133,51.0120572981144,50.73802685647214,50.454304967414956,50.161103904931565,49.858636788468914,49.54711706074167,49.22675799856183,48.89777225729519,48.560371449173886,48.214765755354854,47.861163571314925,47.499771184911886,47.1307924862196,46.75442870805911,46.37087819599726,45.98033620646669,45.5829947315716,45.17904234908323,44.768664096090745,44.35204136475762,43.929351818635595,43.500769328006236,43.06646392275185,42.62660176129932,42.181345114231945,41.73085236122198,41.275278],\"line\":{\"color\":\"rgb(148, 103, 189)\",\"width\":2},\"locationmode\":\"ISO-3\",\"lon\":[-73.77890015,-73.03324139005677,-72.27706601644242,-71.51016887049649,-70.73234726075742,-69.94340161244232,-69.14313616920629,-68.33135974890331,-67.50788655482135,-66.67253704355417,-65.82513885029915,-64.96552777192589,-64.0935488076397,-63.20905725646498,-62.311919870086925,-61.40201605881892,-60.47923914760084,-59.543497677984426,-58.59471675102453,-57.63283940487893,-56.65782801972682,-55.669665741362955,-54.66835791352282,-53.65393350766334,-52.626446537586645,-51.58597744497819,-50.53263444066611,-49.46655478523209,-48.387905991552756,-47.29688693096781,-46.193728824099374,-45.07869609693154,-43.9520870826428,-42.81423454990978,-41.66550603900456,-40.506303988021784,-39.33706563301839,-38.15826266774126,-36.97040065095579,-35.77401815216,-34.56968562964401,-33.358004038391584,-32.13960316915805,-30.915139724124927,-29.685295138735523,-28.450773163561394,-27.212297224228745,-25.97060758143376,-24.72645831678728,-23.48061417354127,-22.233847284064584,-20.98693381816642,-19.740650587941804,-18.495771645685682,-17.253064911561314,-16.013288867111516,-14.777189349385013,-13.545496478460601,-12.318921748546215,-11.098155309695603,-9.883863463611737,-8.676686393101374,-7.477236140621843,-6.286094847126043,-5.1038132581812645,-3.930909500207078,-2.767868125745671,-1.6151394230186698,-0.4731389817075564,0.6577524960332937,1.7771891528261092,2.8848597171372328,3.9804870453328363,5.06382748306744,6.134670065105408,7.192835573039868,8.23817547038126,9.270570734180431,10.28993060177067,11.296191250404588,12.289314426569337,13.269286040629288,14.236114741209919,15.18983048243576,16.13048309580308,17.05814087713159,17.97288919772463,18.874829147593616,19.764076217385988,20.640759024509688,21.5050180878793,22.357004654726424,23.196879582021616,24.024812274249935,24.840979678564103,25.64556533770738,26.43875850054869,27.22075328959982,27.991747924484965,28.751944],\"marker\":{\"color\":\"rgb(148, 103, 189)\",\"size\":8,\"symbol\":\"triangle-right\"},\"mode\":\"markers+lines\",\"name\":\"JFK-IST\",\"type\":\"scattergeo\",\"textposition\":\"middle left\"},{\"hoverinfo\":\"text\",\"lat\":[25.2527999878],\"line\":{\"color\":\"rgb(68, 68, 68)\",\"width\":1},\"locationmode\":\"ISO-3\",\"lon\":[58.3643989563],\"marker\":{\"color\":\"rgb(148, 103, 189)\",\"size\":20},\"mode\":\"markers\",\"name\":\"Dubai DXB\",\"opacity\":0.7,\"showlegend\":false,\"text\":[\"\\u041a\\u043e\\u043b\\u0438\\u0447\\u0435\\u0441\\u0442\\u0432\\u043e \\u0440\\u0435\\u0439\\u0441\\u043e\\u0432 \\u0438\\u0437 JFK \\u0432 DXB: 2\"],\"type\":\"scattergeo\",\"textposition\":\"middle left\"},{\"lat\":[40.63980102999999,41.339661775912305,42.03162294945396,42.71531412722107,43.39034828490028,44.05632125485397,44.71281121960904,45.35937825263957,45.9955639194498,46.62089095368146,47.23486302476732,47.83696461549399,48.42666102968045,49.003398551958306,49.56660478328532,50.11568917723553,50.65004380317751,51.16904436304547,51.67205148837452,52.15841234345178,52.627462558654926,53.07852851513803,53.510929997817776,53.923983227974865,54.317004279616704,54.68931287501402,55.040236544566724,55.36911512452045,55.67530555330051,55.95818691374668,56.21716565483304,56.45168091318187,56.66120984256157,56.84527284938864,57.00343862483102,57.13532886017693,57.240622532303156,57.31905965076911,57.37044436743951,57.394647363464856,57.39160744647401,57.3613323122061,57.30389844851821,57.21945018455824,57.10819791259919,56.970415533317976,56.806437196007025,56.61665342237276,56.401506715513776,56.161486764004344,55.897125354667544,55.60899110683332,55.29768413610542,54.96383074755864,54.608078247613236,54.23108995138828,53.833540448906284,53.41611117981836,52.97948635295847,52.52434923450183,52.05137881715725,51.5612468728974,51.054615383345926,50.53213433511894,49.994439862109296,49.442152712797316,48.875877018027595,48.29619933313981,47.703687927712664,47.098892296300086,46.48234286424982,45.854550863850896,45.21600835752875,44.56718838649041,43.90854522502159,43.24051472248491,42.5635147169045,41.877945505803005,41.1841903616555,40.48261608091464,39.77357355703406,39.05739836926395,38.334411380211876,37.60491933625721,36.86921546588223,36.127580071844584,35.380281113872,34.627574779218996,33.8697060389971,33.10690918868058,32.33940837161094,31.567418084679645,30.791143665670248,30.010781761993496,29.22652078075747,28.438541320288845,27.6470165833599,26.852112772490027,26.053989467779218,25.2527999878],\"line\":{\"color\":\"rgb(148, 103, 189)\",\"width\":2},\"locationmode\":\"ISO-3\",\"lon\":[-73.77890015,-72.83373760957848,-71.8681580191256,-70.88145236224139,-69.87290414170693,-68.84179179563229,-67.78739154038324,-66.70898068317035,-65.60584144788714,-64.47726535753186,-63.32255821506776,-62.141045721553795,-60.932079765469915,-59.6950454099949,-58.42936859518586,-57.13452455917443,-55.8100469662842,-54.45553771009859,-53.070677335780864,-51.65523599834065,-50.20908484222991,-48.73220765308771,-47.22471259541428,-45.68684381159947,-44.118992619636415,-42.52170801101701,-40.8957061191333,-39.24187830471938,-37.561297491373374,-35.8552223839125,-34.12509921789342,-32.372560722200966,-30.59942202943216,-28.80767334099791,-26.999469244144333,-25.177114683633633,-23.343047707240142,-21.49981922574677,-19.650070147957305,-17.796506362014,-15.941872128757543,-14.08892252446396,-12.240395613927816,-10.398985047340869,-8.567313754821729,-6.747909362226905,-4.943181874676087,-3.1554040755319432,-1.3866949751365878,0.3609934772303067,2.0858863256548537,3.7863922060815627,5.461106735381897,7.108812901820172,8.728478735670205,10.319252587209533,11.88045636873055,13.411577129038516,14.912257325430367,16.382284142099437,17.8215781782272,19.230181796583715,20.608247386925687,21.95602576016995,23.273854851136498,24.562148871083302,25.821388017361205,27.0521088170042,28.254895154321595,29.430370009699235,30.579187917779795,31.702028137762657,32.799588516437474,33.87258001537849,34.921721867098974,35.9477373205081,36.951349933363716,37.9332803682336,38.894243648461654,39.83494683151843,40.75608705866955,41.65834994192674,42.542408251599994,43.408920870312684,44.25853198197604,45.09187046686439,45.90954947652866,46.712166164789195,47.50030155342906,48.27452051344592,49.03537184480274,49.78338843953919,50.519087514867024,51.24297090447766,51.95552539774321,52.65722311780318,53.34852193070537,54.0298658788211,54.70168563269233,55.3643989563],\"marker\":{\"color\":\"rgb(148, 103, 189)\",\"size\":8,\"symbol\":\"triangle-right\"},\"mode\":\"markers+lines\",\"name\":\"JFK-DXB\",\"type\":\"scattergeo\",\"textposition\":\"middle left\"}],                        {\"template\":{\"data\":{\"histogram2dcontour\":[{\"type\":\"histogram2dcontour\",\"colorbar\":{\"outlinewidth\":0,\"ticks\":\"\"},\"colorscale\":[[0.0,\"#0d0887\"],[0.1111111111111111,\"#46039f\"],[0.2222222222222222,\"#7201a8\"],[0.3333333333333333,\"#9c179e\"],[0.4444444444444444,\"#bd3786\"],[0.5555555555555556,\"#d8576b\"],[0.6666666666666666,\"#ed7953\"],[0.7777777777777778,\"#fb9f3a\"],[0.8888888888888888,\"#fdca26\"],[1.0,\"#f0f921\"]]}],\"choropleth\":[{\"type\":\"choropleth\",\"colorbar\":{\"outlinewidth\":0,\"ticks\":\"\"}}],\"histogram2d\":[{\"type\":\"histogram2d\",\"colorbar\":{\"outlinewidth\":0,\"ticks\":\"\"},\"colorscale\":[[0.0,\"#0d0887\"],[0.1111111111111111,\"#46039f\"],[0.2222222222222222,\"#7201a8\"],[0.3333333333333333,\"#9c179e\"],[0.4444444444444444,\"#bd3786\"],[0.5555555555555556,\"#d8576b\"],[0.6666666666666666,\"#ed7953\"],[0.7777777777777778,\"#fb9f3a\"],[0.8888888888888888,\"#fdca26\"],[1.0,\"#f0f921\"]]}],\"heatmap\":[{\"type\":\"heatmap\",\"colorbar\":{\"outlinewidth\":0,\"ticks\":\"\"},\"colorscale\":[[0.0,\"#0d0887\"],[0.1111111111111111,\"#46039f\"],[0.2222222222222222,\"#7201a8\"],[0.3333333333333333,\"#9c179e\"],[0.4444444444444444,\"#bd3786\"],[0.5555555555555556,\"#d8576b\"],[0.6666666666666666,\"#ed7953\"],[0.7777777777777778,\"#fb9f3a\"],[0.8888888888888888,\"#fdca26\"],[1.0,\"#f0f921\"]]}],\"heatmapgl\":[{\"type\":\"heatmapgl\",\"colorbar\":{\"outlinewidth\":0,\"ticks\":\"\"},\"colorscale\":[[0.0,\"#0d0887\"],[0.1111111111111111,\"#46039f\"],[0.2222222222222222,\"#7201a8\"],[0.3333333333333333,\"#9c179e\"],[0.4444444444444444,\"#bd3786\"],[0.5555555555555556,\"#d8576b\"],[0.6666666666666666,\"#ed7953\"],[0.7777777777777778,\"#fb9f3a\"],[0.8888888888888888,\"#fdca26\"],[1.0,\"#f0f921\"]]}],\"contourcarpet\":[{\"type\":\"contourcarpet\",\"colorbar\":{\"outlinewidth\":0,\"ticks\":\"\"}}],\"contour\":[{\"type\":\"contour\",\"colorbar\":{\"outlinewidth\":0,\"ticks\":\"\"},\"colorscale\":[[0.0,\"#0d0887\"],[0.1111111111111111,\"#46039f\"],[0.2222222222222222,\"#7201a8\"],[0.3333333333333333,\"#9c179e\"],[0.4444444444444444,\"#bd3786\"],[0.5555555555555556,\"#d8576b\"],[0.6666666666666666,\"#ed7953\"],[0.7777777777777778,\"#fb9f3a\"],[0.8888888888888888,\"#fdca26\"],[1.0,\"#f0f921\"]]}],\"surface\":[{\"type\":\"surface\",\"colorbar\":{\"outlinewidth\":0,\"ticks\":\"\"},\"colorscale\":[[0.0,\"#0d0887\"],[0.1111111111111111,\"#46039f\"],[0.2222222222222222,\"#7201a8\"],[0.3333333333333333,\"#9c179e\"],[0.4444444444444444,\"#bd3786\"],[0.5555555555555556,\"#d8576b\"],[0.6666666666666666,\"#ed7953\"],[0.7777777777777778,\"#fb9f3a\"],[0.8888888888888888,\"#fdca26\"],[1.0,\"#f0f921\"]]}],\"mesh3d\":[{\"type\":\"mesh3d\",\"colorbar\":{\"outlinewidth\":0,\"ticks\":\"\"}}],\"scatter\":[{\"fillpattern\":{\"fillmode\":\"overlay\",\"size\":10,\"solidity\":0.2},\"type\":\"scatter\"}],\"parcoords\":[{\"type\":\"parcoords\",\"line\":{\"colorbar\":{\"outlinewidth\":0,\"ticks\":\"\"}}}],\"scatterpolargl\":[{\"type\":\"scatterpolargl\",\"marker\":{\"colorbar\":{\"outlinewidth\":0,\"ticks\":\"\"}}}],\"bar\":[{\"error_x\":{\"color\":\"#2a3f5f\"},\"error_y\":{\"color\":\"#2a3f5f\"},\"marker\":{\"line\":{\"color\":\"#E5ECF6\",\"width\":0.5},\"pattern\":{\"fillmode\":\"overlay\",\"size\":10,\"solidity\":0.2}},\"type\":\"bar\"}],\"scattergeo\":[{\"type\":\"scattergeo\",\"marker\":{\"colorbar\":{\"outlinewidth\":0,\"ticks\":\"\"}}}],\"scatterpolar\":[{\"type\":\"scatterpolar\",\"marker\":{\"colorbar\":{\"outlinewidth\":0,\"ticks\":\"\"}}}],\"histogram\":[{\"marker\":{\"pattern\":{\"fillmode\":\"overlay\",\"size\":10,\"solidity\":0.2}},\"type\":\"histogram\"}],\"scattergl\":[{\"type\":\"scattergl\",\"marker\":{\"colorbar\":{\"outlinewidth\":0,\"ticks\":\"\"}}}],\"scatter3d\":[{\"type\":\"scatter3d\",\"line\":{\"colorbar\":{\"outlinewidth\":0,\"ticks\":\"\"}},\"marker\":{\"colorbar\":{\"outlinewidth\":0,\"ticks\":\"\"}}}],\"scattermapbox\":[{\"type\":\"scattermapbox\",\"marker\":{\"colorbar\":{\"outlinewidth\":0,\"ticks\":\"\"}}}],\"scatterternary\":[{\"type\":\"scatterternary\",\"marker\":{\"colorbar\":{\"outlinewidth\":0,\"ticks\":\"\"}}}],\"scattercarpet\":[{\"type\":\"scattercarpet\",\"marker\":{\"colorbar\":{\"outlinewidth\":0,\"ticks\":\"\"}}}],\"carpet\":[{\"aaxis\":{\"endlinecolor\":\"#2a3f5f\",\"gridcolor\":\"white\",\"linecolor\":\"white\",\"minorgridcolor\":\"white\",\"startlinecolor\":\"#2a3f5f\"},\"baxis\":{\"endlinecolor\":\"#2a3f5f\",\"gridcolor\":\"white\",\"linecolor\":\"white\",\"minorgridcolor\":\"white\",\"startlinecolor\":\"#2a3f5f\"},\"type\":\"carpet\"}],\"table\":[{\"cells\":{\"fill\":{\"color\":\"#EBF0F8\"},\"line\":{\"color\":\"white\"}},\"header\":{\"fill\":{\"color\":\"#C8D4E3\"},\"line\":{\"color\":\"white\"}},\"type\":\"table\"}],\"barpolar\":[{\"marker\":{\"line\":{\"color\":\"#E5ECF6\",\"width\":0.5},\"pattern\":{\"fillmode\":\"overlay\",\"size\":10,\"solidity\":0.2}},\"type\":\"barpolar\"}],\"pie\":[{\"automargin\":true,\"type\":\"pie\"}]},\"layout\":{\"autotypenumbers\":\"strict\",\"colorway\":[\"#636efa\",\"#EF553B\",\"#00cc96\",\"#ab63fa\",\"#FFA15A\",\"#19d3f3\",\"#FF6692\",\"#B6E880\",\"#FF97FF\",\"#FECB52\"],\"font\":{\"color\":\"#2a3f5f\"},\"hovermode\":\"closest\",\"hoverlabel\":{\"align\":\"left\"},\"paper_bgcolor\":\"white\",\"plot_bgcolor\":\"#E5ECF6\",\"polar\":{\"bgcolor\":\"#E5ECF6\",\"angularaxis\":{\"gridcolor\":\"white\",\"linecolor\":\"white\",\"ticks\":\"\"},\"radialaxis\":{\"gridcolor\":\"white\",\"linecolor\":\"white\",\"ticks\":\"\"}},\"ternary\":{\"bgcolor\":\"#E5ECF6\",\"aaxis\":{\"gridcolor\":\"white\",\"linecolor\":\"white\",\"ticks\":\"\"},\"baxis\":{\"gridcolor\":\"white\",\"linecolor\":\"white\",\"ticks\":\"\"},\"caxis\":{\"gridcolor\":\"white\",\"linecolor\":\"white\",\"ticks\":\"\"}},\"coloraxis\":{\"colorbar\":{\"outlinewidth\":0,\"ticks\":\"\"}},\"colorscale\":{\"sequential\":[[0.0,\"#0d0887\"],[0.1111111111111111,\"#46039f\"],[0.2222222222222222,\"#7201a8\"],[0.3333333333333333,\"#9c179e\"],[0.4444444444444444,\"#bd3786\"],[0.5555555555555556,\"#d8576b\"],[0.6666666666666666,\"#ed7953\"],[0.7777777777777778,\"#fb9f3a\"],[0.8888888888888888,\"#fdca26\"],[1.0,\"#f0f921\"]],\"sequentialminus\":[[0.0,\"#0d0887\"],[0.1111111111111111,\"#46039f\"],[0.2222222222222222,\"#7201a8\"],[0.3333333333333333,\"#9c179e\"],[0.4444444444444444,\"#bd3786\"],[0.5555555555555556,\"#d8576b\"],[0.6666666666666666,\"#ed7953\"],[0.7777777777777778,\"#fb9f3a\"],[0.8888888888888888,\"#fdca26\"],[1.0,\"#f0f921\"]],\"diverging\":[[0,\"#8e0152\"],[0.1,\"#c51b7d\"],[0.2,\"#de77ae\"],[0.3,\"#f1b6da\"],[0.4,\"#fde0ef\"],[0.5,\"#f7f7f7\"],[0.6,\"#e6f5d0\"],[0.7,\"#b8e186\"],[0.8,\"#7fbc41\"],[0.9,\"#4d9221\"],[1,\"#276419\"]]},\"xaxis\":{\"gridcolor\":\"white\",\"linecolor\":\"white\",\"ticks\":\"\",\"title\":{\"standoff\":15},\"zerolinecolor\":\"white\",\"automargin\":true,\"zerolinewidth\":2},\"yaxis\":{\"gridcolor\":\"white\",\"linecolor\":\"white\",\"ticks\":\"\",\"title\":{\"standoff\":15},\"zerolinecolor\":\"white\",\"automargin\":true,\"zerolinewidth\":2},\"scene\":{\"xaxis\":{\"backgroundcolor\":\"#E5ECF6\",\"gridcolor\":\"white\",\"linecolor\":\"white\",\"showbackground\":true,\"ticks\":\"\",\"zerolinecolor\":\"white\",\"gridwidth\":2},\"yaxis\":{\"backgroundcolor\":\"#E5ECF6\",\"gridcolor\":\"white\",\"linecolor\":\"white\",\"showbackground\":true,\"ticks\":\"\",\"zerolinecolor\":\"white\",\"gridwidth\":2},\"zaxis\":{\"backgroundcolor\":\"#E5ECF6\",\"gridcolor\":\"white\",\"linecolor\":\"white\",\"showbackground\":true,\"ticks\":\"\",\"zerolinecolor\":\"white\",\"gridwidth\":2}},\"shapedefaults\":{\"line\":{\"color\":\"#2a3f5f\"}},\"annotationdefaults\":{\"arrowcolor\":\"#2a3f5f\",\"arrowhead\":0,\"arrowwidth\":1},\"geo\":{\"bgcolor\":\"white\",\"landcolor\":\"#E5ECF6\",\"subunitcolor\":\"white\",\"showland\":true,\"showlakes\":true,\"lakecolor\":\"white\"},\"title\":{\"x\":0.05},\"mapbox\":{\"style\":\"light\"}}},\"geo\":{\"resolution\":110,\"showcountries\":true}},                        {\"responsive\": true}                    ).then(function(){\n",
       "                            \n",
       "var gd = document.getElementById('4a48dcf3-a430-45f9-b169-ab7086c5b3c0');\n",
       "var x = new MutationObserver(function (mutations, observer) {{\n",
       "        var display = window.getComputedStyle(gd).display;\n",
       "        if (!display || display === 'none') {{\n",
       "            console.log([gd, 'removed!']);\n",
       "            Plotly.purge(gd);\n",
       "            observer.disconnect();\n",
       "        }}\n",
       "}});\n",
       "\n",
       "// Listen for the removal of the full notebook cells\n",
       "var notebookContainer = gd.closest('#notebook-container');\n",
       "if (notebookContainer) {{\n",
       "    x.observe(notebookContainer, {childList: true});\n",
       "}}\n",
       "\n",
       "// Listen for the clearing of the current output cell\n",
       "var outputEl = gd.closest('.output');\n",
       "if (outputEl) {{\n",
       "    x.observe(outputEl, {childList: true});\n",
       "}}\n",
       "\n",
       "                        })                };                });            </script>        </div>"
      ]
     },
     "metadata": {},
     "output_type": "display_data"
    }
   ],
   "source": [
    "import plotly.graph_objects as go\n",
    "import plotly.express as px\n",
    "import plotly.colors as pcl\n",
    "\n",
    "fig = go.Figure()\n",
    "\n",
    "if airports_cont_source != airports_cont_destin:  \n",
    "    # нанесение аэропортов на карту\n",
    "    for i in range(n):\n",
    "        color = pcl.DEFAULT_PLOTLY_COLORS[i]\n",
    "        fig.add_trace(go.Scattergeo(\n",
    "                locationmode = 'ISO-3',\n",
    "                lon =[lon_source[i]], \n",
    "                lat = [lat_source[i]],\n",
    "                hoverinfo = 'text',\n",
    "                text = [city_source[i]+' '+airports_cont_source[i]], \n",
    "                mode = 'markers+text',\n",
    "                marker_size=10,\n",
    "                marker_color = color,\n",
    "                marker_line = dict(color='black', width=3),\n",
    "                line = dict(width = 1,\n",
    "                            color = 'rgb(68, 68, 68)'),\n",
    "                name = city_source[i]+' '+airports_cont_source[i]\n",
    "                ))   \n",
    "        fig.add_trace(go.Scattergeo(\n",
    "                    locationmode = 'ISO-3',\n",
    "                    lon =[lon_destin[i]], \n",
    "                    lat = [lat_destin[i]],\n",
    "                    hoverinfo = 'text',\n",
    "                    text = [city_destin[i]+' '+airports_cont_destin[i]], \n",
    "                    mode = 'markers+text',\n",
    "                    marker_symbol='x',\n",
    "                    #opacity=0.5,\n",
    "                    marker_size=15,\n",
    "                    marker_color = 'black',\n",
    "                    line = dict(width = 1,\n",
    "                                color = 'rgb(68, 68, 68)'),\n",
    "                    name = city_destin[i]+' '+airports_cont_destin[i],\n",
    "                    ))   \n",
    "        # Проверка наличия прамых рейсов с континента вылета\n",
    "        if (top_n_tablo['Destination airport']==airports_cont_destin[i]).any()==False:\n",
    "            print('Прямых рейсов в аэропорт', airports_cont_destin[i], 'из топ', n, 'аэропортов континента', continent_source, 'нет')\n",
    "            \n",
    "    for i in range(n):\n",
    "        color = pcl.DEFAULT_PLOTLY_COLORS[i]        \n",
    "        for j in range(n): \n",
    "            # Проверка наличия прямых рейсов между аэропортами\n",
    "            if (top_n_tablo['Destination airport']==airports_cont_destin[j]).any()==True:\n",
    "                tablo_airport_j = top_n_tablo[top_n_tablo['Destination airport']==airports_cont_destin[j]]\n",
    "                if (tablo_airport_j['Source airport']==airports_cont_source[i]).any()==True:\n",
    "                    tablo_from_i_to_j = tablo_airport_j[tablo_airport_j['Source airport']==airports_cont_source[i]]\n",
    "                    flight_num = int(tablo_from_i_to_j['Number of flights'])\n",
    "                    # Добавление данных по количеству прилетов из каждого аэропорта континента вылета\n",
    "                    fig.add_trace(go.Scattergeo(\n",
    "                            locationmode = 'ISO-3',\n",
    "                            # Небольшое смещение кругов, чтобы при одинаковом количестве прилетов \n",
    "                            # из разных аэропортов данные не наслаивались друг на друга\n",
    "                            lon =[lon_destin[j]+flight_num*(i/2 - 0.5)], \n",
    "                            lat = [lat_destin[j]],\n",
    "                            hoverinfo = 'text',\n",
    "                            text = ['Количество рейсов из '+airports_cont_source[i]+' в '+airports_cont_destin[j]+': '+str(flight_num)], \n",
    "                            mode = 'markers',\n",
    "                            opacity=0.7,\n",
    "                            # Размер круга отображает количество прилетов из конкретного аэропорта\n",
    "                            marker_size=(10+flight_num*5),\n",
    "                            marker_color = color,\n",
    "                            line = dict(width = 1,\n",
    "                                        color = 'rgb(68, 68, 68)'),\n",
    "                            name = city_destin[j]+' '+airports_cont_destin[j],\n",
    "                            showlegend=False\n",
    "                            )) \n",
    "\n",
    "                    # Преобразование данных для корректного отображения маршрутов через написанную ранее функцию\n",
    "                    lons, lats = slerp(A= [lon_source[i], lat_source[i]], B = [lon_destin[j], lat_destin[j]], dir=1)\n",
    "\n",
    "                    # Добавление маршрутов на карту\n",
    "                    fig.add_trace(\n",
    "                            go.Scattergeo(\n",
    "                                locationmode = 'ISO-3',\n",
    "                                lon = lons,\n",
    "                                lat = lats,\n",
    "                                mode = 'markers+lines',\n",
    "                                marker=dict(\n",
    "                                        # Добавление направления полета на линию\n",
    "                                        symbol=(\"triangle-down\" if lat_source[i]-lat_destin[j]>0 and abs(lat_source[i]-lat_destin[j])>abs(lon_source[i]-lon_destin[j])\n",
    "                                                else \"triangle-up\" if abs(lat_source[i]-lat_destin[j])>abs(lon_source[i]-lon_destin[j])\n",
    "                                                else \"triangle-right\" if lon_source[i]-lon_destin[j]<0 and lon_destin[j]>0 \n",
    "                                                else \"triangle-left\"),\n",
    "                                        color=color,\n",
    "                                        size=8),\n",
    "                                line = dict(width = 2,color = color),\n",
    "                                name=airports_cont_source[i]+'-'+airports_cont_destin[j]))\n",
    "                # Если между аэропортами нет прямых рейсов    \n",
    "                else:\n",
    "                    print('Прямых рейсов в аэропорт', airports_cont_destin[j], 'из аэропорта', airports_cont_source[i], 'нет')\n",
    "\n",
    "# Аналогичные дайствия, когда континенты вылета и прилета совпадают\n",
    "else:\n",
    "    for i in range(n):        \n",
    "        color = pcl.DEFAULT_PLOTLY_COLORS[i]        \n",
    "        for j in range(n):\n",
    "            # Пропуск ситуации, когда аэропорт вылета является одновременно и аэропортом прилета\n",
    "            if i == j:\n",
    "                continue\n",
    "            else:\n",
    "                if (top_n_tablo['Destination airport']==airports_cont_destin[j]).any()==True:\n",
    "                    tablo_airport_j = top_n_tablo[top_n_tablo['Destination airport']==airports_cont_destin[j]]\n",
    "                    if (tablo_airport_j['Source airport']==airports_cont_source[i]).any()==True:\n",
    "                        tablo_from_i_to_j = tablo_airport_j[tablo_airport_j['Source airport']==airports_cont_source[i]]\n",
    "                        flight_num = int(tablo_from_i_to_j['Number of flights'])\n",
    "                        fig.add_trace(go.Scattergeo(\n",
    "                                locationmode = 'ISO-3',\n",
    "                                lon =[lon_destin[j]+flight_num*(i-0.5)/15-0.7], \n",
    "                                lat = [lat_destin[j]],\n",
    "                                hoverinfo = 'text',\n",
    "                                text = ['Количество рейсов из '+airports_cont_source[i]+' в '+airports_cont_destin[j]+': '+str(flight_num)], \n",
    "                                mode = 'markers',\n",
    "                                opacity=0.7,\n",
    "                                marker_size=(10+flight_num*5),\n",
    "                                marker_color = color,\n",
    "                                line = dict(width = 1,\n",
    "                                            color = 'rgb(68, 68, 68)'),\n",
    "                                name = city_destin[j]+' '+airports_cont_destin[j],\n",
    "                                showlegend=False\n",
    "                                )) \n",
    "                    # Небольшой сдвиг линий, чтобы были видны марштуры в обе стороны между двумя аэропортами\n",
    "                    lons, lats = slerp(A= [lon_source[i]-0.1, lat_source[i]], B = [lon_destin[j]+0.1, lat_destin[j]], dir=1)\n",
    "\n",
    "                    fig.add_trace(go.Scattergeo(\n",
    "                                    locationmode = 'ISO-3',\n",
    "                                    lon = lons,\n",
    "                                    lat = lats,\n",
    "                                    mode = 'markers+lines',\n",
    "                                    marker=dict(\n",
    "                                        symbol=(\"triangle-down\" if lat_source[i]-lat_destin[j]>0 and abs(lat_source[i]-lat_destin[j])>abs(lon_source[i]-lon_destin[j])\n",
    "                                                else \"triangle-up\" if abs(lat_source[i]-lat_destin[j])>abs(lon_source[i]-lon_destin[j])\n",
    "                                                else \"triangle-right\" if lon_source[i]-lon_destin[j]<0 and lon_destin[j]>0 \n",
    "                                                else \"triangle-left\"),\n",
    "                                        color=color,\n",
    "                                        size=6),\n",
    "                                    line = dict(width = 2, color = color),\n",
    "                                    name=airports_cont_source[i]+'-'+airports_cont_destin[j]))  \n",
    "    for i in range(n):\n",
    "        color = pcl.DEFAULT_PLOTLY_COLORS[i]\n",
    "        fig.add_trace(go.Scattergeo(\n",
    "                locationmode = 'ISO-3',\n",
    "                lon = [lon_source[i]], \n",
    "                lat = [lat_source[i]],\n",
    "                hoverinfo = 'text',\n",
    "                text = [city_source[i]+' '+airports_cont_source[i]], \n",
    "                mode = 'markers+text',\n",
    "                marker_size=10,\n",
    "                marker_color = color,\n",
    "                marker_line = dict(color='black', width=3),\n",
    "                line = dict(width = 1,\n",
    "                            color = 'rgb(68, 68, 68)'),\n",
    "                name = city_source[i]+' '+airports_cont_source[i]))\n",
    "\n",
    "# Надстройки для корректного отображения данных\n",
    "fig.update_traces(textposition='middle left')\n",
    "fig.update_geos(resolution=110)\n",
    "fig.update_geos(showcountries=True)"
   ]
  },
  {
   "cell_type": "markdown",
   "id": "7c41dd9d",
   "metadata": {},
   "source": [
    "## Итоговая визуализация на географической карте\n",
    "### Масштаб можно увеличивать, тогда данные лучше видны. Также нажатием на элементы легенды их можно скрыть/вернуть на карту. При наведении курсора мыши на круги в области аэропортов прилета, отображается информация по количеству прилетов из других аэропортов"
   ]
  },
  {
   "cell_type": "code",
   "execution_count": 17,
   "id": "d6757d64",
   "metadata": {},
   "outputs": [
    {
     "data": {
      "application/vnd.plotly.v1+json": {
       "config": {
        "plotlyServerURL": "https://plot.ly"
       },
       "data": [
        {
         "hoverinfo": "text",
         "lat": [
          -26.1392
         ],
         "line": {
          "color": "rgb(68, 68, 68)",
          "width": 1
         },
         "locationmode": "ISO-3",
         "lon": [
          28.246
         ],
         "marker": {
          "color": "rgb(31, 119, 180)",
          "line": {
           "color": "black",
           "width": 3
          },
          "size": 10
         },
         "mode": "markers+text",
         "name": "Johannesburg JNB",
         "text": [
          "Johannesburg JNB"
         ],
         "textposition": "middle left",
         "type": "scattergeo"
        },
        {
         "hoverinfo": "text",
         "lat": [
          33.6367
         ],
         "line": {
          "color": "rgb(68, 68, 68)",
          "width": 1
         },
         "locationmode": "ISO-3",
         "lon": [
          -84.428101
         ],
         "marker": {
          "color": "black",
          "size": 15,
          "symbol": "x"
         },
         "mode": "markers+text",
         "name": "Atlanta ATL",
         "text": [
          "Atlanta ATL"
         ],
         "textposition": "middle left",
         "type": "scattergeo"
        },
        {
         "hoverinfo": "text",
         "lat": [
          30.12190055847168
         ],
         "line": {
          "color": "rgb(68, 68, 68)",
          "width": 1
         },
         "locationmode": "ISO-3",
         "lon": [
          31.40559959411621
         ],
         "marker": {
          "color": "rgb(255, 127, 14)",
          "line": {
           "color": "black",
           "width": 3
          },
          "size": 10
         },
         "mode": "markers+text",
         "name": "Cairo CAI",
         "text": [
          "Cairo CAI"
         ],
         "textposition": "middle left",
         "type": "scattergeo"
        },
        {
         "hoverinfo": "text",
         "lat": [
          41.9786
         ],
         "line": {
          "color": "rgb(68, 68, 68)",
          "width": 1
         },
         "locationmode": "ISO-3",
         "lon": [
          -87.9048
         ],
         "marker": {
          "color": "black",
          "size": 15,
          "symbol": "x"
         },
         "mode": "markers+text",
         "name": "Chicago ORD",
         "text": [
          "Chicago ORD"
         ],
         "textposition": "middle left",
         "type": "scattergeo"
        },
        {
         "hoverinfo": "text",
         "lat": [
          -1.31923997402
         ],
         "line": {
          "color": "rgb(68, 68, 68)",
          "width": 1
         },
         "locationmode": "ISO-3",
         "lon": [
          36.9277992249
         ],
         "marker": {
          "color": "rgb(44, 160, 44)",
          "line": {
           "color": "black",
           "width": 3
          },
          "size": 10
         },
         "mode": "markers+text",
         "name": "Nairobi NBO",
         "text": [
          "Nairobi NBO"
         ],
         "textposition": "middle left",
         "type": "scattergeo"
        },
        {
         "hoverinfo": "text",
         "lat": [
          33.94250107
         ],
         "line": {
          "color": "rgb(68, 68, 68)",
          "width": 1
         },
         "locationmode": "ISO-3",
         "lon": [
          -118.4079971
         ],
         "marker": {
          "color": "black",
          "size": 15,
          "symbol": "x"
         },
         "mode": "markers+text",
         "name": "Los Angeles LAX",
         "text": [
          "Los Angeles LAX"
         ],
         "textposition": "middle left",
         "type": "scattergeo"
        },
        {
         "hoverinfo": "text",
         "lat": [
          33.6367
         ],
         "line": {
          "color": "rgb(68, 68, 68)",
          "width": 1
         },
         "locationmode": "ISO-3",
         "lon": [
          -84.928101
         ],
         "marker": {
          "color": "rgb(31, 119, 180)",
          "size": 15
         },
         "mode": "markers",
         "name": "Atlanta ATL",
         "opacity": 0.7,
         "showlegend": false,
         "text": [
          "Количество рейсов из JNB в ATL: 1"
         ],
         "textposition": "middle left",
         "type": "scattergeo"
        },
        {
         "lat": [
          -26.1392,
          -25.615252779372554,
          -25.080909575079428,
          -24.536507231711415,
          -23.98237937727402,
          -23.418856136512026,
          -22.84626388560196,
          -22.264925046055165,
          -21.67515791561411,
          -21.077276533895866,
          -20.47159058053559,
          -19.858405303606048,
          -19.23802147613146,
          -18.610735378574073,
          -17.97683880524427,
          -17.33661909266889,
          -16.69035916804395,
          -16.0383376159951,
          -15.380828761970248,
          -14.71810277069182,
          -14.050425758199442,
          -13.378059916116515,
          -12.701263646875118,
          -12.020291708731422,
          -11.335395369498992,
          -10.64682256801744,
          -9.954818082460834,
          -9.259623704671398,
          -8.561478419781107,
          -7.860618590454971,
          -7.157278145156881,
          -6.451688769899676,
          -5.744080102997547,
          -5.034679932390011,
          -4.323714395152446,
          -3.611408178849788,
          -2.897984724425698,
          -2.183666430351382,
          -1.4686748577849256,
          -0.7532309365143128,
          -0.037555171474946636,
          0.6781321503540527,
          1.393610752861759,
          2.108660163707746,
          2.823059507397052,
          3.5365872987138722,
          4.249021236708687,
          4.960137999446418,
          5.669713039740233,
          6.3775203821177655,
          7.083332421292413,
          7.786919722443904,
          8.488050823647464,
          9.186492040832288,
          9.882007275694566,
          10.574357827041759,
          11.263302206100178,
          11.948595956378185,
          12.629991478744271,
          13.307237862449492,
          13.980080722900265,
          14.648262047068847,
          15.311520047514108,
          15.9695890260761,
          16.62219924840171,
          17.269076830556738,
          17.909943639080204,
          18.54451720593922,
          19.172510659946152,
          19.793632676302973,
          20.407587446038747,
          21.014074667204394,
          21.612789559780676,
          22.203422906340077,
          22.785661120577494,
          23.35918634588553,
          23.923676586195064,
          24.47880587132667,
          25.024244459100494,
          25.55965907642622,
          26.084713201538385,
          26.599067389449917,
          27.102379642565108,
          27.594305828217713,
          28.074500144677458,
          28.54261563689423,
          28.998304762922185,
          29.44122001158244,
          29.87101457148265,
          30.287343051013824,
          30.68986224839108,
          31.07823197019749,
          31.452115896234577,
          31.811182487783878,
          32.155105935652365,
          32.48356714361706,
          32.79625474211763,
          33.09286612628056,
          33.373108511613516,
          33.6367
         ],
         "line": {
          "color": "rgb(31, 119, 180)",
          "width": 2
         },
         "locationmode": "ISO-3",
         "lon": [
          28.24599999999999,
          27.004418672090104,
          25.773783410995957,
          24.553944280078145,
          23.344734661563837,
          22.14597249567569,
          20.957461477255904,
          19.778992205500785,
          18.61034328337085,
          17.45128236410845,
          16.301567143078575,
          15.160946293848644,
          14.029160348043074,
          12.90594251904979,
          11.791019470124487,
          10.684112027837724,
          9.584935842146004,
          8.493201994645622,
          7.408617556793351,
          6.330886100055765,
          5.259708160085416,
          4.194781657120978,
          3.1358022748765775,
          2.082463800225065,
          1.0344584259974205,
          -0.008522980782066715,
          -1.0467906429231524,
          -2.0806556670884313,
          -3.1104298655729066,
          -4.136425603661331,
          -5.158955670432434,
          -6.178333170934998,
          -7.194871437717084,
          -8.208883959746199,
          -9.220684326812988,
          -10.23058618756283,
          -11.238903219348535,
          -12.245949108140918,
          -13.252037536773148,
          -14.257482179827827,
          -15.262596703503027,
          -16.26769476881415,
          -17.27309003650253,
          -18.279096172029128,
          -19.286026849031856,
          -20.294195749618478,
          -21.303916559853963,
          -22.315502958780865,
          -23.32926859928484,
          -24.345527079084935,
          -25.364591900089742,
          -26.38677641431764,
          -27.41239375453039,
          -28.441756747678784,
          -29.47517780920342,
          -30.512968816178304,
          -31.555440957227937,
          -32.60290455709274,
          -33.65566887366522,
          -34.714041865270765,
          -35.77832992592579,
          -36.848837586274584,
          -37.92586717788569,
          -39.00971845858603,
          -40.10068819652406,
          -41.19906971069243,
          -42.30515236570375,
          -43.4192210187095,
          -44.54155541648411,
          -45.67242954086929,
          -46.81211090099393,
          -47.96085977095637,
          -49.11892837198615,
          -50.28655999849422,
          -51.463988087881724,
          -52.65143523451151,
          -53.84911214885745,
          -55.05721656353879,
          -56.27593208872111,
          -57.505427020224204,
          -58.74585310461809,
          -59.997344266608366,
          -61.260015305107274,
          -62.53396056554517,
          -63.81925259719166,
          -65.11594080550528,
          -66.42405011080277,
          -67.74357962580503,
          -69.07450136585327,
          -70.41675900676438,
          -71.77026670637301,
          -73.1349080067551,
          -74.51053483489972,
          -75.8969666201556,
          -77.2939895470816,
          -78.70135596233607,
          -80.11878395391305,
          -81.54595712033615,
          -82.98252454633196,
          -84.428101
         ],
         "marker": {
          "color": "rgb(31, 119, 180)",
          "size": 8,
          "symbol": "triangle-left"
         },
         "mode": "markers+lines",
         "name": "JNB-ATL",
         "textposition": "middle left",
         "type": "scattergeo"
        }
       ],
       "layout": {
        "geo": {
         "resolution": 110,
         "showcountries": true
        },
        "template": {
         "data": {
          "bar": [
           {
            "error_x": {
             "color": "#2a3f5f"
            },
            "error_y": {
             "color": "#2a3f5f"
            },
            "marker": {
             "line": {
              "color": "#E5ECF6",
              "width": 0.5
             },
             "pattern": {
              "fillmode": "overlay",
              "size": 10,
              "solidity": 0.2
             }
            },
            "type": "bar"
           }
          ],
          "barpolar": [
           {
            "marker": {
             "line": {
              "color": "#E5ECF6",
              "width": 0.5
             },
             "pattern": {
              "fillmode": "overlay",
              "size": 10,
              "solidity": 0.2
             }
            },
            "type": "barpolar"
           }
          ],
          "carpet": [
           {
            "aaxis": {
             "endlinecolor": "#2a3f5f",
             "gridcolor": "white",
             "linecolor": "white",
             "minorgridcolor": "white",
             "startlinecolor": "#2a3f5f"
            },
            "baxis": {
             "endlinecolor": "#2a3f5f",
             "gridcolor": "white",
             "linecolor": "white",
             "minorgridcolor": "white",
             "startlinecolor": "#2a3f5f"
            },
            "type": "carpet"
           }
          ],
          "choropleth": [
           {
            "colorbar": {
             "outlinewidth": 0,
             "ticks": ""
            },
            "type": "choropleth"
           }
          ],
          "contour": [
           {
            "colorbar": {
             "outlinewidth": 0,
             "ticks": ""
            },
            "colorscale": [
             [
              0,
              "#0d0887"
             ],
             [
              0.1111111111111111,
              "#46039f"
             ],
             [
              0.2222222222222222,
              "#7201a8"
             ],
             [
              0.3333333333333333,
              "#9c179e"
             ],
             [
              0.4444444444444444,
              "#bd3786"
             ],
             [
              0.5555555555555556,
              "#d8576b"
             ],
             [
              0.6666666666666666,
              "#ed7953"
             ],
             [
              0.7777777777777778,
              "#fb9f3a"
             ],
             [
              0.8888888888888888,
              "#fdca26"
             ],
             [
              1,
              "#f0f921"
             ]
            ],
            "type": "contour"
           }
          ],
          "contourcarpet": [
           {
            "colorbar": {
             "outlinewidth": 0,
             "ticks": ""
            },
            "type": "contourcarpet"
           }
          ],
          "heatmap": [
           {
            "colorbar": {
             "outlinewidth": 0,
             "ticks": ""
            },
            "colorscale": [
             [
              0,
              "#0d0887"
             ],
             [
              0.1111111111111111,
              "#46039f"
             ],
             [
              0.2222222222222222,
              "#7201a8"
             ],
             [
              0.3333333333333333,
              "#9c179e"
             ],
             [
              0.4444444444444444,
              "#bd3786"
             ],
             [
              0.5555555555555556,
              "#d8576b"
             ],
             [
              0.6666666666666666,
              "#ed7953"
             ],
             [
              0.7777777777777778,
              "#fb9f3a"
             ],
             [
              0.8888888888888888,
              "#fdca26"
             ],
             [
              1,
              "#f0f921"
             ]
            ],
            "type": "heatmap"
           }
          ],
          "heatmapgl": [
           {
            "colorbar": {
             "outlinewidth": 0,
             "ticks": ""
            },
            "colorscale": [
             [
              0,
              "#0d0887"
             ],
             [
              0.1111111111111111,
              "#46039f"
             ],
             [
              0.2222222222222222,
              "#7201a8"
             ],
             [
              0.3333333333333333,
              "#9c179e"
             ],
             [
              0.4444444444444444,
              "#bd3786"
             ],
             [
              0.5555555555555556,
              "#d8576b"
             ],
             [
              0.6666666666666666,
              "#ed7953"
             ],
             [
              0.7777777777777778,
              "#fb9f3a"
             ],
             [
              0.8888888888888888,
              "#fdca26"
             ],
             [
              1,
              "#f0f921"
             ]
            ],
            "type": "heatmapgl"
           }
          ],
          "histogram": [
           {
            "marker": {
             "pattern": {
              "fillmode": "overlay",
              "size": 10,
              "solidity": 0.2
             }
            },
            "type": "histogram"
           }
          ],
          "histogram2d": [
           {
            "colorbar": {
             "outlinewidth": 0,
             "ticks": ""
            },
            "colorscale": [
             [
              0,
              "#0d0887"
             ],
             [
              0.1111111111111111,
              "#46039f"
             ],
             [
              0.2222222222222222,
              "#7201a8"
             ],
             [
              0.3333333333333333,
              "#9c179e"
             ],
             [
              0.4444444444444444,
              "#bd3786"
             ],
             [
              0.5555555555555556,
              "#d8576b"
             ],
             [
              0.6666666666666666,
              "#ed7953"
             ],
             [
              0.7777777777777778,
              "#fb9f3a"
             ],
             [
              0.8888888888888888,
              "#fdca26"
             ],
             [
              1,
              "#f0f921"
             ]
            ],
            "type": "histogram2d"
           }
          ],
          "histogram2dcontour": [
           {
            "colorbar": {
             "outlinewidth": 0,
             "ticks": ""
            },
            "colorscale": [
             [
              0,
              "#0d0887"
             ],
             [
              0.1111111111111111,
              "#46039f"
             ],
             [
              0.2222222222222222,
              "#7201a8"
             ],
             [
              0.3333333333333333,
              "#9c179e"
             ],
             [
              0.4444444444444444,
              "#bd3786"
             ],
             [
              0.5555555555555556,
              "#d8576b"
             ],
             [
              0.6666666666666666,
              "#ed7953"
             ],
             [
              0.7777777777777778,
              "#fb9f3a"
             ],
             [
              0.8888888888888888,
              "#fdca26"
             ],
             [
              1,
              "#f0f921"
             ]
            ],
            "type": "histogram2dcontour"
           }
          ],
          "mesh3d": [
           {
            "colorbar": {
             "outlinewidth": 0,
             "ticks": ""
            },
            "type": "mesh3d"
           }
          ],
          "parcoords": [
           {
            "line": {
             "colorbar": {
              "outlinewidth": 0,
              "ticks": ""
             }
            },
            "type": "parcoords"
           }
          ],
          "pie": [
           {
            "automargin": true,
            "type": "pie"
           }
          ],
          "scatter": [
           {
            "fillpattern": {
             "fillmode": "overlay",
             "size": 10,
             "solidity": 0.2
            },
            "type": "scatter"
           }
          ],
          "scatter3d": [
           {
            "line": {
             "colorbar": {
              "outlinewidth": 0,
              "ticks": ""
             }
            },
            "marker": {
             "colorbar": {
              "outlinewidth": 0,
              "ticks": ""
             }
            },
            "type": "scatter3d"
           }
          ],
          "scattercarpet": [
           {
            "marker": {
             "colorbar": {
              "outlinewidth": 0,
              "ticks": ""
             }
            },
            "type": "scattercarpet"
           }
          ],
          "scattergeo": [
           {
            "marker": {
             "colorbar": {
              "outlinewidth": 0,
              "ticks": ""
             }
            },
            "type": "scattergeo"
           }
          ],
          "scattergl": [
           {
            "marker": {
             "colorbar": {
              "outlinewidth": 0,
              "ticks": ""
             }
            },
            "type": "scattergl"
           }
          ],
          "scattermapbox": [
           {
            "marker": {
             "colorbar": {
              "outlinewidth": 0,
              "ticks": ""
             }
            },
            "type": "scattermapbox"
           }
          ],
          "scatterpolar": [
           {
            "marker": {
             "colorbar": {
              "outlinewidth": 0,
              "ticks": ""
             }
            },
            "type": "scatterpolar"
           }
          ],
          "scatterpolargl": [
           {
            "marker": {
             "colorbar": {
              "outlinewidth": 0,
              "ticks": ""
             }
            },
            "type": "scatterpolargl"
           }
          ],
          "scatterternary": [
           {
            "marker": {
             "colorbar": {
              "outlinewidth": 0,
              "ticks": ""
             }
            },
            "type": "scatterternary"
           }
          ],
          "surface": [
           {
            "colorbar": {
             "outlinewidth": 0,
             "ticks": ""
            },
            "colorscale": [
             [
              0,
              "#0d0887"
             ],
             [
              0.1111111111111111,
              "#46039f"
             ],
             [
              0.2222222222222222,
              "#7201a8"
             ],
             [
              0.3333333333333333,
              "#9c179e"
             ],
             [
              0.4444444444444444,
              "#bd3786"
             ],
             [
              0.5555555555555556,
              "#d8576b"
             ],
             [
              0.6666666666666666,
              "#ed7953"
             ],
             [
              0.7777777777777778,
              "#fb9f3a"
             ],
             [
              0.8888888888888888,
              "#fdca26"
             ],
             [
              1,
              "#f0f921"
             ]
            ],
            "type": "surface"
           }
          ],
          "table": [
           {
            "cells": {
             "fill": {
              "color": "#EBF0F8"
             },
             "line": {
              "color": "white"
             }
            },
            "header": {
             "fill": {
              "color": "#C8D4E3"
             },
             "line": {
              "color": "white"
             }
            },
            "type": "table"
           }
          ]
         },
         "layout": {
          "annotationdefaults": {
           "arrowcolor": "#2a3f5f",
           "arrowhead": 0,
           "arrowwidth": 1
          },
          "autotypenumbers": "strict",
          "coloraxis": {
           "colorbar": {
            "outlinewidth": 0,
            "ticks": ""
           }
          },
          "colorscale": {
           "diverging": [
            [
             0,
             "#8e0152"
            ],
            [
             0.1,
             "#c51b7d"
            ],
            [
             0.2,
             "#de77ae"
            ],
            [
             0.3,
             "#f1b6da"
            ],
            [
             0.4,
             "#fde0ef"
            ],
            [
             0.5,
             "#f7f7f7"
            ],
            [
             0.6,
             "#e6f5d0"
            ],
            [
             0.7,
             "#b8e186"
            ],
            [
             0.8,
             "#7fbc41"
            ],
            [
             0.9,
             "#4d9221"
            ],
            [
             1,
             "#276419"
            ]
           ],
           "sequential": [
            [
             0,
             "#0d0887"
            ],
            [
             0.1111111111111111,
             "#46039f"
            ],
            [
             0.2222222222222222,
             "#7201a8"
            ],
            [
             0.3333333333333333,
             "#9c179e"
            ],
            [
             0.4444444444444444,
             "#bd3786"
            ],
            [
             0.5555555555555556,
             "#d8576b"
            ],
            [
             0.6666666666666666,
             "#ed7953"
            ],
            [
             0.7777777777777778,
             "#fb9f3a"
            ],
            [
             0.8888888888888888,
             "#fdca26"
            ],
            [
             1,
             "#f0f921"
            ]
           ],
           "sequentialminus": [
            [
             0,
             "#0d0887"
            ],
            [
             0.1111111111111111,
             "#46039f"
            ],
            [
             0.2222222222222222,
             "#7201a8"
            ],
            [
             0.3333333333333333,
             "#9c179e"
            ],
            [
             0.4444444444444444,
             "#bd3786"
            ],
            [
             0.5555555555555556,
             "#d8576b"
            ],
            [
             0.6666666666666666,
             "#ed7953"
            ],
            [
             0.7777777777777778,
             "#fb9f3a"
            ],
            [
             0.8888888888888888,
             "#fdca26"
            ],
            [
             1,
             "#f0f921"
            ]
           ]
          },
          "colorway": [
           "#636efa",
           "#EF553B",
           "#00cc96",
           "#ab63fa",
           "#FFA15A",
           "#19d3f3",
           "#FF6692",
           "#B6E880",
           "#FF97FF",
           "#FECB52"
          ],
          "font": {
           "color": "#2a3f5f"
          },
          "geo": {
           "bgcolor": "white",
           "lakecolor": "white",
           "landcolor": "#E5ECF6",
           "showlakes": true,
           "showland": true,
           "subunitcolor": "white"
          },
          "hoverlabel": {
           "align": "left"
          },
          "hovermode": "closest",
          "mapbox": {
           "style": "light"
          },
          "paper_bgcolor": "white",
          "plot_bgcolor": "#E5ECF6",
          "polar": {
           "angularaxis": {
            "gridcolor": "white",
            "linecolor": "white",
            "ticks": ""
           },
           "bgcolor": "#E5ECF6",
           "radialaxis": {
            "gridcolor": "white",
            "linecolor": "white",
            "ticks": ""
           }
          },
          "scene": {
           "xaxis": {
            "backgroundcolor": "#E5ECF6",
            "gridcolor": "white",
            "gridwidth": 2,
            "linecolor": "white",
            "showbackground": true,
            "ticks": "",
            "zerolinecolor": "white"
           },
           "yaxis": {
            "backgroundcolor": "#E5ECF6",
            "gridcolor": "white",
            "gridwidth": 2,
            "linecolor": "white",
            "showbackground": true,
            "ticks": "",
            "zerolinecolor": "white"
           },
           "zaxis": {
            "backgroundcolor": "#E5ECF6",
            "gridcolor": "white",
            "gridwidth": 2,
            "linecolor": "white",
            "showbackground": true,
            "ticks": "",
            "zerolinecolor": "white"
           }
          },
          "shapedefaults": {
           "line": {
            "color": "#2a3f5f"
           }
          },
          "ternary": {
           "aaxis": {
            "gridcolor": "white",
            "linecolor": "white",
            "ticks": ""
           },
           "baxis": {
            "gridcolor": "white",
            "linecolor": "white",
            "ticks": ""
           },
           "bgcolor": "#E5ECF6",
           "caxis": {
            "gridcolor": "white",
            "linecolor": "white",
            "ticks": ""
           }
          },
          "title": {
           "x": 0.05
          },
          "xaxis": {
           "automargin": true,
           "gridcolor": "white",
           "linecolor": "white",
           "ticks": "",
           "title": {
            "standoff": 15
           },
           "zerolinecolor": "white",
           "zerolinewidth": 2
          },
          "yaxis": {
           "automargin": true,
           "gridcolor": "white",
           "linecolor": "white",
           "ticks": "",
           "title": {
            "standoff": 15
           },
           "zerolinecolor": "white",
           "zerolinewidth": 2
          }
         }
        }
       }
      },
      "text/html": [
       "<div>                            <div id=\"ff5b013f-93aa-4dcb-902a-cc80bd15ef4d\" class=\"plotly-graph-div\" style=\"height:525px; width:100%;\"></div>            <script type=\"text/javascript\">                require([\"plotly\"], function(Plotly) {                    window.PLOTLYENV=window.PLOTLYENV || {};                                    if (document.getElementById(\"ff5b013f-93aa-4dcb-902a-cc80bd15ef4d\")) {                    Plotly.newPlot(                        \"ff5b013f-93aa-4dcb-902a-cc80bd15ef4d\",                        [{\"hoverinfo\":\"text\",\"lat\":[-26.1392],\"line\":{\"color\":\"rgb(68, 68, 68)\",\"width\":1},\"locationmode\":\"ISO-3\",\"lon\":[28.246],\"marker\":{\"color\":\"rgb(31, 119, 180)\",\"line\":{\"color\":\"black\",\"width\":3},\"size\":10},\"mode\":\"markers+text\",\"name\":\"Johannesburg JNB\",\"text\":[\"Johannesburg JNB\"],\"type\":\"scattergeo\",\"textposition\":\"middle left\"},{\"hoverinfo\":\"text\",\"lat\":[33.6367],\"line\":{\"color\":\"rgb(68, 68, 68)\",\"width\":1},\"locationmode\":\"ISO-3\",\"lon\":[-84.428101],\"marker\":{\"color\":\"black\",\"size\":15,\"symbol\":\"x\"},\"mode\":\"markers+text\",\"name\":\"Atlanta ATL\",\"text\":[\"Atlanta ATL\"],\"type\":\"scattergeo\",\"textposition\":\"middle left\"},{\"hoverinfo\":\"text\",\"lat\":[30.12190055847168],\"line\":{\"color\":\"rgb(68, 68, 68)\",\"width\":1},\"locationmode\":\"ISO-3\",\"lon\":[31.40559959411621],\"marker\":{\"color\":\"rgb(255, 127, 14)\",\"line\":{\"color\":\"black\",\"width\":3},\"size\":10},\"mode\":\"markers+text\",\"name\":\"Cairo CAI\",\"text\":[\"Cairo CAI\"],\"type\":\"scattergeo\",\"textposition\":\"middle left\"},{\"hoverinfo\":\"text\",\"lat\":[41.9786],\"line\":{\"color\":\"rgb(68, 68, 68)\",\"width\":1},\"locationmode\":\"ISO-3\",\"lon\":[-87.9048],\"marker\":{\"color\":\"black\",\"size\":15,\"symbol\":\"x\"},\"mode\":\"markers+text\",\"name\":\"Chicago ORD\",\"text\":[\"Chicago ORD\"],\"type\":\"scattergeo\",\"textposition\":\"middle left\"},{\"hoverinfo\":\"text\",\"lat\":[-1.31923997402],\"line\":{\"color\":\"rgb(68, 68, 68)\",\"width\":1},\"locationmode\":\"ISO-3\",\"lon\":[36.9277992249],\"marker\":{\"color\":\"rgb(44, 160, 44)\",\"line\":{\"color\":\"black\",\"width\":3},\"size\":10},\"mode\":\"markers+text\",\"name\":\"Nairobi NBO\",\"text\":[\"Nairobi NBO\"],\"type\":\"scattergeo\",\"textposition\":\"middle left\"},{\"hoverinfo\":\"text\",\"lat\":[33.94250107],\"line\":{\"color\":\"rgb(68, 68, 68)\",\"width\":1},\"locationmode\":\"ISO-3\",\"lon\":[-118.4079971],\"marker\":{\"color\":\"black\",\"size\":15,\"symbol\":\"x\"},\"mode\":\"markers+text\",\"name\":\"Los Angeles LAX\",\"text\":[\"Los Angeles LAX\"],\"type\":\"scattergeo\",\"textposition\":\"middle left\"},{\"hoverinfo\":\"text\",\"lat\":[33.6367],\"line\":{\"color\":\"rgb(68, 68, 68)\",\"width\":1},\"locationmode\":\"ISO-3\",\"lon\":[-84.928101],\"marker\":{\"color\":\"rgb(31, 119, 180)\",\"size\":15},\"mode\":\"markers\",\"name\":\"Atlanta ATL\",\"opacity\":0.7,\"showlegend\":false,\"text\":[\"\\u041a\\u043e\\u043b\\u0438\\u0447\\u0435\\u0441\\u0442\\u0432\\u043e \\u0440\\u0435\\u0439\\u0441\\u043e\\u0432 \\u0438\\u0437 JNB \\u0432 ATL: 1\"],\"type\":\"scattergeo\",\"textposition\":\"middle left\"},{\"lat\":[-26.1392,-25.615252779372554,-25.080909575079428,-24.536507231711415,-23.98237937727402,-23.418856136512026,-22.84626388560196,-22.264925046055165,-21.67515791561411,-21.077276533895866,-20.47159058053559,-19.858405303606048,-19.23802147613146,-18.610735378574073,-17.97683880524427,-17.33661909266889,-16.69035916804395,-16.0383376159951,-15.380828761970248,-14.71810277069182,-14.050425758199442,-13.378059916116515,-12.701263646875118,-12.020291708731422,-11.335395369498992,-10.64682256801744,-9.954818082460834,-9.259623704671398,-8.561478419781107,-7.860618590454971,-7.157278145156881,-6.451688769899676,-5.744080102997547,-5.034679932390011,-4.323714395152446,-3.611408178849788,-2.897984724425698,-2.183666430351382,-1.4686748577849256,-0.7532309365143128,-0.037555171474946636,0.6781321503540527,1.393610752861759,2.108660163707746,2.823059507397052,3.5365872987138722,4.249021236708687,4.960137999446418,5.669713039740233,6.3775203821177655,7.083332421292413,7.786919722443904,8.488050823647464,9.186492040832288,9.882007275694566,10.574357827041759,11.263302206100178,11.948595956378185,12.629991478744271,13.307237862449492,13.980080722900265,14.648262047068847,15.311520047514108,15.9695890260761,16.62219924840171,17.269076830556738,17.909943639080204,18.54451720593922,19.172510659946152,19.793632676302973,20.407587446038747,21.014074667204394,21.612789559780676,22.203422906340077,22.785661120577494,23.35918634588553,23.923676586195064,24.47880587132667,25.024244459100494,25.55965907642622,26.084713201538385,26.599067389449917,27.102379642565108,27.594305828217713,28.074500144677458,28.54261563689423,28.998304762922185,29.44122001158244,29.87101457148265,30.287343051013824,30.68986224839108,31.07823197019749,31.452115896234577,31.811182487783878,32.155105935652365,32.48356714361706,32.79625474211763,33.09286612628056,33.373108511613516,33.6367],\"line\":{\"color\":\"rgb(31, 119, 180)\",\"width\":2},\"locationmode\":\"ISO-3\",\"lon\":[28.24599999999999,27.004418672090104,25.773783410995957,24.553944280078145,23.344734661563837,22.14597249567569,20.957461477255904,19.778992205500785,18.61034328337085,17.45128236410845,16.301567143078575,15.160946293848644,14.029160348043074,12.90594251904979,11.791019470124487,10.684112027837724,9.584935842146004,8.493201994645622,7.408617556793351,6.330886100055765,5.259708160085416,4.194781657120978,3.1358022748765775,2.082463800225065,1.0344584259974205,-0.008522980782066715,-1.0467906429231524,-2.0806556670884313,-3.1104298655729066,-4.136425603661331,-5.158955670432434,-6.178333170934998,-7.194871437717084,-8.208883959746199,-9.220684326812988,-10.23058618756283,-11.238903219348535,-12.245949108140918,-13.252037536773148,-14.257482179827827,-15.262596703503027,-16.26769476881415,-17.27309003650253,-18.279096172029128,-19.286026849031856,-20.294195749618478,-21.303916559853963,-22.315502958780865,-23.32926859928484,-24.345527079084935,-25.364591900089742,-26.38677641431764,-27.41239375453039,-28.441756747678784,-29.47517780920342,-30.512968816178304,-31.555440957227937,-32.60290455709274,-33.65566887366522,-34.714041865270765,-35.77832992592579,-36.848837586274584,-37.92586717788569,-39.00971845858603,-40.10068819652406,-41.19906971069243,-42.30515236570375,-43.4192210187095,-44.54155541648411,-45.67242954086929,-46.81211090099393,-47.96085977095637,-49.11892837198615,-50.28655999849422,-51.463988087881724,-52.65143523451151,-53.84911214885745,-55.05721656353879,-56.27593208872111,-57.505427020224204,-58.74585310461809,-59.997344266608366,-61.260015305107274,-62.53396056554517,-63.81925259719166,-65.11594080550528,-66.42405011080277,-67.74357962580503,-69.07450136585327,-70.41675900676438,-71.77026670637301,-73.1349080067551,-74.51053483489972,-75.8969666201556,-77.2939895470816,-78.70135596233607,-80.11878395391305,-81.54595712033615,-82.98252454633196,-84.428101],\"marker\":{\"color\":\"rgb(31, 119, 180)\",\"size\":8,\"symbol\":\"triangle-left\"},\"mode\":\"markers+lines\",\"name\":\"JNB-ATL\",\"type\":\"scattergeo\",\"textposition\":\"middle left\"}],                        {\"template\":{\"data\":{\"histogram2dcontour\":[{\"type\":\"histogram2dcontour\",\"colorbar\":{\"outlinewidth\":0,\"ticks\":\"\"},\"colorscale\":[[0.0,\"#0d0887\"],[0.1111111111111111,\"#46039f\"],[0.2222222222222222,\"#7201a8\"],[0.3333333333333333,\"#9c179e\"],[0.4444444444444444,\"#bd3786\"],[0.5555555555555556,\"#d8576b\"],[0.6666666666666666,\"#ed7953\"],[0.7777777777777778,\"#fb9f3a\"],[0.8888888888888888,\"#fdca26\"],[1.0,\"#f0f921\"]]}],\"choropleth\":[{\"type\":\"choropleth\",\"colorbar\":{\"outlinewidth\":0,\"ticks\":\"\"}}],\"histogram2d\":[{\"type\":\"histogram2d\",\"colorbar\":{\"outlinewidth\":0,\"ticks\":\"\"},\"colorscale\":[[0.0,\"#0d0887\"],[0.1111111111111111,\"#46039f\"],[0.2222222222222222,\"#7201a8\"],[0.3333333333333333,\"#9c179e\"],[0.4444444444444444,\"#bd3786\"],[0.5555555555555556,\"#d8576b\"],[0.6666666666666666,\"#ed7953\"],[0.7777777777777778,\"#fb9f3a\"],[0.8888888888888888,\"#fdca26\"],[1.0,\"#f0f921\"]]}],\"heatmap\":[{\"type\":\"heatmap\",\"colorbar\":{\"outlinewidth\":0,\"ticks\":\"\"},\"colorscale\":[[0.0,\"#0d0887\"],[0.1111111111111111,\"#46039f\"],[0.2222222222222222,\"#7201a8\"],[0.3333333333333333,\"#9c179e\"],[0.4444444444444444,\"#bd3786\"],[0.5555555555555556,\"#d8576b\"],[0.6666666666666666,\"#ed7953\"],[0.7777777777777778,\"#fb9f3a\"],[0.8888888888888888,\"#fdca26\"],[1.0,\"#f0f921\"]]}],\"heatmapgl\":[{\"type\":\"heatmapgl\",\"colorbar\":{\"outlinewidth\":0,\"ticks\":\"\"},\"colorscale\":[[0.0,\"#0d0887\"],[0.1111111111111111,\"#46039f\"],[0.2222222222222222,\"#7201a8\"],[0.3333333333333333,\"#9c179e\"],[0.4444444444444444,\"#bd3786\"],[0.5555555555555556,\"#d8576b\"],[0.6666666666666666,\"#ed7953\"],[0.7777777777777778,\"#fb9f3a\"],[0.8888888888888888,\"#fdca26\"],[1.0,\"#f0f921\"]]}],\"contourcarpet\":[{\"type\":\"contourcarpet\",\"colorbar\":{\"outlinewidth\":0,\"ticks\":\"\"}}],\"contour\":[{\"type\":\"contour\",\"colorbar\":{\"outlinewidth\":0,\"ticks\":\"\"},\"colorscale\":[[0.0,\"#0d0887\"],[0.1111111111111111,\"#46039f\"],[0.2222222222222222,\"#7201a8\"],[0.3333333333333333,\"#9c179e\"],[0.4444444444444444,\"#bd3786\"],[0.5555555555555556,\"#d8576b\"],[0.6666666666666666,\"#ed7953\"],[0.7777777777777778,\"#fb9f3a\"],[0.8888888888888888,\"#fdca26\"],[1.0,\"#f0f921\"]]}],\"surface\":[{\"type\":\"surface\",\"colorbar\":{\"outlinewidth\":0,\"ticks\":\"\"},\"colorscale\":[[0.0,\"#0d0887\"],[0.1111111111111111,\"#46039f\"],[0.2222222222222222,\"#7201a8\"],[0.3333333333333333,\"#9c179e\"],[0.4444444444444444,\"#bd3786\"],[0.5555555555555556,\"#d8576b\"],[0.6666666666666666,\"#ed7953\"],[0.7777777777777778,\"#fb9f3a\"],[0.8888888888888888,\"#fdca26\"],[1.0,\"#f0f921\"]]}],\"mesh3d\":[{\"type\":\"mesh3d\",\"colorbar\":{\"outlinewidth\":0,\"ticks\":\"\"}}],\"scatter\":[{\"fillpattern\":{\"fillmode\":\"overlay\",\"size\":10,\"solidity\":0.2},\"type\":\"scatter\"}],\"parcoords\":[{\"type\":\"parcoords\",\"line\":{\"colorbar\":{\"outlinewidth\":0,\"ticks\":\"\"}}}],\"scatterpolargl\":[{\"type\":\"scatterpolargl\",\"marker\":{\"colorbar\":{\"outlinewidth\":0,\"ticks\":\"\"}}}],\"bar\":[{\"error_x\":{\"color\":\"#2a3f5f\"},\"error_y\":{\"color\":\"#2a3f5f\"},\"marker\":{\"line\":{\"color\":\"#E5ECF6\",\"width\":0.5},\"pattern\":{\"fillmode\":\"overlay\",\"size\":10,\"solidity\":0.2}},\"type\":\"bar\"}],\"scattergeo\":[{\"type\":\"scattergeo\",\"marker\":{\"colorbar\":{\"outlinewidth\":0,\"ticks\":\"\"}}}],\"scatterpolar\":[{\"type\":\"scatterpolar\",\"marker\":{\"colorbar\":{\"outlinewidth\":0,\"ticks\":\"\"}}}],\"histogram\":[{\"marker\":{\"pattern\":{\"fillmode\":\"overlay\",\"size\":10,\"solidity\":0.2}},\"type\":\"histogram\"}],\"scattergl\":[{\"type\":\"scattergl\",\"marker\":{\"colorbar\":{\"outlinewidth\":0,\"ticks\":\"\"}}}],\"scatter3d\":[{\"type\":\"scatter3d\",\"line\":{\"colorbar\":{\"outlinewidth\":0,\"ticks\":\"\"}},\"marker\":{\"colorbar\":{\"outlinewidth\":0,\"ticks\":\"\"}}}],\"scattermapbox\":[{\"type\":\"scattermapbox\",\"marker\":{\"colorbar\":{\"outlinewidth\":0,\"ticks\":\"\"}}}],\"scatterternary\":[{\"type\":\"scatterternary\",\"marker\":{\"colorbar\":{\"outlinewidth\":0,\"ticks\":\"\"}}}],\"scattercarpet\":[{\"type\":\"scattercarpet\",\"marker\":{\"colorbar\":{\"outlinewidth\":0,\"ticks\":\"\"}}}],\"carpet\":[{\"aaxis\":{\"endlinecolor\":\"#2a3f5f\",\"gridcolor\":\"white\",\"linecolor\":\"white\",\"minorgridcolor\":\"white\",\"startlinecolor\":\"#2a3f5f\"},\"baxis\":{\"endlinecolor\":\"#2a3f5f\",\"gridcolor\":\"white\",\"linecolor\":\"white\",\"minorgridcolor\":\"white\",\"startlinecolor\":\"#2a3f5f\"},\"type\":\"carpet\"}],\"table\":[{\"cells\":{\"fill\":{\"color\":\"#EBF0F8\"},\"line\":{\"color\":\"white\"}},\"header\":{\"fill\":{\"color\":\"#C8D4E3\"},\"line\":{\"color\":\"white\"}},\"type\":\"table\"}],\"barpolar\":[{\"marker\":{\"line\":{\"color\":\"#E5ECF6\",\"width\":0.5},\"pattern\":{\"fillmode\":\"overlay\",\"size\":10,\"solidity\":0.2}},\"type\":\"barpolar\"}],\"pie\":[{\"automargin\":true,\"type\":\"pie\"}]},\"layout\":{\"autotypenumbers\":\"strict\",\"colorway\":[\"#636efa\",\"#EF553B\",\"#00cc96\",\"#ab63fa\",\"#FFA15A\",\"#19d3f3\",\"#FF6692\",\"#B6E880\",\"#FF97FF\",\"#FECB52\"],\"font\":{\"color\":\"#2a3f5f\"},\"hovermode\":\"closest\",\"hoverlabel\":{\"align\":\"left\"},\"paper_bgcolor\":\"white\",\"plot_bgcolor\":\"#E5ECF6\",\"polar\":{\"bgcolor\":\"#E5ECF6\",\"angularaxis\":{\"gridcolor\":\"white\",\"linecolor\":\"white\",\"ticks\":\"\"},\"radialaxis\":{\"gridcolor\":\"white\",\"linecolor\":\"white\",\"ticks\":\"\"}},\"ternary\":{\"bgcolor\":\"#E5ECF6\",\"aaxis\":{\"gridcolor\":\"white\",\"linecolor\":\"white\",\"ticks\":\"\"},\"baxis\":{\"gridcolor\":\"white\",\"linecolor\":\"white\",\"ticks\":\"\"},\"caxis\":{\"gridcolor\":\"white\",\"linecolor\":\"white\",\"ticks\":\"\"}},\"coloraxis\":{\"colorbar\":{\"outlinewidth\":0,\"ticks\":\"\"}},\"colorscale\":{\"sequential\":[[0.0,\"#0d0887\"],[0.1111111111111111,\"#46039f\"],[0.2222222222222222,\"#7201a8\"],[0.3333333333333333,\"#9c179e\"],[0.4444444444444444,\"#bd3786\"],[0.5555555555555556,\"#d8576b\"],[0.6666666666666666,\"#ed7953\"],[0.7777777777777778,\"#fb9f3a\"],[0.8888888888888888,\"#fdca26\"],[1.0,\"#f0f921\"]],\"sequentialminus\":[[0.0,\"#0d0887\"],[0.1111111111111111,\"#46039f\"],[0.2222222222222222,\"#7201a8\"],[0.3333333333333333,\"#9c179e\"],[0.4444444444444444,\"#bd3786\"],[0.5555555555555556,\"#d8576b\"],[0.6666666666666666,\"#ed7953\"],[0.7777777777777778,\"#fb9f3a\"],[0.8888888888888888,\"#fdca26\"],[1.0,\"#f0f921\"]],\"diverging\":[[0,\"#8e0152\"],[0.1,\"#c51b7d\"],[0.2,\"#de77ae\"],[0.3,\"#f1b6da\"],[0.4,\"#fde0ef\"],[0.5,\"#f7f7f7\"],[0.6,\"#e6f5d0\"],[0.7,\"#b8e186\"],[0.8,\"#7fbc41\"],[0.9,\"#4d9221\"],[1,\"#276419\"]]},\"xaxis\":{\"gridcolor\":\"white\",\"linecolor\":\"white\",\"ticks\":\"\",\"title\":{\"standoff\":15},\"zerolinecolor\":\"white\",\"automargin\":true,\"zerolinewidth\":2},\"yaxis\":{\"gridcolor\":\"white\",\"linecolor\":\"white\",\"ticks\":\"\",\"title\":{\"standoff\":15},\"zerolinecolor\":\"white\",\"automargin\":true,\"zerolinewidth\":2},\"scene\":{\"xaxis\":{\"backgroundcolor\":\"#E5ECF6\",\"gridcolor\":\"white\",\"linecolor\":\"white\",\"showbackground\":true,\"ticks\":\"\",\"zerolinecolor\":\"white\",\"gridwidth\":2},\"yaxis\":{\"backgroundcolor\":\"#E5ECF6\",\"gridcolor\":\"white\",\"linecolor\":\"white\",\"showbackground\":true,\"ticks\":\"\",\"zerolinecolor\":\"white\",\"gridwidth\":2},\"zaxis\":{\"backgroundcolor\":\"#E5ECF6\",\"gridcolor\":\"white\",\"linecolor\":\"white\",\"showbackground\":true,\"ticks\":\"\",\"zerolinecolor\":\"white\",\"gridwidth\":2}},\"shapedefaults\":{\"line\":{\"color\":\"#2a3f5f\"}},\"annotationdefaults\":{\"arrowcolor\":\"#2a3f5f\",\"arrowhead\":0,\"arrowwidth\":1},\"geo\":{\"bgcolor\":\"white\",\"landcolor\":\"#E5ECF6\",\"subunitcolor\":\"white\",\"showland\":true,\"showlakes\":true,\"lakecolor\":\"white\"},\"title\":{\"x\":0.05},\"mapbox\":{\"style\":\"light\"}}},\"geo\":{\"resolution\":110,\"showcountries\":true}},                        {\"responsive\": true}                    ).then(function(){\n",
       "                            \n",
       "var gd = document.getElementById('ff5b013f-93aa-4dcb-902a-cc80bd15ef4d');\n",
       "var x = new MutationObserver(function (mutations, observer) {{\n",
       "        var display = window.getComputedStyle(gd).display;\n",
       "        if (!display || display === 'none') {{\n",
       "            console.log([gd, 'removed!']);\n",
       "            Plotly.purge(gd);\n",
       "            observer.disconnect();\n",
       "        }}\n",
       "}});\n",
       "\n",
       "// Listen for the removal of the full notebook cells\n",
       "var notebookContainer = gd.closest('#notebook-container');\n",
       "if (notebookContainer) {{\n",
       "    x.observe(notebookContainer, {childList: true});\n",
       "}}\n",
       "\n",
       "// Listen for the clearing of the current output cell\n",
       "var outputEl = gd.closest('.output');\n",
       "if (outputEl) {{\n",
       "    x.observe(outputEl, {childList: true});\n",
       "}}\n",
       "\n",
       "                        })                };                });            </script>        </div>"
      ]
     },
     "metadata": {},
     "output_type": "display_data"
    }
   ],
   "source": [
    "fig.show()"
   ]
  },
  {
   "cell_type": "code",
   "execution_count": 18,
   "id": "12b14470",
   "metadata": {},
   "outputs": [],
   "source": [
    "# fig.write_html(\"airports.html\") # сохранение интерактивной карты, чтобы посмотреть её в отдельном окне"
   ]
  },
  {
   "cell_type": "markdown",
   "id": "fbd800fa",
   "metadata": {},
   "source": [
    "## Итоговая визуализация на \"глобусе\""
   ]
  },
  {
   "cell_type": "code",
   "execution_count": 19,
   "id": "6116cb12",
   "metadata": {},
   "outputs": [
    {
     "data": {
      "application/vnd.plotly.v1+json": {
       "config": {
        "plotlyServerURL": "https://plot.ly"
       },
       "data": [
        {
         "hoverinfo": "text",
         "lat": [
          -26.1392
         ],
         "line": {
          "color": "rgb(68, 68, 68)",
          "width": 1
         },
         "locationmode": "ISO-3",
         "lon": [
          28.246
         ],
         "marker": {
          "color": "rgb(31, 119, 180)",
          "line": {
           "color": "black",
           "width": 3
          },
          "size": 10
         },
         "mode": "markers+text",
         "name": "Johannesburg JNB",
         "text": [
          "Johannesburg JNB"
         ],
         "textposition": "middle left",
         "type": "scattergeo"
        },
        {
         "hoverinfo": "text",
         "lat": [
          33.6367
         ],
         "line": {
          "color": "rgb(68, 68, 68)",
          "width": 1
         },
         "locationmode": "ISO-3",
         "lon": [
          -84.428101
         ],
         "marker": {
          "color": "black",
          "size": 15,
          "symbol": "x"
         },
         "mode": "markers+text",
         "name": "Atlanta ATL",
         "text": [
          "Atlanta ATL"
         ],
         "textposition": "middle left",
         "type": "scattergeo"
        },
        {
         "hoverinfo": "text",
         "lat": [
          30.12190055847168
         ],
         "line": {
          "color": "rgb(68, 68, 68)",
          "width": 1
         },
         "locationmode": "ISO-3",
         "lon": [
          31.40559959411621
         ],
         "marker": {
          "color": "rgb(255, 127, 14)",
          "line": {
           "color": "black",
           "width": 3
          },
          "size": 10
         },
         "mode": "markers+text",
         "name": "Cairo CAI",
         "text": [
          "Cairo CAI"
         ],
         "textposition": "middle left",
         "type": "scattergeo"
        },
        {
         "hoverinfo": "text",
         "lat": [
          41.9786
         ],
         "line": {
          "color": "rgb(68, 68, 68)",
          "width": 1
         },
         "locationmode": "ISO-3",
         "lon": [
          -87.9048
         ],
         "marker": {
          "color": "black",
          "size": 15,
          "symbol": "x"
         },
         "mode": "markers+text",
         "name": "Chicago ORD",
         "text": [
          "Chicago ORD"
         ],
         "textposition": "middle left",
         "type": "scattergeo"
        },
        {
         "hoverinfo": "text",
         "lat": [
          -1.31923997402
         ],
         "line": {
          "color": "rgb(68, 68, 68)",
          "width": 1
         },
         "locationmode": "ISO-3",
         "lon": [
          36.9277992249
         ],
         "marker": {
          "color": "rgb(44, 160, 44)",
          "line": {
           "color": "black",
           "width": 3
          },
          "size": 10
         },
         "mode": "markers+text",
         "name": "Nairobi NBO",
         "text": [
          "Nairobi NBO"
         ],
         "textposition": "middle left",
         "type": "scattergeo"
        },
        {
         "hoverinfo": "text",
         "lat": [
          33.94250107
         ],
         "line": {
          "color": "rgb(68, 68, 68)",
          "width": 1
         },
         "locationmode": "ISO-3",
         "lon": [
          -118.4079971
         ],
         "marker": {
          "color": "black",
          "size": 15,
          "symbol": "x"
         },
         "mode": "markers+text",
         "name": "Los Angeles LAX",
         "text": [
          "Los Angeles LAX"
         ],
         "textposition": "middle left",
         "type": "scattergeo"
        },
        {
         "hoverinfo": "text",
         "lat": [
          33.6367
         ],
         "line": {
          "color": "rgb(68, 68, 68)",
          "width": 1
         },
         "locationmode": "ISO-3",
         "lon": [
          -84.928101
         ],
         "marker": {
          "color": "rgb(31, 119, 180)",
          "size": 15
         },
         "mode": "markers",
         "name": "Atlanta ATL",
         "opacity": 0.7,
         "showlegend": false,
         "text": [
          "Количество рейсов из JNB в ATL: 1"
         ],
         "textposition": "middle left",
         "type": "scattergeo"
        },
        {
         "lat": [
          -26.1392,
          -25.615252779372554,
          -25.080909575079428,
          -24.536507231711415,
          -23.98237937727402,
          -23.418856136512026,
          -22.84626388560196,
          -22.264925046055165,
          -21.67515791561411,
          -21.077276533895866,
          -20.47159058053559,
          -19.858405303606048,
          -19.23802147613146,
          -18.610735378574073,
          -17.97683880524427,
          -17.33661909266889,
          -16.69035916804395,
          -16.0383376159951,
          -15.380828761970248,
          -14.71810277069182,
          -14.050425758199442,
          -13.378059916116515,
          -12.701263646875118,
          -12.020291708731422,
          -11.335395369498992,
          -10.64682256801744,
          -9.954818082460834,
          -9.259623704671398,
          -8.561478419781107,
          -7.860618590454971,
          -7.157278145156881,
          -6.451688769899676,
          -5.744080102997547,
          -5.034679932390011,
          -4.323714395152446,
          -3.611408178849788,
          -2.897984724425698,
          -2.183666430351382,
          -1.4686748577849256,
          -0.7532309365143128,
          -0.037555171474946636,
          0.6781321503540527,
          1.393610752861759,
          2.108660163707746,
          2.823059507397052,
          3.5365872987138722,
          4.249021236708687,
          4.960137999446418,
          5.669713039740233,
          6.3775203821177655,
          7.083332421292413,
          7.786919722443904,
          8.488050823647464,
          9.186492040832288,
          9.882007275694566,
          10.574357827041759,
          11.263302206100178,
          11.948595956378185,
          12.629991478744271,
          13.307237862449492,
          13.980080722900265,
          14.648262047068847,
          15.311520047514108,
          15.9695890260761,
          16.62219924840171,
          17.269076830556738,
          17.909943639080204,
          18.54451720593922,
          19.172510659946152,
          19.793632676302973,
          20.407587446038747,
          21.014074667204394,
          21.612789559780676,
          22.203422906340077,
          22.785661120577494,
          23.35918634588553,
          23.923676586195064,
          24.47880587132667,
          25.024244459100494,
          25.55965907642622,
          26.084713201538385,
          26.599067389449917,
          27.102379642565108,
          27.594305828217713,
          28.074500144677458,
          28.54261563689423,
          28.998304762922185,
          29.44122001158244,
          29.87101457148265,
          30.287343051013824,
          30.68986224839108,
          31.07823197019749,
          31.452115896234577,
          31.811182487783878,
          32.155105935652365,
          32.48356714361706,
          32.79625474211763,
          33.09286612628056,
          33.373108511613516,
          33.6367
         ],
         "line": {
          "color": "rgb(31, 119, 180)",
          "width": 2
         },
         "locationmode": "ISO-3",
         "lon": [
          28.24599999999999,
          27.004418672090104,
          25.773783410995957,
          24.553944280078145,
          23.344734661563837,
          22.14597249567569,
          20.957461477255904,
          19.778992205500785,
          18.61034328337085,
          17.45128236410845,
          16.301567143078575,
          15.160946293848644,
          14.029160348043074,
          12.90594251904979,
          11.791019470124487,
          10.684112027837724,
          9.584935842146004,
          8.493201994645622,
          7.408617556793351,
          6.330886100055765,
          5.259708160085416,
          4.194781657120978,
          3.1358022748765775,
          2.082463800225065,
          1.0344584259974205,
          -0.008522980782066715,
          -1.0467906429231524,
          -2.0806556670884313,
          -3.1104298655729066,
          -4.136425603661331,
          -5.158955670432434,
          -6.178333170934998,
          -7.194871437717084,
          -8.208883959746199,
          -9.220684326812988,
          -10.23058618756283,
          -11.238903219348535,
          -12.245949108140918,
          -13.252037536773148,
          -14.257482179827827,
          -15.262596703503027,
          -16.26769476881415,
          -17.27309003650253,
          -18.279096172029128,
          -19.286026849031856,
          -20.294195749618478,
          -21.303916559853963,
          -22.315502958780865,
          -23.32926859928484,
          -24.345527079084935,
          -25.364591900089742,
          -26.38677641431764,
          -27.41239375453039,
          -28.441756747678784,
          -29.47517780920342,
          -30.512968816178304,
          -31.555440957227937,
          -32.60290455709274,
          -33.65566887366522,
          -34.714041865270765,
          -35.77832992592579,
          -36.848837586274584,
          -37.92586717788569,
          -39.00971845858603,
          -40.10068819652406,
          -41.19906971069243,
          -42.30515236570375,
          -43.4192210187095,
          -44.54155541648411,
          -45.67242954086929,
          -46.81211090099393,
          -47.96085977095637,
          -49.11892837198615,
          -50.28655999849422,
          -51.463988087881724,
          -52.65143523451151,
          -53.84911214885745,
          -55.05721656353879,
          -56.27593208872111,
          -57.505427020224204,
          -58.74585310461809,
          -59.997344266608366,
          -61.260015305107274,
          -62.53396056554517,
          -63.81925259719166,
          -65.11594080550528,
          -66.42405011080277,
          -67.74357962580503,
          -69.07450136585327,
          -70.41675900676438,
          -71.77026670637301,
          -73.1349080067551,
          -74.51053483489972,
          -75.8969666201556,
          -77.2939895470816,
          -78.70135596233607,
          -80.11878395391305,
          -81.54595712033615,
          -82.98252454633196,
          -84.428101
         ],
         "marker": {
          "color": "rgb(31, 119, 180)",
          "size": 8,
          "symbol": "triangle-left"
         },
         "mode": "markers+lines",
         "name": "JNB-ATL",
         "textposition": "middle left",
         "type": "scattergeo"
        }
       ],
       "layout": {
        "geo": {
         "projection": {
          "type": "satellite"
         },
         "resolution": 110,
         "showcountries": true
        },
        "template": {
         "data": {
          "bar": [
           {
            "error_x": {
             "color": "#2a3f5f"
            },
            "error_y": {
             "color": "#2a3f5f"
            },
            "marker": {
             "line": {
              "color": "#E5ECF6",
              "width": 0.5
             },
             "pattern": {
              "fillmode": "overlay",
              "size": 10,
              "solidity": 0.2
             }
            },
            "type": "bar"
           }
          ],
          "barpolar": [
           {
            "marker": {
             "line": {
              "color": "#E5ECF6",
              "width": 0.5
             },
             "pattern": {
              "fillmode": "overlay",
              "size": 10,
              "solidity": 0.2
             }
            },
            "type": "barpolar"
           }
          ],
          "carpet": [
           {
            "aaxis": {
             "endlinecolor": "#2a3f5f",
             "gridcolor": "white",
             "linecolor": "white",
             "minorgridcolor": "white",
             "startlinecolor": "#2a3f5f"
            },
            "baxis": {
             "endlinecolor": "#2a3f5f",
             "gridcolor": "white",
             "linecolor": "white",
             "minorgridcolor": "white",
             "startlinecolor": "#2a3f5f"
            },
            "type": "carpet"
           }
          ],
          "choropleth": [
           {
            "colorbar": {
             "outlinewidth": 0,
             "ticks": ""
            },
            "type": "choropleth"
           }
          ],
          "contour": [
           {
            "colorbar": {
             "outlinewidth": 0,
             "ticks": ""
            },
            "colorscale": [
             [
              0,
              "#0d0887"
             ],
             [
              0.1111111111111111,
              "#46039f"
             ],
             [
              0.2222222222222222,
              "#7201a8"
             ],
             [
              0.3333333333333333,
              "#9c179e"
             ],
             [
              0.4444444444444444,
              "#bd3786"
             ],
             [
              0.5555555555555556,
              "#d8576b"
             ],
             [
              0.6666666666666666,
              "#ed7953"
             ],
             [
              0.7777777777777778,
              "#fb9f3a"
             ],
             [
              0.8888888888888888,
              "#fdca26"
             ],
             [
              1,
              "#f0f921"
             ]
            ],
            "type": "contour"
           }
          ],
          "contourcarpet": [
           {
            "colorbar": {
             "outlinewidth": 0,
             "ticks": ""
            },
            "type": "contourcarpet"
           }
          ],
          "heatmap": [
           {
            "colorbar": {
             "outlinewidth": 0,
             "ticks": ""
            },
            "colorscale": [
             [
              0,
              "#0d0887"
             ],
             [
              0.1111111111111111,
              "#46039f"
             ],
             [
              0.2222222222222222,
              "#7201a8"
             ],
             [
              0.3333333333333333,
              "#9c179e"
             ],
             [
              0.4444444444444444,
              "#bd3786"
             ],
             [
              0.5555555555555556,
              "#d8576b"
             ],
             [
              0.6666666666666666,
              "#ed7953"
             ],
             [
              0.7777777777777778,
              "#fb9f3a"
             ],
             [
              0.8888888888888888,
              "#fdca26"
             ],
             [
              1,
              "#f0f921"
             ]
            ],
            "type": "heatmap"
           }
          ],
          "heatmapgl": [
           {
            "colorbar": {
             "outlinewidth": 0,
             "ticks": ""
            },
            "colorscale": [
             [
              0,
              "#0d0887"
             ],
             [
              0.1111111111111111,
              "#46039f"
             ],
             [
              0.2222222222222222,
              "#7201a8"
             ],
             [
              0.3333333333333333,
              "#9c179e"
             ],
             [
              0.4444444444444444,
              "#bd3786"
             ],
             [
              0.5555555555555556,
              "#d8576b"
             ],
             [
              0.6666666666666666,
              "#ed7953"
             ],
             [
              0.7777777777777778,
              "#fb9f3a"
             ],
             [
              0.8888888888888888,
              "#fdca26"
             ],
             [
              1,
              "#f0f921"
             ]
            ],
            "type": "heatmapgl"
           }
          ],
          "histogram": [
           {
            "marker": {
             "pattern": {
              "fillmode": "overlay",
              "size": 10,
              "solidity": 0.2
             }
            },
            "type": "histogram"
           }
          ],
          "histogram2d": [
           {
            "colorbar": {
             "outlinewidth": 0,
             "ticks": ""
            },
            "colorscale": [
             [
              0,
              "#0d0887"
             ],
             [
              0.1111111111111111,
              "#46039f"
             ],
             [
              0.2222222222222222,
              "#7201a8"
             ],
             [
              0.3333333333333333,
              "#9c179e"
             ],
             [
              0.4444444444444444,
              "#bd3786"
             ],
             [
              0.5555555555555556,
              "#d8576b"
             ],
             [
              0.6666666666666666,
              "#ed7953"
             ],
             [
              0.7777777777777778,
              "#fb9f3a"
             ],
             [
              0.8888888888888888,
              "#fdca26"
             ],
             [
              1,
              "#f0f921"
             ]
            ],
            "type": "histogram2d"
           }
          ],
          "histogram2dcontour": [
           {
            "colorbar": {
             "outlinewidth": 0,
             "ticks": ""
            },
            "colorscale": [
             [
              0,
              "#0d0887"
             ],
             [
              0.1111111111111111,
              "#46039f"
             ],
             [
              0.2222222222222222,
              "#7201a8"
             ],
             [
              0.3333333333333333,
              "#9c179e"
             ],
             [
              0.4444444444444444,
              "#bd3786"
             ],
             [
              0.5555555555555556,
              "#d8576b"
             ],
             [
              0.6666666666666666,
              "#ed7953"
             ],
             [
              0.7777777777777778,
              "#fb9f3a"
             ],
             [
              0.8888888888888888,
              "#fdca26"
             ],
             [
              1,
              "#f0f921"
             ]
            ],
            "type": "histogram2dcontour"
           }
          ],
          "mesh3d": [
           {
            "colorbar": {
             "outlinewidth": 0,
             "ticks": ""
            },
            "type": "mesh3d"
           }
          ],
          "parcoords": [
           {
            "line": {
             "colorbar": {
              "outlinewidth": 0,
              "ticks": ""
             }
            },
            "type": "parcoords"
           }
          ],
          "pie": [
           {
            "automargin": true,
            "type": "pie"
           }
          ],
          "scatter": [
           {
            "fillpattern": {
             "fillmode": "overlay",
             "size": 10,
             "solidity": 0.2
            },
            "type": "scatter"
           }
          ],
          "scatter3d": [
           {
            "line": {
             "colorbar": {
              "outlinewidth": 0,
              "ticks": ""
             }
            },
            "marker": {
             "colorbar": {
              "outlinewidth": 0,
              "ticks": ""
             }
            },
            "type": "scatter3d"
           }
          ],
          "scattercarpet": [
           {
            "marker": {
             "colorbar": {
              "outlinewidth": 0,
              "ticks": ""
             }
            },
            "type": "scattercarpet"
           }
          ],
          "scattergeo": [
           {
            "marker": {
             "colorbar": {
              "outlinewidth": 0,
              "ticks": ""
             }
            },
            "type": "scattergeo"
           }
          ],
          "scattergl": [
           {
            "marker": {
             "colorbar": {
              "outlinewidth": 0,
              "ticks": ""
             }
            },
            "type": "scattergl"
           }
          ],
          "scattermapbox": [
           {
            "marker": {
             "colorbar": {
              "outlinewidth": 0,
              "ticks": ""
             }
            },
            "type": "scattermapbox"
           }
          ],
          "scatterpolar": [
           {
            "marker": {
             "colorbar": {
              "outlinewidth": 0,
              "ticks": ""
             }
            },
            "type": "scatterpolar"
           }
          ],
          "scatterpolargl": [
           {
            "marker": {
             "colorbar": {
              "outlinewidth": 0,
              "ticks": ""
             }
            },
            "type": "scatterpolargl"
           }
          ],
          "scatterternary": [
           {
            "marker": {
             "colorbar": {
              "outlinewidth": 0,
              "ticks": ""
             }
            },
            "type": "scatterternary"
           }
          ],
          "surface": [
           {
            "colorbar": {
             "outlinewidth": 0,
             "ticks": ""
            },
            "colorscale": [
             [
              0,
              "#0d0887"
             ],
             [
              0.1111111111111111,
              "#46039f"
             ],
             [
              0.2222222222222222,
              "#7201a8"
             ],
             [
              0.3333333333333333,
              "#9c179e"
             ],
             [
              0.4444444444444444,
              "#bd3786"
             ],
             [
              0.5555555555555556,
              "#d8576b"
             ],
             [
              0.6666666666666666,
              "#ed7953"
             ],
             [
              0.7777777777777778,
              "#fb9f3a"
             ],
             [
              0.8888888888888888,
              "#fdca26"
             ],
             [
              1,
              "#f0f921"
             ]
            ],
            "type": "surface"
           }
          ],
          "table": [
           {
            "cells": {
             "fill": {
              "color": "#EBF0F8"
             },
             "line": {
              "color": "white"
             }
            },
            "header": {
             "fill": {
              "color": "#C8D4E3"
             },
             "line": {
              "color": "white"
             }
            },
            "type": "table"
           }
          ]
         },
         "layout": {
          "annotationdefaults": {
           "arrowcolor": "#2a3f5f",
           "arrowhead": 0,
           "arrowwidth": 1
          },
          "autotypenumbers": "strict",
          "coloraxis": {
           "colorbar": {
            "outlinewidth": 0,
            "ticks": ""
           }
          },
          "colorscale": {
           "diverging": [
            [
             0,
             "#8e0152"
            ],
            [
             0.1,
             "#c51b7d"
            ],
            [
             0.2,
             "#de77ae"
            ],
            [
             0.3,
             "#f1b6da"
            ],
            [
             0.4,
             "#fde0ef"
            ],
            [
             0.5,
             "#f7f7f7"
            ],
            [
             0.6,
             "#e6f5d0"
            ],
            [
             0.7,
             "#b8e186"
            ],
            [
             0.8,
             "#7fbc41"
            ],
            [
             0.9,
             "#4d9221"
            ],
            [
             1,
             "#276419"
            ]
           ],
           "sequential": [
            [
             0,
             "#0d0887"
            ],
            [
             0.1111111111111111,
             "#46039f"
            ],
            [
             0.2222222222222222,
             "#7201a8"
            ],
            [
             0.3333333333333333,
             "#9c179e"
            ],
            [
             0.4444444444444444,
             "#bd3786"
            ],
            [
             0.5555555555555556,
             "#d8576b"
            ],
            [
             0.6666666666666666,
             "#ed7953"
            ],
            [
             0.7777777777777778,
             "#fb9f3a"
            ],
            [
             0.8888888888888888,
             "#fdca26"
            ],
            [
             1,
             "#f0f921"
            ]
           ],
           "sequentialminus": [
            [
             0,
             "#0d0887"
            ],
            [
             0.1111111111111111,
             "#46039f"
            ],
            [
             0.2222222222222222,
             "#7201a8"
            ],
            [
             0.3333333333333333,
             "#9c179e"
            ],
            [
             0.4444444444444444,
             "#bd3786"
            ],
            [
             0.5555555555555556,
             "#d8576b"
            ],
            [
             0.6666666666666666,
             "#ed7953"
            ],
            [
             0.7777777777777778,
             "#fb9f3a"
            ],
            [
             0.8888888888888888,
             "#fdca26"
            ],
            [
             1,
             "#f0f921"
            ]
           ]
          },
          "colorway": [
           "#636efa",
           "#EF553B",
           "#00cc96",
           "#ab63fa",
           "#FFA15A",
           "#19d3f3",
           "#FF6692",
           "#B6E880",
           "#FF97FF",
           "#FECB52"
          ],
          "font": {
           "color": "#2a3f5f"
          },
          "geo": {
           "bgcolor": "white",
           "lakecolor": "white",
           "landcolor": "#E5ECF6",
           "showlakes": true,
           "showland": true,
           "subunitcolor": "white"
          },
          "hoverlabel": {
           "align": "left"
          },
          "hovermode": "closest",
          "mapbox": {
           "style": "light"
          },
          "paper_bgcolor": "white",
          "plot_bgcolor": "#E5ECF6",
          "polar": {
           "angularaxis": {
            "gridcolor": "white",
            "linecolor": "white",
            "ticks": ""
           },
           "bgcolor": "#E5ECF6",
           "radialaxis": {
            "gridcolor": "white",
            "linecolor": "white",
            "ticks": ""
           }
          },
          "scene": {
           "xaxis": {
            "backgroundcolor": "#E5ECF6",
            "gridcolor": "white",
            "gridwidth": 2,
            "linecolor": "white",
            "showbackground": true,
            "ticks": "",
            "zerolinecolor": "white"
           },
           "yaxis": {
            "backgroundcolor": "#E5ECF6",
            "gridcolor": "white",
            "gridwidth": 2,
            "linecolor": "white",
            "showbackground": true,
            "ticks": "",
            "zerolinecolor": "white"
           },
           "zaxis": {
            "backgroundcolor": "#E5ECF6",
            "gridcolor": "white",
            "gridwidth": 2,
            "linecolor": "white",
            "showbackground": true,
            "ticks": "",
            "zerolinecolor": "white"
           }
          },
          "shapedefaults": {
           "line": {
            "color": "#2a3f5f"
           }
          },
          "ternary": {
           "aaxis": {
            "gridcolor": "white",
            "linecolor": "white",
            "ticks": ""
           },
           "baxis": {
            "gridcolor": "white",
            "linecolor": "white",
            "ticks": ""
           },
           "bgcolor": "#E5ECF6",
           "caxis": {
            "gridcolor": "white",
            "linecolor": "white",
            "ticks": ""
           }
          },
          "title": {
           "x": 0.05
          },
          "xaxis": {
           "automargin": true,
           "gridcolor": "white",
           "linecolor": "white",
           "ticks": "",
           "title": {
            "standoff": 15
           },
           "zerolinecolor": "white",
           "zerolinewidth": 2
          },
          "yaxis": {
           "automargin": true,
           "gridcolor": "white",
           "linecolor": "white",
           "ticks": "",
           "title": {
            "standoff": 15
           },
           "zerolinecolor": "white",
           "zerolinewidth": 2
          }
         }
        }
       }
      },
      "text/html": [
       "<div>                            <div id=\"fb08055a-2643-4887-91e3-54d65100d292\" class=\"plotly-graph-div\" style=\"height:525px; width:100%;\"></div>            <script type=\"text/javascript\">                require([\"plotly\"], function(Plotly) {                    window.PLOTLYENV=window.PLOTLYENV || {};                                    if (document.getElementById(\"fb08055a-2643-4887-91e3-54d65100d292\")) {                    Plotly.newPlot(                        \"fb08055a-2643-4887-91e3-54d65100d292\",                        [{\"hoverinfo\":\"text\",\"lat\":[-26.1392],\"line\":{\"color\":\"rgb(68, 68, 68)\",\"width\":1},\"locationmode\":\"ISO-3\",\"lon\":[28.246],\"marker\":{\"color\":\"rgb(31, 119, 180)\",\"line\":{\"color\":\"black\",\"width\":3},\"size\":10},\"mode\":\"markers+text\",\"name\":\"Johannesburg JNB\",\"text\":[\"Johannesburg JNB\"],\"textposition\":\"middle left\",\"type\":\"scattergeo\"},{\"hoverinfo\":\"text\",\"lat\":[33.6367],\"line\":{\"color\":\"rgb(68, 68, 68)\",\"width\":1},\"locationmode\":\"ISO-3\",\"lon\":[-84.428101],\"marker\":{\"color\":\"black\",\"size\":15,\"symbol\":\"x\"},\"mode\":\"markers+text\",\"name\":\"Atlanta ATL\",\"text\":[\"Atlanta ATL\"],\"textposition\":\"middle left\",\"type\":\"scattergeo\"},{\"hoverinfo\":\"text\",\"lat\":[30.12190055847168],\"line\":{\"color\":\"rgb(68, 68, 68)\",\"width\":1},\"locationmode\":\"ISO-3\",\"lon\":[31.40559959411621],\"marker\":{\"color\":\"rgb(255, 127, 14)\",\"line\":{\"color\":\"black\",\"width\":3},\"size\":10},\"mode\":\"markers+text\",\"name\":\"Cairo CAI\",\"text\":[\"Cairo CAI\"],\"textposition\":\"middle left\",\"type\":\"scattergeo\"},{\"hoverinfo\":\"text\",\"lat\":[41.9786],\"line\":{\"color\":\"rgb(68, 68, 68)\",\"width\":1},\"locationmode\":\"ISO-3\",\"lon\":[-87.9048],\"marker\":{\"color\":\"black\",\"size\":15,\"symbol\":\"x\"},\"mode\":\"markers+text\",\"name\":\"Chicago ORD\",\"text\":[\"Chicago ORD\"],\"textposition\":\"middle left\",\"type\":\"scattergeo\"},{\"hoverinfo\":\"text\",\"lat\":[-1.31923997402],\"line\":{\"color\":\"rgb(68, 68, 68)\",\"width\":1},\"locationmode\":\"ISO-3\",\"lon\":[36.9277992249],\"marker\":{\"color\":\"rgb(44, 160, 44)\",\"line\":{\"color\":\"black\",\"width\":3},\"size\":10},\"mode\":\"markers+text\",\"name\":\"Nairobi NBO\",\"text\":[\"Nairobi NBO\"],\"textposition\":\"middle left\",\"type\":\"scattergeo\"},{\"hoverinfo\":\"text\",\"lat\":[33.94250107],\"line\":{\"color\":\"rgb(68, 68, 68)\",\"width\":1},\"locationmode\":\"ISO-3\",\"lon\":[-118.4079971],\"marker\":{\"color\":\"black\",\"size\":15,\"symbol\":\"x\"},\"mode\":\"markers+text\",\"name\":\"Los Angeles LAX\",\"text\":[\"Los Angeles LAX\"],\"textposition\":\"middle left\",\"type\":\"scattergeo\"},{\"hoverinfo\":\"text\",\"lat\":[33.6367],\"line\":{\"color\":\"rgb(68, 68, 68)\",\"width\":1},\"locationmode\":\"ISO-3\",\"lon\":[-84.928101],\"marker\":{\"color\":\"rgb(31, 119, 180)\",\"size\":15},\"mode\":\"markers\",\"name\":\"Atlanta ATL\",\"opacity\":0.7,\"showlegend\":false,\"text\":[\"\\u041a\\u043e\\u043b\\u0438\\u0447\\u0435\\u0441\\u0442\\u0432\\u043e \\u0440\\u0435\\u0439\\u0441\\u043e\\u0432 \\u0438\\u0437 JNB \\u0432 ATL: 1\"],\"textposition\":\"middle left\",\"type\":\"scattergeo\"},{\"lat\":[-26.1392,-25.615252779372554,-25.080909575079428,-24.536507231711415,-23.98237937727402,-23.418856136512026,-22.84626388560196,-22.264925046055165,-21.67515791561411,-21.077276533895866,-20.47159058053559,-19.858405303606048,-19.23802147613146,-18.610735378574073,-17.97683880524427,-17.33661909266889,-16.69035916804395,-16.0383376159951,-15.380828761970248,-14.71810277069182,-14.050425758199442,-13.378059916116515,-12.701263646875118,-12.020291708731422,-11.335395369498992,-10.64682256801744,-9.954818082460834,-9.259623704671398,-8.561478419781107,-7.860618590454971,-7.157278145156881,-6.451688769899676,-5.744080102997547,-5.034679932390011,-4.323714395152446,-3.611408178849788,-2.897984724425698,-2.183666430351382,-1.4686748577849256,-0.7532309365143128,-0.037555171474946636,0.6781321503540527,1.393610752861759,2.108660163707746,2.823059507397052,3.5365872987138722,4.249021236708687,4.960137999446418,5.669713039740233,6.3775203821177655,7.083332421292413,7.786919722443904,8.488050823647464,9.186492040832288,9.882007275694566,10.574357827041759,11.263302206100178,11.948595956378185,12.629991478744271,13.307237862449492,13.980080722900265,14.648262047068847,15.311520047514108,15.9695890260761,16.62219924840171,17.269076830556738,17.909943639080204,18.54451720593922,19.172510659946152,19.793632676302973,20.407587446038747,21.014074667204394,21.612789559780676,22.203422906340077,22.785661120577494,23.35918634588553,23.923676586195064,24.47880587132667,25.024244459100494,25.55965907642622,26.084713201538385,26.599067389449917,27.102379642565108,27.594305828217713,28.074500144677458,28.54261563689423,28.998304762922185,29.44122001158244,29.87101457148265,30.287343051013824,30.68986224839108,31.07823197019749,31.452115896234577,31.811182487783878,32.155105935652365,32.48356714361706,32.79625474211763,33.09286612628056,33.373108511613516,33.6367],\"line\":{\"color\":\"rgb(31, 119, 180)\",\"width\":2},\"locationmode\":\"ISO-3\",\"lon\":[28.24599999999999,27.004418672090104,25.773783410995957,24.553944280078145,23.344734661563837,22.14597249567569,20.957461477255904,19.778992205500785,18.61034328337085,17.45128236410845,16.301567143078575,15.160946293848644,14.029160348043074,12.90594251904979,11.791019470124487,10.684112027837724,9.584935842146004,8.493201994645622,7.408617556793351,6.330886100055765,5.259708160085416,4.194781657120978,3.1358022748765775,2.082463800225065,1.0344584259974205,-0.008522980782066715,-1.0467906429231524,-2.0806556670884313,-3.1104298655729066,-4.136425603661331,-5.158955670432434,-6.178333170934998,-7.194871437717084,-8.208883959746199,-9.220684326812988,-10.23058618756283,-11.238903219348535,-12.245949108140918,-13.252037536773148,-14.257482179827827,-15.262596703503027,-16.26769476881415,-17.27309003650253,-18.279096172029128,-19.286026849031856,-20.294195749618478,-21.303916559853963,-22.315502958780865,-23.32926859928484,-24.345527079084935,-25.364591900089742,-26.38677641431764,-27.41239375453039,-28.441756747678784,-29.47517780920342,-30.512968816178304,-31.555440957227937,-32.60290455709274,-33.65566887366522,-34.714041865270765,-35.77832992592579,-36.848837586274584,-37.92586717788569,-39.00971845858603,-40.10068819652406,-41.19906971069243,-42.30515236570375,-43.4192210187095,-44.54155541648411,-45.67242954086929,-46.81211090099393,-47.96085977095637,-49.11892837198615,-50.28655999849422,-51.463988087881724,-52.65143523451151,-53.84911214885745,-55.05721656353879,-56.27593208872111,-57.505427020224204,-58.74585310461809,-59.997344266608366,-61.260015305107274,-62.53396056554517,-63.81925259719166,-65.11594080550528,-66.42405011080277,-67.74357962580503,-69.07450136585327,-70.41675900676438,-71.77026670637301,-73.1349080067551,-74.51053483489972,-75.8969666201556,-77.2939895470816,-78.70135596233607,-80.11878395391305,-81.54595712033615,-82.98252454633196,-84.428101],\"marker\":{\"color\":\"rgb(31, 119, 180)\",\"size\":8,\"symbol\":\"triangle-left\"},\"mode\":\"markers+lines\",\"name\":\"JNB-ATL\",\"textposition\":\"middle left\",\"type\":\"scattergeo\"}],                        {\"geo\":{\"resolution\":110,\"showcountries\":true,\"projection\":{\"type\":\"satellite\"}},\"template\":{\"data\":{\"barpolar\":[{\"marker\":{\"line\":{\"color\":\"#E5ECF6\",\"width\":0.5},\"pattern\":{\"fillmode\":\"overlay\",\"size\":10,\"solidity\":0.2}},\"type\":\"barpolar\"}],\"bar\":[{\"error_x\":{\"color\":\"#2a3f5f\"},\"error_y\":{\"color\":\"#2a3f5f\"},\"marker\":{\"line\":{\"color\":\"#E5ECF6\",\"width\":0.5},\"pattern\":{\"fillmode\":\"overlay\",\"size\":10,\"solidity\":0.2}},\"type\":\"bar\"}],\"carpet\":[{\"aaxis\":{\"endlinecolor\":\"#2a3f5f\",\"gridcolor\":\"white\",\"linecolor\":\"white\",\"minorgridcolor\":\"white\",\"startlinecolor\":\"#2a3f5f\"},\"baxis\":{\"endlinecolor\":\"#2a3f5f\",\"gridcolor\":\"white\",\"linecolor\":\"white\",\"minorgridcolor\":\"white\",\"startlinecolor\":\"#2a3f5f\"},\"type\":\"carpet\"}],\"choropleth\":[{\"colorbar\":{\"outlinewidth\":0,\"ticks\":\"\"},\"type\":\"choropleth\"}],\"contourcarpet\":[{\"colorbar\":{\"outlinewidth\":0,\"ticks\":\"\"},\"type\":\"contourcarpet\"}],\"contour\":[{\"colorbar\":{\"outlinewidth\":0,\"ticks\":\"\"},\"colorscale\":[[0.0,\"#0d0887\"],[0.1111111111111111,\"#46039f\"],[0.2222222222222222,\"#7201a8\"],[0.3333333333333333,\"#9c179e\"],[0.4444444444444444,\"#bd3786\"],[0.5555555555555556,\"#d8576b\"],[0.6666666666666666,\"#ed7953\"],[0.7777777777777778,\"#fb9f3a\"],[0.8888888888888888,\"#fdca26\"],[1.0,\"#f0f921\"]],\"type\":\"contour\"}],\"heatmapgl\":[{\"colorbar\":{\"outlinewidth\":0,\"ticks\":\"\"},\"colorscale\":[[0.0,\"#0d0887\"],[0.1111111111111111,\"#46039f\"],[0.2222222222222222,\"#7201a8\"],[0.3333333333333333,\"#9c179e\"],[0.4444444444444444,\"#bd3786\"],[0.5555555555555556,\"#d8576b\"],[0.6666666666666666,\"#ed7953\"],[0.7777777777777778,\"#fb9f3a\"],[0.8888888888888888,\"#fdca26\"],[1.0,\"#f0f921\"]],\"type\":\"heatmapgl\"}],\"heatmap\":[{\"colorbar\":{\"outlinewidth\":0,\"ticks\":\"\"},\"colorscale\":[[0.0,\"#0d0887\"],[0.1111111111111111,\"#46039f\"],[0.2222222222222222,\"#7201a8\"],[0.3333333333333333,\"#9c179e\"],[0.4444444444444444,\"#bd3786\"],[0.5555555555555556,\"#d8576b\"],[0.6666666666666666,\"#ed7953\"],[0.7777777777777778,\"#fb9f3a\"],[0.8888888888888888,\"#fdca26\"],[1.0,\"#f0f921\"]],\"type\":\"heatmap\"}],\"histogram2dcontour\":[{\"colorbar\":{\"outlinewidth\":0,\"ticks\":\"\"},\"colorscale\":[[0.0,\"#0d0887\"],[0.1111111111111111,\"#46039f\"],[0.2222222222222222,\"#7201a8\"],[0.3333333333333333,\"#9c179e\"],[0.4444444444444444,\"#bd3786\"],[0.5555555555555556,\"#d8576b\"],[0.6666666666666666,\"#ed7953\"],[0.7777777777777778,\"#fb9f3a\"],[0.8888888888888888,\"#fdca26\"],[1.0,\"#f0f921\"]],\"type\":\"histogram2dcontour\"}],\"histogram2d\":[{\"colorbar\":{\"outlinewidth\":0,\"ticks\":\"\"},\"colorscale\":[[0.0,\"#0d0887\"],[0.1111111111111111,\"#46039f\"],[0.2222222222222222,\"#7201a8\"],[0.3333333333333333,\"#9c179e\"],[0.4444444444444444,\"#bd3786\"],[0.5555555555555556,\"#d8576b\"],[0.6666666666666666,\"#ed7953\"],[0.7777777777777778,\"#fb9f3a\"],[0.8888888888888888,\"#fdca26\"],[1.0,\"#f0f921\"]],\"type\":\"histogram2d\"}],\"histogram\":[{\"marker\":{\"pattern\":{\"fillmode\":\"overlay\",\"size\":10,\"solidity\":0.2}},\"type\":\"histogram\"}],\"mesh3d\":[{\"colorbar\":{\"outlinewidth\":0,\"ticks\":\"\"},\"type\":\"mesh3d\"}],\"parcoords\":[{\"line\":{\"colorbar\":{\"outlinewidth\":0,\"ticks\":\"\"}},\"type\":\"parcoords\"}],\"pie\":[{\"automargin\":true,\"type\":\"pie\"}],\"scatter3d\":[{\"line\":{\"colorbar\":{\"outlinewidth\":0,\"ticks\":\"\"}},\"marker\":{\"colorbar\":{\"outlinewidth\":0,\"ticks\":\"\"}},\"type\":\"scatter3d\"}],\"scattercarpet\":[{\"marker\":{\"colorbar\":{\"outlinewidth\":0,\"ticks\":\"\"}},\"type\":\"scattercarpet\"}],\"scattergeo\":[{\"marker\":{\"colorbar\":{\"outlinewidth\":0,\"ticks\":\"\"}},\"type\":\"scattergeo\"}],\"scattergl\":[{\"marker\":{\"colorbar\":{\"outlinewidth\":0,\"ticks\":\"\"}},\"type\":\"scattergl\"}],\"scattermapbox\":[{\"marker\":{\"colorbar\":{\"outlinewidth\":0,\"ticks\":\"\"}},\"type\":\"scattermapbox\"}],\"scatterpolargl\":[{\"marker\":{\"colorbar\":{\"outlinewidth\":0,\"ticks\":\"\"}},\"type\":\"scatterpolargl\"}],\"scatterpolar\":[{\"marker\":{\"colorbar\":{\"outlinewidth\":0,\"ticks\":\"\"}},\"type\":\"scatterpolar\"}],\"scatter\":[{\"fillpattern\":{\"fillmode\":\"overlay\",\"size\":10,\"solidity\":0.2},\"type\":\"scatter\"}],\"scatterternary\":[{\"marker\":{\"colorbar\":{\"outlinewidth\":0,\"ticks\":\"\"}},\"type\":\"scatterternary\"}],\"surface\":[{\"colorbar\":{\"outlinewidth\":0,\"ticks\":\"\"},\"colorscale\":[[0.0,\"#0d0887\"],[0.1111111111111111,\"#46039f\"],[0.2222222222222222,\"#7201a8\"],[0.3333333333333333,\"#9c179e\"],[0.4444444444444444,\"#bd3786\"],[0.5555555555555556,\"#d8576b\"],[0.6666666666666666,\"#ed7953\"],[0.7777777777777778,\"#fb9f3a\"],[0.8888888888888888,\"#fdca26\"],[1.0,\"#f0f921\"]],\"type\":\"surface\"}],\"table\":[{\"cells\":{\"fill\":{\"color\":\"#EBF0F8\"},\"line\":{\"color\":\"white\"}},\"header\":{\"fill\":{\"color\":\"#C8D4E3\"},\"line\":{\"color\":\"white\"}},\"type\":\"table\"}]},\"layout\":{\"annotationdefaults\":{\"arrowcolor\":\"#2a3f5f\",\"arrowhead\":0,\"arrowwidth\":1},\"autotypenumbers\":\"strict\",\"coloraxis\":{\"colorbar\":{\"outlinewidth\":0,\"ticks\":\"\"}},\"colorscale\":{\"diverging\":[[0,\"#8e0152\"],[0.1,\"#c51b7d\"],[0.2,\"#de77ae\"],[0.3,\"#f1b6da\"],[0.4,\"#fde0ef\"],[0.5,\"#f7f7f7\"],[0.6,\"#e6f5d0\"],[0.7,\"#b8e186\"],[0.8,\"#7fbc41\"],[0.9,\"#4d9221\"],[1,\"#276419\"]],\"sequential\":[[0.0,\"#0d0887\"],[0.1111111111111111,\"#46039f\"],[0.2222222222222222,\"#7201a8\"],[0.3333333333333333,\"#9c179e\"],[0.4444444444444444,\"#bd3786\"],[0.5555555555555556,\"#d8576b\"],[0.6666666666666666,\"#ed7953\"],[0.7777777777777778,\"#fb9f3a\"],[0.8888888888888888,\"#fdca26\"],[1.0,\"#f0f921\"]],\"sequentialminus\":[[0.0,\"#0d0887\"],[0.1111111111111111,\"#46039f\"],[0.2222222222222222,\"#7201a8\"],[0.3333333333333333,\"#9c179e\"],[0.4444444444444444,\"#bd3786\"],[0.5555555555555556,\"#d8576b\"],[0.6666666666666666,\"#ed7953\"],[0.7777777777777778,\"#fb9f3a\"],[0.8888888888888888,\"#fdca26\"],[1.0,\"#f0f921\"]]},\"colorway\":[\"#636efa\",\"#EF553B\",\"#00cc96\",\"#ab63fa\",\"#FFA15A\",\"#19d3f3\",\"#FF6692\",\"#B6E880\",\"#FF97FF\",\"#FECB52\"],\"font\":{\"color\":\"#2a3f5f\"},\"geo\":{\"bgcolor\":\"white\",\"lakecolor\":\"white\",\"landcolor\":\"#E5ECF6\",\"showlakes\":true,\"showland\":true,\"subunitcolor\":\"white\"},\"hoverlabel\":{\"align\":\"left\"},\"hovermode\":\"closest\",\"mapbox\":{\"style\":\"light\"},\"paper_bgcolor\":\"white\",\"plot_bgcolor\":\"#E5ECF6\",\"polar\":{\"angularaxis\":{\"gridcolor\":\"white\",\"linecolor\":\"white\",\"ticks\":\"\"},\"bgcolor\":\"#E5ECF6\",\"radialaxis\":{\"gridcolor\":\"white\",\"linecolor\":\"white\",\"ticks\":\"\"}},\"scene\":{\"xaxis\":{\"backgroundcolor\":\"#E5ECF6\",\"gridcolor\":\"white\",\"gridwidth\":2,\"linecolor\":\"white\",\"showbackground\":true,\"ticks\":\"\",\"zerolinecolor\":\"white\"},\"yaxis\":{\"backgroundcolor\":\"#E5ECF6\",\"gridcolor\":\"white\",\"gridwidth\":2,\"linecolor\":\"white\",\"showbackground\":true,\"ticks\":\"\",\"zerolinecolor\":\"white\"},\"zaxis\":{\"backgroundcolor\":\"#E5ECF6\",\"gridcolor\":\"white\",\"gridwidth\":2,\"linecolor\":\"white\",\"showbackground\":true,\"ticks\":\"\",\"zerolinecolor\":\"white\"}},\"shapedefaults\":{\"line\":{\"color\":\"#2a3f5f\"}},\"ternary\":{\"aaxis\":{\"gridcolor\":\"white\",\"linecolor\":\"white\",\"ticks\":\"\"},\"baxis\":{\"gridcolor\":\"white\",\"linecolor\":\"white\",\"ticks\":\"\"},\"bgcolor\":\"#E5ECF6\",\"caxis\":{\"gridcolor\":\"white\",\"linecolor\":\"white\",\"ticks\":\"\"}},\"title\":{\"x\":0.05},\"xaxis\":{\"automargin\":true,\"gridcolor\":\"white\",\"linecolor\":\"white\",\"ticks\":\"\",\"title\":{\"standoff\":15},\"zerolinecolor\":\"white\",\"zerolinewidth\":2},\"yaxis\":{\"automargin\":true,\"gridcolor\":\"white\",\"linecolor\":\"white\",\"ticks\":\"\",\"title\":{\"standoff\":15},\"zerolinecolor\":\"white\",\"zerolinewidth\":2}}}},                        {\"responsive\": true}                    ).then(function(){\n",
       "                            \n",
       "var gd = document.getElementById('fb08055a-2643-4887-91e3-54d65100d292');\n",
       "var x = new MutationObserver(function (mutations, observer) {{\n",
       "        var display = window.getComputedStyle(gd).display;\n",
       "        if (!display || display === 'none') {{\n",
       "            console.log([gd, 'removed!']);\n",
       "            Plotly.purge(gd);\n",
       "            observer.disconnect();\n",
       "        }}\n",
       "}});\n",
       "\n",
       "// Listen for the removal of the full notebook cells\n",
       "var notebookContainer = gd.closest('#notebook-container');\n",
       "if (notebookContainer) {{\n",
       "    x.observe(notebookContainer, {childList: true});\n",
       "}}\n",
       "\n",
       "// Listen for the clearing of the current output cell\n",
       "var outputEl = gd.closest('.output');\n",
       "if (outputEl) {{\n",
       "    x.observe(outputEl, {childList: true});\n",
       "}}\n",
       "\n",
       "                        })                };                });            </script>        </div>"
      ]
     },
     "metadata": {},
     "output_type": "display_data"
    }
   ],
   "source": [
    "map_fig = go.Figure(fig)\n",
    "map_fig.update_geos(projection_type=\"satellite\")\n",
    "map_fig.show()"
   ]
  }
 ],
 "metadata": {
  "kernelspec": {
   "display_name": "Python 3 (ipykernel)",
   "language": "python",
   "name": "python3"
  },
  "language_info": {
   "codemirror_mode": {
    "name": "ipython",
    "version": 3
   },
   "file_extension": ".py",
   "mimetype": "text/x-python",
   "name": "python",
   "nbconvert_exporter": "python",
   "pygments_lexer": "ipython3",
   "version": "3.9.15"
  }
 },
 "nbformat": 4,
 "nbformat_minor": 5
}
